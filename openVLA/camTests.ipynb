{
 "cells": [
  {
   "cell_type": "code",
   "execution_count": 1,
   "metadata": {},
   "outputs": [
    {
     "name": "stderr",
     "output_type": "stream",
     "text": [
      "[I 03/04/25 15:06:59.161 63534] [shell.py:_shell_pop_print@23] Graphical python shell detected, using wrapped sys.stdout\n"
     ]
    }
   ],
   "source": [
    "import genesis as gs\n",
    "import numpy as np"
   ]
  },
  {
   "cell_type": "code",
   "execution_count": 3,
   "metadata": {},
   "outputs": [
    {
     "name": "stderr",
     "output_type": "stream",
     "text": [
      "\u001b[38;5;159m[Genesis] [14:49:34] [INFO] \u001b[38;5;121m╭───────────────────────────────────────────────╮\u001b[0m\u001b[38;5;159m\u001b[0m\n",
      "\u001b[38;5;159m[Genesis] [14:49:34] [INFO] \u001b[38;5;121m│┈┉┈┉┈┉┈┉┈┉┈┉┈┉┈┉┈┉┈\u001b[0m\u001b[38;5;159m \u001b[38;5;121m\u001b[1m\u001b[3mGenesis\u001b[0m\u001b[38;5;159m \u001b[38;5;121m┈┉┈┉┈┉┈┉┈┉┈┉┈┉┈┉┈┉┈│\u001b[0m\u001b[38;5;159m\u001b[0m\n",
      "\u001b[38;5;159m[Genesis] [14:49:34] [INFO] \u001b[38;5;121m╰───────────────────────────────────────────────╯\u001b[0m\u001b[38;5;159m\u001b[0m\n",
      "\u001b[38;5;159m[Genesis] [14:49:34] [INFO] Running on \u001b[38;5;121m\u001b[4m[11th Gen Intel(R) Core(TM) i9-11900K @ 3.50GHz]\u001b[0m\u001b[38;5;159m with backend \u001b[38;5;121m\u001b[4mgs.cpu\u001b[0m\u001b[38;5;159m. Device memory: \u001b[38;5;121m\u001b[4m62.64\u001b[0m\u001b[38;5;159m GB.\u001b[0m\n",
      "\u001b[38;5;159m[Genesis] [14:49:34] [INFO] 🚀 Genesis initialized. 🔖 version: \u001b[38;5;121m\u001b[4m0.2.1\u001b[0m\u001b[38;5;159m, 🌱 seed: \u001b[38;5;121m\u001b[4mNone\u001b[0m\u001b[38;5;159m, 📏 precision: '\u001b[38;5;121m\u001b[4m32\u001b[0m\u001b[38;5;159m', 🐛 debug: \u001b[38;5;121m\u001b[4mFalse\u001b[0m\u001b[38;5;159m, 🎨 theme: '\u001b[38;5;121m\u001b[4mdark\u001b[0m\u001b[38;5;159m'.\u001b[0m\n"
     ]
    }
   ],
   "source": [
    "gs.init(backend=gs.cpu)"
   ]
  },
  {
   "cell_type": "code",
   "execution_count": 4,
   "metadata": {},
   "outputs": [
    {
     "name": "stderr",
     "output_type": "stream",
     "text": [
      "\u001b[38;5;159m[Genesis] [14:49:35] [INFO] Scene \u001b[38;5;121m\u001b[3m<09a70a4>\u001b[0m\u001b[38;5;159m created.\u001b[0m\n"
     ]
    }
   ],
   "source": [
    "scene = gs.Scene(\n",
    "    show_viewer = True,\n",
    "    # this is the viewer window that opens while the simulation is running, rather than the camera that records the video\n",
    "    viewer_options = gs.options.ViewerOptions(\n",
    "        res           = (1280, 960),\n",
    "        camera_pos    = (3.5, 0.0, 2.5),\n",
    "        camera_lookat = (0.0, 0.0, 0.5),\n",
    "        camera_fov    = 30,\n",
    "        max_FPS       = 60,\n",
    "    ),\n",
    "    vis_options = gs.options.VisOptions(\n",
    "        show_world_frame = True,\n",
    "        world_frame_size = 1.0,\n",
    "        show_link_frame  = False,\n",
    "        show_cameras     = False,\n",
    "        plane_reflection = True,\n",
    "        ambient_light    = (0.1, 0.1, 0.1),\n",
    "    ),\n",
    "        sim_options = gs.options.SimOptions(\n",
    "        dt = 0.01,\n",
    "        substeps = 4,\n",
    "    ),\n",
    "    renderer=gs.renderers.Rasterizer(),\n",
    ")"
   ]
  },
  {
   "cell_type": "code",
   "execution_count": 5,
   "metadata": {},
   "outputs": [
    {
     "name": "stderr",
     "output_type": "stream",
     "text": [
      "\u001b[38;5;159m[Genesis] [14:49:36] [INFO] Adding \u001b[38;5;121m<gs.RigidEntity>\u001b[0m\u001b[38;5;159m. idx: \u001b[38;5;121m0\u001b[0m\u001b[38;5;159m, uid: \u001b[38;5;121m\u001b[3m<494b0e3>\u001b[0m\u001b[38;5;159m, morph: \u001b[38;5;121m<gs.morphs.Plane>\u001b[0m\u001b[38;5;159m, material: \u001b[38;5;121m<gs.materials.Rigid>\u001b[0m\u001b[38;5;159m.\u001b[0m\n",
      "\u001b[38;5;159m[Genesis] [14:49:36] [INFO] Adding \u001b[38;5;121m<gs.RigidEntity>\u001b[0m\u001b[38;5;159m. idx: \u001b[38;5;121m1\u001b[0m\u001b[38;5;159m, uid: \u001b[38;5;121m\u001b[3m<fabe385>\u001b[0m\u001b[38;5;159m, morph: \u001b[38;5;121m<gs.morphs.MJCF(file='/home/a3r/Interns/internship2024-25/genesis/mujoco_menagerie/franka_emika_panda/panda.xml')>\u001b[0m\u001b[38;5;159m, material: \u001b[38;5;121m<gs.materials.Rigid>\u001b[0m\u001b[38;5;159m.\u001b[0m\n",
      "\u001b[38;5;159m[Genesis] [14:49:36] [INFO] Adding \u001b[38;5;121m<gs.RigidEntity>\u001b[0m\u001b[38;5;159m. idx: \u001b[38;5;121m2\u001b[0m\u001b[38;5;159m, uid: \u001b[38;5;121m\u001b[3m<3bdfdc5>\u001b[0m\u001b[38;5;159m, morph: \u001b[38;5;121m<gs.morphs.Box>\u001b[0m\u001b[38;5;159m, material: \u001b[38;5;121m<gs.materials.Rigid>\u001b[0m\u001b[38;5;159m.\u001b[0m\n"
     ]
    }
   ],
   "source": [
    "plane = scene.add_entity(\n",
    "    gs.morphs.Plane(),\n",
    ")\n",
    "panda = scene.add_entity(\n",
    "    gs.morphs.MJCF(file='../genesis/mujoco_menagerie/franka_emika_panda/panda.xml'),\n",
    ")\n",
    "box = scene.add_entity(\n",
    "    gs.morphs.Box(\n",
    "        size=(0.05, 0.05, 0.05),\n",
    "        pos=(0.65, 0, 0.25),\n",
    "    ),\n",
    "    surface=gs.surfaces.Default(\n",
    "        color=(1, 0.8, 0),\n",
    "    )\n",
    ")"
   ]
  },
  {
   "cell_type": "code",
   "execution_count": 6,
   "metadata": {},
   "outputs": [],
   "source": [
    "cam = scene.add_camera(\n",
    "    res    = (640, 480),\n",
    "    pos    = (1.25, -2.5, 1.3),\n",
    "    lookat = (0.65, 0, 0.25),\n",
    "    fov    = 20,\n",
    "    GUI    = True,\n",
    ")"
   ]
  },
  {
   "cell_type": "code",
   "execution_count": 7,
   "metadata": {},
   "outputs": [
    {
     "name": "stderr",
     "output_type": "stream",
     "text": [
      "\u001b[38;5;159m[Genesis] [14:49:38] [INFO] Building scene \u001b[38;5;121m\u001b[3m<09a70a4>\u001b[0m\u001b[38;5;159m...\u001b[0m\n",
      "[W 03/04/25 14:49:38.557 41108] [frontend_ir.cpp:begin_frontend_struct_for_on_snode@1678] ti.loop_config(serialize=True) does not have effect on the struct for. The execution order is not guaranteed.\n",
      "[W 03/04/25 14:49:38.771 41108] [frontend_ir.cpp:begin_frontend_struct_for_on_snode@1678] ti.loop_config(serialize=True) does not have effect on the struct for. The execution order is not guaranteed.\n",
      "[W 03/04/25 14:49:40.304 41108] [frontend_ir.cpp:begin_frontend_struct_for_on_snode@1678] ti.loop_config(serialize=True) does not have effect on the struct for. The execution order is not guaranteed.\n",
      "\u001b[38;5;159m[Genesis] [14:49:40] [INFO] Compiling simulation kernels...\u001b[0m\n",
      "\u001b[38;5;159m[Genesis] [14:49:43] [INFO] Building visualizer...\u001b[0m\n",
      "\u001b[38;5;159m[Genesis] [14:49:43] [INFO] Viewer created. Resolution: \u001b[38;5;121m1280×960\u001b[0m\u001b[38;5;159m, max_FPS: \u001b[38;5;121m60\u001b[0m\u001b[38;5;159m.\u001b[0m\n"
     ]
    }
   ],
   "source": [
    "scene.build()"
   ]
  },
  {
   "cell_type": "code",
   "execution_count": 12,
   "metadata": {},
   "outputs": [
    {
     "data": {
      "text/plain": [
       "(array([[[90, 90, 90],\n",
       "         [90, 90, 90],\n",
       "         [90, 90, 90],\n",
       "         ...,\n",
       "         [41, 54, 69],\n",
       "         [41, 54, 69],\n",
       "         [41, 54, 69]],\n",
       " \n",
       "        [[90, 90, 90],\n",
       "         [90, 90, 90],\n",
       "         [90, 90, 90],\n",
       "         ...,\n",
       "         [41, 54, 69],\n",
       "         [41, 54, 69],\n",
       "         [41, 54, 69]],\n",
       " \n",
       "        [[90, 90, 90],\n",
       "         [90, 90, 90],\n",
       "         [90, 90, 90],\n",
       "         ...,\n",
       "         [41, 54, 69],\n",
       "         [41, 54, 69],\n",
       "         [41, 54, 69]],\n",
       " \n",
       "        ...,\n",
       " \n",
       "        [[40, 57, 75],\n",
       "         [40, 57, 75],\n",
       "         [40, 57, 75],\n",
       "         ...,\n",
       "         [30, 46, 63],\n",
       "         [30, 46, 63],\n",
       "         [30, 46, 63]],\n",
       " \n",
       "        [[40, 57, 75],\n",
       "         [40, 57, 75],\n",
       "         [40, 57, 75],\n",
       "         ...,\n",
       "         [30, 46, 63],\n",
       "         [30, 46, 63],\n",
       "         [30, 46, 63]],\n",
       " \n",
       "        [[40, 57, 75],\n",
       "         [40, 57, 75],\n",
       "         [40, 57, 75],\n",
       "         ...,\n",
       "         [30, 46, 62],\n",
       "         [30, 46, 63],\n",
       "         [30, 46, 63]]], dtype=uint8),\n",
       " None,\n",
       " None,\n",
       " None)"
      ]
     },
     "execution_count": 12,
     "metadata": {},
     "output_type": "execute_result"
    }
   ],
   "source": [
    "cam.render()"
   ]
  },
  {
   "cell_type": "code",
   "execution_count": 13,
   "metadata": {},
   "outputs": [],
   "source": [
    "motors_dof = np.arange(7)\n",
    "fingers_dof = np.arange(7,9)\n",
    "\n",
    "\n",
    "panda.set_dofs_kp(\n",
    "    np.array([4500, 4500, 3500, 3500, 2000, 2000, 2000, 100, 100]),\n",
    ")\n",
    "panda.set_dofs_kv(\n",
    "    np.array([450, 450, 350, 350, 200, 200, 200, 10, 10]),\n",
    ")\n",
    "panda.set_dofs_force_range(\n",
    "    np.array([-87, -87, -87, -87, -12, -12, -12, -100, -100]),\n",
    "    np.array([87, 87, 87, 87, 12, 12, 12, 100, 100]),\n",
    ")\n",
    "\n",
    "# get the end-effector link\n",
    "end_effector = panda.get_link('hand')\n",
    "\n",
    "import time\n",
    "\n",
    "# starting position\n",
    "qpos = panda.inverse_kinematics(\n",
    "    link = end_effector,\n",
    "    pos = np.array([0.65, 0.5, 0.25]),\n",
    "    quat = np.array([0, 1, 0, 0]),\n",
    ")"
   ]
  },
  {
   "cell_type": "code",
   "execution_count": 16,
   "metadata": {},
   "outputs": [
    {
     "name": "stderr",
     "output_type": "stream",
     "text": [
      "\u001b[38;5;159m[Genesis] [14:50:23] [INFO] Running at \u001b[38;5;121m0.54\u001b[0m\u001b[38;5;159m FPS.\u001b[0m\n"
     ]
    }
   ],
   "source": [
    "scene.step()"
   ]
  },
  {
   "cell_type": "code",
   "execution_count": 17,
   "metadata": {},
   "outputs": [
    {
     "data": {
      "text/plain": [
       "(array([[[90, 90, 90],\n",
       "         [90, 90, 90],\n",
       "         [90, 90, 90],\n",
       "         ...,\n",
       "         [41, 54, 69],\n",
       "         [41, 54, 69],\n",
       "         [41, 54, 69]],\n",
       " \n",
       "        [[90, 90, 90],\n",
       "         [90, 90, 90],\n",
       "         [90, 90, 90],\n",
       "         ...,\n",
       "         [41, 54, 69],\n",
       "         [41, 54, 69],\n",
       "         [41, 54, 69]],\n",
       " \n",
       "        [[90, 90, 90],\n",
       "         [90, 90, 90],\n",
       "         [90, 90, 90],\n",
       "         ...,\n",
       "         [41, 54, 69],\n",
       "         [41, 54, 69],\n",
       "         [41, 54, 69]],\n",
       " \n",
       "        ...,\n",
       " \n",
       "        [[40, 57, 75],\n",
       "         [40, 57, 75],\n",
       "         [40, 57, 75],\n",
       "         ...,\n",
       "         [30, 46, 63],\n",
       "         [30, 46, 63],\n",
       "         [30, 46, 63]],\n",
       " \n",
       "        [[40, 57, 75],\n",
       "         [40, 57, 75],\n",
       "         [40, 57, 75],\n",
       "         ...,\n",
       "         [30, 46, 63],\n",
       "         [30, 46, 63],\n",
       "         [30, 46, 63]],\n",
       " \n",
       "        [[40, 57, 75],\n",
       "         [40, 57, 75],\n",
       "         [40, 57, 75],\n",
       "         ...,\n",
       "         [30, 46, 62],\n",
       "         [30, 46, 63],\n",
       "         [30, 46, 63]]], dtype=uint8),\n",
       " None,\n",
       " None,\n",
       " None)"
      ]
     },
     "execution_count": 17,
     "metadata": {},
     "output_type": "execute_result"
    }
   ],
   "source": [
    "cam.render()"
   ]
  },
  {
   "cell_type": "code",
   "execution_count": 18,
   "metadata": {},
   "outputs": [
    {
     "name": "stderr",
     "output_type": "stream",
     "text": [
      "\u001b[38;5;159m[Genesis] [14:50:24] [INFO] Running at \u001b[38;5;121m0.54\u001b[0m\u001b[38;5;159m FPS.\u001b[0m\n"
     ]
    },
    {
     "name": "stderr",
     "output_type": "stream",
     "text": [
      "\u001b[38;5;159m[Genesis] [14:50:24] [INFO] Running at \u001b[38;5;121m0.57\u001b[0m\u001b[38;5;159m FPS.\u001b[0m\n",
      "\u001b[38;5;159m[Genesis] [14:50:24] [INFO] Running at \u001b[38;5;121m0.60\u001b[0m\u001b[38;5;159m FPS.\u001b[0m\n",
      "\u001b[38;5;159m[Genesis] [14:50:24] [INFO] Running at \u001b[38;5;121m0.63\u001b[0m\u001b[38;5;159m FPS.\u001b[0m\n",
      "\u001b[38;5;159m[Genesis] [14:50:24] [INFO] Running at \u001b[38;5;121m0.67\u001b[0m\u001b[38;5;159m FPS.\u001b[0m\n",
      "\u001b[38;5;159m[Genesis] [14:50:24] [INFO] Running at \u001b[38;5;121m0.70\u001b[0m\u001b[38;5;159m FPS.\u001b[0m\n",
      "\u001b[38;5;159m[Genesis] [14:50:24] [INFO] Running at \u001b[38;5;121m0.74\u001b[0m\u001b[38;5;159m FPS.\u001b[0m\n",
      "\u001b[38;5;159m[Genesis] [14:50:24] [INFO] Running at \u001b[38;5;121m0.78\u001b[0m\u001b[38;5;159m FPS.\u001b[0m\n",
      "\u001b[38;5;159m[Genesis] [14:50:24] [INFO] Running at \u001b[38;5;121m0.82\u001b[0m\u001b[38;5;159m FPS.\u001b[0m\n",
      "\u001b[38;5;159m[Genesis] [14:50:24] [INFO] Running at \u001b[38;5;121m0.86\u001b[0m\u001b[38;5;159m FPS.\u001b[0m\n",
      "\u001b[38;5;159m[Genesis] [14:50:24] [INFO] Running at \u001b[38;5;121m0.90\u001b[0m\u001b[38;5;159m FPS.\u001b[0m\n",
      "\u001b[38;5;159m[Genesis] [14:50:24] [INFO] Running at \u001b[38;5;121m0.95\u001b[0m\u001b[38;5;159m FPS.\u001b[0m\n",
      "\u001b[38;5;159m[Genesis] [14:50:24] [INFO] Running at \u001b[38;5;121m1.00\u001b[0m\u001b[38;5;159m FPS.\u001b[0m\n",
      "\u001b[38;5;159m[Genesis] [14:50:24] [INFO] Running at \u001b[38;5;121m1.05\u001b[0m\u001b[38;5;159m FPS.\u001b[0m\n",
      "\u001b[38;5;159m[Genesis] [14:50:24] [INFO] Running at \u001b[38;5;121m1.10\u001b[0m\u001b[38;5;159m FPS.\u001b[0m\n",
      "\u001b[38;5;159m[Genesis] [14:50:24] [INFO] Running at \u001b[38;5;121m1.16\u001b[0m\u001b[38;5;159m FPS.\u001b[0m\n",
      "\u001b[38;5;159m[Genesis] [14:50:24] [INFO] Running at \u001b[38;5;121m1.22\u001b[0m\u001b[38;5;159m FPS.\u001b[0m\n",
      "\u001b[38;5;159m[Genesis] [14:50:24] [INFO] Running at \u001b[38;5;121m1.28\u001b[0m\u001b[38;5;159m FPS.\u001b[0m\n",
      "\u001b[38;5;159m[Genesis] [14:50:24] [INFO] Running at \u001b[38;5;121m1.35\u001b[0m\u001b[38;5;159m FPS.\u001b[0m\n",
      "\u001b[38;5;159m[Genesis] [14:50:24] [INFO] Running at \u001b[38;5;121m1.42\u001b[0m\u001b[38;5;159m FPS.\u001b[0m\n",
      "\u001b[38;5;159m[Genesis] [14:50:24] [INFO] Running at \u001b[38;5;121m1.49\u001b[0m\u001b[38;5;159m FPS.\u001b[0m\n",
      "\u001b[38;5;159m[Genesis] [14:50:24] [INFO] Running at \u001b[38;5;121m1.57\u001b[0m\u001b[38;5;159m FPS.\u001b[0m\n",
      "\u001b[38;5;159m[Genesis] [14:50:25] [INFO] Running at \u001b[38;5;121m1.65\u001b[0m\u001b[38;5;159m FPS.\u001b[0m\n",
      "\u001b[38;5;159m[Genesis] [14:50:25] [INFO] Running at \u001b[38;5;121m1.73\u001b[0m\u001b[38;5;159m FPS.\u001b[0m\n",
      "\u001b[38;5;159m[Genesis] [14:50:25] [INFO] Running at \u001b[38;5;121m1.82\u001b[0m\u001b[38;5;159m FPS.\u001b[0m\n",
      "\u001b[38;5;159m[Genesis] [14:50:25] [INFO] Running at \u001b[38;5;121m1.91\u001b[0m\u001b[38;5;159m FPS.\u001b[0m\n",
      "\u001b[38;5;159m[Genesis] [14:50:25] [INFO] Running at \u001b[38;5;121m2.01\u001b[0m\u001b[38;5;159m FPS.\u001b[0m\n",
      "\u001b[38;5;159m[Genesis] [14:50:25] [INFO] Running at \u001b[38;5;121m2.11\u001b[0m\u001b[38;5;159m FPS.\u001b[0m\n",
      "\u001b[38;5;159m[Genesis] [14:50:25] [INFO] Running at \u001b[38;5;121m2.22\u001b[0m\u001b[38;5;159m FPS.\u001b[0m\n",
      "\u001b[38;5;159m[Genesis] [14:50:25] [INFO] Running at \u001b[38;5;121m2.33\u001b[0m\u001b[38;5;159m FPS.\u001b[0m\n",
      "\u001b[38;5;159m[Genesis] [14:50:25] [INFO] Running at \u001b[38;5;121m2.45\u001b[0m\u001b[38;5;159m FPS.\u001b[0m\n",
      "\u001b[38;5;159m[Genesis] [14:50:25] [INFO] Running at \u001b[38;5;121m2.57\u001b[0m\u001b[38;5;159m FPS.\u001b[0m\n",
      "\u001b[38;5;159m[Genesis] [14:50:25] [INFO] Running at \u001b[38;5;121m2.70\u001b[0m\u001b[38;5;159m FPS.\u001b[0m\n",
      "\u001b[38;5;159m[Genesis] [14:50:25] [INFO] Running at \u001b[38;5;121m2.84\u001b[0m\u001b[38;5;159m FPS.\u001b[0m\n",
      "\u001b[38;5;159m[Genesis] [14:50:25] [INFO] Running at \u001b[38;5;121m2.98\u001b[0m\u001b[38;5;159m FPS.\u001b[0m\n",
      "\u001b[38;5;159m[Genesis] [14:50:25] [INFO] Running at \u001b[38;5;121m3.13\u001b[0m\u001b[38;5;159m FPS.\u001b[0m\n",
      "\u001b[38;5;159m[Genesis] [14:50:25] [INFO] Running at \u001b[38;5;121m3.29\u001b[0m\u001b[38;5;159m FPS.\u001b[0m\n",
      "\u001b[38;5;159m[Genesis] [14:50:25] [INFO] Running at \u001b[38;5;121m3.45\u001b[0m\u001b[38;5;159m FPS.\u001b[0m\n",
      "\u001b[38;5;159m[Genesis] [14:50:25] [INFO] Running at \u001b[38;5;121m3.62\u001b[0m\u001b[38;5;159m FPS.\u001b[0m\n",
      "\u001b[38;5;159m[Genesis] [14:50:25] [INFO] Running at \u001b[38;5;121m3.80\u001b[0m\u001b[38;5;159m FPS.\u001b[0m\n",
      "\u001b[38;5;159m[Genesis] [14:50:25] [INFO] Running at \u001b[38;5;121m3.99\u001b[0m\u001b[38;5;159m FPS.\u001b[0m\n",
      "\u001b[38;5;159m[Genesis] [14:50:25] [INFO] Running at \u001b[38;5;121m4.18\u001b[0m\u001b[38;5;159m FPS.\u001b[0m\n",
      "\u001b[38;5;159m[Genesis] [14:50:25] [INFO] Running at \u001b[38;5;121m4.38\u001b[0m\u001b[38;5;159m FPS.\u001b[0m\n",
      "\u001b[38;5;159m[Genesis] [14:50:25] [INFO] Running at \u001b[38;5;121m4.60\u001b[0m\u001b[38;5;159m FPS.\u001b[0m\n",
      "\u001b[38;5;159m[Genesis] [14:50:25] [INFO] Running at \u001b[38;5;121m4.82\u001b[0m\u001b[38;5;159m FPS.\u001b[0m\n",
      "\u001b[38;5;159m[Genesis] [14:50:25] [INFO] Running at \u001b[38;5;121m5.05\u001b[0m\u001b[38;5;159m FPS.\u001b[0m\n",
      "\u001b[38;5;159m[Genesis] [14:50:25] [INFO] Running at \u001b[38;5;121m5.30\u001b[0m\u001b[38;5;159m FPS.\u001b[0m\n",
      "\u001b[38;5;159m[Genesis] [14:50:25] [INFO] Running at \u001b[38;5;121m5.55\u001b[0m\u001b[38;5;159m FPS.\u001b[0m\n",
      "\u001b[38;5;159m[Genesis] [14:50:25] [INFO] Running at \u001b[38;5;121m5.81\u001b[0m\u001b[38;5;159m FPS.\u001b[0m\n",
      "\u001b[38;5;159m[Genesis] [14:50:25] [INFO] Running at \u001b[38;5;121m6.09\u001b[0m\u001b[38;5;159m FPS.\u001b[0m\n",
      "\u001b[38;5;159m[Genesis] [14:50:25] [INFO] Running at \u001b[38;5;121m6.38\u001b[0m\u001b[38;5;159m FPS.\u001b[0m\n",
      "\u001b[38;5;159m[Genesis] [14:50:25] [INFO] Running at \u001b[38;5;121m6.68\u001b[0m\u001b[38;5;159m FPS.\u001b[0m\n",
      "\u001b[38;5;159m[Genesis] [14:50:25] [INFO] Running at \u001b[38;5;121m6.99\u001b[0m\u001b[38;5;159m FPS.\u001b[0m\n",
      "\u001b[38;5;159m[Genesis] [14:50:25] [INFO] Running at \u001b[38;5;121m7.31\u001b[0m\u001b[38;5;159m FPS.\u001b[0m\n",
      "\u001b[38;5;159m[Genesis] [14:50:25] [INFO] Running at \u001b[38;5;121m7.65\u001b[0m\u001b[38;5;159m FPS.\u001b[0m\n",
      "\u001b[38;5;159m[Genesis] [14:50:25] [INFO] Running at \u001b[38;5;121m8.00\u001b[0m\u001b[38;5;159m FPS.\u001b[0m\n",
      "\u001b[38;5;159m[Genesis] [14:50:25] [INFO] Running at \u001b[38;5;121m8.36\u001b[0m\u001b[38;5;159m FPS.\u001b[0m\n",
      "\u001b[38;5;159m[Genesis] [14:50:25] [INFO] Running at \u001b[38;5;121m8.74\u001b[0m\u001b[38;5;159m FPS.\u001b[0m\n",
      "\u001b[38;5;159m[Genesis] [14:50:25] [INFO] Running at \u001b[38;5;121m9.13\u001b[0m\u001b[38;5;159m FPS.\u001b[0m\n",
      "\u001b[38;5;159m[Genesis] [14:50:25] [INFO] Running at \u001b[38;5;121m9.54\u001b[0m\u001b[38;5;159m FPS.\u001b[0m\n",
      "\u001b[38;5;159m[Genesis] [14:50:25] [INFO] Running at \u001b[38;5;121m9.96\u001b[0m\u001b[38;5;159m FPS.\u001b[0m\n",
      "\u001b[38;5;159m[Genesis] [14:50:25] [INFO] Running at \u001b[38;5;121m10.39\u001b[0m\u001b[38;5;159m FPS.\u001b[0m\n",
      "\u001b[38;5;159m[Genesis] [14:50:25] [INFO] Running at \u001b[38;5;121m10.84\u001b[0m\u001b[38;5;159m FPS.\u001b[0m\n",
      "\u001b[38;5;159m[Genesis] [14:50:25] [INFO] Running at \u001b[38;5;121m11.30\u001b[0m\u001b[38;5;159m FPS.\u001b[0m\n",
      "\u001b[38;5;159m[Genesis] [14:50:25] [INFO] Running at \u001b[38;5;121m11.79\u001b[0m\u001b[38;5;159m FPS.\u001b[0m\n",
      "\u001b[38;5;159m[Genesis] [14:50:25] [INFO] Running at \u001b[38;5;121m12.28\u001b[0m\u001b[38;5;159m FPS.\u001b[0m\n",
      "\u001b[38;5;159m[Genesis] [14:50:25] [INFO] Running at \u001b[38;5;121m12.79\u001b[0m\u001b[38;5;159m FPS.\u001b[0m\n",
      "\u001b[38;5;159m[Genesis] [14:50:25] [INFO] Running at \u001b[38;5;121m13.32\u001b[0m\u001b[38;5;159m FPS.\u001b[0m\n",
      "\u001b[38;5;159m[Genesis] [14:50:25] [INFO] Running at \u001b[38;5;121m13.86\u001b[0m\u001b[38;5;159m FPS.\u001b[0m\n",
      "\u001b[38;5;159m[Genesis] [14:50:25] [INFO] Running at \u001b[38;5;121m14.42\u001b[0m\u001b[38;5;159m FPS.\u001b[0m\n",
      "\u001b[38;5;159m[Genesis] [14:50:25] [INFO] Running at \u001b[38;5;121m15.00\u001b[0m\u001b[38;5;159m FPS.\u001b[0m\n",
      "\u001b[38;5;159m[Genesis] [14:50:25] [INFO] Running at \u001b[38;5;121m15.59\u001b[0m\u001b[38;5;159m FPS.\u001b[0m\n",
      "\u001b[38;5;159m[Genesis] [14:50:25] [INFO] Running at \u001b[38;5;121m16.19\u001b[0m\u001b[38;5;159m FPS.\u001b[0m\n",
      "\u001b[38;5;159m[Genesis] [14:50:25] [INFO] Running at \u001b[38;5;121m16.81\u001b[0m\u001b[38;5;159m FPS.\u001b[0m\n",
      "\u001b[38;5;159m[Genesis] [14:50:25] [INFO] Running at \u001b[38;5;121m17.44\u001b[0m\u001b[38;5;159m FPS.\u001b[0m\n",
      "\u001b[38;5;159m[Genesis] [14:50:25] [INFO] Running at \u001b[38;5;121m18.08\u001b[0m\u001b[38;5;159m FPS.\u001b[0m\n",
      "\u001b[38;5;159m[Genesis] [14:50:25] [INFO] Running at \u001b[38;5;121m18.75\u001b[0m\u001b[38;5;159m FPS.\u001b[0m\n",
      "\u001b[38;5;159m[Genesis] [14:50:25] [INFO] Running at \u001b[38;5;121m19.42\u001b[0m\u001b[38;5;159m FPS.\u001b[0m\n",
      "\u001b[38;5;159m[Genesis] [14:50:25] [INFO] Running at \u001b[38;5;121m20.11\u001b[0m\u001b[38;5;159m FPS.\u001b[0m\n",
      "\u001b[38;5;159m[Genesis] [14:50:25] [INFO] Running at \u001b[38;5;121m20.80\u001b[0m\u001b[38;5;159m FPS.\u001b[0m\n",
      "\u001b[38;5;159m[Genesis] [14:50:25] [INFO] Running at \u001b[38;5;121m21.52\u001b[0m\u001b[38;5;159m FPS.\u001b[0m\n",
      "\u001b[38;5;159m[Genesis] [14:50:26] [INFO] Running at \u001b[38;5;121m22.24\u001b[0m\u001b[38;5;159m FPS.\u001b[0m\n",
      "\u001b[38;5;159m[Genesis] [14:50:26] [INFO] Running at \u001b[38;5;121m22.97\u001b[0m\u001b[38;5;159m FPS.\u001b[0m\n",
      "\u001b[38;5;159m[Genesis] [14:50:26] [INFO] Running at \u001b[38;5;121m23.71\u001b[0m\u001b[38;5;159m FPS.\u001b[0m\n",
      "\u001b[38;5;159m[Genesis] [14:50:26] [INFO] Running at \u001b[38;5;121m24.46\u001b[0m\u001b[38;5;159m FPS.\u001b[0m\n",
      "\u001b[38;5;159m[Genesis] [14:50:26] [INFO] Running at \u001b[38;5;121m25.21\u001b[0m\u001b[38;5;159m FPS.\u001b[0m\n",
      "\u001b[38;5;159m[Genesis] [14:50:26] [INFO] Running at \u001b[38;5;121m25.98\u001b[0m\u001b[38;5;159m FPS.\u001b[0m\n",
      "\u001b[38;5;159m[Genesis] [14:50:26] [INFO] Running at \u001b[38;5;121m26.74\u001b[0m\u001b[38;5;159m FPS.\u001b[0m\n",
      "\u001b[38;5;159m[Genesis] [14:50:26] [INFO] Running at \u001b[38;5;121m27.51\u001b[0m\u001b[38;5;159m FPS.\u001b[0m\n",
      "\u001b[38;5;159m[Genesis] [14:50:26] [INFO] Running at \u001b[38;5;121m28.30\u001b[0m\u001b[38;5;159m FPS.\u001b[0m\n",
      "\u001b[38;5;159m[Genesis] [14:50:26] [INFO] Running at \u001b[38;5;121m29.08\u001b[0m\u001b[38;5;159m FPS.\u001b[0m\n",
      "\u001b[38;5;159m[Genesis] [14:50:26] [INFO] Running at \u001b[38;5;121m29.85\u001b[0m\u001b[38;5;159m FPS.\u001b[0m\n",
      "\u001b[38;5;159m[Genesis] [14:50:26] [INFO] Running at \u001b[38;5;121m30.13\u001b[0m\u001b[38;5;159m FPS.\u001b[0m\n",
      "\u001b[38;5;159m[Genesis] [14:50:26] [INFO] Running at \u001b[38;5;121m30.91\u001b[0m\u001b[38;5;159m FPS.\u001b[0m\n",
      "\u001b[38;5;159m[Genesis] [14:50:26] [INFO] Running at \u001b[38;5;121m31.58\u001b[0m\u001b[38;5;159m FPS.\u001b[0m\n",
      "\u001b[38;5;159m[Genesis] [14:50:26] [INFO] Running at \u001b[38;5;121m32.37\u001b[0m\u001b[38;5;159m FPS.\u001b[0m\n",
      "\u001b[38;5;159m[Genesis] [14:50:26] [INFO] Running at \u001b[38;5;121m33.15\u001b[0m\u001b[38;5;159m FPS.\u001b[0m\n",
      "\u001b[38;5;159m[Genesis] [14:50:26] [INFO] Running at \u001b[38;5;121m33.92\u001b[0m\u001b[38;5;159m FPS.\u001b[0m\n",
      "\u001b[38;5;159m[Genesis] [14:50:26] [INFO] Running at \u001b[38;5;121m34.69\u001b[0m\u001b[38;5;159m FPS.\u001b[0m\n",
      "\u001b[38;5;159m[Genesis] [14:50:26] [INFO] Running at \u001b[38;5;121m35.46\u001b[0m\u001b[38;5;159m FPS.\u001b[0m\n"
     ]
    }
   ],
   "source": [
    "panda.control_dofs_position(qpos[:-2], motors_dof)\n",
    "for i in range(100):\n",
    "    scene.step()\n",
    "    cam.render()"
   ]
  },
  {
   "cell_type": "code",
   "execution_count": 22,
   "metadata": {},
   "outputs": [
    {
     "data": {
      "text/plain": [
       "(array([[[ 90,  90,  90],\n",
       "         [ 90,  90,  90],\n",
       "         [ 90,  90,  90],\n",
       "         ...,\n",
       "         [ 10,  20,  31],\n",
       "         [ 10,  20,  31],\n",
       "         [ 10,  20,  31]],\n",
       " \n",
       "        [[ 90,  90,  90],\n",
       "         [ 90,  90,  90],\n",
       "         [ 90,  90,  90],\n",
       "         ...,\n",
       "         [ 10,  20,  31],\n",
       "         [ 10,  20,  31],\n",
       "         [ 10,  20,  31]],\n",
       " \n",
       "        [[ 90,  90,  90],\n",
       "         [ 90,  90,  90],\n",
       "         [ 90,  90,  90],\n",
       "         ...,\n",
       "         [ 10,  20,  31],\n",
       "         [ 10,  20,  31],\n",
       "         [ 10,  20,  31]],\n",
       " \n",
       "        ...,\n",
       " \n",
       "        [[ 49,  66,  86],\n",
       "         [ 49,  66,  86],\n",
       "         [ 49,  66,  86],\n",
       "         ...,\n",
       "         [190,  48,  48],\n",
       "         [192,  50,  50],\n",
       "         [193,  51,  51]],\n",
       " \n",
       "        [[ 49,  66,  86],\n",
       "         [ 49,  66,  86],\n",
       "         [ 49,  66,  86],\n",
       "         ...,\n",
       "         [187,  46,  46],\n",
       "         [190,  48,  48],\n",
       "         [192,  50,  50]],\n",
       " \n",
       "        [[ 49,  66,  86],\n",
       "         [ 49,  66,  86],\n",
       "         [ 49,  66,  86],\n",
       "         ...,\n",
       "         [183,  44,  44],\n",
       "         [187,  46,  46],\n",
       "         [190,  48,  48]]], dtype=uint8),\n",
       " None,\n",
       " None,\n",
       " None)"
      ]
     },
     "execution_count": 22,
     "metadata": {},
     "output_type": "execute_result"
    },
    {
     "ename": "",
     "evalue": "",
     "output_type": "error",
     "traceback": [
      "\u001b[1;31mThe Kernel crashed while executing code in the current cell or a previous cell. \n",
      "\u001b[1;31mPlease review the code in the cell(s) to identify a possible cause of the failure. \n",
      "\u001b[1;31mClick <a href='https://aka.ms/vscodeJupyterKernelCrash'>here</a> for more info. \n",
      "\u001b[1;31mView Jupyter <a href='command:jupyter.viewOutput'>log</a> for further details."
     ]
    }
   ],
   "source": [
    "cam.set_pose(pos=(0.1, 0.2, 0.2), lookat=(0.65, 0.15, 0))\n",
    "cam.set_params(fov=70)\n",
    "\n",
    "cam.render()"
   ]
  },
  {
   "cell_type": "code",
   "execution_count": null,
   "metadata": {},
   "outputs": [],
   "source": []
  }
 ],
 "metadata": {
  "kernelspec": {
   "display_name": "openvla",
   "language": "python",
   "name": "python3"
  },
  "language_info": {
   "codemirror_mode": {
    "name": "ipython",
    "version": 3
   },
   "file_extension": ".py",
   "mimetype": "text/x-python",
   "name": "python",
   "nbconvert_exporter": "python",
   "pygments_lexer": "ipython3",
   "version": "3.11.11"
  }
 },
 "nbformat": 4,
 "nbformat_minor": 2
}
