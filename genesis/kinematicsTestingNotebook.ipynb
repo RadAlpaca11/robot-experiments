{
 "cells": [
  {
   "cell_type": "code",
   "execution_count": 1,
   "metadata": {},
   "outputs": [
    {
     "name": "stderr",
     "output_type": "stream",
     "text": [
      "[I 03/18/25 14:43:11.751 99373] [shell.py:_shell_pop_print@23] Graphical python shell detected, using wrapped sys.stdout\n"
     ]
    }
   ],
   "source": [
    "import numpy as np\n",
    "import genesis as gs"
   ]
  },
  {
   "cell_type": "code",
   "execution_count": 2,
   "metadata": {},
   "outputs": [
    {
     "name": "stderr",
     "output_type": "stream",
     "text": [
      "\u001b[38;5;159m[Genesis] [14:43:14] [INFO] \u001b[38;5;121m╭───────────────────────────────────────────────╮\u001b[0m\u001b[38;5;159m\u001b[0m\n",
      "\u001b[38;5;159m[Genesis] [14:43:14] [INFO] \u001b[38;5;121m│┈┉┈┉┈┉┈┉┈┉┈┉┈┉┈┉┈┉┈\u001b[0m\u001b[38;5;159m \u001b[38;5;121m\u001b[1m\u001b[3mGenesis\u001b[0m\u001b[38;5;159m \u001b[38;5;121m┈┉┈┉┈┉┈┉┈┉┈┉┈┉┈┉┈┉┈│\u001b[0m\u001b[38;5;159m\u001b[0m\n",
      "\u001b[38;5;159m[Genesis] [14:43:14] [INFO] \u001b[38;5;121m╰───────────────────────────────────────────────╯\u001b[0m\u001b[38;5;159m\u001b[0m\n",
      "\u001b[38;5;159m[Genesis] [14:43:14] [INFO] Running on \u001b[38;5;121m\u001b[4m[11th Gen Intel(R) Core(TM) i9-11900K @ 3.50GHz]\u001b[0m\u001b[38;5;159m with backend \u001b[38;5;121m\u001b[4mgs.cpu\u001b[0m\u001b[38;5;159m. Device memory: \u001b[38;5;121m\u001b[4m62.64\u001b[0m\u001b[38;5;159m GB.\u001b[0m\n",
      "\u001b[38;5;159m[Genesis] [14:43:15] [INFO] 🚀 Genesis initialized. 🔖 version: \u001b[38;5;121m\u001b[4m0.2.1\u001b[0m\u001b[38;5;159m, 🌱 seed: \u001b[38;5;121m\u001b[4mNone\u001b[0m\u001b[38;5;159m, 📏 precision: '\u001b[38;5;121m\u001b[4m32\u001b[0m\u001b[38;5;159m', 🐛 debug: \u001b[38;5;121m\u001b[4mFalse\u001b[0m\u001b[38;5;159m, 🎨 theme: '\u001b[38;5;121m\u001b[4mdark\u001b[0m\u001b[38;5;159m'.\u001b[0m\n"
     ]
    }
   ],
   "source": [
    "gs.init(backend=gs.cpu)"
   ]
  },
  {
   "cell_type": "code",
   "execution_count": 3,
   "metadata": {},
   "outputs": [
    {
     "name": "stderr",
     "output_type": "stream",
     "text": [
      "\u001b[38;5;159m[Genesis] [14:43:17] [INFO] Scene \u001b[38;5;121m\u001b[3m<ad42912>\u001b[0m\u001b[38;5;159m created.\u001b[0m\n"
     ]
    }
   ],
   "source": [
    "scene = gs.Scene(\n",
    "    show_viewer    = True,\n",
    "    viewer_options = gs.options.ViewerOptions(\n",
    "        res           = (1280, 960),\n",
    "        camera_pos    = (3.5, 0.0, 2.5),\n",
    "        camera_lookat = (0.0, 0.0, 0.5),\n",
    "        camera_fov    = 30,\n",
    "        max_FPS       = 60,\n",
    "    ),\n",
    "    vis_options = gs.options.VisOptions(\n",
    "        show_world_frame = True, # visualize the coordinate frame of `world` at its origin\n",
    "        world_frame_size = 1.0, # length of the world frame in meter\n",
    "        show_link_frame  = False, # do not visualize coordinate frames of entity links\n",
    "        show_cameras     = False, # do not visualize mesh and frustum of the cameras added\n",
    "        plane_reflection = True, # turn on plane reflection\n",
    "        ambient_light    = (0.1, 0.1, 0.1), # ambient light setting\n",
    "    ),\n",
    "    sim_options = gs.options.SimOptions(\n",
    "        dt = 0.01,\n",
    "        substeps = 4,\n",
    "    ),\n",
    "    renderer = gs.renderers.Rasterizer(), # using rasterizer for camera rendering\n",
    ")"
   ]
  },
  {
   "cell_type": "code",
   "execution_count": 4,
   "metadata": {},
   "outputs": [
    {
     "name": "stderr",
     "output_type": "stream",
     "text": [
      "\u001b[38;5;159m[Genesis] [14:43:18] [INFO] Adding \u001b[38;5;121m<gs.RigidEntity>\u001b[0m\u001b[38;5;159m. idx: \u001b[38;5;121m0\u001b[0m\u001b[38;5;159m, uid: \u001b[38;5;121m\u001b[3m<dbea6e3>\u001b[0m\u001b[38;5;159m, morph: \u001b[38;5;121m<gs.morphs.Plane>\u001b[0m\u001b[38;5;159m, material: \u001b[38;5;121m<gs.materials.Rigid>\u001b[0m\u001b[38;5;159m.\u001b[0m\n",
      "\u001b[38;5;159m[Genesis] [14:43:18] [INFO] Adding \u001b[38;5;121m<gs.RigidEntity>\u001b[0m\u001b[38;5;159m. idx: \u001b[38;5;121m1\u001b[0m\u001b[38;5;159m, uid: \u001b[38;5;121m\u001b[3m<21e7210>\u001b[0m\u001b[38;5;159m, morph: \u001b[38;5;121m<gs.morphs.MJCF(file='/home/a3r/Interns/internship2024-25/genesis/mujoco_menagerie/franka_emika_panda/panda.xml')>\u001b[0m\u001b[38;5;159m, material: \u001b[38;5;121m<gs.materials.Rigid>\u001b[0m\u001b[38;5;159m.\u001b[0m\n",
      "\u001b[38;5;159m[Genesis] [14:43:20] [INFO] Adding \u001b[38;5;121m<gs.RigidEntity>\u001b[0m\u001b[38;5;159m. idx: \u001b[38;5;121m2\u001b[0m\u001b[38;5;159m, uid: \u001b[38;5;121m\u001b[3m<b6c483a>\u001b[0m\u001b[38;5;159m, morph: \u001b[38;5;121m<gs.morphs.Box>\u001b[0m\u001b[38;5;159m, material: \u001b[38;5;121m<gs.materials.Rigid>\u001b[0m\u001b[38;5;159m.\u001b[0m\n"
     ]
    }
   ],
   "source": [
    "plane = scene.add_entity(gs.morphs.Plane())\n",
    "\n",
    "panda = scene.add_entity(\n",
    "    gs.morphs.MJCF(file='mujoco_menagerie/franka_emika_panda/panda.xml',)\n",
    ")\n",
    "\n",
    "cube = scene.add_entity(\n",
    "    gs.morphs.Box(\n",
    "        size = (0.04, 0.04, 0.08),\n",
    "        pos = (0.65, 0.0, 0.25),\n",
    "    ),\n",
    "    surface=gs.surfaces.Default(\n",
    "        color=(1, 0.8, 0),\n",
    "    )\n",
    ")"
   ]
  },
  {
   "cell_type": "code",
   "execution_count": 5,
   "metadata": {},
   "outputs": [],
   "source": [
    "cam = scene.add_camera(\n",
    "    res = (640, 480),\n",
    "    pos = (0.45, -2.5, 1.25),\n",
    "    lookat = (0.65, 0, 0.25),\n",
    "    fov = 20,\n",
    "    GUI = True,\n",
    ")\n",
    "\n",
    "camFilm = scene.add_camera(\n",
    "    res = (640, 480),\n",
    "    pos = (0.45, -2.5, 1.25),\n",
    "    lookat = (0.65, 0, 0.25),\n",
    "    fov = 20,\n",
    "    GUI = True,\n",
    ")\n"
   ]
  },
  {
   "cell_type": "code",
   "execution_count": 6,
   "metadata": {},
   "outputs": [
    {
     "name": "stderr",
     "output_type": "stream",
     "text": [
      "\u001b[38;5;159m[Genesis] [14:43:22] [INFO] Building scene \u001b[38;5;121m\u001b[3m<ad42912>\u001b[0m\u001b[38;5;159m...\u001b[0m\n",
      "[W 03/18/25 14:43:23.046 99373] [frontend_ir.cpp:begin_frontend_struct_for_on_snode@1678] ti.loop_config(serialize=True) does not have effect on the struct for. The execution order is not guaranteed.\n",
      "[W 03/18/25 14:43:23.377 99373] [frontend_ir.cpp:begin_frontend_struct_for_on_snode@1678] ti.loop_config(serialize=True) does not have effect on the struct for. The execution order is not guaranteed.\n",
      "[W 03/18/25 14:43:26.049 99373] [frontend_ir.cpp:begin_frontend_struct_for_on_snode@1678] ti.loop_config(serialize=True) does not have effect on the struct for. The execution order is not guaranteed.\n",
      "\u001b[38;5;159m[Genesis] [14:43:26] [INFO] Compiling simulation kernels...\u001b[0m\n",
      "\u001b[38;5;159m[Genesis] [14:43:29] [INFO] Building visualizer...\u001b[0m\n",
      "\u001b[38;5;159m[Genesis] [14:43:33] [INFO] Viewer created. Resolution: \u001b[38;5;121m1280×960\u001b[0m\u001b[38;5;159m, max_FPS: \u001b[38;5;121m60\u001b[0m\u001b[38;5;159m.\u001b[0m\n"
     ]
    }
   ],
   "source": [
    "scene.build()\n",
    "camFilm.start_recording()"
   ]
  },
  {
   "cell_type": "code",
   "execution_count": 7,
   "metadata": {},
   "outputs": [],
   "source": [
    "motors_dof = np.arange(7)\n",
    "fingers_dof = np.arange(7,9)"
   ]
  },
  {
   "cell_type": "code",
   "execution_count": 8,
   "metadata": {},
   "outputs": [],
   "source": [
    "# these are tuned for the specific robot (panda)\n",
    "panda.set_dofs_kp(\n",
    "    np.array([4500, 4500, 3500, 3500, 2000, 2000, 2000, 100, 100]),\n",
    ")\n",
    "panda.set_dofs_kv(\n",
    "    np.array([450, 450, 350, 350, 200, 200, 200, 10, 10]),\n",
    ")\n",
    "panda.set_dofs_force_range(\n",
    "    np.array([-87, -87, -87, -87, -12, -12, -12, -100, -100]),\n",
    "    np.array([87, 87, 87, 87, 12, 12, 12, 100, 100]),\n",
    ")"
   ]
  },
  {
   "cell_type": "code",
   "execution_count": 9,
   "metadata": {},
   "outputs": [],
   "source": [
    "# get the end-effector link\n",
    "end_effector = panda.get_link('hand')"
   ]
  },
  {
   "cell_type": "code",
   "execution_count": 10,
   "metadata": {},
   "outputs": [],
   "source": [
    "# move to pose before grasp\n",
    "qpos = panda.inverse_kinematics(\n",
    "    link = end_effector,\n",
    "    pos = np.array([0.65, 0.0, 0.25]),\n",
    "    quat = np.array([0, 1, 0, 0]),\n",
    ")"
   ]
  },
  {
   "cell_type": "code",
   "execution_count": 11,
   "metadata": {},
   "outputs": [],
   "source": [
    "panda.control_dofs_position(qpos[:-2], motors_dof)"
   ]
  },
  {
   "cell_type": "code",
   "execution_count": 12,
   "metadata": {},
   "outputs": [
    {
     "name": "stderr",
     "output_type": "stream",
     "text": [
      "\u001b[38;5;159m[Genesis] [14:43:44] [INFO] Running at \u001b[38;5;121m1.86\u001b[0m\u001b[38;5;159m FPS.\u001b[0m\n",
      "\u001b[38;5;159m[Genesis] [14:43:44] [INFO] Running at \u001b[38;5;121m1.95\u001b[0m\u001b[38;5;159m FPS.\u001b[0m\n",
      "\u001b[38;5;159m[Genesis] [14:43:44] [INFO] Running at \u001b[38;5;121m2.05\u001b[0m\u001b[38;5;159m FPS.\u001b[0m\n",
      "\u001b[38;5;159m[Genesis] [14:43:44] [INFO] Running at \u001b[38;5;121m2.15\u001b[0m\u001b[38;5;159m FPS.\u001b[0m\n",
      "\u001b[38;5;159m[Genesis] [14:43:44] [INFO] Running at \u001b[38;5;121m2.26\u001b[0m\u001b[38;5;159m FPS.\u001b[0m\n",
      "\u001b[38;5;159m[Genesis] [14:43:44] [INFO] Running at \u001b[38;5;121m2.38\u001b[0m\u001b[38;5;159m FPS.\u001b[0m\n",
      "\u001b[38;5;159m[Genesis] [14:43:44] [INFO] Running at \u001b[38;5;121m2.50\u001b[0m\u001b[38;5;159m FPS.\u001b[0m\n",
      "\u001b[38;5;159m[Genesis] [14:43:44] [INFO] Running at \u001b[38;5;121m2.62\u001b[0m\u001b[38;5;159m FPS.\u001b[0m\n",
      "\u001b[38;5;159m[Genesis] [14:43:44] [INFO] Running at \u001b[38;5;121m2.76\u001b[0m\u001b[38;5;159m FPS.\u001b[0m\n",
      "\u001b[38;5;159m[Genesis] [14:43:44] [INFO] Running at \u001b[38;5;121m2.89\u001b[0m\u001b[38;5;159m FPS.\u001b[0m\n",
      "\u001b[38;5;159m[Genesis] [14:43:44] [INFO] Running at \u001b[38;5;121m3.04\u001b[0m\u001b[38;5;159m FPS.\u001b[0m\n",
      "\u001b[38;5;159m[Genesis] [14:43:44] [INFO] Running at \u001b[38;5;121m3.19\u001b[0m\u001b[38;5;159m FPS.\u001b[0m\n",
      "\u001b[38;5;159m[Genesis] [14:43:44] [INFO] Running at \u001b[38;5;121m3.35\u001b[0m\u001b[38;5;159m FPS.\u001b[0m\n",
      "\u001b[38;5;159m[Genesis] [14:43:44] [INFO] Running at \u001b[38;5;121m3.51\u001b[0m\u001b[38;5;159m FPS.\u001b[0m\n",
      "\u001b[38;5;159m[Genesis] [14:43:44] [INFO] Running at \u001b[38;5;121m3.69\u001b[0m\u001b[38;5;159m FPS.\u001b[0m\n",
      "\u001b[38;5;159m[Genesis] [14:43:44] [INFO] Running at \u001b[38;5;121m3.87\u001b[0m\u001b[38;5;159m FPS.\u001b[0m\n",
      "\u001b[38;5;159m[Genesis] [14:43:44] [INFO] Running at \u001b[38;5;121m4.06\u001b[0m\u001b[38;5;159m FPS.\u001b[0m\n",
      "\u001b[38;5;159m[Genesis] [14:43:44] [INFO] Running at \u001b[38;5;121m4.26\u001b[0m\u001b[38;5;159m FPS.\u001b[0m\n",
      "\u001b[38;5;159m[Genesis] [14:43:44] [INFO] Running at \u001b[38;5;121m4.47\u001b[0m\u001b[38;5;159m FPS.\u001b[0m\n",
      "\u001b[38;5;159m[Genesis] [14:43:44] [INFO] Running at \u001b[38;5;121m4.68\u001b[0m\u001b[38;5;159m FPS.\u001b[0m\n",
      "\u001b[38;5;159m[Genesis] [14:43:44] [INFO] Running at \u001b[38;5;121m4.90\u001b[0m\u001b[38;5;159m FPS.\u001b[0m\n",
      "\u001b[38;5;159m[Genesis] [14:43:44] [INFO] Running at \u001b[38;5;121m5.13\u001b[0m\u001b[38;5;159m FPS.\u001b[0m\n",
      "\u001b[38;5;159m[Genesis] [14:43:44] [INFO] Running at \u001b[38;5;121m5.38\u001b[0m\u001b[38;5;159m FPS.\u001b[0m\n",
      "\u001b[38;5;159m[Genesis] [14:43:44] [INFO] Running at \u001b[38;5;121m5.64\u001b[0m\u001b[38;5;159m FPS.\u001b[0m\n",
      "\u001b[38;5;159m[Genesis] [14:43:44] [INFO] Running at \u001b[38;5;121m5.91\u001b[0m\u001b[38;5;159m FPS.\u001b[0m\n",
      "\u001b[38;5;159m[Genesis] [14:43:44] [INFO] Running at \u001b[38;5;121m6.18\u001b[0m\u001b[38;5;159m FPS.\u001b[0m\n",
      "\u001b[38;5;159m[Genesis] [14:43:44] [INFO] Running at \u001b[38;5;121m6.48\u001b[0m\u001b[38;5;159m FPS.\u001b[0m\n",
      "\u001b[38;5;159m[Genesis] [14:43:44] [INFO] Running at \u001b[38;5;121m6.78\u001b[0m\u001b[38;5;159m FPS.\u001b[0m\n",
      "\u001b[38;5;159m[Genesis] [14:43:44] [INFO] Running at \u001b[38;5;121m7.09\u001b[0m\u001b[38;5;159m FPS.\u001b[0m\n",
      "\u001b[38;5;159m[Genesis] [14:43:45] [INFO] Running at \u001b[38;5;121m7.42\u001b[0m\u001b[38;5;159m FPS.\u001b[0m\n",
      "\u001b[38;5;159m[Genesis] [14:43:45] [INFO] Running at \u001b[38;5;121m7.76\u001b[0m\u001b[38;5;159m FPS.\u001b[0m\n",
      "\u001b[38;5;159m[Genesis] [14:43:45] [INFO] Running at \u001b[38;5;121m8.12\u001b[0m\u001b[38;5;159m FPS.\u001b[0m\n",
      "\u001b[38;5;159m[Genesis] [14:43:45] [INFO] Running at \u001b[38;5;121m8.49\u001b[0m\u001b[38;5;159m FPS.\u001b[0m\n",
      "\u001b[38;5;159m[Genesis] [14:43:45] [INFO] Running at \u001b[38;5;121m8.87\u001b[0m\u001b[38;5;159m FPS.\u001b[0m\n",
      "\u001b[38;5;159m[Genesis] [14:43:45] [INFO] Running at \u001b[38;5;121m9.27\u001b[0m\u001b[38;5;159m FPS.\u001b[0m\n",
      "\u001b[38;5;159m[Genesis] [14:43:45] [INFO] Running at \u001b[38;5;121m9.68\u001b[0m\u001b[38;5;159m FPS.\u001b[0m\n",
      "\u001b[38;5;159m[Genesis] [14:43:45] [INFO] Running at \u001b[38;5;121m10.11\u001b[0m\u001b[38;5;159m FPS.\u001b[0m\n",
      "\u001b[38;5;159m[Genesis] [14:43:45] [INFO] Running at \u001b[38;5;121m10.55\u001b[0m\u001b[38;5;159m FPS.\u001b[0m\n",
      "\u001b[38;5;159m[Genesis] [14:43:45] [INFO] Running at \u001b[38;5;121m11.00\u001b[0m\u001b[38;5;159m FPS.\u001b[0m\n",
      "\u001b[38;5;159m[Genesis] [14:43:45] [INFO] Running at \u001b[38;5;121m11.47\u001b[0m\u001b[38;5;159m FPS.\u001b[0m\n",
      "\u001b[38;5;159m[Genesis] [14:43:45] [INFO] Running at \u001b[38;5;121m11.96\u001b[0m\u001b[38;5;159m FPS.\u001b[0m\n",
      "\u001b[38;5;159m[Genesis] [14:43:45] [INFO] Running at \u001b[38;5;121m12.46\u001b[0m\u001b[38;5;159m FPS.\u001b[0m\n",
      "\u001b[38;5;159m[Genesis] [14:43:45] [INFO] Running at \u001b[38;5;121m12.98\u001b[0m\u001b[38;5;159m FPS.\u001b[0m\n",
      "\u001b[38;5;159m[Genesis] [14:43:45] [INFO] Running at \u001b[38;5;121m13.51\u001b[0m\u001b[38;5;159m FPS.\u001b[0m\n",
      "\u001b[38;5;159m[Genesis] [14:43:45] [INFO] Running at \u001b[38;5;121m14.06\u001b[0m\u001b[38;5;159m FPS.\u001b[0m\n",
      "\u001b[38;5;159m[Genesis] [14:43:45] [INFO] Running at \u001b[38;5;121m14.63\u001b[0m\u001b[38;5;159m FPS.\u001b[0m\n",
      "\u001b[38;5;159m[Genesis] [14:43:45] [INFO] Running at \u001b[38;5;121m15.21\u001b[0m\u001b[38;5;159m FPS.\u001b[0m\n",
      "\u001b[38;5;159m[Genesis] [14:43:45] [INFO] Running at \u001b[38;5;121m15.80\u001b[0m\u001b[38;5;159m FPS.\u001b[0m\n",
      "\u001b[38;5;159m[Genesis] [14:43:45] [INFO] Running at \u001b[38;5;121m16.41\u001b[0m\u001b[38;5;159m FPS.\u001b[0m\n",
      "\u001b[38;5;159m[Genesis] [14:43:45] [INFO] Running at \u001b[38;5;121m17.04\u001b[0m\u001b[38;5;159m FPS.\u001b[0m\n",
      "\u001b[38;5;159m[Genesis] [14:43:45] [INFO] Running at \u001b[38;5;121m17.68\u001b[0m\u001b[38;5;159m FPS.\u001b[0m\n",
      "\u001b[38;5;159m[Genesis] [14:43:45] [INFO] Running at \u001b[38;5;121m18.33\u001b[0m\u001b[38;5;159m FPS.\u001b[0m\n",
      "\u001b[38;5;159m[Genesis] [14:43:45] [INFO] Running at \u001b[38;5;121m19.00\u001b[0m\u001b[38;5;159m FPS.\u001b[0m\n",
      "\u001b[38;5;159m[Genesis] [14:43:45] [INFO] Running at \u001b[38;5;121m19.67\u001b[0m\u001b[38;5;159m FPS.\u001b[0m\n",
      "\u001b[38;5;159m[Genesis] [14:43:45] [INFO] Running at \u001b[38;5;121m20.36\u001b[0m\u001b[38;5;159m FPS.\u001b[0m\n",
      "\u001b[38;5;159m[Genesis] [14:43:45] [INFO] Running at \u001b[38;5;121m21.07\u001b[0m\u001b[38;5;159m FPS.\u001b[0m\n",
      "\u001b[38;5;159m[Genesis] [14:43:45] [INFO] Running at \u001b[38;5;121m21.79\u001b[0m\u001b[38;5;159m FPS.\u001b[0m\n",
      "\u001b[38;5;159m[Genesis] [14:43:45] [INFO] Running at \u001b[38;5;121m22.52\u001b[0m\u001b[38;5;159m FPS.\u001b[0m\n",
      "\u001b[38;5;159m[Genesis] [14:43:45] [INFO] Running at \u001b[38;5;121m23.25\u001b[0m\u001b[38;5;159m FPS.\u001b[0m\n",
      "\u001b[38;5;159m[Genesis] [14:43:45] [INFO] Running at \u001b[38;5;121m24.00\u001b[0m\u001b[38;5;159m FPS.\u001b[0m\n",
      "\u001b[38;5;159m[Genesis] [14:43:45] [INFO] Running at \u001b[38;5;121m24.76\u001b[0m\u001b[38;5;159m FPS.\u001b[0m\n",
      "\u001b[38;5;159m[Genesis] [14:43:45] [INFO] Running at \u001b[38;5;121m25.52\u001b[0m\u001b[38;5;159m FPS.\u001b[0m\n",
      "\u001b[38;5;159m[Genesis] [14:43:45] [INFO] Running at \u001b[38;5;121m26.29\u001b[0m\u001b[38;5;159m FPS.\u001b[0m\n",
      "\u001b[38;5;159m[Genesis] [14:43:45] [INFO] Running at \u001b[38;5;121m27.07\u001b[0m\u001b[38;5;159m FPS.\u001b[0m\n",
      "\u001b[38;5;159m[Genesis] [14:43:45] [INFO] Running at \u001b[38;5;121m27.85\u001b[0m\u001b[38;5;159m FPS.\u001b[0m\n",
      "\u001b[38;5;159m[Genesis] [14:43:45] [INFO] Running at \u001b[38;5;121m28.63\u001b[0m\u001b[38;5;159m FPS.\u001b[0m\n",
      "\u001b[38;5;159m[Genesis] [14:43:45] [INFO] Running at \u001b[38;5;121m29.42\u001b[0m\u001b[38;5;159m FPS.\u001b[0m\n",
      "\u001b[38;5;159m[Genesis] [14:43:45] [INFO] Running at \u001b[38;5;121m30.21\u001b[0m\u001b[38;5;159m FPS.\u001b[0m\n",
      "\u001b[38;5;159m[Genesis] [14:43:45] [INFO] Running at \u001b[38;5;121m31.00\u001b[0m\u001b[38;5;159m FPS.\u001b[0m\n",
      "\u001b[38;5;159m[Genesis] [14:43:45] [INFO] Running at \u001b[38;5;121m31.79\u001b[0m\u001b[38;5;159m FPS.\u001b[0m\n",
      "\u001b[38;5;159m[Genesis] [14:43:45] [INFO] Running at \u001b[38;5;121m32.57\u001b[0m\u001b[38;5;159m FPS.\u001b[0m\n",
      "\u001b[38;5;159m[Genesis] [14:43:45] [INFO] Running at \u001b[38;5;121m33.35\u001b[0m\u001b[38;5;159m FPS.\u001b[0m\n",
      "\u001b[38;5;159m[Genesis] [14:43:45] [INFO] Running at \u001b[38;5;121m34.14\u001b[0m\u001b[38;5;159m FPS.\u001b[0m\n",
      "\u001b[38;5;159m[Genesis] [14:43:45] [INFO] Running at \u001b[38;5;121m34.92\u001b[0m\u001b[38;5;159m FPS.\u001b[0m\n",
      "\u001b[38;5;159m[Genesis] [14:43:45] [INFO] Running at \u001b[38;5;121m35.69\u001b[0m\u001b[38;5;159m FPS.\u001b[0m\n",
      "\u001b[38;5;159m[Genesis] [14:43:45] [INFO] Running at \u001b[38;5;121m36.46\u001b[0m\u001b[38;5;159m FPS.\u001b[0m\n",
      "\u001b[38;5;159m[Genesis] [14:43:45] [INFO] Running at \u001b[38;5;121m37.22\u001b[0m\u001b[38;5;159m FPS.\u001b[0m\n",
      "\u001b[38;5;159m[Genesis] [14:43:45] [INFO] Running at \u001b[38;5;121m37.96\u001b[0m\u001b[38;5;159m FPS.\u001b[0m\n",
      "\u001b[38;5;159m[Genesis] [14:43:45] [INFO] Running at \u001b[38;5;121m38.72\u001b[0m\u001b[38;5;159m FPS.\u001b[0m\n",
      "\u001b[38;5;159m[Genesis] [14:43:45] [INFO] Running at \u001b[38;5;121m39.45\u001b[0m\u001b[38;5;159m FPS.\u001b[0m\n",
      "\u001b[38;5;159m[Genesis] [14:43:45] [INFO] Running at \u001b[38;5;121m40.16\u001b[0m\u001b[38;5;159m FPS.\u001b[0m\n",
      "\u001b[38;5;159m[Genesis] [14:43:45] [INFO] Running at \u001b[38;5;121m40.86\u001b[0m\u001b[38;5;159m FPS.\u001b[0m\n",
      "\u001b[38;5;159m[Genesis] [14:43:45] [INFO] Running at \u001b[38;5;121m41.56\u001b[0m\u001b[38;5;159m FPS.\u001b[0m\n",
      "\u001b[38;5;159m[Genesis] [14:43:45] [INFO] Running at \u001b[38;5;121m42.24\u001b[0m\u001b[38;5;159m FPS.\u001b[0m\n",
      "\u001b[38;5;159m[Genesis] [14:43:45] [INFO] Running at \u001b[38;5;121m42.91\u001b[0m\u001b[38;5;159m FPS.\u001b[0m\n",
      "\u001b[38;5;159m[Genesis] [14:43:45] [INFO] Running at \u001b[38;5;121m43.56\u001b[0m\u001b[38;5;159m FPS.\u001b[0m\n",
      "\u001b[38;5;159m[Genesis] [14:43:45] [INFO] Running at \u001b[38;5;121m44.20\u001b[0m\u001b[38;5;159m FPS.\u001b[0m\n",
      "\u001b[38;5;159m[Genesis] [14:43:45] [INFO] Running at \u001b[38;5;121m44.83\u001b[0m\u001b[38;5;159m FPS.\u001b[0m\n",
      "\u001b[38;5;159m[Genesis] [14:43:45] [INFO] Running at \u001b[38;5;121m45.43\u001b[0m\u001b[38;5;159m FPS.\u001b[0m\n",
      "\u001b[38;5;159m[Genesis] [14:43:46] [INFO] Running at \u001b[38;5;121m46.09\u001b[0m\u001b[38;5;159m FPS.\u001b[0m\n",
      "\u001b[38;5;159m[Genesis] [14:43:46] [INFO] Running at \u001b[38;5;121m46.67\u001b[0m\u001b[38;5;159m FPS.\u001b[0m\n",
      "\u001b[38;5;159m[Genesis] [14:43:46] [INFO] Running at \u001b[38;5;121m47.23\u001b[0m\u001b[38;5;159m FPS.\u001b[0m\n",
      "\u001b[38;5;159m[Genesis] [14:43:46] [INFO] Running at \u001b[38;5;121m47.77\u001b[0m\u001b[38;5;159m FPS.\u001b[0m\n",
      "\u001b[38;5;159m[Genesis] [14:43:46] [INFO] Running at \u001b[38;5;121m48.31\u001b[0m\u001b[38;5;159m FPS.\u001b[0m\n",
      "\u001b[38;5;159m[Genesis] [14:43:46] [INFO] Running at \u001b[38;5;121m48.83\u001b[0m\u001b[38;5;159m FPS.\u001b[0m\n",
      "\u001b[38;5;159m[Genesis] [14:43:46] [INFO] Running at \u001b[38;5;121m49.33\u001b[0m\u001b[38;5;159m FPS.\u001b[0m\n",
      "\u001b[38;5;159m[Genesis] [14:43:46] [INFO] Running at \u001b[38;5;121m49.82\u001b[0m\u001b[38;5;159m FPS.\u001b[0m\n",
      "\u001b[38;5;159m[Genesis] [14:43:46] [INFO] Running at \u001b[38;5;121m50.29\u001b[0m\u001b[38;5;159m FPS.\u001b[0m\n",
      "\u001b[38;5;159m[Genesis] [14:43:46] [INFO] Running at \u001b[38;5;121m50.69\u001b[0m\u001b[38;5;159m FPS.\u001b[0m\n",
      "\u001b[38;5;159m[Genesis] [14:43:46] [INFO] Running at \u001b[38;5;121m51.35\u001b[0m\u001b[38;5;159m FPS.\u001b[0m\n"
     ]
    }
   ],
   "source": [
    "for i in range(100):\n",
    "    scene.step()"
   ]
  },
  {
   "cell_type": "code",
   "execution_count": 13,
   "metadata": {},
   "outputs": [
    {
     "name": "stdout",
     "output_type": "stream",
     "text": [
      "tensor([ 6.4830e-01, -4.6931e-04,  2.4198e-01])\n"
     ]
    }
   ],
   "source": [
    "currentPos = end_effector.get_pos()\n",
    "print(currentPos)"
   ]
  },
  {
   "cell_type": "code",
   "execution_count": 14,
   "metadata": {},
   "outputs": [
    {
     "name": "stderr",
     "output_type": "stream",
     "text": [
      "/home/a3r/miniconda3/envs/openvla/lib/python3.11/site-packages/tqdm/auto.py:21: TqdmWarning: IProgress not found. Please update jupyter and ipywidgets. See https://ipywidgets.readthedocs.io/en/stable/user_install.html\n",
      "  from .autonotebook import tqdm as notebook_tqdm\n",
      "2025-03-18 14:43:49.845048: E external/local_xla/xla/stream_executor/cuda/cuda_dnn.cc:9261] Unable to register cuDNN factory: Attempting to register factory for plugin cuDNN when one has already been registered\n",
      "2025-03-18 14:43:49.845071: E external/local_xla/xla/stream_executor/cuda/cuda_fft.cc:607] Unable to register cuFFT factory: Attempting to register factory for plugin cuFFT when one has already been registered\n",
      "2025-03-18 14:43:49.845727: E external/local_xla/xla/stream_executor/cuda/cuda_blas.cc:1515] Unable to register cuBLAS factory: Attempting to register factory for plugin cuBLAS when one has already been registered\n",
      "2025-03-18 14:43:50.373973: W tensorflow/compiler/tf2tensorrt/utils/py_utils.cc:38] TF-TRT Warning: Could not find TensorRT\n"
     ]
    }
   ],
   "source": [
    "import cv2\n",
    "import torch\n",
    "from transformers import AutoModelForVision2Seq, AutoProcessor\n",
    "from PIL import Image"
   ]
  },
  {
   "cell_type": "code",
   "execution_count": 19,
   "metadata": {},
   "outputs": [
    {
     "ename": "ImportError",
     "evalue": "This modeling file requires the following packages that were not found in your environment: vla. Run `pip install vla`",
     "output_type": "error",
     "traceback": [
      "\u001b[0;31m---------------------------------------------------------------------------\u001b[0m",
      "\u001b[0;31mImportError\u001b[0m                               Traceback (most recent call last)",
      "Cell \u001b[0;32mIn[19], line 2\u001b[0m\n\u001b[1;32m      1\u001b[0m processor \u001b[38;5;241m=\u001b[39m AutoProcessor\u001b[38;5;241m.\u001b[39mfrom_pretrained(\u001b[38;5;124m\"\u001b[39m\u001b[38;5;124mopenvla/openvla-7b\u001b[39m\u001b[38;5;124m\"\u001b[39m, trust_remote_code\u001b[38;5;241m=\u001b[39m\u001b[38;5;28;01mTrue\u001b[39;00m)\n\u001b[0;32m----> 2\u001b[0m vla \u001b[38;5;241m=\u001b[39m \u001b[43mAutoModelForVision2Seq\u001b[49m\u001b[38;5;241;43m.\u001b[39;49m\u001b[43mfrom_pretrained\u001b[49m\u001b[43m(\u001b[49m\n\u001b[1;32m      3\u001b[0m \u001b[43m    \u001b[49m\u001b[38;5;124;43m\"\u001b[39;49m\u001b[38;5;124;43mopenvla/openvla-7b\u001b[39;49m\u001b[38;5;124;43m\"\u001b[39;49m\u001b[43m,\u001b[49m\u001b[43m \u001b[49m\n\u001b[1;32m      4\u001b[0m \u001b[43m    \u001b[49m\u001b[38;5;66;43;03m#attn_implementation=\"flash_attention_2\",  # [Optional] Requires `flash_attn`\u001b[39;49;00m\n\u001b[1;32m      5\u001b[0m \u001b[43m    \u001b[49m\u001b[43mtorch_dtype\u001b[49m\u001b[38;5;241;43m=\u001b[39;49m\u001b[43mtorch\u001b[49m\u001b[38;5;241;43m.\u001b[39;49m\u001b[43mbfloat16\u001b[49m\u001b[43m,\u001b[49m\u001b[43m \u001b[49m\n\u001b[1;32m      6\u001b[0m \u001b[43m    \u001b[49m\u001b[43mlow_cpu_mem_usage\u001b[49m\u001b[38;5;241;43m=\u001b[39;49m\u001b[38;5;28;43;01mTrue\u001b[39;49;00m\u001b[43m,\u001b[49m\u001b[43m \u001b[49m\n\u001b[1;32m      7\u001b[0m \u001b[43m    \u001b[49m\u001b[43mtrust_remote_code\u001b[49m\u001b[38;5;241;43m=\u001b[39;49m\u001b[38;5;28;43;01mTrue\u001b[39;49;00m\n\u001b[1;32m      8\u001b[0m \u001b[43m)\u001b[49m\u001b[38;5;241m.\u001b[39mto(\u001b[38;5;124m\"\u001b[39m\u001b[38;5;124mcuda:0\u001b[39m\u001b[38;5;124m\"\u001b[39m)\n",
      "File \u001b[0;32m~/miniconda3/envs/openvla/lib/python3.11/site-packages/transformers/models/auto/auto_factory.py:550\u001b[0m, in \u001b[0;36m_BaseAutoModelClass.from_pretrained\u001b[0;34m(cls, pretrained_model_name_or_path, *model_args, **kwargs)\u001b[0m\n\u001b[1;32m    548\u001b[0m \u001b[38;5;28;01mif\u001b[39;00m has_remote_code \u001b[38;5;129;01mand\u001b[39;00m trust_remote_code:\n\u001b[1;32m    549\u001b[0m     class_ref \u001b[38;5;241m=\u001b[39m config\u001b[38;5;241m.\u001b[39mauto_map[\u001b[38;5;28mcls\u001b[39m\u001b[38;5;241m.\u001b[39m\u001b[38;5;18m__name__\u001b[39m]\n\u001b[0;32m--> 550\u001b[0m     model_class \u001b[38;5;241m=\u001b[39m \u001b[43mget_class_from_dynamic_module\u001b[49m\u001b[43m(\u001b[49m\n\u001b[1;32m    551\u001b[0m \u001b[43m        \u001b[49m\u001b[43mclass_ref\u001b[49m\u001b[43m,\u001b[49m\u001b[43m \u001b[49m\u001b[43mpretrained_model_name_or_path\u001b[49m\u001b[43m,\u001b[49m\u001b[43m \u001b[49m\u001b[43mcode_revision\u001b[49m\u001b[38;5;241;43m=\u001b[39;49m\u001b[43mcode_revision\u001b[49m\u001b[43m,\u001b[49m\u001b[43m \u001b[49m\u001b[38;5;241;43m*\u001b[39;49m\u001b[38;5;241;43m*\u001b[39;49m\u001b[43mhub_kwargs\u001b[49m\u001b[43m,\u001b[49m\u001b[43m \u001b[49m\u001b[38;5;241;43m*\u001b[39;49m\u001b[38;5;241;43m*\u001b[39;49m\u001b[43mkwargs\u001b[49m\n\u001b[1;32m    552\u001b[0m \u001b[43m    \u001b[49m\u001b[43m)\u001b[49m\n\u001b[1;32m    553\u001b[0m     _ \u001b[38;5;241m=\u001b[39m hub_kwargs\u001b[38;5;241m.\u001b[39mpop(\u001b[38;5;124m\"\u001b[39m\u001b[38;5;124mcode_revision\u001b[39m\u001b[38;5;124m\"\u001b[39m, \u001b[38;5;28;01mNone\u001b[39;00m)\n\u001b[1;32m    554\u001b[0m     \u001b[38;5;28;01mif\u001b[39;00m os\u001b[38;5;241m.\u001b[39mpath\u001b[38;5;241m.\u001b[39misdir(pretrained_model_name_or_path):\n",
      "File \u001b[0;32m~/miniconda3/envs/openvla/lib/python3.11/site-packages/transformers/dynamic_module_utils.py:489\u001b[0m, in \u001b[0;36mget_class_from_dynamic_module\u001b[0;34m(class_reference, pretrained_model_name_or_path, cache_dir, force_download, resume_download, proxies, token, revision, local_files_only, repo_type, code_revision, **kwargs)\u001b[0m\n\u001b[1;32m    487\u001b[0m     code_revision \u001b[38;5;241m=\u001b[39m revision\n\u001b[1;32m    488\u001b[0m \u001b[38;5;66;03m# And lastly we get the class inside our newly created module\u001b[39;00m\n\u001b[0;32m--> 489\u001b[0m final_module \u001b[38;5;241m=\u001b[39m \u001b[43mget_cached_module_file\u001b[49m\u001b[43m(\u001b[49m\n\u001b[1;32m    490\u001b[0m \u001b[43m    \u001b[49m\u001b[43mrepo_id\u001b[49m\u001b[43m,\u001b[49m\n\u001b[1;32m    491\u001b[0m \u001b[43m    \u001b[49m\u001b[43mmodule_file\u001b[49m\u001b[43m \u001b[49m\u001b[38;5;241;43m+\u001b[39;49m\u001b[43m \u001b[49m\u001b[38;5;124;43m\"\u001b[39;49m\u001b[38;5;124;43m.py\u001b[39;49m\u001b[38;5;124;43m\"\u001b[39;49m\u001b[43m,\u001b[49m\n\u001b[1;32m    492\u001b[0m \u001b[43m    \u001b[49m\u001b[43mcache_dir\u001b[49m\u001b[38;5;241;43m=\u001b[39;49m\u001b[43mcache_dir\u001b[49m\u001b[43m,\u001b[49m\n\u001b[1;32m    493\u001b[0m \u001b[43m    \u001b[49m\u001b[43mforce_download\u001b[49m\u001b[38;5;241;43m=\u001b[39;49m\u001b[43mforce_download\u001b[49m\u001b[43m,\u001b[49m\n\u001b[1;32m    494\u001b[0m \u001b[43m    \u001b[49m\u001b[43mresume_download\u001b[49m\u001b[38;5;241;43m=\u001b[39;49m\u001b[43mresume_download\u001b[49m\u001b[43m,\u001b[49m\n\u001b[1;32m    495\u001b[0m \u001b[43m    \u001b[49m\u001b[43mproxies\u001b[49m\u001b[38;5;241;43m=\u001b[39;49m\u001b[43mproxies\u001b[49m\u001b[43m,\u001b[49m\n\u001b[1;32m    496\u001b[0m \u001b[43m    \u001b[49m\u001b[43mtoken\u001b[49m\u001b[38;5;241;43m=\u001b[39;49m\u001b[43mtoken\u001b[49m\u001b[43m,\u001b[49m\n\u001b[1;32m    497\u001b[0m \u001b[43m    \u001b[49m\u001b[43mrevision\u001b[49m\u001b[38;5;241;43m=\u001b[39;49m\u001b[43mcode_revision\u001b[49m\u001b[43m,\u001b[49m\n\u001b[1;32m    498\u001b[0m \u001b[43m    \u001b[49m\u001b[43mlocal_files_only\u001b[49m\u001b[38;5;241;43m=\u001b[39;49m\u001b[43mlocal_files_only\u001b[49m\u001b[43m,\u001b[49m\n\u001b[1;32m    499\u001b[0m \u001b[43m    \u001b[49m\u001b[43mrepo_type\u001b[49m\u001b[38;5;241;43m=\u001b[39;49m\u001b[43mrepo_type\u001b[49m\u001b[43m,\u001b[49m\n\u001b[1;32m    500\u001b[0m \u001b[43m\u001b[49m\u001b[43m)\u001b[49m\n\u001b[1;32m    501\u001b[0m \u001b[38;5;28;01mreturn\u001b[39;00m get_class_in_module(class_name, final_module)\n",
      "File \u001b[0;32m~/miniconda3/envs/openvla/lib/python3.11/site-packages/transformers/dynamic_module_utils.py:315\u001b[0m, in \u001b[0;36mget_cached_module_file\u001b[0;34m(pretrained_model_name_or_path, module_file, cache_dir, force_download, resume_download, proxies, token, revision, local_files_only, repo_type, _commit_hash, **deprecated_kwargs)\u001b[0m\n\u001b[1;32m    312\u001b[0m     \u001b[38;5;28;01mraise\u001b[39;00m\n\u001b[1;32m    314\u001b[0m \u001b[38;5;66;03m# Check we have all the requirements in our environment\u001b[39;00m\n\u001b[0;32m--> 315\u001b[0m modules_needed \u001b[38;5;241m=\u001b[39m \u001b[43mcheck_imports\u001b[49m\u001b[43m(\u001b[49m\u001b[43mresolved_module_file\u001b[49m\u001b[43m)\u001b[49m\n\u001b[1;32m    317\u001b[0m \u001b[38;5;66;03m# Now we move the module inside our cached dynamic modules.\u001b[39;00m\n\u001b[1;32m    318\u001b[0m full_submodule \u001b[38;5;241m=\u001b[39m TRANSFORMERS_DYNAMIC_MODULE_NAME \u001b[38;5;241m+\u001b[39m os\u001b[38;5;241m.\u001b[39mpath\u001b[38;5;241m.\u001b[39msep \u001b[38;5;241m+\u001b[39m submodule\n",
      "File \u001b[0;32m~/miniconda3/envs/openvla/lib/python3.11/site-packages/transformers/dynamic_module_utils.py:180\u001b[0m, in \u001b[0;36mcheck_imports\u001b[0;34m(filename)\u001b[0m\n\u001b[1;32m    177\u001b[0m         missing_packages\u001b[38;5;241m.\u001b[39mappend(imp)\n\u001b[1;32m    179\u001b[0m \u001b[38;5;28;01mif\u001b[39;00m \u001b[38;5;28mlen\u001b[39m(missing_packages) \u001b[38;5;241m>\u001b[39m \u001b[38;5;241m0\u001b[39m:\n\u001b[0;32m--> 180\u001b[0m     \u001b[38;5;28;01mraise\u001b[39;00m \u001b[38;5;167;01mImportError\u001b[39;00m(\n\u001b[1;32m    181\u001b[0m         \u001b[38;5;124m\"\u001b[39m\u001b[38;5;124mThis modeling file requires the following packages that were not found in your environment: \u001b[39m\u001b[38;5;124m\"\u001b[39m\n\u001b[1;32m    182\u001b[0m         \u001b[38;5;124mf\u001b[39m\u001b[38;5;124m\"\u001b[39m\u001b[38;5;132;01m{\u001b[39;00m\u001b[38;5;124m'\u001b[39m\u001b[38;5;124m, \u001b[39m\u001b[38;5;124m'\u001b[39m\u001b[38;5;241m.\u001b[39mjoin(missing_packages)\u001b[38;5;132;01m}\u001b[39;00m\u001b[38;5;124m. Run `pip install \u001b[39m\u001b[38;5;132;01m{\u001b[39;00m\u001b[38;5;124m'\u001b[39m\u001b[38;5;124m \u001b[39m\u001b[38;5;124m'\u001b[39m\u001b[38;5;241m.\u001b[39mjoin(missing_packages)\u001b[38;5;132;01m}\u001b[39;00m\u001b[38;5;124m`\u001b[39m\u001b[38;5;124m\"\u001b[39m\n\u001b[1;32m    183\u001b[0m     )\n\u001b[1;32m    185\u001b[0m \u001b[38;5;28;01mreturn\u001b[39;00m get_relative_imports(filename)\n",
      "\u001b[0;31mImportError\u001b[0m: This modeling file requires the following packages that were not found in your environment: vla. Run `pip install vla`"
     ]
    }
   ],
   "source": [
    "processor = AutoProcessor.from_pretrained(\"openvla/openvla-7b\", trust_remote_code=True)\n",
    "vla = AutoModelForVision2Seq.from_pretrained(\n",
    "    \"openvla/openvla-7b\", \n",
    "    #attn_implementation=\"flash_attention_2\",  # [Optional] Requires `flash_attn`\n",
    "    torch_dtype=torch.bfloat16, \n",
    "    low_cpu_mem_usage=True, \n",
    "    trust_remote_code=True\n",
    ").to(\"cuda:0\")"
   ]
  },
  {
   "cell_type": "code",
   "execution_count": 16,
   "metadata": {},
   "outputs": [],
   "source": [
    "prompt = \"In: What action should the robot take to touch the yellow block?\\nOut:\"\n"
   ]
  },
  {
   "cell_type": "code",
   "execution_count": 1,
   "metadata": {},
   "outputs": [
    {
     "ename": "NameError",
     "evalue": "name 'cam' is not defined",
     "output_type": "error",
     "traceback": [
      "\u001b[0;31m---------------------------------------------------------------------------\u001b[0m",
      "\u001b[0;31mNameError\u001b[0m                                 Traceback (most recent call last)",
      "Cell \u001b[0;32mIn[1], line 1\u001b[0m\n\u001b[0;32m----> 1\u001b[0m \u001b[43mcam\u001b[49m\u001b[38;5;241m.\u001b[39mset_pose(pos\u001b[38;5;241m=\u001b[39m(\u001b[38;5;241m1.25\u001b[39m, \u001b[38;5;241m-\u001b[39m\u001b[38;5;241m2.5\u001b[39m, \u001b[38;5;241m1.3\u001b[39m), lookat\u001b[38;5;241m=\u001b[39m(\u001b[38;5;241m1.25\u001b[39m, \u001b[38;5;241m0\u001b[39m, \u001b[38;5;241m0.25\u001b[39m))\n\u001b[1;32m      3\u001b[0m cam\u001b[38;5;241m.\u001b[39mrender()\n",
      "\u001b[0;31mNameError\u001b[0m: name 'cam' is not defined"
     ]
    }
   ],
   "source": [
    "\n",
    "\n",
    "cam.set_pose(pos=(1.25, -2.5, 1.3), lookat=(1.25, 0, 0.25))\n",
    "\n",
    "cam.render()"
   ]
  },
  {
   "cell_type": "code",
   "execution_count": 2,
   "metadata": {},
   "outputs": [
    {
     "ename": "NameError",
     "evalue": "name 'camFilm' is not defined",
     "output_type": "error",
     "traceback": [
      "\u001b[0;31m---------------------------------------------------------------------------\u001b[0m",
      "\u001b[0;31mNameError\u001b[0m                                 Traceback (most recent call last)",
      "Cell \u001b[0;32mIn[2], line 1\u001b[0m\n\u001b[0;32m----> 1\u001b[0m \u001b[43mcamFilm\u001b[49m\u001b[38;5;241m.\u001b[39mset_pose(pos\u001b[38;5;241m=\u001b[39m(\u001b[38;5;241m2.5\u001b[39m, \u001b[38;5;241m-\u001b[39m\u001b[38;5;241m2.5\u001b[39m, \u001b[38;5;241m1.65\u001b[39m), lookat\u001b[38;5;241m=\u001b[39m(\u001b[38;5;241m0.65\u001b[39m, \u001b[38;5;241m0\u001b[39m, \u001b[38;5;241m0.25\u001b[39m))\n\u001b[1;32m      3\u001b[0m camFilm\u001b[38;5;241m.\u001b[39mrender()\n",
      "\u001b[0;31mNameError\u001b[0m: name 'camFilm' is not defined"
     ]
    }
   ],
   "source": [
    "camFilm.set_pose(pos=(2.5, -2.5, 1.65), lookat=(0.65, 0, 0.25))\n",
    "\n",
    "camFilm.render()\n"
   ]
  },
  {
   "cell_type": "code",
   "execution_count": 19,
   "metadata": {},
   "outputs": [
    {
     "name": "stderr",
     "output_type": "stream",
     "text": [
      "\u001b[38;5;159m[Genesis] [18:07:43] [INFO] Running at \u001b[38;5;121m3.10\u001b[0m\u001b[38;5;159m FPS.\u001b[0m\n"
     ]
    },
    {
     "name": "stderr",
     "output_type": "stream",
     "text": [
      "\u001b[38;5;159m[Genesis] [18:07:43] [INFO] Running at \u001b[38;5;121m3.20\u001b[0m\u001b[38;5;159m FPS.\u001b[0m\n",
      "\u001b[38;5;159m[Genesis] [18:07:43] [INFO] Running at \u001b[38;5;121m3.35\u001b[0m\u001b[38;5;159m FPS.\u001b[0m\n",
      "\u001b[38;5;159m[Genesis] [18:07:43] [INFO] Running at \u001b[38;5;121m3.51\u001b[0m\u001b[38;5;159m FPS.\u001b[0m\n",
      "\u001b[38;5;159m[Genesis] [18:07:43] [INFO] Running at \u001b[38;5;121m3.69\u001b[0m\u001b[38;5;159m FPS.\u001b[0m\n",
      "\u001b[38;5;159m[Genesis] [18:07:43] [INFO] Running at \u001b[38;5;121m3.87\u001b[0m\u001b[38;5;159m FPS.\u001b[0m\n",
      "\u001b[38;5;159m[Genesis] [18:07:43] [INFO] Running at \u001b[38;5;121m4.04\u001b[0m\u001b[38;5;159m FPS.\u001b[0m\n",
      "\u001b[38;5;159m[Genesis] [18:07:43] [INFO] Running at \u001b[38;5;121m4.23\u001b[0m\u001b[38;5;159m FPS.\u001b[0m\n",
      "\u001b[38;5;159m[Genesis] [18:07:43] [INFO] Running at \u001b[38;5;121m4.44\u001b[0m\u001b[38;5;159m FPS.\u001b[0m\n",
      "\u001b[38;5;159m[Genesis] [18:07:43] [INFO] Running at \u001b[38;5;121m4.62\u001b[0m\u001b[38;5;159m FPS.\u001b[0m\n",
      "\u001b[38;5;159m[Genesis] [18:07:43] [INFO] Running at \u001b[38;5;121m4.84\u001b[0m\u001b[38;5;159m FPS.\u001b[0m\n",
      "\u001b[38;5;159m[Genesis] [18:07:43] [INFO] Running at \u001b[38;5;121m5.08\u001b[0m\u001b[38;5;159m FPS.\u001b[0m\n",
      "\u001b[38;5;159m[Genesis] [18:07:43] [INFO] Running at \u001b[38;5;121m5.28\u001b[0m\u001b[38;5;159m FPS.\u001b[0m\n",
      "\u001b[38;5;159m[Genesis] [18:07:43] [INFO] Running at \u001b[38;5;121m5.51\u001b[0m\u001b[38;5;159m FPS.\u001b[0m\n",
      "\u001b[38;5;159m[Genesis] [18:07:43] [INFO] Running at \u001b[38;5;121m5.76\u001b[0m\u001b[38;5;159m FPS.\u001b[0m\n",
      "\u001b[38;5;159m[Genesis] [18:07:43] [INFO] Running at \u001b[38;5;121m5.99\u001b[0m\u001b[38;5;159m FPS.\u001b[0m\n",
      "\u001b[38;5;159m[Genesis] [18:07:43] [INFO] Running at \u001b[38;5;121m6.26\u001b[0m\u001b[38;5;159m FPS.\u001b[0m\n",
      "\u001b[38;5;159m[Genesis] [18:07:43] [INFO] Running at \u001b[38;5;121m6.53\u001b[0m\u001b[38;5;159m FPS.\u001b[0m\n",
      "\u001b[38;5;159m[Genesis] [18:07:43] [INFO] Running at \u001b[38;5;121m6.81\u001b[0m\u001b[38;5;159m FPS.\u001b[0m\n",
      "\u001b[38;5;159m[Genesis] [18:07:43] [INFO] Running at \u001b[38;5;121m7.07\u001b[0m\u001b[38;5;159m FPS.\u001b[0m\n",
      "\u001b[38;5;159m[Genesis] [18:07:44] [INFO] Running at \u001b[38;5;121m7.38\u001b[0m\u001b[38;5;159m FPS.\u001b[0m\n",
      "\u001b[38;5;159m[Genesis] [18:07:44] [INFO] Running at \u001b[38;5;121m7.64\u001b[0m\u001b[38;5;159m FPS.\u001b[0m\n",
      "\u001b[38;5;159m[Genesis] [18:07:44] [INFO] Running at \u001b[38;5;121m7.94\u001b[0m\u001b[38;5;159m FPS.\u001b[0m\n",
      "\u001b[38;5;159m[Genesis] [18:07:44] [INFO] Running at \u001b[38;5;121m8.27\u001b[0m\u001b[38;5;159m FPS.\u001b[0m\n",
      "\u001b[38;5;159m[Genesis] [18:07:44] [INFO] Running at \u001b[38;5;121m8.56\u001b[0m\u001b[38;5;159m FPS.\u001b[0m\n",
      "\u001b[38;5;159m[Genesis] [18:07:44] [INFO] Saving video to \u001b[38;5;121mclip.mp4\u001b[0m\u001b[38;5;159m.\u001b[0m\n",
      "\u001b[38;5;159m[Genesis] [18:07:44] [INFO] Video saved.\u001b[0m\n"
     ]
    },
    {
     "name": "stdout",
     "output_type": "stream",
     "text": [
      "tensor([ 6.4834e-01, -4.6508e-04,  2.4258e-01])\n",
      "True\n"
     ]
    },
    {
     "name": "stderr",
     "output_type": "stream",
     "text": [
      "\u001b[38;5;159m[Genesis] [18:07:44] [INFO] Running at \u001b[38;5;121m6.93\u001b[0m\u001b[38;5;159m FPS.\u001b[0m\n",
      "\u001b[38;5;159m[Genesis] [18:07:44] [INFO] Running at \u001b[38;5;121m7.25\u001b[0m\u001b[38;5;159m FPS.\u001b[0m\n",
      "\u001b[38;5;159m[Genesis] [18:07:44] [INFO] Running at \u001b[38;5;121m7.58\u001b[0m\u001b[38;5;159m FPS.\u001b[0m\n",
      "\u001b[38;5;159m[Genesis] [18:07:44] [INFO] Running at \u001b[38;5;121m7.93\u001b[0m\u001b[38;5;159m FPS.\u001b[0m\n",
      "\u001b[38;5;159m[Genesis] [18:07:44] [INFO] Running at \u001b[38;5;121m8.23\u001b[0m\u001b[38;5;159m FPS.\u001b[0m\n",
      "\u001b[38;5;159m[Genesis] [18:07:44] [INFO] Running at \u001b[38;5;121m8.58\u001b[0m\u001b[38;5;159m FPS.\u001b[0m\n",
      "\u001b[38;5;159m[Genesis] [18:07:44] [INFO] Running at \u001b[38;5;121m8.86\u001b[0m\u001b[38;5;159m FPS.\u001b[0m\n",
      "\u001b[38;5;159m[Genesis] [18:07:44] [INFO] Running at \u001b[38;5;121m9.23\u001b[0m\u001b[38;5;159m FPS.\u001b[0m\n",
      "\u001b[38;5;159m[Genesis] [18:07:45] [INFO] Running at \u001b[38;5;121m9.64\u001b[0m\u001b[38;5;159m FPS.\u001b[0m\n",
      "\u001b[38;5;159m[Genesis] [18:07:45] [INFO] Running at \u001b[38;5;121m10.06\u001b[0m\u001b[38;5;159m FPS.\u001b[0m\n",
      "\u001b[38;5;159m[Genesis] [18:07:45] [INFO] Running at \u001b[38;5;121m10.36\u001b[0m\u001b[38;5;159m FPS.\u001b[0m\n",
      "\u001b[38;5;159m[Genesis] [18:07:45] [INFO] Running at \u001b[38;5;121m10.71\u001b[0m\u001b[38;5;159m FPS.\u001b[0m\n",
      "\u001b[38;5;159m[Genesis] [18:07:45] [INFO] Running at \u001b[38;5;121m11.13\u001b[0m\u001b[38;5;159m FPS.\u001b[0m\n",
      "\u001b[38;5;159m[Genesis] [18:07:45] [INFO] Running at \u001b[38;5;121m11.60\u001b[0m\u001b[38;5;159m FPS.\u001b[0m\n",
      "\u001b[38;5;159m[Genesis] [18:07:45] [INFO] Running at \u001b[38;5;121m11.90\u001b[0m\u001b[38;5;159m FPS.\u001b[0m\n",
      "\u001b[38;5;159m[Genesis] [18:07:45] [INFO] Running at \u001b[38;5;121m12.36\u001b[0m\u001b[38;5;159m FPS.\u001b[0m\n",
      "\u001b[38;5;159m[Genesis] [18:07:45] [INFO] Running at \u001b[38;5;121m12.66\u001b[0m\u001b[38;5;159m FPS.\u001b[0m\n",
      "\u001b[38;5;159m[Genesis] [18:07:45] [INFO] Running at \u001b[38;5;121m13.12\u001b[0m\u001b[38;5;159m FPS.\u001b[0m\n",
      "\u001b[38;5;159m[Genesis] [18:07:45] [INFO] Running at \u001b[38;5;121m13.66\u001b[0m\u001b[38;5;159m FPS.\u001b[0m\n",
      "\u001b[38;5;159m[Genesis] [18:07:45] [INFO] Running at \u001b[38;5;121m13.95\u001b[0m\u001b[38;5;159m FPS.\u001b[0m\n",
      "\u001b[38;5;159m[Genesis] [18:07:45] [INFO] Running at \u001b[38;5;121m14.43\u001b[0m\u001b[38;5;159m FPS.\u001b[0m\n",
      "\u001b[38;5;159m[Genesis] [18:07:45] [INFO] Running at \u001b[38;5;121m15.00\u001b[0m\u001b[38;5;159m FPS.\u001b[0m\n",
      "\u001b[38;5;159m[Genesis] [18:07:45] [INFO] Running at \u001b[38;5;121m15.59\u001b[0m\u001b[38;5;159m FPS.\u001b[0m\n",
      "\u001b[38;5;159m[Genesis] [18:07:45] [INFO] Running at \u001b[38;5;121m15.86\u001b[0m\u001b[38;5;159m FPS.\u001b[0m\n",
      "\u001b[38;5;159m[Genesis] [18:07:45] [INFO] Running at \u001b[38;5;121m16.40\u001b[0m\u001b[38;5;159m FPS.\u001b[0m\n",
      "\u001b[38;5;159m[Genesis] [18:07:45] [INFO] Saving video to \u001b[38;5;121mclip.mp4\u001b[0m\u001b[38;5;159m.\u001b[0m\n",
      "\u001b[38;5;159m[Genesis] [18:07:45] [INFO] Video saved.\u001b[0m\n"
     ]
    },
    {
     "name": "stdout",
     "output_type": "stream",
     "text": [
      "tensor([0.6721, 0.0023, 0.2300])\n",
      "True\n"
     ]
    },
    {
     "name": "stderr",
     "output_type": "stream",
     "text": [
      "\u001b[38;5;159m[Genesis] [18:07:45] [INFO] Running at \u001b[38;5;121m12.66\u001b[0m\u001b[38;5;159m FPS.\u001b[0m\n",
      "\u001b[38;5;159m[Genesis] [18:07:45] [INFO] Running at \u001b[38;5;121m13.18\u001b[0m\u001b[38;5;159m FPS.\u001b[0m\n",
      "\u001b[38;5;159m[Genesis] [18:07:45] [INFO] Running at \u001b[38;5;121m13.50\u001b[0m\u001b[38;5;159m FPS.\u001b[0m\n",
      "\u001b[38;5;159m[Genesis] [18:07:45] [INFO] Running at \u001b[38;5;121m13.99\u001b[0m\u001b[38;5;159m FPS.\u001b[0m\n",
      "\u001b[38;5;159m[Genesis] [18:07:45] [INFO] Running at \u001b[38;5;121m14.29\u001b[0m\u001b[38;5;159m FPS.\u001b[0m\n",
      "\u001b[38;5;159m[Genesis] [18:07:46] [INFO] Running at \u001b[38;5;121m14.79\u001b[0m\u001b[38;5;159m FPS.\u001b[0m\n",
      "\u001b[38;5;159m[Genesis] [18:07:46] [INFO] Running at \u001b[38;5;121m15.36\u001b[0m\u001b[38;5;159m FPS.\u001b[0m\n",
      "\u001b[38;5;159m[Genesis] [18:07:46] [INFO] Running at \u001b[38;5;121m15.63\u001b[0m\u001b[38;5;159m FPS.\u001b[0m\n",
      "\u001b[38;5;159m[Genesis] [18:07:46] [INFO] Running at \u001b[38;5;121m16.02\u001b[0m\u001b[38;5;159m FPS.\u001b[0m\n",
      "\u001b[38;5;159m[Genesis] [18:07:46] [INFO] Running at \u001b[38;5;121m16.56\u001b[0m\u001b[38;5;159m FPS.\u001b[0m\n",
      "\u001b[38;5;159m[Genesis] [18:07:46] [INFO] Running at \u001b[38;5;121m16.79\u001b[0m\u001b[38;5;159m FPS.\u001b[0m\n",
      "\u001b[38;5;159m[Genesis] [18:07:46] [INFO] Running at \u001b[38;5;121m17.17\u001b[0m\u001b[38;5;159m FPS.\u001b[0m\n",
      "\u001b[38;5;159m[Genesis] [18:07:46] [INFO] Running at \u001b[38;5;121m17.69\u001b[0m\u001b[38;5;159m FPS.\u001b[0m\n",
      "\u001b[38;5;159m[Genesis] [18:07:46] [INFO] Running at \u001b[38;5;121m18.35\u001b[0m\u001b[38;5;159m FPS.\u001b[0m\n",
      "\u001b[38;5;159m[Genesis] [18:07:46] [INFO] Running at \u001b[38;5;121m18.84\u001b[0m\u001b[38;5;159m FPS.\u001b[0m\n",
      "\u001b[38;5;159m[Genesis] [18:07:46] [INFO] Running at \u001b[38;5;121m19.41\u001b[0m\u001b[38;5;159m FPS.\u001b[0m\n",
      "\u001b[38;5;159m[Genesis] [18:07:46] [INFO] Running at \u001b[38;5;121m20.10\u001b[0m\u001b[38;5;159m FPS.\u001b[0m\n",
      "\u001b[38;5;159m[Genesis] [18:07:46] [INFO] Running at \u001b[38;5;121m20.22\u001b[0m\u001b[38;5;159m FPS.\u001b[0m\n",
      "\u001b[38;5;159m[Genesis] [18:07:46] [INFO] Running at \u001b[38;5;121m20.80\u001b[0m\u001b[38;5;159m FPS.\u001b[0m\n",
      "\u001b[38;5;159m[Genesis] [18:07:46] [INFO] Running at \u001b[38;5;121m21.51\u001b[0m\u001b[38;5;159m FPS.\u001b[0m\n",
      "\u001b[38;5;159m[Genesis] [18:07:46] [INFO] Running at \u001b[38;5;121m21.98\u001b[0m\u001b[38;5;159m FPS.\u001b[0m\n",
      "\u001b[38;5;159m[Genesis] [18:07:46] [INFO] Running at \u001b[38;5;121m22.52\u001b[0m\u001b[38;5;159m FPS.\u001b[0m\n",
      "\u001b[38;5;159m[Genesis] [18:07:46] [INFO] Running at \u001b[38;5;121m22.58\u001b[0m\u001b[38;5;159m FPS.\u001b[0m\n",
      "\u001b[38;5;159m[Genesis] [18:07:46] [INFO] Running at \u001b[38;5;121m23.15\u001b[0m\u001b[38;5;159m FPS.\u001b[0m\n",
      "\u001b[38;5;159m[Genesis] [18:07:46] [INFO] Running at \u001b[38;5;121m23.89\u001b[0m\u001b[38;5;159m FPS.\u001b[0m\n",
      "\u001b[38;5;159m[Genesis] [18:07:46] [INFO] Saving video to \u001b[38;5;121mclip.mp4\u001b[0m\u001b[38;5;159m.\u001b[0m\n",
      "\u001b[38;5;159m[Genesis] [18:07:46] [INFO] Video saved.\u001b[0m\n"
     ]
    },
    {
     "name": "stdout",
     "output_type": "stream",
     "text": [
      "tensor([0.6902, 0.0118, 0.2214])\n",
      "True\n"
     ]
    },
    {
     "name": "stderr",
     "output_type": "stream",
     "text": [
      "\u001b[38;5;159m[Genesis] [18:07:46] [INFO] Running at \u001b[38;5;121m16.35\u001b[0m\u001b[38;5;159m FPS.\u001b[0m\n",
      "\u001b[38;5;159m[Genesis] [18:07:46] [INFO] Running at \u001b[38;5;121m16.89\u001b[0m\u001b[38;5;159m FPS.\u001b[0m\n",
      "\u001b[38;5;159m[Genesis] [18:07:47] [INFO] Running at \u001b[38;5;121m17.53\u001b[0m\u001b[38;5;159m FPS.\u001b[0m\n",
      "\u001b[38;5;159m[Genesis] [18:07:47] [INFO] Running at \u001b[38;5;121m17.75\u001b[0m\u001b[38;5;159m FPS.\u001b[0m\n",
      "\u001b[38;5;159m[Genesis] [18:07:47] [INFO] Running at \u001b[38;5;121m18.31\u001b[0m\u001b[38;5;159m FPS.\u001b[0m\n",
      "\u001b[38;5;159m[Genesis] [18:07:47] [INFO] Running at \u001b[38;5;121m18.94\u001b[0m\u001b[38;5;159m FPS.\u001b[0m\n",
      "\u001b[38;5;159m[Genesis] [18:07:47] [INFO] Running at \u001b[38;5;121m19.61\u001b[0m\u001b[38;5;159m FPS.\u001b[0m\n",
      "\u001b[38;5;159m[Genesis] [18:07:47] [INFO] Running at \u001b[38;5;121m19.77\u001b[0m\u001b[38;5;159m FPS.\u001b[0m\n",
      "\u001b[38;5;159m[Genesis] [18:07:47] [INFO] Running at \u001b[38;5;121m20.35\u001b[0m\u001b[38;5;159m FPS.\u001b[0m\n",
      "\u001b[38;5;159m[Genesis] [18:07:47] [INFO] Running at \u001b[38;5;121m20.12\u001b[0m\u001b[38;5;159m FPS.\u001b[0m\n",
      "\u001b[38;5;159m[Genesis] [18:07:47] [INFO] Running at \u001b[38;5;121m20.48\u001b[0m\u001b[38;5;159m FPS.\u001b[0m\n",
      "\u001b[38;5;159m[Genesis] [18:07:47] [INFO] Running at \u001b[38;5;121m21.02\u001b[0m\u001b[38;5;159m FPS.\u001b[0m\n",
      "\u001b[38;5;159m[Genesis] [18:07:47] [INFO] Running at \u001b[38;5;121m21.15\u001b[0m\u001b[38;5;159m FPS.\u001b[0m\n",
      "\u001b[38;5;159m[Genesis] [18:07:47] [INFO] Running at \u001b[38;5;121m21.71\u001b[0m\u001b[38;5;159m FPS.\u001b[0m\n",
      "\u001b[38;5;159m[Genesis] [18:07:47] [INFO] Running at \u001b[38;5;121m22.43\u001b[0m\u001b[38;5;159m FPS.\u001b[0m\n",
      "\u001b[38;5;159m[Genesis] [18:07:47] [INFO] Running at \u001b[38;5;121m23.12\u001b[0m\u001b[38;5;159m FPS.\u001b[0m\n",
      "\u001b[38;5;159m[Genesis] [18:07:47] [INFO] Running at \u001b[38;5;121m23.16\u001b[0m\u001b[38;5;159m FPS.\u001b[0m\n",
      "\u001b[38;5;159m[Genesis] [18:07:47] [INFO] Running at \u001b[38;5;121m23.74\u001b[0m\u001b[38;5;159m FPS.\u001b[0m\n",
      "\u001b[38;5;159m[Genesis] [18:07:47] [INFO] Running at \u001b[38;5;121m24.49\u001b[0m\u001b[38;5;159m FPS.\u001b[0m\n",
      "\u001b[38;5;159m[Genesis] [18:07:47] [INFO] Running at \u001b[38;5;121m24.94\u001b[0m\u001b[38;5;159m FPS.\u001b[0m\n",
      "\u001b[38;5;159m[Genesis] [18:07:47] [INFO] Running at \u001b[38;5;121m25.46\u001b[0m\u001b[38;5;159m FPS.\u001b[0m\n",
      "\u001b[38;5;159m[Genesis] [18:07:47] [INFO] Running at \u001b[38;5;121m26.21\u001b[0m\u001b[38;5;159m FPS.\u001b[0m\n",
      "\u001b[38;5;159m[Genesis] [18:07:47] [INFO] Running at \u001b[38;5;121m26.08\u001b[0m\u001b[38;5;159m FPS.\u001b[0m\n",
      "\u001b[38;5;159m[Genesis] [18:07:47] [INFO] Running at \u001b[38;5;121m26.64\u001b[0m\u001b[38;5;159m FPS.\u001b[0m\n",
      "\u001b[38;5;159m[Genesis] [18:07:47] [INFO] Running at \u001b[38;5;121m27.34\u001b[0m\u001b[38;5;159m FPS.\u001b[0m\n",
      "\u001b[38;5;159m[Genesis] [18:07:47] [INFO] Saving video to \u001b[38;5;121mclip.mp4\u001b[0m\u001b[38;5;159m.\u001b[0m\n",
      "\u001b[38;5;159m[Genesis] [18:07:47] [INFO] Video saved.\u001b[0m\n"
     ]
    },
    {
     "name": "stdout",
     "output_type": "stream",
     "text": [
      "tensor([0.7022, 0.0111, 0.2157])\n",
      "True\n"
     ]
    },
    {
     "name": "stderr",
     "output_type": "stream",
     "text": [
      "\u001b[38;5;159m[Genesis] [18:07:48] [INFO] Running at \u001b[38;5;121m17.46\u001b[0m\u001b[38;5;159m FPS.\u001b[0m\n",
      "\u001b[38;5;159m[Genesis] [18:07:48] [INFO] Running at \u001b[38;5;121m18.10\u001b[0m\u001b[38;5;159m FPS.\u001b[0m\n",
      "\u001b[38;5;159m[Genesis] [18:07:48] [INFO] Running at \u001b[38;5;121m18.35\u001b[0m\u001b[38;5;159m FPS.\u001b[0m\n",
      "\u001b[38;5;159m[Genesis] [18:07:48] [INFO] Running at \u001b[38;5;121m18.91\u001b[0m\u001b[38;5;159m FPS.\u001b[0m\n",
      "\u001b[38;5;159m[Genesis] [18:07:48] [INFO] Running at \u001b[38;5;121m19.55\u001b[0m\u001b[38;5;159m FPS.\u001b[0m\n",
      "\u001b[38;5;159m[Genesis] [18:07:48] [INFO] Running at \u001b[38;5;121m20.23\u001b[0m\u001b[38;5;159m FPS.\u001b[0m\n",
      "\u001b[38;5;159m[Genesis] [18:07:48] [INFO] Running at \u001b[38;5;121m20.37\u001b[0m\u001b[38;5;159m FPS.\u001b[0m\n",
      "\u001b[38;5;159m[Genesis] [18:07:48] [INFO] Running at \u001b[38;5;121m20.93\u001b[0m\u001b[38;5;159m FPS.\u001b[0m\n",
      "\u001b[38;5;159m[Genesis] [18:07:48] [INFO] Running at \u001b[38;5;121m21.07\u001b[0m\u001b[38;5;159m FPS.\u001b[0m\n",
      "\u001b[38;5;159m[Genesis] [18:07:48] [INFO] Running at \u001b[38;5;121m21.40\u001b[0m\u001b[38;5;159m FPS.\u001b[0m\n",
      "\u001b[38;5;159m[Genesis] [18:07:48] [INFO] Running at \u001b[38;5;121m21.99\u001b[0m\u001b[38;5;159m FPS.\u001b[0m\n",
      "\u001b[38;5;159m[Genesis] [18:07:48] [INFO] Running at \u001b[38;5;121m22.04\u001b[0m\u001b[38;5;159m FPS.\u001b[0m\n",
      "\u001b[38;5;159m[Genesis] [18:07:48] [INFO] Running at \u001b[38;5;121m22.62\u001b[0m\u001b[38;5;159m FPS.\u001b[0m\n",
      "\u001b[38;5;159m[Genesis] [18:07:48] [INFO] Running at \u001b[38;5;121m23.30\u001b[0m\u001b[38;5;159m FPS.\u001b[0m\n",
      "\u001b[38;5;159m[Genesis] [18:07:48] [INFO] Running at \u001b[38;5;121m24.05\u001b[0m\u001b[38;5;159m FPS.\u001b[0m\n",
      "\u001b[38;5;159m[Genesis] [18:07:48] [INFO] Running at \u001b[38;5;121m24.08\u001b[0m\u001b[38;5;159m FPS.\u001b[0m\n",
      "\u001b[38;5;159m[Genesis] [18:07:48] [INFO] Running at \u001b[38;5;121m24.53\u001b[0m\u001b[38;5;159m FPS.\u001b[0m\n",
      "\u001b[38;5;159m[Genesis] [18:07:48] [INFO] Running at \u001b[38;5;121m24.54\u001b[0m\u001b[38;5;159m FPS.\u001b[0m\n",
      "\u001b[38;5;159m[Genesis] [18:07:48] [INFO] Running at \u001b[38;5;121m25.14\u001b[0m\u001b[38;5;159m FPS.\u001b[0m\n",
      "\u001b[38;5;159m[Genesis] [18:07:48] [INFO] Running at \u001b[38;5;121m25.84\u001b[0m\u001b[38;5;159m FPS.\u001b[0m\n",
      "\u001b[38;5;159m[Genesis] [18:07:48] [INFO] Running at \u001b[38;5;121m26.61\u001b[0m\u001b[38;5;159m FPS.\u001b[0m\n",
      "\u001b[38;5;159m[Genesis] [18:07:48] [INFO] Running at \u001b[38;5;121m26.42\u001b[0m\u001b[38;5;159m FPS.\u001b[0m\n",
      "\u001b[38;5;159m[Genesis] [18:07:48] [INFO] Running at \u001b[38;5;121m26.99\u001b[0m\u001b[38;5;159m FPS.\u001b[0m\n",
      "\u001b[38;5;159m[Genesis] [18:07:48] [INFO] Running at \u001b[38;5;121m27.76\u001b[0m\u001b[38;5;159m FPS.\u001b[0m\n",
      "\u001b[38;5;159m[Genesis] [18:07:48] [INFO] Running at \u001b[38;5;121m27.48\u001b[0m\u001b[38;5;159m FPS.\u001b[0m\n",
      "\u001b[38;5;159m[Genesis] [18:07:48] [INFO] Saving video to \u001b[38;5;121mclip.mp4\u001b[0m\u001b[38;5;159m.\u001b[0m\n",
      "\u001b[38;5;159m[Genesis] [18:07:48] [INFO] Video saved.\u001b[0m\n"
     ]
    },
    {
     "name": "stdout",
     "output_type": "stream",
     "text": [
      "tensor([0.7138, 0.0207, 0.1957])\n",
      "True\n"
     ]
    },
    {
     "name": "stderr",
     "output_type": "stream",
     "text": [
      "\u001b[38;5;159m[Genesis] [18:07:49] [INFO] Running at \u001b[38;5;121m17.85\u001b[0m\u001b[38;5;159m FPS.\u001b[0m\n",
      "\u001b[38;5;159m[Genesis] [18:07:49] [INFO] Running at \u001b[38;5;121m18.45\u001b[0m\u001b[38;5;159m FPS.\u001b[0m\n",
      "\u001b[38;5;159m[Genesis] [18:07:49] [INFO] Running at \u001b[38;5;121m19.12\u001b[0m\u001b[38;5;159m FPS.\u001b[0m\n",
      "\u001b[38;5;159m[Genesis] [18:07:49] [INFO] Running at \u001b[38;5;121m19.80\u001b[0m\u001b[38;5;159m FPS.\u001b[0m\n",
      "\u001b[38;5;159m[Genesis] [18:07:49] [INFO] Running at \u001b[38;5;121m20.14\u001b[0m\u001b[38;5;159m FPS.\u001b[0m\n",
      "\u001b[38;5;159m[Genesis] [18:07:49] [INFO] Running at \u001b[38;5;121m20.45\u001b[0m\u001b[38;5;159m FPS.\u001b[0m\n",
      "\u001b[38;5;159m[Genesis] [18:07:49] [INFO] Running at \u001b[38;5;121m21.04\u001b[0m\u001b[38;5;159m FPS.\u001b[0m\n",
      "\u001b[38;5;159m[Genesis] [18:07:49] [INFO] Running at \u001b[38;5;121m21.15\u001b[0m\u001b[38;5;159m FPS.\u001b[0m\n",
      "\u001b[38;5;159m[Genesis] [18:07:49] [INFO] Running at \u001b[38;5;121m21.69\u001b[0m\u001b[38;5;159m FPS.\u001b[0m\n",
      "\u001b[38;5;159m[Genesis] [18:07:49] [INFO] Running at \u001b[38;5;121m22.41\u001b[0m\u001b[38;5;159m FPS.\u001b[0m\n",
      "\u001b[38;5;159m[Genesis] [18:07:49] [INFO] Running at \u001b[38;5;121m23.12\u001b[0m\u001b[38;5;159m FPS.\u001b[0m\n",
      "\u001b[38;5;159m[Genesis] [18:07:49] [INFO] Running at \u001b[38;5;121m23.19\u001b[0m\u001b[38;5;159m FPS.\u001b[0m\n",
      "\u001b[38;5;159m[Genesis] [18:07:49] [INFO] Running at \u001b[38;5;121m23.75\u001b[0m\u001b[38;5;159m FPS.\u001b[0m\n",
      "\u001b[38;5;159m[Genesis] [18:07:49] [INFO] Running at \u001b[38;5;121m24.50\u001b[0m\u001b[38;5;159m FPS.\u001b[0m\n",
      "\u001b[38;5;159m[Genesis] [18:07:49] [INFO] Running at \u001b[38;5;121m24.44\u001b[0m\u001b[38;5;159m FPS.\u001b[0m\n",
      "\u001b[38;5;159m[Genesis] [18:07:49] [INFO] Running at \u001b[38;5;121m25.00\u001b[0m\u001b[38;5;159m FPS.\u001b[0m\n",
      "\u001b[38;5;159m[Genesis] [18:07:49] [INFO] Running at \u001b[38;5;121m25.77\u001b[0m\u001b[38;5;159m FPS.\u001b[0m\n",
      "\u001b[38;5;159m[Genesis] [18:07:49] [INFO] Running at \u001b[38;5;121m26.17\u001b[0m\u001b[38;5;159m FPS.\u001b[0m\n",
      "\u001b[38;5;159m[Genesis] [18:07:49] [INFO] Running at \u001b[38;5;121m26.69\u001b[0m\u001b[38;5;159m FPS.\u001b[0m\n",
      "\u001b[38;5;159m[Genesis] [18:07:49] [INFO] Running at \u001b[38;5;121m27.42\u001b[0m\u001b[38;5;159m FPS.\u001b[0m\n",
      "\u001b[38;5;159m[Genesis] [18:07:49] [INFO] Running at \u001b[38;5;121m28.12\u001b[0m\u001b[38;5;159m FPS.\u001b[0m\n",
      "\u001b[38;5;159m[Genesis] [18:07:49] [INFO] Running at \u001b[38;5;121m27.91\u001b[0m\u001b[38;5;159m FPS.\u001b[0m\n",
      "\u001b[38;5;159m[Genesis] [18:07:49] [INFO] Running at \u001b[38;5;121m28.46\u001b[0m\u001b[38;5;159m FPS.\u001b[0m\n",
      "\u001b[38;5;159m[Genesis] [18:07:49] [INFO] Running at \u001b[38;5;121m28.16\u001b[0m\u001b[38;5;159m FPS.\u001b[0m\n",
      "\u001b[38;5;159m[Genesis] [18:07:49] [INFO] Running at \u001b[38;5;121m28.66\u001b[0m\u001b[38;5;159m FPS.\u001b[0m\n",
      "\u001b[38;5;159m[Genesis] [18:07:49] [INFO] Saving video to \u001b[38;5;121mclip.mp4\u001b[0m\u001b[38;5;159m.\u001b[0m\n",
      "\u001b[38;5;159m[Genesis] [18:07:49] [INFO] Video saved.\u001b[0m\n"
     ]
    },
    {
     "name": "stdout",
     "output_type": "stream",
     "text": [
      "tensor([0.7109, 0.0184, 0.1841])\n",
      "True\n"
     ]
    },
    {
     "name": "stderr",
     "output_type": "stream",
     "text": [
      "\u001b[38;5;159m[Genesis] [18:07:50] [INFO] Running at \u001b[38;5;121m18.53\u001b[0m\u001b[38;5;159m FPS.\u001b[0m\n",
      "\u001b[38;5;159m[Genesis] [18:07:50] [INFO] Running at \u001b[38;5;121m19.01\u001b[0m\u001b[38;5;159m FPS.\u001b[0m\n",
      "\u001b[38;5;159m[Genesis] [18:07:50] [INFO] Running at \u001b[38;5;121m19.59\u001b[0m\u001b[38;5;159m FPS.\u001b[0m\n",
      "\u001b[38;5;159m[Genesis] [18:07:50] [INFO] Running at \u001b[38;5;121m20.28\u001b[0m\u001b[38;5;159m FPS.\u001b[0m\n",
      "\u001b[38;5;159m[Genesis] [18:07:50] [INFO] Running at \u001b[38;5;121m20.41\u001b[0m\u001b[38;5;159m FPS.\u001b[0m\n",
      "\u001b[38;5;159m[Genesis] [18:07:50] [INFO] Running at \u001b[38;5;121m20.99\u001b[0m\u001b[38;5;159m FPS.\u001b[0m\n",
      "\u001b[38;5;159m[Genesis] [18:07:50] [INFO] Running at \u001b[38;5;121m21.65\u001b[0m\u001b[38;5;159m FPS.\u001b[0m\n",
      "\u001b[38;5;159m[Genesis] [18:07:50] [INFO] Running at \u001b[38;5;121m22.37\u001b[0m\u001b[38;5;159m FPS.\u001b[0m\n",
      "\u001b[38;5;159m[Genesis] [18:07:50] [INFO] Running at \u001b[38;5;121m22.42\u001b[0m\u001b[38;5;159m FPS.\u001b[0m\n",
      "\u001b[38;5;159m[Genesis] [18:07:50] [INFO] Running at \u001b[38;5;121m23.01\u001b[0m\u001b[38;5;159m FPS.\u001b[0m\n",
      "\u001b[38;5;159m[Genesis] [18:07:50] [INFO] Running at \u001b[38;5;121m23.75\u001b[0m\u001b[38;5;159m FPS.\u001b[0m\n",
      "\u001b[38;5;159m[Genesis] [18:07:50] [INFO] Running at \u001b[38;5;121m23.72\u001b[0m\u001b[38;5;159m FPS.\u001b[0m\n",
      "\u001b[38;5;159m[Genesis] [18:07:50] [INFO] Running at \u001b[38;5;121m24.31\u001b[0m\u001b[38;5;159m FPS.\u001b[0m\n",
      "\u001b[38;5;159m[Genesis] [18:07:50] [INFO] Running at \u001b[38;5;121m25.06\u001b[0m\u001b[38;5;159m FPS.\u001b[0m\n",
      "\u001b[38;5;159m[Genesis] [18:07:50] [INFO] Running at \u001b[38;5;121m25.51\u001b[0m\u001b[38;5;159m FPS.\u001b[0m\n",
      "\u001b[38;5;159m[Genesis] [18:07:50] [INFO] Running at \u001b[38;5;121m26.09\u001b[0m\u001b[38;5;159m FPS.\u001b[0m\n",
      "\u001b[38;5;159m[Genesis] [18:07:50] [INFO] Running at \u001b[38;5;121m26.86\u001b[0m\u001b[38;5;159m FPS.\u001b[0m\n",
      "\u001b[38;5;159m[Genesis] [18:07:50] [INFO] Running at \u001b[38;5;121m26.63\u001b[0m\u001b[38;5;159m FPS.\u001b[0m\n",
      "\u001b[38;5;159m[Genesis] [18:07:50] [INFO] Running at \u001b[38;5;121m27.20\u001b[0m\u001b[38;5;159m FPS.\u001b[0m\n",
      "\u001b[38;5;159m[Genesis] [18:07:50] [INFO] Running at \u001b[38;5;121m27.96\u001b[0m\u001b[38;5;159m FPS.\u001b[0m\n",
      "\u001b[38;5;159m[Genesis] [18:07:50] [INFO] Running at \u001b[38;5;121m27.67\u001b[0m\u001b[38;5;159m FPS.\u001b[0m\n",
      "\u001b[38;5;159m[Genesis] [18:07:50] [INFO] Running at \u001b[38;5;121m28.22\u001b[0m\u001b[38;5;159m FPS.\u001b[0m\n",
      "\u001b[38;5;159m[Genesis] [18:07:50] [INFO] Running at \u001b[38;5;121m28.93\u001b[0m\u001b[38;5;159m FPS.\u001b[0m\n",
      "\u001b[38;5;159m[Genesis] [18:07:50] [INFO] Running at \u001b[38;5;121m28.63\u001b[0m\u001b[38;5;159m FPS.\u001b[0m\n",
      "\u001b[38;5;159m[Genesis] [18:07:50] [INFO] Running at \u001b[38;5;121m29.14\u001b[0m\u001b[38;5;159m FPS.\u001b[0m\n",
      "\u001b[38;5;159m[Genesis] [18:07:50] [INFO] Saving video to \u001b[38;5;121mclip.mp4\u001b[0m\u001b[38;5;159m.\u001b[0m\n",
      "\u001b[38;5;159m[Genesis] [18:07:50] [INFO] Video saved.\u001b[0m\n"
     ]
    },
    {
     "name": "stdout",
     "output_type": "stream",
     "text": [
      "tensor([0.7090, 0.0194, 0.1722])\n",
      "True\n"
     ]
    },
    {
     "name": "stderr",
     "output_type": "stream",
     "text": [
      "\u001b[38;5;159m[Genesis] [18:07:51] [INFO] Running at \u001b[38;5;121m18.72\u001b[0m\u001b[38;5;159m FPS.\u001b[0m\n",
      "\u001b[38;5;159m[Genesis] [18:07:51] [INFO] Running at \u001b[38;5;121m19.16\u001b[0m\u001b[38;5;159m FPS.\u001b[0m\n",
      "\u001b[38;5;159m[Genesis] [18:07:51] [INFO] Running at \u001b[38;5;121m19.74\u001b[0m\u001b[38;5;159m FPS.\u001b[0m\n",
      "\u001b[38;5;159m[Genesis] [18:07:51] [INFO] Running at \u001b[38;5;121m20.43\u001b[0m\u001b[38;5;159m FPS.\u001b[0m\n",
      "\u001b[38;5;159m[Genesis] [18:07:51] [INFO] Running at \u001b[38;5;121m20.55\u001b[0m\u001b[38;5;159m FPS.\u001b[0m\n",
      "\u001b[38;5;159m[Genesis] [18:07:51] [INFO] Running at \u001b[38;5;121m21.14\u001b[0m\u001b[38;5;159m FPS.\u001b[0m\n",
      "\u001b[38;5;159m[Genesis] [18:07:51] [INFO] Running at \u001b[38;5;121m21.86\u001b[0m\u001b[38;5;159m FPS.\u001b[0m\n",
      "\u001b[38;5;159m[Genesis] [18:07:51] [INFO] Running at \u001b[38;5;121m21.92\u001b[0m\u001b[38;5;159m FPS.\u001b[0m\n",
      "\u001b[38;5;159m[Genesis] [18:07:51] [INFO] Running at \u001b[38;5;121m22.22\u001b[0m\u001b[38;5;159m FPS.\u001b[0m\n",
      "\u001b[38;5;159m[Genesis] [18:07:51] [INFO] Running at \u001b[38;5;121m22.75\u001b[0m\u001b[38;5;159m FPS.\u001b[0m\n",
      "\u001b[38;5;159m[Genesis] [18:07:51] [INFO] Running at \u001b[38;5;121m23.49\u001b[0m\u001b[38;5;159m FPS.\u001b[0m\n",
      "\u001b[38;5;159m[Genesis] [18:07:51] [INFO] Running at \u001b[38;5;121m23.48\u001b[0m\u001b[38;5;159m FPS.\u001b[0m\n",
      "\u001b[38;5;159m[Genesis] [18:07:51] [INFO] Running at \u001b[38;5;121m24.07\u001b[0m\u001b[38;5;159m FPS.\u001b[0m\n",
      "\u001b[38;5;159m[Genesis] [18:07:51] [INFO] Running at \u001b[38;5;121m24.82\u001b[0m\u001b[38;5;159m FPS.\u001b[0m\n",
      "\u001b[38;5;159m[Genesis] [18:07:51] [INFO] Running at \u001b[38;5;121m25.27\u001b[0m\u001b[38;5;159m FPS.\u001b[0m\n",
      "\u001b[38;5;159m[Genesis] [18:07:51] [INFO] Running at \u001b[38;5;121m25.85\u001b[0m\u001b[38;5;159m FPS.\u001b[0m\n",
      "\u001b[38;5;159m[Genesis] [18:07:51] [INFO] Running at \u001b[38;5;121m26.62\u001b[0m\u001b[38;5;159m FPS.\u001b[0m\n",
      "\u001b[38;5;159m[Genesis] [18:07:51] [INFO] Running at \u001b[38;5;121m26.99\u001b[0m\u001b[38;5;159m FPS.\u001b[0m\n",
      "\u001b[38;5;159m[Genesis] [18:07:51] [INFO] Running at \u001b[38;5;121m27.14\u001b[0m\u001b[38;5;159m FPS.\u001b[0m\n",
      "\u001b[38;5;159m[Genesis] [18:07:51] [INFO] Running at \u001b[38;5;121m27.62\u001b[0m\u001b[38;5;159m FPS.\u001b[0m\n",
      "\u001b[38;5;159m[Genesis] [18:07:51] [INFO] Running at \u001b[38;5;121m27.41\u001b[0m\u001b[38;5;159m FPS.\u001b[0m\n",
      "\u001b[38;5;159m[Genesis] [18:07:51] [INFO] Running at \u001b[38;5;121m27.92\u001b[0m\u001b[38;5;159m FPS.\u001b[0m\n",
      "\u001b[38;5;159m[Genesis] [18:07:51] [INFO] Running at \u001b[38;5;121m28.70\u001b[0m\u001b[38;5;159m FPS.\u001b[0m\n",
      "\u001b[38;5;159m[Genesis] [18:07:51] [INFO] Running at \u001b[38;5;121m28.39\u001b[0m\u001b[38;5;159m FPS.\u001b[0m\n",
      "\u001b[38;5;159m[Genesis] [18:07:51] [INFO] Running at \u001b[38;5;121m28.93\u001b[0m\u001b[38;5;159m FPS.\u001b[0m\n",
      "\u001b[38;5;159m[Genesis] [18:07:51] [INFO] Saving video to \u001b[38;5;121mclip.mp4\u001b[0m\u001b[38;5;159m.\u001b[0m\n",
      "\u001b[38;5;159m[Genesis] [18:07:52] [INFO] Video saved.\u001b[0m\n"
     ]
    },
    {
     "name": "stdout",
     "output_type": "stream",
     "text": [
      "tensor([0.7056, 0.0207, 0.1603])\n",
      "True\n"
     ]
    },
    {
     "name": "stderr",
     "output_type": "stream",
     "text": [
      "\u001b[38;5;159m[Genesis] [18:07:52] [INFO] Running at \u001b[38;5;121m18.61\u001b[0m\u001b[38;5;159m FPS.\u001b[0m\n",
      "\u001b[38;5;159m[Genesis] [18:07:52] [INFO] Running at \u001b[38;5;121m19.05\u001b[0m\u001b[38;5;159m FPS.\u001b[0m\n",
      "\u001b[38;5;159m[Genesis] [18:07:52] [INFO] Running at \u001b[38;5;121m19.65\u001b[0m\u001b[38;5;159m FPS.\u001b[0m\n",
      "\u001b[38;5;159m[Genesis] [18:07:52] [INFO] Running at \u001b[38;5;121m19.80\u001b[0m\u001b[38;5;159m FPS.\u001b[0m\n",
      "\u001b[38;5;159m[Genesis] [18:07:52] [INFO] Running at \u001b[38;5;121m20.39\u001b[0m\u001b[38;5;159m FPS.\u001b[0m\n",
      "\u001b[38;5;159m[Genesis] [18:07:52] [INFO] Running at \u001b[38;5;121m21.10\u001b[0m\u001b[38;5;159m FPS.\u001b[0m\n",
      "\u001b[38;5;159m[Genesis] [18:07:52] [INFO] Running at \u001b[38;5;121m21.58\u001b[0m\u001b[38;5;159m FPS.\u001b[0m\n",
      "\u001b[38;5;159m[Genesis] [18:07:52] [INFO] Running at \u001b[38;5;121m22.15\u001b[0m\u001b[38;5;159m FPS.\u001b[0m\n",
      "\u001b[38;5;159m[Genesis] [18:07:52] [INFO] Running at \u001b[38;5;121m22.88\u001b[0m\u001b[38;5;159m FPS.\u001b[0m\n",
      "\u001b[38;5;159m[Genesis] [18:07:52] [INFO] Running at \u001b[38;5;121m22.87\u001b[0m\u001b[38;5;159m FPS.\u001b[0m\n",
      "\u001b[38;5;159m[Genesis] [18:07:52] [INFO] Running at \u001b[38;5;121m23.47\u001b[0m\u001b[38;5;159m FPS.\u001b[0m\n",
      "\u001b[38;5;159m[Genesis] [18:07:52] [INFO] Running at \u001b[38;5;121m24.22\u001b[0m\u001b[38;5;159m FPS.\u001b[0m\n",
      "\u001b[38;5;159m[Genesis] [18:07:52] [INFO] Running at \u001b[38;5;121m24.66\u001b[0m\u001b[38;5;159m FPS.\u001b[0m\n",
      "\u001b[38;5;159m[Genesis] [18:07:52] [INFO] Running at \u001b[38;5;121m24.89\u001b[0m\u001b[38;5;159m FPS.\u001b[0m\n",
      "\u001b[38;5;159m[Genesis] [18:07:52] [INFO] Running at \u001b[38;5;121m25.40\u001b[0m\u001b[38;5;159m FPS.\u001b[0m\n",
      "\u001b[38;5;159m[Genesis] [18:07:52] [INFO] Running at \u001b[38;5;121m26.16\u001b[0m\u001b[38;5;159m FPS.\u001b[0m\n",
      "\u001b[38;5;159m[Genesis] [18:07:52] [INFO] Running at \u001b[38;5;121m25.99\u001b[0m\u001b[38;5;159m FPS.\u001b[0m\n",
      "\u001b[38;5;159m[Genesis] [18:07:52] [INFO] Running at \u001b[38;5;121m26.57\u001b[0m\u001b[38;5;159m FPS.\u001b[0m\n",
      "\u001b[38;5;159m[Genesis] [18:07:52] [INFO] Running at \u001b[38;5;121m27.35\u001b[0m\u001b[38;5;159m FPS.\u001b[0m\n",
      "\u001b[38;5;159m[Genesis] [18:07:52] [INFO] Running at \u001b[38;5;121m27.72\u001b[0m\u001b[38;5;159m FPS.\u001b[0m\n",
      "\u001b[38;5;159m[Genesis] [18:07:52] [INFO] Running at \u001b[38;5;121m28.29\u001b[0m\u001b[38;5;159m FPS.\u001b[0m\n",
      "\u001b[38;5;159m[Genesis] [18:07:52] [INFO] Running at \u001b[38;5;121m29.07\u001b[0m\u001b[38;5;159m FPS.\u001b[0m\n",
      "\u001b[38;5;159m[Genesis] [18:07:52] [INFO] Running at \u001b[38;5;121m28.71\u001b[0m\u001b[38;5;159m FPS.\u001b[0m\n",
      "\u001b[38;5;159m[Genesis] [18:07:52] [INFO] Running at \u001b[38;5;121m28.78\u001b[0m\u001b[38;5;159m FPS.\u001b[0m\n",
      "\u001b[38;5;159m[Genesis] [18:07:52] [INFO] Running at \u001b[38;5;121m29.21\u001b[0m\u001b[38;5;159m FPS.\u001b[0m\n",
      "\u001b[38;5;159m[Genesis] [18:07:53] [INFO] Saving video to \u001b[38;5;121mclip.mp4\u001b[0m\u001b[38;5;159m.\u001b[0m\n",
      "\u001b[38;5;159m[Genesis] [18:07:53] [INFO] Video saved.\u001b[0m\n"
     ]
    },
    {
     "name": "stdout",
     "output_type": "stream",
     "text": [
      "tensor([0.7241, 0.0200, 0.1538])\n",
      "True\n"
     ]
    },
    {
     "name": "stderr",
     "output_type": "stream",
     "text": [
      "\u001b[38;5;159m[Genesis] [18:07:53] [INFO] Running at \u001b[38;5;121m18.36\u001b[0m\u001b[38;5;159m FPS.\u001b[0m\n",
      "\u001b[38;5;159m[Genesis] [18:07:53] [INFO] Running at \u001b[38;5;121m18.97\u001b[0m\u001b[38;5;159m FPS.\u001b[0m\n",
      "\u001b[38;5;159m[Genesis] [18:07:53] [INFO] Running at \u001b[38;5;121m19.65\u001b[0m\u001b[38;5;159m FPS.\u001b[0m\n",
      "\u001b[38;5;159m[Genesis] [18:07:53] [INFO] Running at \u001b[38;5;121m20.34\u001b[0m\u001b[38;5;159m FPS.\u001b[0m\n",
      "\u001b[38;5;159m[Genesis] [18:07:53] [INFO] Running at \u001b[38;5;121m20.68\u001b[0m\u001b[38;5;159m FPS.\u001b[0m\n",
      "\u001b[38;5;159m[Genesis] [18:07:53] [INFO] Running at \u001b[38;5;121m21.02\u001b[0m\u001b[38;5;159m FPS.\u001b[0m\n",
      "\u001b[38;5;159m[Genesis] [18:07:53] [INFO] Running at \u001b[38;5;121m21.60\u001b[0m\u001b[38;5;159m FPS.\u001b[0m\n",
      "\u001b[38;5;159m[Genesis] [18:07:53] [INFO] Running at \u001b[38;5;121m21.67\u001b[0m\u001b[38;5;159m FPS.\u001b[0m\n",
      "\u001b[38;5;159m[Genesis] [18:07:53] [INFO] Running at \u001b[38;5;121m21.99\u001b[0m\u001b[38;5;159m FPS.\u001b[0m\n",
      "\u001b[38;5;159m[Genesis] [18:07:53] [INFO] Running at \u001b[38;5;121m22.57\u001b[0m\u001b[38;5;159m FPS.\u001b[0m\n",
      "\u001b[38;5;159m[Genesis] [18:07:53] [INFO] Running at \u001b[38;5;121m22.58\u001b[0m\u001b[38;5;159m FPS.\u001b[0m\n",
      "\u001b[38;5;159m[Genesis] [18:07:53] [INFO] Running at \u001b[38;5;121m22.90\u001b[0m\u001b[38;5;159m FPS.\u001b[0m\n",
      "\u001b[38;5;159m[Genesis] [18:07:53] [INFO] Running at \u001b[38;5;121m23.42\u001b[0m\u001b[38;5;159m FPS.\u001b[0m\n",
      "\u001b[38;5;159m[Genesis] [18:07:53] [INFO] Running at \u001b[38;5;121m23.45\u001b[0m\u001b[38;5;159m FPS.\u001b[0m\n",
      "\u001b[38;5;159m[Genesis] [18:07:53] [INFO] Running at \u001b[38;5;121m24.02\u001b[0m\u001b[38;5;159m FPS.\u001b[0m\n",
      "\u001b[38;5;159m[Genesis] [18:07:53] [INFO] Running at \u001b[38;5;121m24.72\u001b[0m\u001b[38;5;159m FPS.\u001b[0m\n",
      "\u001b[38;5;159m[Genesis] [18:07:53] [INFO] Running at \u001b[38;5;121m24.68\u001b[0m\u001b[38;5;159m FPS.\u001b[0m\n",
      "\u001b[38;5;159m[Genesis] [18:07:53] [INFO] Running at \u001b[38;5;121m25.24\u001b[0m\u001b[38;5;159m FPS.\u001b[0m\n",
      "\u001b[38;5;159m[Genesis] [18:07:53] [INFO] Running at \u001b[38;5;121m25.96\u001b[0m\u001b[38;5;159m FPS.\u001b[0m\n",
      "\u001b[38;5;159m[Genesis] [18:07:53] [INFO] Running at \u001b[38;5;121m26.67\u001b[0m\u001b[38;5;159m FPS.\u001b[0m\n",
      "\u001b[38;5;159m[Genesis] [18:07:53] [INFO] Running at \u001b[38;5;121m26.58\u001b[0m\u001b[38;5;159m FPS.\u001b[0m\n",
      "\u001b[38;5;159m[Genesis] [18:07:54] [INFO] Running at \u001b[38;5;121m27.14\u001b[0m\u001b[38;5;159m FPS.\u001b[0m\n",
      "\u001b[38;5;159m[Genesis] [18:07:54] [INFO] Running at \u001b[38;5;121m26.90\u001b[0m\u001b[38;5;159m FPS.\u001b[0m\n",
      "\u001b[38;5;159m[Genesis] [18:07:54] [INFO] Running at \u001b[38;5;121m27.44\u001b[0m\u001b[38;5;159m FPS.\u001b[0m\n",
      "\u001b[38;5;159m[Genesis] [18:07:54] [INFO] Running at \u001b[38;5;121m28.16\u001b[0m\u001b[38;5;159m FPS.\u001b[0m\n",
      "\u001b[38;5;159m[Genesis] [18:07:54] [INFO] Saving video to \u001b[38;5;121mclip.mp4\u001b[0m\u001b[38;5;159m.\u001b[0m\n",
      "\u001b[38;5;159m[Genesis] [18:07:54] [INFO] Video saved.\u001b[0m\n"
     ]
    },
    {
     "name": "stdout",
     "output_type": "stream",
     "text": [
      "tensor([0.7379, 0.0193, 0.1516])\n",
      "True\n"
     ]
    },
    {
     "name": "stderr",
     "output_type": "stream",
     "text": [
      "\u001b[38;5;159m[Genesis] [18:07:54] [INFO] Running at \u001b[38;5;121m17.92\u001b[0m\u001b[38;5;159m FPS.\u001b[0m\n",
      "\u001b[38;5;159m[Genesis] [18:07:54] [INFO] Running at \u001b[38;5;121m18.57\u001b[0m\u001b[38;5;159m FPS.\u001b[0m\n",
      "\u001b[38;5;159m[Genesis] [18:07:54] [INFO] Running at \u001b[38;5;121m19.24\u001b[0m\u001b[38;5;159m FPS.\u001b[0m\n",
      "\u001b[38;5;159m[Genesis] [18:07:54] [INFO] Running at \u001b[38;5;121m19.56\u001b[0m\u001b[38;5;159m FPS.\u001b[0m\n",
      "\u001b[38;5;159m[Genesis] [18:07:54] [INFO] Running at \u001b[38;5;121m20.14\u001b[0m\u001b[38;5;159m FPS.\u001b[0m\n",
      "\u001b[38;5;159m[Genesis] [18:07:54] [INFO] Running at \u001b[38;5;121m20.84\u001b[0m\u001b[38;5;159m FPS.\u001b[0m\n",
      "\u001b[38;5;159m[Genesis] [18:07:54] [INFO] Running at \u001b[38;5;121m20.93\u001b[0m\u001b[38;5;159m FPS.\u001b[0m\n",
      "\u001b[38;5;159m[Genesis] [18:07:54] [INFO] Running at \u001b[38;5;121m21.51\u001b[0m\u001b[38;5;159m FPS.\u001b[0m\n",
      "\u001b[38;5;159m[Genesis] [18:07:54] [INFO] Running at \u001b[38;5;121m21.62\u001b[0m\u001b[38;5;159m FPS.\u001b[0m\n",
      "\u001b[38;5;159m[Genesis] [18:07:54] [INFO] Running at \u001b[38;5;121m21.93\u001b[0m\u001b[38;5;159m FPS.\u001b[0m\n",
      "\u001b[38;5;159m[Genesis] [18:07:54] [INFO] Running at \u001b[38;5;121m22.53\u001b[0m\u001b[38;5;159m FPS.\u001b[0m\n",
      "\u001b[38;5;159m[Genesis] [18:07:54] [INFO] Running at \u001b[38;5;121m22.56\u001b[0m\u001b[38;5;159m FPS.\u001b[0m\n",
      "\u001b[38;5;159m[Genesis] [18:07:54] [INFO] Running at \u001b[38;5;121m23.13\u001b[0m\u001b[38;5;159m FPS.\u001b[0m\n",
      "\u001b[38;5;159m[Genesis] [18:07:54] [INFO] Running at \u001b[38;5;121m23.87\u001b[0m\u001b[38;5;159m FPS.\u001b[0m\n",
      "\u001b[38;5;159m[Genesis] [18:07:54] [INFO] Running at \u001b[38;5;121m23.83\u001b[0m\u001b[38;5;159m FPS.\u001b[0m\n",
      "\u001b[38;5;159m[Genesis] [18:07:54] [INFO] Running at \u001b[38;5;121m24.41\u001b[0m\u001b[38;5;159m FPS.\u001b[0m\n",
      "\u001b[38;5;159m[Genesis] [18:07:54] [INFO] Running at \u001b[38;5;121m25.10\u001b[0m\u001b[38;5;159m FPS.\u001b[0m\n",
      "\u001b[38;5;159m[Genesis] [18:07:54] [INFO] Running at \u001b[38;5;121m25.87\u001b[0m\u001b[38;5;159m FPS.\u001b[0m\n",
      "\u001b[38;5;159m[Genesis] [18:07:55] [INFO] Running at \u001b[38;5;121m26.30\u001b[0m\u001b[38;5;159m FPS.\u001b[0m\n",
      "\u001b[38;5;159m[Genesis] [18:07:55] [INFO] Running at \u001b[38;5;121m26.88\u001b[0m\u001b[38;5;159m FPS.\u001b[0m\n",
      "\u001b[38;5;159m[Genesis] [18:07:55] [INFO] Running at \u001b[38;5;121m27.65\u001b[0m\u001b[38;5;159m FPS.\u001b[0m\n",
      "\u001b[38;5;159m[Genesis] [18:07:55] [INFO] Running at \u001b[38;5;121m27.38\u001b[0m\u001b[38;5;159m FPS.\u001b[0m\n",
      "\u001b[38;5;159m[Genesis] [18:07:55] [INFO] Running at \u001b[38;5;121m27.94\u001b[0m\u001b[38;5;159m FPS.\u001b[0m\n",
      "\u001b[38;5;159m[Genesis] [18:07:55] [INFO] Running at \u001b[38;5;121m28.72\u001b[0m\u001b[38;5;159m FPS.\u001b[0m\n",
      "\u001b[38;5;159m[Genesis] [18:07:55] [INFO] Running at \u001b[38;5;121m28.37\u001b[0m\u001b[38;5;159m FPS.\u001b[0m\n",
      "\u001b[38;5;159m[Genesis] [18:07:55] [INFO] Saving video to \u001b[38;5;121mclip.mp4\u001b[0m\u001b[38;5;159m.\u001b[0m\n",
      "\u001b[38;5;159m[Genesis] [18:07:55] [INFO] Video saved.\u001b[0m\n"
     ]
    },
    {
     "name": "stdout",
     "output_type": "stream",
     "text": [
      "tensor([0.7456, 0.0218, 0.1510])\n",
      "True\n"
     ]
    },
    {
     "name": "stderr",
     "output_type": "stream",
     "text": [
      "\u001b[38;5;159m[Genesis] [18:07:55] [INFO] Running at \u001b[38;5;121m18.26\u001b[0m\u001b[38;5;159m FPS.\u001b[0m\n",
      "\u001b[38;5;159m[Genesis] [18:07:55] [INFO] Running at \u001b[38;5;121m18.80\u001b[0m\u001b[38;5;159m FPS.\u001b[0m\n",
      "\u001b[38;5;159m[Genesis] [18:07:55] [INFO] Running at \u001b[38;5;121m19.37\u001b[0m\u001b[38;5;159m FPS.\u001b[0m\n",
      "\u001b[38;5;159m[Genesis] [18:07:55] [INFO] Running at \u001b[38;5;121m19.51\u001b[0m\u001b[38;5;159m FPS.\u001b[0m\n",
      "\u001b[38;5;159m[Genesis] [18:07:55] [INFO] Running at \u001b[38;5;121m20.05\u001b[0m\u001b[38;5;159m FPS.\u001b[0m\n",
      "\u001b[38;5;159m[Genesis] [18:07:55] [INFO] Running at \u001b[38;5;121m20.74\u001b[0m\u001b[38;5;159m FPS.\u001b[0m\n",
      "\u001b[38;5;159m[Genesis] [18:07:55] [INFO] Running at \u001b[38;5;121m21.45\u001b[0m\u001b[38;5;159m FPS.\u001b[0m\n",
      "\u001b[38;5;159m[Genesis] [18:07:55] [INFO] Running at \u001b[38;5;121m21.50\u001b[0m\u001b[38;5;159m FPS.\u001b[0m\n",
      "\u001b[38;5;159m[Genesis] [18:07:55] [INFO] Running at \u001b[38;5;121m22.07\u001b[0m\u001b[38;5;159m FPS.\u001b[0m\n",
      "\u001b[38;5;159m[Genesis] [18:07:55] [INFO] Running at \u001b[38;5;121m22.80\u001b[0m\u001b[38;5;159m FPS.\u001b[0m\n",
      "\u001b[38;5;159m[Genesis] [18:07:55] [INFO] Running at \u001b[38;5;121m22.88\u001b[0m\u001b[38;5;159m FPS.\u001b[0m\n",
      "\u001b[38;5;159m[Genesis] [18:07:55] [INFO] Running at \u001b[38;5;121m23.47\u001b[0m\u001b[38;5;159m FPS.\u001b[0m\n",
      "\u001b[38;5;159m[Genesis] [18:07:55] [INFO] Running at \u001b[38;5;121m23.45\u001b[0m\u001b[38;5;159m FPS.\u001b[0m\n",
      "\u001b[38;5;159m[Genesis] [18:07:55] [INFO] Running at \u001b[38;5;121m24.04\u001b[0m\u001b[38;5;159m FPS.\u001b[0m\n",
      "\u001b[38;5;159m[Genesis] [18:07:55] [INFO] Running at \u001b[38;5;121m24.78\u001b[0m\u001b[38;5;159m FPS.\u001b[0m\n",
      "\u001b[38;5;159m[Genesis] [18:07:56] [INFO] Running at \u001b[38;5;121m24.68\u001b[0m\u001b[38;5;159m FPS.\u001b[0m\n",
      "\u001b[38;5;159m[Genesis] [18:07:56] [INFO] Running at \u001b[38;5;121m25.24\u001b[0m\u001b[38;5;159m FPS.\u001b[0m\n",
      "\u001b[38;5;159m[Genesis] [18:07:56] [INFO] Running at \u001b[38;5;121m25.97\u001b[0m\u001b[38;5;159m FPS.\u001b[0m\n",
      "\u001b[38;5;159m[Genesis] [18:07:56] [INFO] Running at \u001b[38;5;121m25.85\u001b[0m\u001b[38;5;159m FPS.\u001b[0m\n",
      "\u001b[38;5;159m[Genesis] [18:07:56] [INFO] Running at \u001b[38;5;121m26.06\u001b[0m\u001b[38;5;159m FPS.\u001b[0m\n",
      "\u001b[38;5;159m[Genesis] [18:07:56] [INFO] Running at \u001b[38;5;121m26.56\u001b[0m\u001b[38;5;159m FPS.\u001b[0m\n",
      "\u001b[38;5;159m[Genesis] [18:07:56] [INFO] Running at \u001b[38;5;121m27.33\u001b[0m\u001b[38;5;159m FPS.\u001b[0m\n",
      "\u001b[38;5;159m[Genesis] [18:07:56] [INFO] Running at \u001b[38;5;121m27.73\u001b[0m\u001b[38;5;159m FPS.\u001b[0m\n",
      "\u001b[38;5;159m[Genesis] [18:07:56] [INFO] Running at \u001b[38;5;121m28.29\u001b[0m\u001b[38;5;159m FPS.\u001b[0m\n",
      "\u001b[38;5;159m[Genesis] [18:07:56] [INFO] Running at \u001b[38;5;121m29.07\u001b[0m\u001b[38;5;159m FPS.\u001b[0m\n",
      "\u001b[38;5;159m[Genesis] [18:07:56] [INFO] Saving video to \u001b[38;5;121mclip.mp4\u001b[0m\u001b[38;5;159m.\u001b[0m\n",
      "\u001b[38;5;159m[Genesis] [18:07:56] [INFO] Video saved.\u001b[0m\n"
     ]
    },
    {
     "name": "stdout",
     "output_type": "stream",
     "text": [
      "tensor([0.7630, 0.0247, 0.1350])\n",
      "True\n"
     ]
    },
    {
     "name": "stderr",
     "output_type": "stream",
     "text": [
      "\u001b[38;5;159m[Genesis] [18:07:56] [INFO] Running at \u001b[38;5;121m18.26\u001b[0m\u001b[38;5;159m FPS.\u001b[0m\n",
      "\u001b[38;5;159m[Genesis] [18:07:56] [INFO] Running at \u001b[38;5;121m18.89\u001b[0m\u001b[38;5;159m FPS.\u001b[0m\n",
      "\u001b[38;5;159m[Genesis] [18:07:56] [INFO] Running at \u001b[38;5;121m19.25\u001b[0m\u001b[38;5;159m FPS.\u001b[0m\n",
      "\u001b[38;5;159m[Genesis] [18:07:56] [INFO] Running at \u001b[38;5;121m19.58\u001b[0m\u001b[38;5;159m FPS.\u001b[0m\n",
      "\u001b[38;5;159m[Genesis] [18:07:56] [INFO] Running at \u001b[38;5;121m20.15\u001b[0m\u001b[38;5;159m FPS.\u001b[0m\n",
      "\u001b[38;5;159m[Genesis] [18:07:56] [INFO] Running at \u001b[38;5;121m20.85\u001b[0m\u001b[38;5;159m FPS.\u001b[0m\n",
      "\u001b[38;5;159m[Genesis] [18:07:56] [INFO] Running at \u001b[38;5;121m21.33\u001b[0m\u001b[38;5;159m FPS.\u001b[0m\n",
      "\u001b[38;5;159m[Genesis] [18:07:56] [INFO] Running at \u001b[38;5;121m21.93\u001b[0m\u001b[38;5;159m FPS.\u001b[0m\n",
      "\u001b[38;5;159m[Genesis] [18:07:56] [INFO] Running at \u001b[38;5;121m22.66\u001b[0m\u001b[38;5;159m FPS.\u001b[0m\n",
      "\u001b[38;5;159m[Genesis] [18:07:56] [INFO] Running at \u001b[38;5;121m23.12\u001b[0m\u001b[38;5;159m FPS.\u001b[0m\n",
      "\u001b[38;5;159m[Genesis] [18:07:56] [INFO] Running at \u001b[38;5;121m23.41\u001b[0m\u001b[38;5;159m FPS.\u001b[0m\n",
      "\u001b[38;5;159m[Genesis] [18:07:56] [INFO] Running at \u001b[38;5;121m23.93\u001b[0m\u001b[38;5;159m FPS.\u001b[0m\n",
      "\u001b[38;5;159m[Genesis] [18:07:56] [INFO] Running at \u001b[38;5;121m24.68\u001b[0m\u001b[38;5;159m FPS.\u001b[0m\n",
      "\u001b[38;5;159m[Genesis] [18:07:57] [INFO] Running at \u001b[38;5;121m24.60\u001b[0m\u001b[38;5;159m FPS.\u001b[0m\n",
      "\u001b[38;5;159m[Genesis] [18:07:57] [INFO] Running at \u001b[38;5;121m25.20\u001b[0m\u001b[38;5;159m FPS.\u001b[0m\n",
      "\u001b[38;5;159m[Genesis] [18:07:57] [INFO] Running at \u001b[38;5;121m25.97\u001b[0m\u001b[38;5;159m FPS.\u001b[0m\n",
      "\u001b[38;5;159m[Genesis] [18:07:57] [INFO] Running at \u001b[38;5;121m26.38\u001b[0m\u001b[38;5;159m FPS.\u001b[0m\n",
      "\u001b[38;5;159m[Genesis] [18:07:57] [INFO] Running at \u001b[38;5;121m26.56\u001b[0m\u001b[38;5;159m FPS.\u001b[0m\n",
      "\u001b[38;5;159m[Genesis] [18:07:57] [INFO] Running at \u001b[38;5;121m27.05\u001b[0m\u001b[38;5;159m FPS.\u001b[0m\n",
      "\u001b[38;5;159m[Genesis] [18:07:57] [INFO] Running at \u001b[38;5;121m27.83\u001b[0m\u001b[38;5;159m FPS.\u001b[0m\n",
      "\u001b[38;5;159m[Genesis] [18:07:57] [INFO] Running at \u001b[38;5;121m27.56\u001b[0m\u001b[38;5;159m FPS.\u001b[0m\n",
      "\u001b[38;5;159m[Genesis] [18:07:57] [INFO] Running at \u001b[38;5;121m28.12\u001b[0m\u001b[38;5;159m FPS.\u001b[0m\n",
      "\u001b[38;5;159m[Genesis] [18:07:57] [INFO] Running at \u001b[38;5;121m28.91\u001b[0m\u001b[38;5;159m FPS.\u001b[0m\n",
      "\u001b[38;5;159m[Genesis] [18:07:57] [INFO] Running at \u001b[38;5;121m28.55\u001b[0m\u001b[38;5;159m FPS.\u001b[0m\n",
      "\u001b[38;5;159m[Genesis] [18:07:57] [INFO] Running at \u001b[38;5;121m29.11\u001b[0m\u001b[38;5;159m FPS.\u001b[0m\n",
      "\u001b[38;5;159m[Genesis] [18:07:57] [INFO] Saving video to \u001b[38;5;121mclip.mp4\u001b[0m\u001b[38;5;159m.\u001b[0m\n",
      "\u001b[38;5;159m[Genesis] [18:07:57] [INFO] Video saved.\u001b[0m\n"
     ]
    },
    {
     "name": "stdout",
     "output_type": "stream",
     "text": [
      "tensor([0.7692, 0.0210, 0.1205])\n",
      "True\n"
     ]
    },
    {
     "name": "stderr",
     "output_type": "stream",
     "text": [
      "\u001b[38;5;159m[Genesis] [18:07:57] [INFO] Running at \u001b[38;5;121m18.72\u001b[0m\u001b[38;5;159m FPS.\u001b[0m\n",
      "\u001b[38;5;159m[Genesis] [18:07:57] [INFO] Running at \u001b[38;5;121m19.36\u001b[0m\u001b[38;5;159m FPS.\u001b[0m\n",
      "\u001b[38;5;159m[Genesis] [18:07:57] [INFO] Running at \u001b[38;5;121m20.03\u001b[0m\u001b[38;5;159m FPS.\u001b[0m\n",
      "\u001b[38;5;159m[Genesis] [18:07:57] [INFO] Running at \u001b[38;5;121m20.73\u001b[0m\u001b[38;5;159m FPS.\u001b[0m\n",
      "\u001b[38;5;159m[Genesis] [18:07:57] [INFO] Running at \u001b[38;5;121m20.85\u001b[0m\u001b[38;5;159m FPS.\u001b[0m\n",
      "\u001b[38;5;159m[Genesis] [18:07:57] [INFO] Running at \u001b[38;5;121m21.44\u001b[0m\u001b[38;5;159m FPS.\u001b[0m\n",
      "\u001b[38;5;159m[Genesis] [18:07:57] [INFO] Running at \u001b[38;5;121m22.11\u001b[0m\u001b[38;5;159m FPS.\u001b[0m\n",
      "\u001b[38;5;159m[Genesis] [18:07:57] [INFO] Running at \u001b[38;5;121m22.84\u001b[0m\u001b[38;5;159m FPS.\u001b[0m\n",
      "\u001b[38;5;159m[Genesis] [18:07:57] [INFO] Running at \u001b[38;5;121m22.87\u001b[0m\u001b[38;5;159m FPS.\u001b[0m\n",
      "\u001b[38;5;159m[Genesis] [18:07:57] [INFO] Running at \u001b[38;5;121m23.47\u001b[0m\u001b[38;5;159m FPS.\u001b[0m\n",
      "\u001b[38;5;159m[Genesis] [18:07:57] [INFO] Running at \u001b[38;5;121m24.22\u001b[0m\u001b[38;5;159m FPS.\u001b[0m\n",
      "\u001b[38;5;159m[Genesis] [18:07:58] [INFO] Running at \u001b[38;5;121m24.65\u001b[0m\u001b[38;5;159m FPS.\u001b[0m\n",
      "\u001b[38;5;159m[Genesis] [18:07:58] [INFO] Running at \u001b[38;5;121m24.89\u001b[0m\u001b[38;5;159m FPS.\u001b[0m\n",
      "\u001b[38;5;159m[Genesis] [18:07:58] [INFO] Running at \u001b[38;5;121m25.47\u001b[0m\u001b[38;5;159m FPS.\u001b[0m\n",
      "\u001b[38;5;159m[Genesis] [18:07:58] [INFO] Running at \u001b[38;5;121m25.33\u001b[0m\u001b[38;5;159m FPS.\u001b[0m\n",
      "\u001b[38;5;159m[Genesis] [18:07:58] [INFO] Running at \u001b[38;5;121m25.91\u001b[0m\u001b[38;5;159m FPS.\u001b[0m\n",
      "\u001b[38;5;159m[Genesis] [18:07:58] [INFO] Running at \u001b[38;5;121m26.63\u001b[0m\u001b[38;5;159m FPS.\u001b[0m\n",
      "\u001b[38;5;159m[Genesis] [18:07:58] [INFO] Running at \u001b[38;5;121m27.40\u001b[0m\u001b[38;5;159m FPS.\u001b[0m\n",
      "\u001b[38;5;159m[Genesis] [18:07:58] [INFO] Running at \u001b[38;5;121m27.13\u001b[0m\u001b[38;5;159m FPS.\u001b[0m\n",
      "\u001b[38;5;159m[Genesis] [18:07:58] [INFO] Running at \u001b[38;5;121m27.71\u001b[0m\u001b[38;5;159m FPS.\u001b[0m\n",
      "\u001b[38;5;159m[Genesis] [18:07:58] [INFO] Running at \u001b[38;5;121m28.49\u001b[0m\u001b[38;5;159m FPS.\u001b[0m\n",
      "\u001b[38;5;159m[Genesis] [18:07:58] [INFO] Running at \u001b[38;5;121m28.17\u001b[0m\u001b[38;5;159m FPS.\u001b[0m\n",
      "\u001b[38;5;159m[Genesis] [18:07:58] [INFO] Running at \u001b[38;5;121m28.74\u001b[0m\u001b[38;5;159m FPS.\u001b[0m\n",
      "\u001b[38;5;159m[Genesis] [18:07:58] [INFO] Running at \u001b[38;5;121m29.53\u001b[0m\u001b[38;5;159m FPS.\u001b[0m\n",
      "\u001b[38;5;159m[Genesis] [18:07:58] [INFO] Running at \u001b[38;5;121m29.12\u001b[0m\u001b[38;5;159m FPS.\u001b[0m\n",
      "\u001b[38;5;159m[Genesis] [18:07:58] [INFO] Saving video to \u001b[38;5;121mclip.mp4\u001b[0m\u001b[38;5;159m.\u001b[0m\n",
      "\u001b[38;5;159m[Genesis] [18:07:58] [INFO] Video saved.\u001b[0m\n"
     ]
    },
    {
     "name": "stdout",
     "output_type": "stream",
     "text": [
      "tensor([0.7733, 0.0209, 0.1125])\n",
      "True\n"
     ]
    },
    {
     "name": "stderr",
     "output_type": "stream",
     "text": [
      "\u001b[38;5;159m[Genesis] [18:07:58] [INFO] Running at \u001b[38;5;121m18.71\u001b[0m\u001b[38;5;159m FPS.\u001b[0m\n",
      "\u001b[38;5;159m[Genesis] [18:07:58] [INFO] Running at \u001b[38;5;121m19.38\u001b[0m\u001b[38;5;159m FPS.\u001b[0m\n",
      "\u001b[38;5;159m[Genesis] [18:07:58] [INFO] Running at \u001b[38;5;121m19.73\u001b[0m\u001b[38;5;159m FPS.\u001b[0m\n",
      "\u001b[38;5;159m[Genesis] [18:07:58] [INFO] Running at \u001b[38;5;121m20.09\u001b[0m\u001b[38;5;159m FPS.\u001b[0m\n",
      "\u001b[38;5;159m[Genesis] [18:07:58] [INFO] Running at \u001b[38;5;121m20.67\u001b[0m\u001b[38;5;159m FPS.\u001b[0m\n",
      "\u001b[38;5;159m[Genesis] [18:07:58] [INFO] Running at \u001b[38;5;121m20.78\u001b[0m\u001b[38;5;159m FPS.\u001b[0m\n",
      "\u001b[38;5;159m[Genesis] [18:07:58] [INFO] Running at \u001b[38;5;121m21.35\u001b[0m\u001b[38;5;159m FPS.\u001b[0m\n",
      "\u001b[38;5;159m[Genesis] [18:07:58] [INFO] Running at \u001b[38;5;121m22.05\u001b[0m\u001b[38;5;159m FPS.\u001b[0m\n",
      "\u001b[38;5;159m[Genesis] [18:07:59] [INFO] Running at \u001b[38;5;121m22.78\u001b[0m\u001b[38;5;159m FPS.\u001b[0m\n",
      "\u001b[38;5;159m[Genesis] [18:07:59] [INFO] Running at \u001b[38;5;121m22.80\u001b[0m\u001b[38;5;159m FPS.\u001b[0m\n",
      "\u001b[38;5;159m[Genesis] [18:07:59] [INFO] Running at \u001b[38;5;121m23.40\u001b[0m\u001b[38;5;159m FPS.\u001b[0m\n",
      "\u001b[38;5;159m[Genesis] [18:07:59] [INFO] Running at \u001b[38;5;121m24.14\u001b[0m\u001b[38;5;159m FPS.\u001b[0m\n",
      "\u001b[38;5;159m[Genesis] [18:07:59] [INFO] Running at \u001b[38;5;121m24.08\u001b[0m\u001b[38;5;159m FPS.\u001b[0m\n",
      "\u001b[38;5;159m[Genesis] [18:07:59] [INFO] Running at \u001b[38;5;121m24.66\u001b[0m\u001b[38;5;159m FPS.\u001b[0m\n",
      "\u001b[38;5;159m[Genesis] [18:07:59] [INFO] Running at \u001b[38;5;121m25.42\u001b[0m\u001b[38;5;159m FPS.\u001b[0m\n",
      "\u001b[38;5;159m[Genesis] [18:07:59] [INFO] Running at \u001b[38;5;121m25.29\u001b[0m\u001b[38;5;159m FPS.\u001b[0m\n",
      "\u001b[38;5;159m[Genesis] [18:07:59] [INFO] Running at \u001b[38;5;121m25.51\u001b[0m\u001b[38;5;159m FPS.\u001b[0m\n",
      "\u001b[38;5;159m[Genesis] [18:07:59] [INFO] Running at \u001b[38;5;121m26.01\u001b[0m\u001b[38;5;159m FPS.\u001b[0m\n",
      "\u001b[38;5;159m[Genesis] [18:07:59] [INFO] Running at \u001b[38;5;121m26.79\u001b[0m\u001b[38;5;159m FPS.\u001b[0m\n",
      "\u001b[38;5;159m[Genesis] [18:07:59] [INFO] Running at \u001b[38;5;121m26.67\u001b[0m\u001b[38;5;159m FPS.\u001b[0m\n",
      "\u001b[38;5;159m[Genesis] [18:07:59] [INFO] Running at \u001b[38;5;121m27.16\u001b[0m\u001b[38;5;159m FPS.\u001b[0m\n",
      "\u001b[38;5;159m[Genesis] [18:07:59] [INFO] Running at \u001b[38;5;121m27.84\u001b[0m\u001b[38;5;159m FPS.\u001b[0m\n",
      "\u001b[38;5;159m[Genesis] [18:07:59] [INFO] Running at \u001b[38;5;121m27.70\u001b[0m\u001b[38;5;159m FPS.\u001b[0m\n",
      "\u001b[38;5;159m[Genesis] [18:07:59] [INFO] Running at \u001b[38;5;121m28.27\u001b[0m\u001b[38;5;159m FPS.\u001b[0m\n",
      "\u001b[38;5;159m[Genesis] [18:07:59] [INFO] Running at \u001b[38;5;121m27.95\u001b[0m\u001b[38;5;159m FPS.\u001b[0m\n",
      "\u001b[38;5;159m[Genesis] [18:07:59] [INFO] Saving video to \u001b[38;5;121mclip.mp4\u001b[0m\u001b[38;5;159m.\u001b[0m\n",
      "\u001b[38;5;159m[Genesis] [18:07:59] [INFO] Video saved.\u001b[0m\n"
     ]
    },
    {
     "name": "stdout",
     "output_type": "stream",
     "text": [
      "tensor([0.7776, 0.0159, 0.1116])\n",
      "True\n"
     ]
    },
    {
     "name": "stderr",
     "output_type": "stream",
     "text": [
      "\u001b[38;5;159m[Genesis] [18:07:59] [INFO] Running at \u001b[38;5;121m18.23\u001b[0m\u001b[38;5;159m FPS.\u001b[0m\n",
      "\u001b[38;5;159m[Genesis] [18:07:59] [INFO] Running at \u001b[38;5;121m18.61\u001b[0m\u001b[38;5;159m FPS.\u001b[0m\n",
      "\u001b[38;5;159m[Genesis] [18:07:59] [INFO] Running at \u001b[38;5;121m18.98\u001b[0m\u001b[38;5;159m FPS.\u001b[0m\n",
      "\u001b[38;5;159m[Genesis] [18:07:59] [INFO] Running at \u001b[38;5;121m19.55\u001b[0m\u001b[38;5;159m FPS.\u001b[0m\n",
      "\u001b[38;5;159m[Genesis] [18:08:00] [INFO] Running at \u001b[38;5;121m19.70\u001b[0m\u001b[38;5;159m FPS.\u001b[0m\n",
      "\u001b[38;5;159m[Genesis] [18:08:00] [INFO] Running at \u001b[38;5;121m20.27\u001b[0m\u001b[38;5;159m FPS.\u001b[0m\n",
      "\u001b[38;5;159m[Genesis] [18:08:00] [INFO] Running at \u001b[38;5;121m20.94\u001b[0m\u001b[38;5;159m FPS.\u001b[0m\n",
      "\u001b[38;5;159m[Genesis] [18:08:00] [INFO] Running at \u001b[38;5;121m21.65\u001b[0m\u001b[38;5;159m FPS.\u001b[0m\n",
      "\u001b[38;5;159m[Genesis] [18:08:00] [INFO] Running at \u001b[38;5;121m21.72\u001b[0m\u001b[38;5;159m FPS.\u001b[0m\n",
      "\u001b[38;5;159m[Genesis] [18:08:00] [INFO] Running at \u001b[38;5;121m22.31\u001b[0m\u001b[38;5;159m FPS.\u001b[0m\n",
      "\u001b[38;5;159m[Genesis] [18:08:00] [INFO] Running at \u001b[38;5;121m23.04\u001b[0m\u001b[38;5;159m FPS.\u001b[0m\n",
      "\u001b[38;5;159m[Genesis] [18:08:00] [INFO] Running at \u001b[38;5;121m23.50\u001b[0m\u001b[38;5;159m FPS.\u001b[0m\n",
      "\u001b[38;5;159m[Genesis] [18:08:00] [INFO] Running at \u001b[38;5;121m23.77\u001b[0m\u001b[38;5;159m FPS.\u001b[0m\n",
      "\u001b[38;5;159m[Genesis] [18:08:00] [INFO] Running at \u001b[38;5;121m24.29\u001b[0m\u001b[38;5;159m FPS.\u001b[0m\n",
      "\u001b[38;5;159m[Genesis] [18:08:00] [INFO] Running at \u001b[38;5;121m24.28\u001b[0m\u001b[38;5;159m FPS.\u001b[0m\n",
      "\u001b[38;5;159m[Genesis] [18:08:00] [INFO] Running at \u001b[38;5;121m24.86\u001b[0m\u001b[38;5;159m FPS.\u001b[0m\n",
      "\u001b[38;5;159m[Genesis] [18:08:00] [INFO] Running at \u001b[38;5;121m25.56\u001b[0m\u001b[38;5;159m FPS.\u001b[0m\n",
      "\u001b[38;5;159m[Genesis] [18:08:00] [INFO] Running at \u001b[38;5;121m25.48\u001b[0m\u001b[38;5;159m FPS.\u001b[0m\n",
      "\u001b[38;5;159m[Genesis] [18:08:00] [INFO] Running at \u001b[38;5;121m26.05\u001b[0m\u001b[38;5;159m FPS.\u001b[0m\n",
      "\u001b[38;5;159m[Genesis] [18:08:00] [INFO] Running at \u001b[38;5;121m26.77\u001b[0m\u001b[38;5;159m FPS.\u001b[0m\n",
      "\u001b[38;5;159m[Genesis] [18:08:00] [INFO] Running at \u001b[38;5;121m27.55\u001b[0m\u001b[38;5;159m FPS.\u001b[0m\n",
      "\u001b[38;5;159m[Genesis] [18:08:00] [INFO] Running at \u001b[38;5;121m27.93\u001b[0m\u001b[38;5;159m FPS.\u001b[0m\n",
      "\u001b[38;5;159m[Genesis] [18:08:00] [INFO] Running at \u001b[38;5;121m28.51\u001b[0m\u001b[38;5;159m FPS.\u001b[0m\n",
      "\u001b[38;5;159m[Genesis] [18:08:00] [INFO] Running at \u001b[38;5;121m29.28\u001b[0m\u001b[38;5;159m FPS.\u001b[0m\n",
      "\u001b[38;5;159m[Genesis] [18:08:00] [INFO] Running at \u001b[38;5;121m28.88\u001b[0m\u001b[38;5;159m FPS.\u001b[0m\n",
      "\u001b[38;5;159m[Genesis] [18:08:00] [INFO] Saving video to \u001b[38;5;121mclip.mp4\u001b[0m\u001b[38;5;159m.\u001b[0m\n",
      "\u001b[38;5;159m[Genesis] [18:08:00] [INFO] Video saved.\u001b[0m\n"
     ]
    },
    {
     "name": "stdout",
     "output_type": "stream",
     "text": [
      "tensor([0.7779, 0.0183, 0.1116])\n",
      "True\n"
     ]
    },
    {
     "name": "stderr",
     "output_type": "stream",
     "text": [
      "\u001b[38;5;159m[Genesis] [18:08:00] [INFO] Running at \u001b[38;5;121m18.58\u001b[0m\u001b[38;5;159m FPS.\u001b[0m\n",
      "\u001b[38;5;159m[Genesis] [18:08:00] [INFO] Running at \u001b[38;5;121m19.25\u001b[0m\u001b[38;5;159m FPS.\u001b[0m\n",
      "\u001b[38;5;159m[Genesis] [18:08:01] [INFO] Running at \u001b[38;5;121m19.65\u001b[0m\u001b[38;5;159m FPS.\u001b[0m\n",
      "\u001b[38;5;159m[Genesis] [18:08:01] [INFO] Running at \u001b[38;5;121m20.01\u001b[0m\u001b[38;5;159m FPS.\u001b[0m\n",
      "\u001b[38;5;159m[Genesis] [18:08:01] [INFO] Running at \u001b[38;5;121m20.59\u001b[0m\u001b[38;5;159m FPS.\u001b[0m\n",
      "\u001b[38;5;159m[Genesis] [18:08:01] [INFO] Running at \u001b[38;5;121m20.70\u001b[0m\u001b[38;5;159m FPS.\u001b[0m\n",
      "\u001b[38;5;159m[Genesis] [18:08:01] [INFO] Running at \u001b[38;5;121m21.26\u001b[0m\u001b[38;5;159m FPS.\u001b[0m\n",
      "\u001b[38;5;159m[Genesis] [18:08:01] [INFO] Running at \u001b[38;5;121m21.95\u001b[0m\u001b[38;5;159m FPS.\u001b[0m\n",
      "\u001b[38;5;159m[Genesis] [18:08:01] [INFO] Running at \u001b[38;5;121m22.68\u001b[0m\u001b[38;5;159m FPS.\u001b[0m\n",
      "\u001b[38;5;159m[Genesis] [18:08:01] [INFO] Running at \u001b[38;5;121m22.71\u001b[0m\u001b[38;5;159m FPS.\u001b[0m\n",
      "\u001b[38;5;159m[Genesis] [18:08:01] [INFO] Running at \u001b[38;5;121m23.32\u001b[0m\u001b[38;5;159m FPS.\u001b[0m\n",
      "\u001b[38;5;159m[Genesis] [18:08:01] [INFO] Running at \u001b[38;5;121m24.00\u001b[0m\u001b[38;5;159m FPS.\u001b[0m\n",
      "\u001b[38;5;159m[Genesis] [18:08:01] [INFO] Running at \u001b[38;5;121m24.02\u001b[0m\u001b[38;5;159m FPS.\u001b[0m\n",
      "\u001b[38;5;159m[Genesis] [18:08:01] [INFO] Running at \u001b[38;5;121m24.26\u001b[0m\u001b[38;5;159m FPS.\u001b[0m\n",
      "\u001b[38;5;159m[Genesis] [18:08:01] [INFO] Running at \u001b[38;5;121m24.77\u001b[0m\u001b[38;5;159m FPS.\u001b[0m\n",
      "\u001b[38;5;159m[Genesis] [18:08:01] [INFO] Running at \u001b[38;5;121m25.54\u001b[0m\u001b[38;5;159m FPS.\u001b[0m\n",
      "\u001b[38;5;159m[Genesis] [18:08:01] [INFO] Running at \u001b[38;5;121m25.39\u001b[0m\u001b[38;5;159m FPS.\u001b[0m\n",
      "\u001b[38;5;159m[Genesis] [18:08:01] [INFO] Running at \u001b[38;5;121m25.83\u001b[0m\u001b[38;5;159m FPS.\u001b[0m\n",
      "\u001b[38;5;159m[Genesis] [18:08:01] [INFO] Running at \u001b[38;5;121m25.77\u001b[0m\u001b[38;5;159m FPS.\u001b[0m\n",
      "\u001b[38;5;159m[Genesis] [18:08:01] [INFO] Running at \u001b[38;5;121m26.41\u001b[0m\u001b[38;5;159m FPS.\u001b[0m\n",
      "\u001b[38;5;159m[Genesis] [18:08:01] [INFO] Running at \u001b[38;5;121m26.24\u001b[0m\u001b[38;5;159m FPS.\u001b[0m\n",
      "\u001b[38;5;159m[Genesis] [18:08:01] [INFO] Running at \u001b[38;5;121m26.42\u001b[0m\u001b[38;5;159m FPS.\u001b[0m\n",
      "\u001b[38;5;159m[Genesis] [18:08:01] [INFO] Running at \u001b[38;5;121m26.92\u001b[0m\u001b[38;5;159m FPS.\u001b[0m\n",
      "\u001b[38;5;159m[Genesis] [18:08:01] [INFO] Running at \u001b[38;5;121m27.70\u001b[0m\u001b[38;5;159m FPS.\u001b[0m\n",
      "\u001b[38;5;159m[Genesis] [18:08:01] [INFO] Running at \u001b[38;5;121m27.42\u001b[0m\u001b[38;5;159m FPS.\u001b[0m\n",
      "\u001b[38;5;159m[Genesis] [18:08:01] [INFO] Saving video to \u001b[38;5;121mclip.mp4\u001b[0m\u001b[38;5;159m.\u001b[0m\n",
      "\u001b[38;5;159m[Genesis] [18:08:01] [INFO] Video saved.\u001b[0m\n"
     ]
    },
    {
     "name": "stdout",
     "output_type": "stream",
     "text": [
      "tensor([0.7755, 0.0096, 0.1187])\n",
      "True\n"
     ]
    },
    {
     "name": "stderr",
     "output_type": "stream",
     "text": [
      "\u001b[38;5;159m[Genesis] [18:08:02] [INFO] Running at \u001b[38;5;121m18.00\u001b[0m\u001b[38;5;159m FPS.\u001b[0m\n",
      "\u001b[38;5;159m[Genesis] [18:08:02] [INFO] Running at \u001b[38;5;121m18.39\u001b[0m\u001b[38;5;159m FPS.\u001b[0m\n",
      "\u001b[38;5;159m[Genesis] [18:08:02] [INFO] Running at \u001b[38;5;121m18.97\u001b[0m\u001b[38;5;159m FPS.\u001b[0m\n",
      "\u001b[38;5;159m[Genesis] [18:08:02] [INFO] Running at \u001b[38;5;121m19.64\u001b[0m\u001b[38;5;159m FPS.\u001b[0m\n",
      "\u001b[38;5;159m[Genesis] [18:08:02] [INFO] Running at \u001b[38;5;121m19.79\u001b[0m\u001b[38;5;159m FPS.\u001b[0m\n",
      "\u001b[38;5;159m[Genesis] [18:08:02] [INFO] Running at \u001b[38;5;121m20.38\u001b[0m\u001b[38;5;159m FPS.\u001b[0m\n",
      "\u001b[38;5;159m[Genesis] [18:08:02] [INFO] Running at \u001b[38;5;121m21.08\u001b[0m\u001b[38;5;159m FPS.\u001b[0m\n",
      "\u001b[38;5;159m[Genesis] [18:08:02] [INFO] Running at \u001b[38;5;121m21.17\u001b[0m\u001b[38;5;159m FPS.\u001b[0m\n",
      "\u001b[38;5;159m[Genesis] [18:08:02] [INFO] Running at \u001b[38;5;121m21.75\u001b[0m\u001b[38;5;159m FPS.\u001b[0m\n",
      "\u001b[38;5;159m[Genesis] [18:08:02] [INFO] Running at \u001b[38;5;121m22.43\u001b[0m\u001b[38;5;159m FPS.\u001b[0m\n",
      "\u001b[38;5;159m[Genesis] [18:08:02] [INFO] Running at \u001b[38;5;121m23.17\u001b[0m\u001b[38;5;159m FPS.\u001b[0m\n",
      "\u001b[38;5;159m[Genesis] [18:08:02] [INFO] Running at \u001b[38;5;121m23.63\u001b[0m\u001b[38;5;159m FPS.\u001b[0m\n",
      "\u001b[38;5;159m[Genesis] [18:08:02] [INFO] Running at \u001b[38;5;121m24.24\u001b[0m\u001b[38;5;159m FPS.\u001b[0m\n",
      "\u001b[38;5;159m[Genesis] [18:08:02] [INFO] Running at \u001b[38;5;121m24.99\u001b[0m\u001b[38;5;159m FPS.\u001b[0m\n",
      "\u001b[38;5;159m[Genesis] [18:08:02] [INFO] Running at \u001b[38;5;121m25.41\u001b[0m\u001b[38;5;159m FPS.\u001b[0m\n",
      "\u001b[38;5;159m[Genesis] [18:08:02] [INFO] Running at \u001b[38;5;121m25.62\u001b[0m\u001b[38;5;159m FPS.\u001b[0m\n",
      "\u001b[38;5;159m[Genesis] [18:08:02] [INFO] Running at \u001b[38;5;121m26.12\u001b[0m\u001b[38;5;159m FPS.\u001b[0m\n",
      "\u001b[38;5;159m[Genesis] [18:08:02] [INFO] Running at \u001b[38;5;121m26.89\u001b[0m\u001b[38;5;159m FPS.\u001b[0m\n",
      "\u001b[38;5;159m[Genesis] [18:08:02] [INFO] Running at \u001b[38;5;121m26.67\u001b[0m\u001b[38;5;159m FPS.\u001b[0m\n",
      "\u001b[38;5;159m[Genesis] [18:08:02] [INFO] Running at \u001b[38;5;121m27.26\u001b[0m\u001b[38;5;159m FPS.\u001b[0m\n",
      "\u001b[38;5;159m[Genesis] [18:08:02] [INFO] Running at \u001b[38;5;121m28.04\u001b[0m\u001b[38;5;159m FPS.\u001b[0m\n",
      "\u001b[38;5;159m[Genesis] [18:08:02] [INFO] Running at \u001b[38;5;121m27.77\u001b[0m\u001b[38;5;159m FPS.\u001b[0m\n",
      "\u001b[38;5;159m[Genesis] [18:08:02] [INFO] Running at \u001b[38;5;121m28.30\u001b[0m\u001b[38;5;159m FPS.\u001b[0m\n",
      "\u001b[38;5;159m[Genesis] [18:08:02] [INFO] Running at \u001b[38;5;121m29.04\u001b[0m\u001b[38;5;159m FPS.\u001b[0m\n",
      "\u001b[38;5;159m[Genesis] [18:08:02] [INFO] Running at \u001b[38;5;121m29.83\u001b[0m\u001b[38;5;159m FPS.\u001b[0m\n",
      "\u001b[38;5;159m[Genesis] [18:08:02] [INFO] Saving video to \u001b[38;5;121mclip.mp4\u001b[0m\u001b[38;5;159m.\u001b[0m\n",
      "\u001b[38;5;159m[Genesis] [18:08:02] [INFO] Video saved.\u001b[0m\n"
     ]
    },
    {
     "name": "stdout",
     "output_type": "stream",
     "text": [
      "tensor([0.7718, 0.0070, 0.1292])\n",
      "True\n"
     ]
    },
    {
     "name": "stderr",
     "output_type": "stream",
     "text": [
      "\u001b[38;5;159m[Genesis] [18:08:03] [INFO] Running at \u001b[38;5;121m18.55\u001b[0m\u001b[38;5;159m FPS.\u001b[0m\n",
      "\u001b[38;5;159m[Genesis] [18:08:03] [INFO] Running at \u001b[38;5;121m19.20\u001b[0m\u001b[38;5;159m FPS.\u001b[0m\n",
      "\u001b[38;5;159m[Genesis] [18:08:03] [INFO] Running at \u001b[38;5;121m19.88\u001b[0m\u001b[38;5;159m FPS.\u001b[0m\n",
      "\u001b[38;5;159m[Genesis] [18:08:03] [INFO] Running at \u001b[38;5;121m20.23\u001b[0m\u001b[38;5;159m FPS.\u001b[0m\n",
      "\u001b[38;5;159m[Genesis] [18:08:03] [INFO] Running at \u001b[38;5;121m20.58\u001b[0m\u001b[38;5;159m FPS.\u001b[0m\n",
      "\u001b[38;5;159m[Genesis] [18:08:03] [INFO] Running at \u001b[38;5;121m21.12\u001b[0m\u001b[38;5;159m FPS.\u001b[0m\n",
      "\u001b[38;5;159m[Genesis] [18:08:03] [INFO] Running at \u001b[38;5;121m21.83\u001b[0m\u001b[38;5;159m FPS.\u001b[0m\n",
      "\u001b[38;5;159m[Genesis] [18:08:03] [INFO] Running at \u001b[38;5;121m21.91\u001b[0m\u001b[38;5;159m FPS.\u001b[0m\n",
      "\u001b[38;5;159m[Genesis] [18:08:03] [INFO] Running at \u001b[38;5;121m22.51\u001b[0m\u001b[38;5;159m FPS.\u001b[0m\n",
      "\u001b[38;5;159m[Genesis] [18:08:03] [INFO] Running at \u001b[38;5;121m23.24\u001b[0m\u001b[38;5;159m FPS.\u001b[0m\n",
      "\u001b[38;5;159m[Genesis] [18:08:03] [INFO] Running at \u001b[38;5;121m23.70\u001b[0m\u001b[38;5;159m FPS.\u001b[0m\n",
      "\u001b[38;5;159m[Genesis] [18:08:03] [INFO] Running at \u001b[38;5;121m24.29\u001b[0m\u001b[38;5;159m FPS.\u001b[0m\n",
      "\u001b[38;5;159m[Genesis] [18:08:03] [INFO] Running at \u001b[38;5;121m25.05\u001b[0m\u001b[38;5;159m FPS.\u001b[0m\n",
      "\u001b[38;5;159m[Genesis] [18:08:03] [INFO] Running at \u001b[38;5;121m25.47\u001b[0m\u001b[38;5;159m FPS.\u001b[0m\n",
      "\u001b[38;5;159m[Genesis] [18:08:03] [INFO] Running at \u001b[38;5;121m25.69\u001b[0m\u001b[38;5;159m FPS.\u001b[0m\n",
      "\u001b[38;5;159m[Genesis] [18:08:03] [INFO] Running at \u001b[38;5;121m26.19\u001b[0m\u001b[38;5;159m FPS.\u001b[0m\n",
      "\u001b[38;5;159m[Genesis] [18:08:03] [INFO] Running at \u001b[38;5;121m26.96\u001b[0m\u001b[38;5;159m FPS.\u001b[0m\n",
      "\u001b[38;5;159m[Genesis] [18:08:03] [INFO] Running at \u001b[38;5;121m26.74\u001b[0m\u001b[38;5;159m FPS.\u001b[0m\n",
      "\u001b[38;5;159m[Genesis] [18:08:03] [INFO] Running at \u001b[38;5;121m27.32\u001b[0m\u001b[38;5;159m FPS.\u001b[0m\n",
      "\u001b[38;5;159m[Genesis] [18:08:03] [INFO] Running at \u001b[38;5;121m28.10\u001b[0m\u001b[38;5;159m FPS.\u001b[0m\n",
      "\u001b[38;5;159m[Genesis] [18:08:03] [INFO] Running at \u001b[38;5;121m27.82\u001b[0m\u001b[38;5;159m FPS.\u001b[0m\n",
      "\u001b[38;5;159m[Genesis] [18:08:03] [INFO] Running at \u001b[38;5;121m28.38\u001b[0m\u001b[38;5;159m FPS.\u001b[0m\n",
      "\u001b[38;5;159m[Genesis] [18:08:03] [INFO] Running at \u001b[38;5;121m29.16\u001b[0m\u001b[38;5;159m FPS.\u001b[0m\n",
      "\u001b[38;5;159m[Genesis] [18:08:03] [INFO] Running at \u001b[38;5;121m28.79\u001b[0m\u001b[38;5;159m FPS.\u001b[0m\n",
      "\u001b[38;5;159m[Genesis] [18:08:03] [INFO] Running at \u001b[38;5;121m29.32\u001b[0m\u001b[38;5;159m FPS.\u001b[0m\n",
      "\u001b[38;5;159m[Genesis] [18:08:03] [INFO] Saving video to \u001b[38;5;121mclip.mp4\u001b[0m\u001b[38;5;159m.\u001b[0m\n",
      "\u001b[38;5;159m[Genesis] [18:08:03] [INFO] Video saved.\u001b[0m\n"
     ]
    },
    {
     "name": "stdout",
     "output_type": "stream",
     "text": [
      "tensor([0.7681, 0.0066, 0.1165])\n",
      "True\n"
     ]
    },
    {
     "name": "stderr",
     "output_type": "stream",
     "text": [
      "\u001b[38;5;159m[Genesis] [18:08:04] [INFO] Running at \u001b[38;5;121m18.81\u001b[0m\u001b[38;5;159m FPS.\u001b[0m\n",
      "\u001b[38;5;159m[Genesis] [18:08:04] [INFO] Running at \u001b[38;5;121m19.26\u001b[0m\u001b[38;5;159m FPS.\u001b[0m\n",
      "\u001b[38;5;159m[Genesis] [18:08:04] [INFO] Running at \u001b[38;5;121m19.62\u001b[0m\u001b[38;5;159m FPS.\u001b[0m\n",
      "\u001b[38;5;159m[Genesis] [18:08:04] [INFO] Running at \u001b[38;5;121m20.15\u001b[0m\u001b[38;5;159m FPS.\u001b[0m\n",
      "\u001b[38;5;159m[Genesis] [18:08:04] [INFO] Running at \u001b[38;5;121m20.85\u001b[0m\u001b[38;5;159m FPS.\u001b[0m\n",
      "\u001b[38;5;159m[Genesis] [18:08:04] [INFO] Running at \u001b[38;5;121m21.30\u001b[0m\u001b[38;5;159m FPS.\u001b[0m\n",
      "\u001b[38;5;159m[Genesis] [18:08:04] [INFO] Running at \u001b[38;5;121m21.95\u001b[0m\u001b[38;5;159m FPS.\u001b[0m\n",
      "\u001b[38;5;159m[Genesis] [18:08:04] [INFO] Running at \u001b[38;5;121m22.00\u001b[0m\u001b[38;5;159m FPS.\u001b[0m\n",
      "\u001b[38;5;159m[Genesis] [18:08:04] [INFO] Running at \u001b[38;5;121m22.30\u001b[0m\u001b[38;5;159m FPS.\u001b[0m\n",
      "\u001b[38;5;159m[Genesis] [18:08:04] [INFO] Running at \u001b[38;5;121m22.83\u001b[0m\u001b[38;5;159m FPS.\u001b[0m\n",
      "\u001b[38;5;159m[Genesis] [18:08:04] [INFO] Running at \u001b[38;5;121m22.89\u001b[0m\u001b[38;5;159m FPS.\u001b[0m\n",
      "\u001b[38;5;159m[Genesis] [18:08:04] [INFO] Running at \u001b[38;5;121m23.18\u001b[0m\u001b[38;5;159m FPS.\u001b[0m\n",
      "\u001b[38;5;159m[Genesis] [18:08:04] [INFO] Running at \u001b[38;5;121m23.71\u001b[0m\u001b[38;5;159m FPS.\u001b[0m\n",
      "\u001b[38;5;159m[Genesis] [18:08:04] [INFO] Running at \u001b[38;5;121m24.46\u001b[0m\u001b[38;5;159m FPS.\u001b[0m\n",
      "\u001b[38;5;159m[Genesis] [18:08:04] [INFO] Running at \u001b[38;5;121m24.89\u001b[0m\u001b[38;5;159m FPS.\u001b[0m\n",
      "\u001b[38;5;159m[Genesis] [18:08:04] [INFO] Running at \u001b[38;5;121m25.48\u001b[0m\u001b[38;5;159m FPS.\u001b[0m\n",
      "\u001b[38;5;159m[Genesis] [18:08:04] [INFO] Running at \u001b[38;5;121m26.25\u001b[0m\u001b[38;5;159m FPS.\u001b[0m\n",
      "\u001b[38;5;159m[Genesis] [18:08:04] [INFO] Running at \u001b[38;5;121m26.65\u001b[0m\u001b[38;5;159m FPS.\u001b[0m\n",
      "\u001b[38;5;159m[Genesis] [18:08:04] [INFO] Running at \u001b[38;5;121m27.16\u001b[0m\u001b[38;5;159m FPS.\u001b[0m\n",
      "\u001b[38;5;159m[Genesis] [18:08:04] [INFO] Running at \u001b[38;5;121m27.93\u001b[0m\u001b[38;5;159m FPS.\u001b[0m\n",
      "\u001b[38;5;159m[Genesis] [18:08:04] [INFO] Running at \u001b[38;5;121m28.71\u001b[0m\u001b[38;5;159m FPS.\u001b[0m\n",
      "\u001b[38;5;159m[Genesis] [18:08:04] [INFO] Running at \u001b[38;5;121m28.37\u001b[0m\u001b[38;5;159m FPS.\u001b[0m\n",
      "\u001b[38;5;159m[Genesis] [18:08:04] [INFO] Running at \u001b[38;5;121m28.94\u001b[0m\u001b[38;5;159m FPS.\u001b[0m\n",
      "\u001b[38;5;159m[Genesis] [18:08:04] [INFO] Running at \u001b[38;5;121m29.73\u001b[0m\u001b[38;5;159m FPS.\u001b[0m\n",
      "\u001b[38;5;159m[Genesis] [18:08:04] [INFO] Running at \u001b[38;5;121m29.29\u001b[0m\u001b[38;5;159m FPS.\u001b[0m\n",
      "\u001b[38;5;159m[Genesis] [18:08:04] [INFO] Saving video to \u001b[38;5;121mclip.mp4\u001b[0m\u001b[38;5;159m.\u001b[0m\n",
      "\u001b[38;5;159m[Genesis] [18:08:04] [INFO] Video saved.\u001b[0m\n"
     ]
    },
    {
     "name": "stdout",
     "output_type": "stream",
     "text": [
      "tensor([0.7691, 0.0090, 0.1129])\n",
      "True\n"
     ]
    },
    {
     "name": "stderr",
     "output_type": "stream",
     "text": [
      "\u001b[38;5;159m[Genesis] [18:08:05] [INFO] Running at \u001b[38;5;121m18.78\u001b[0m\u001b[38;5;159m FPS.\u001b[0m\n",
      "\u001b[38;5;159m[Genesis] [18:08:05] [INFO] Running at \u001b[38;5;121m19.45\u001b[0m\u001b[38;5;159m FPS.\u001b[0m\n",
      "\u001b[38;5;159m[Genesis] [18:08:05] [INFO] Running at \u001b[38;5;121m20.14\u001b[0m\u001b[38;5;159m FPS.\u001b[0m\n",
      "\u001b[38;5;159m[Genesis] [18:08:05] [INFO] Running at \u001b[38;5;121m20.84\u001b[0m\u001b[38;5;159m FPS.\u001b[0m\n",
      "\u001b[38;5;159m[Genesis] [18:08:05] [INFO] Running at \u001b[38;5;121m21.15\u001b[0m\u001b[38;5;159m FPS.\u001b[0m\n",
      "\u001b[38;5;159m[Genesis] [18:08:05] [INFO] Running at \u001b[38;5;121m21.74\u001b[0m\u001b[38;5;159m FPS.\u001b[0m\n",
      "\u001b[38;5;159m[Genesis] [18:08:05] [INFO] Running at \u001b[38;5;121m22.47\u001b[0m\u001b[38;5;159m FPS.\u001b[0m\n",
      "\u001b[38;5;159m[Genesis] [18:08:05] [INFO] Running at \u001b[38;5;121m22.94\u001b[0m\u001b[38;5;159m FPS.\u001b[0m\n",
      "\u001b[38;5;159m[Genesis] [18:08:05] [INFO] Running at \u001b[38;5;121m23.52\u001b[0m\u001b[38;5;159m FPS.\u001b[0m\n",
      "\u001b[38;5;159m[Genesis] [18:08:05] [INFO] Running at \u001b[38;5;121m24.27\u001b[0m\u001b[38;5;159m FPS.\u001b[0m\n",
      "\u001b[38;5;159m[Genesis] [18:08:05] [INFO] Running at \u001b[38;5;121m24.21\u001b[0m\u001b[38;5;159m FPS.\u001b[0m\n",
      "\u001b[38;5;159m[Genesis] [18:08:05] [INFO] Running at \u001b[38;5;121m24.78\u001b[0m\u001b[38;5;159m FPS.\u001b[0m\n",
      "\u001b[38;5;159m[Genesis] [18:08:05] [INFO] Running at \u001b[38;5;121m25.55\u001b[0m\u001b[38;5;159m FPS.\u001b[0m\n",
      "\u001b[38;5;159m[Genesis] [18:08:05] [INFO] Running at \u001b[38;5;121m25.42\u001b[0m\u001b[38;5;159m FPS.\u001b[0m\n",
      "\u001b[38;5;159m[Genesis] [18:08:05] [INFO] Running at \u001b[38;5;121m25.98\u001b[0m\u001b[38;5;159m FPS.\u001b[0m\n",
      "\u001b[38;5;159m[Genesis] [18:08:05] [INFO] Running at \u001b[38;5;121m26.75\u001b[0m\u001b[38;5;159m FPS.\u001b[0m\n",
      "\u001b[38;5;159m[Genesis] [18:08:05] [INFO] Running at \u001b[38;5;121m26.55\u001b[0m\u001b[38;5;159m FPS.\u001b[0m\n",
      "\u001b[38;5;159m[Genesis] [18:08:05] [INFO] Running at \u001b[38;5;121m27.09\u001b[0m\u001b[38;5;159m FPS.\u001b[0m\n",
      "\u001b[38;5;159m[Genesis] [18:08:05] [INFO] Running at \u001b[38;5;121m27.82\u001b[0m\u001b[38;5;159m FPS.\u001b[0m\n",
      "\u001b[38;5;159m[Genesis] [18:08:05] [INFO] Running at \u001b[38;5;121m27.56\u001b[0m\u001b[38;5;159m FPS.\u001b[0m\n",
      "\u001b[38;5;159m[Genesis] [18:08:05] [INFO] Running at \u001b[38;5;121m28.11\u001b[0m\u001b[38;5;159m FPS.\u001b[0m\n",
      "\u001b[38;5;159m[Genesis] [18:08:05] [INFO] Running at \u001b[38;5;121m28.89\u001b[0m\u001b[38;5;159m FPS.\u001b[0m\n",
      "\u001b[38;5;159m[Genesis] [18:08:05] [INFO] Running at \u001b[38;5;121m28.54\u001b[0m\u001b[38;5;159m FPS.\u001b[0m\n",
      "\u001b[38;5;159m[Genesis] [18:08:05] [INFO] Running at \u001b[38;5;121m29.08\u001b[0m\u001b[38;5;159m FPS.\u001b[0m\n",
      "\u001b[38;5;159m[Genesis] [18:08:05] [INFO] Running at \u001b[38;5;121m29.86\u001b[0m\u001b[38;5;159m FPS.\u001b[0m\n",
      "\u001b[38;5;159m[Genesis] [18:08:05] [INFO] Saving video to \u001b[38;5;121mclip.mp4\u001b[0m\u001b[38;5;159m.\u001b[0m\n",
      "\u001b[38;5;159m[Genesis] [18:08:05] [INFO] Video saved.\u001b[0m\n"
     ]
    },
    {
     "name": "stdout",
     "output_type": "stream",
     "text": [
      "tensor([0.7819, 0.0076, 0.1119])\n",
      "True\n"
     ]
    },
    {
     "name": "stderr",
     "output_type": "stream",
     "text": [
      "\u001b[38;5;159m[Genesis] [18:08:06] [INFO] Running at \u001b[38;5;121m18.54\u001b[0m\u001b[38;5;159m FPS.\u001b[0m\n",
      "\u001b[38;5;159m[Genesis] [18:08:06] [INFO] Running at \u001b[38;5;121m19.19\u001b[0m\u001b[38;5;159m FPS.\u001b[0m\n",
      "\u001b[38;5;159m[Genesis] [18:08:06] [INFO] Running at \u001b[38;5;121m19.87\u001b[0m\u001b[38;5;159m FPS.\u001b[0m\n",
      "\u001b[38;5;159m[Genesis] [18:08:06] [INFO] Running at \u001b[38;5;121m20.56\u001b[0m\u001b[38;5;159m FPS.\u001b[0m\n",
      "\u001b[38;5;159m[Genesis] [18:08:06] [INFO] Running at \u001b[38;5;121m21.27\u001b[0m\u001b[38;5;159m FPS.\u001b[0m\n",
      "\u001b[38;5;159m[Genesis] [18:08:06] [INFO] Running at \u001b[38;5;121m21.57\u001b[0m\u001b[38;5;159m FPS.\u001b[0m\n",
      "\u001b[38;5;159m[Genesis] [18:08:06] [INFO] Running at \u001b[38;5;121m22.16\u001b[0m\u001b[38;5;159m FPS.\u001b[0m\n",
      "\u001b[38;5;159m[Genesis] [18:08:06] [INFO] Running at \u001b[38;5;121m22.89\u001b[0m\u001b[38;5;159m FPS.\u001b[0m\n",
      "\u001b[38;5;159m[Genesis] [18:08:06] [INFO] Running at \u001b[38;5;121m23.34\u001b[0m\u001b[38;5;159m FPS.\u001b[0m\n",
      "\u001b[38;5;159m[Genesis] [18:08:06] [INFO] Running at \u001b[38;5;121m23.93\u001b[0m\u001b[38;5;159m FPS.\u001b[0m\n",
      "\u001b[38;5;159m[Genesis] [18:08:06] [INFO] Running at \u001b[38;5;121m24.69\u001b[0m\u001b[38;5;159m FPS.\u001b[0m\n",
      "\u001b[38;5;159m[Genesis] [18:08:06] [INFO] Running at \u001b[38;5;121m25.09\u001b[0m\u001b[38;5;159m FPS.\u001b[0m\n",
      "\u001b[38;5;159m[Genesis] [18:08:06] [INFO] Running at \u001b[38;5;121m25.33\u001b[0m\u001b[38;5;159m FPS.\u001b[0m\n",
      "\u001b[38;5;159m[Genesis] [18:08:06] [INFO] Running at \u001b[38;5;121m25.84\u001b[0m\u001b[38;5;159m FPS.\u001b[0m\n",
      "\u001b[38;5;159m[Genesis] [18:08:06] [INFO] Running at \u001b[38;5;121m25.75\u001b[0m\u001b[38;5;159m FPS.\u001b[0m\n",
      "\u001b[38;5;159m[Genesis] [18:08:06] [INFO] Running at \u001b[38;5;121m25.93\u001b[0m\u001b[38;5;159m FPS.\u001b[0m\n",
      "\u001b[38;5;159m[Genesis] [18:08:06] [INFO] Running at \u001b[38;5;121m26.41\u001b[0m\u001b[38;5;159m FPS.\u001b[0m\n",
      "\u001b[38;5;159m[Genesis] [18:08:06] [INFO] Running at \u001b[38;5;121m26.30\u001b[0m\u001b[38;5;159m FPS.\u001b[0m\n",
      "\u001b[38;5;159m[Genesis] [18:08:06] [INFO] Running at \u001b[38;5;121m26.86\u001b[0m\u001b[38;5;159m FPS.\u001b[0m\n",
      "\u001b[38;5;159m[Genesis] [18:08:06] [INFO] Running at \u001b[38;5;121m27.60\u001b[0m\u001b[38;5;159m FPS.\u001b[0m\n",
      "\u001b[38;5;159m[Genesis] [18:08:06] [INFO] Running at \u001b[38;5;121m28.37\u001b[0m\u001b[38;5;159m FPS.\u001b[0m\n",
      "\u001b[38;5;159m[Genesis] [18:08:06] [INFO] Running at \u001b[38;5;121m28.06\u001b[0m\u001b[38;5;159m FPS.\u001b[0m\n",
      "\u001b[38;5;159m[Genesis] [18:08:06] [INFO] Running at \u001b[38;5;121m28.62\u001b[0m\u001b[38;5;159m FPS.\u001b[0m\n",
      "\u001b[38;5;159m[Genesis] [18:08:06] [INFO] Running at \u001b[38;5;121m29.41\u001b[0m\u001b[38;5;159m FPS.\u001b[0m\n",
      "\u001b[38;5;159m[Genesis] [18:08:06] [INFO] Running at \u001b[38;5;121m29.01\u001b[0m\u001b[38;5;159m FPS.\u001b[0m\n",
      "\u001b[38;5;159m[Genesis] [18:08:06] [INFO] Saving video to \u001b[38;5;121mclip.mp4\u001b[0m\u001b[38;5;159m.\u001b[0m\n",
      "\u001b[38;5;159m[Genesis] [18:08:07] [INFO] Video saved.\u001b[0m\n"
     ]
    },
    {
     "name": "stdout",
     "output_type": "stream",
     "text": [
      "tensor([0.7773, 0.0077, 0.1122])\n",
      "True\n"
     ]
    },
    {
     "name": "stderr",
     "output_type": "stream",
     "text": [
      "\u001b[38;5;159m[Genesis] [18:08:07] [INFO] Running at \u001b[38;5;121m18.60\u001b[0m\u001b[38;5;159m FPS.\u001b[0m\n",
      "\u001b[38;5;159m[Genesis] [18:08:07] [INFO] Running at \u001b[38;5;121m19.00\u001b[0m\u001b[38;5;159m FPS.\u001b[0m\n",
      "\u001b[38;5;159m[Genesis] [18:08:07] [INFO] Running at \u001b[38;5;121m19.58\u001b[0m\u001b[38;5;159m FPS.\u001b[0m\n",
      "\u001b[38;5;159m[Genesis] [18:08:07] [INFO] Running at \u001b[38;5;121m20.27\u001b[0m\u001b[38;5;159m FPS.\u001b[0m\n",
      "\u001b[38;5;159m[Genesis] [18:08:07] [INFO] Running at \u001b[38;5;121m20.77\u001b[0m\u001b[38;5;159m FPS.\u001b[0m\n",
      "\u001b[38;5;159m[Genesis] [18:08:07] [INFO] Running at \u001b[38;5;121m21.34\u001b[0m\u001b[38;5;159m FPS.\u001b[0m\n",
      "\u001b[38;5;159m[Genesis] [18:08:07] [INFO] Running at \u001b[38;5;121m22.02\u001b[0m\u001b[38;5;159m FPS.\u001b[0m\n",
      "\u001b[38;5;159m[Genesis] [18:08:07] [INFO] Running at \u001b[38;5;121m22.11\u001b[0m\u001b[38;5;159m FPS.\u001b[0m\n",
      "\u001b[38;5;159m[Genesis] [18:08:07] [INFO] Running at \u001b[38;5;121m22.69\u001b[0m\u001b[38;5;159m FPS.\u001b[0m\n",
      "\u001b[38;5;159m[Genesis] [18:08:07] [INFO] Running at \u001b[38;5;121m23.38\u001b[0m\u001b[38;5;159m FPS.\u001b[0m\n",
      "\u001b[38;5;159m[Genesis] [18:08:07] [INFO] Running at \u001b[38;5;121m23.39\u001b[0m\u001b[38;5;159m FPS.\u001b[0m\n",
      "\u001b[38;5;159m[Genesis] [18:08:07] [INFO] Running at \u001b[38;5;121m23.97\u001b[0m\u001b[38;5;159m FPS.\u001b[0m\n",
      "\u001b[38;5;159m[Genesis] [18:08:07] [INFO] Running at \u001b[38;5;121m24.67\u001b[0m\u001b[38;5;159m FPS.\u001b[0m\n",
      "\u001b[38;5;159m[Genesis] [18:08:07] [INFO] Running at \u001b[38;5;121m25.43\u001b[0m\u001b[38;5;159m FPS.\u001b[0m\n",
      "\u001b[38;5;159m[Genesis] [18:08:07] [INFO] Running at \u001b[38;5;121m25.31\u001b[0m\u001b[38;5;159m FPS.\u001b[0m\n",
      "\u001b[38;5;159m[Genesis] [18:08:07] [INFO] Running at \u001b[38;5;121m25.90\u001b[0m\u001b[38;5;159m FPS.\u001b[0m\n",
      "\u001b[38;5;159m[Genesis] [18:08:07] [INFO] Running at \u001b[38;5;121m26.67\u001b[0m\u001b[38;5;159m FPS.\u001b[0m\n",
      "\u001b[38;5;159m[Genesis] [18:08:07] [INFO] Running at \u001b[38;5;121m26.45\u001b[0m\u001b[38;5;159m FPS.\u001b[0m\n",
      "\u001b[38;5;159m[Genesis] [18:08:07] [INFO] Running at \u001b[38;5;121m27.03\u001b[0m\u001b[38;5;159m FPS.\u001b[0m\n",
      "\u001b[38;5;159m[Genesis] [18:08:07] [INFO] Running at \u001b[38;5;121m27.81\u001b[0m\u001b[38;5;159m FPS.\u001b[0m\n",
      "\u001b[38;5;159m[Genesis] [18:08:07] [INFO] Running at \u001b[38;5;121m27.53\u001b[0m\u001b[38;5;159m FPS.\u001b[0m\n",
      "\u001b[38;5;159m[Genesis] [18:08:07] [INFO] Running at \u001b[38;5;121m28.07\u001b[0m\u001b[38;5;159m FPS.\u001b[0m\n",
      "\u001b[38;5;159m[Genesis] [18:08:07] [INFO] Running at \u001b[38;5;121m28.80\u001b[0m\u001b[38;5;159m FPS.\u001b[0m\n",
      "\u001b[38;5;159m[Genesis] [18:08:07] [INFO] Running at \u001b[38;5;121m29.58\u001b[0m\u001b[38;5;159m FPS.\u001b[0m\n",
      "\u001b[38;5;159m[Genesis] [18:08:07] [INFO] Running at \u001b[38;5;121m29.91\u001b[0m\u001b[38;5;159m FPS.\u001b[0m\n",
      "\u001b[38;5;159m[Genesis] [18:08:07] [INFO] Saving video to \u001b[38;5;121mclip.mp4\u001b[0m\u001b[38;5;159m.\u001b[0m\n",
      "\u001b[38;5;159m[Genesis] [18:08:08] [INFO] Video saved.\u001b[0m\n"
     ]
    },
    {
     "name": "stdout",
     "output_type": "stream",
     "text": [
      "tensor([0.7731, 0.0078, 0.1122])\n",
      "True\n"
     ]
    },
    {
     "name": "stderr",
     "output_type": "stream",
     "text": [
      "\u001b[38;5;159m[Genesis] [18:08:08] [INFO] Running at \u001b[38;5;121m19.00\u001b[0m\u001b[38;5;159m FPS.\u001b[0m\n",
      "\u001b[38;5;159m[Genesis] [18:08:08] [INFO] Running at \u001b[38;5;121m19.67\u001b[0m\u001b[38;5;159m FPS.\u001b[0m\n",
      "\u001b[38;5;159m[Genesis] [18:08:08] [INFO] Running at \u001b[38;5;121m20.07\u001b[0m\u001b[38;5;159m FPS.\u001b[0m\n",
      "\u001b[38;5;159m[Genesis] [18:08:08] [INFO] Running at \u001b[38;5;121m20.41\u001b[0m\u001b[38;5;159m FPS.\u001b[0m\n",
      "\u001b[38;5;159m[Genesis] [18:08:08] [INFO] Running at \u001b[38;5;121m20.95\u001b[0m\u001b[38;5;159m FPS.\u001b[0m\n",
      "\u001b[38;5;159m[Genesis] [18:08:08] [INFO] Running at \u001b[38;5;121m21.66\u001b[0m\u001b[38;5;159m FPS.\u001b[0m\n",
      "\u001b[38;5;159m[Genesis] [18:08:08] [INFO] Running at \u001b[38;5;121m22.15\u001b[0m\u001b[38;5;159m FPS.\u001b[0m\n",
      "\u001b[38;5;159m[Genesis] [18:08:08] [INFO] Running at \u001b[38;5;121m22.74\u001b[0m\u001b[38;5;159m FPS.\u001b[0m\n",
      "\u001b[38;5;159m[Genesis] [18:08:08] [INFO] Running at \u001b[38;5;121m23.43\u001b[0m\u001b[38;5;159m FPS.\u001b[0m\n",
      "\u001b[38;5;159m[Genesis] [18:08:08] [INFO] Running at \u001b[38;5;121m24.17\u001b[0m\u001b[38;5;159m FPS.\u001b[0m\n",
      "\u001b[38;5;159m[Genesis] [18:08:08] [INFO] Running at \u001b[38;5;121m24.13\u001b[0m\u001b[38;5;159m FPS.\u001b[0m\n",
      "\u001b[38;5;159m[Genesis] [18:08:08] [INFO] Running at \u001b[38;5;121m24.73\u001b[0m\u001b[38;5;159m FPS.\u001b[0m\n",
      "\u001b[38;5;159m[Genesis] [18:08:08] [INFO] Running at \u001b[38;5;121m25.49\u001b[0m\u001b[38;5;159m FPS.\u001b[0m\n",
      "\u001b[38;5;159m[Genesis] [18:08:08] [INFO] Running at \u001b[38;5;121m25.36\u001b[0m\u001b[38;5;159m FPS.\u001b[0m\n",
      "\u001b[38;5;159m[Genesis] [18:08:08] [INFO] Running at \u001b[38;5;121m25.94\u001b[0m\u001b[38;5;159m FPS.\u001b[0m\n",
      "\u001b[38;5;159m[Genesis] [18:08:08] [INFO] Running at \u001b[38;5;121m26.65\u001b[0m\u001b[38;5;159m FPS.\u001b[0m\n",
      "\u001b[38;5;159m[Genesis] [18:08:08] [INFO] Running at \u001b[38;5;121m27.43\u001b[0m\u001b[38;5;159m FPS.\u001b[0m\n",
      "\u001b[38;5;159m[Genesis] [18:08:08] [INFO] Running at \u001b[38;5;121m27.18\u001b[0m\u001b[38;5;159m FPS.\u001b[0m\n",
      "\u001b[38;5;159m[Genesis] [18:08:08] [INFO] Running at \u001b[38;5;121m27.77\u001b[0m\u001b[38;5;159m FPS.\u001b[0m\n",
      "\u001b[38;5;159m[Genesis] [18:08:08] [INFO] Running at \u001b[38;5;121m28.54\u001b[0m\u001b[38;5;159m FPS.\u001b[0m\n",
      "\u001b[38;5;159m[Genesis] [18:08:08] [INFO] Running at \u001b[38;5;121m28.23\u001b[0m\u001b[38;5;159m FPS.\u001b[0m\n",
      "\u001b[38;5;159m[Genesis] [18:08:08] [INFO] Running at \u001b[38;5;121m28.32\u001b[0m\u001b[38;5;159m FPS.\u001b[0m\n",
      "\u001b[38;5;159m[Genesis] [18:08:08] [INFO] Running at \u001b[38;5;121m28.78\u001b[0m\u001b[38;5;159m FPS.\u001b[0m\n",
      "\u001b[38;5;159m[Genesis] [18:08:08] [INFO] Running at \u001b[38;5;121m29.56\u001b[0m\u001b[38;5;159m FPS.\u001b[0m\n",
      "\u001b[38;5;159m[Genesis] [18:08:08] [INFO] Running at \u001b[38;5;121m29.16\u001b[0m\u001b[38;5;159m FPS.\u001b[0m\n",
      "\u001b[38;5;159m[Genesis] [18:08:09] [INFO] Saving video to \u001b[38;5;121mclip.mp4\u001b[0m\u001b[38;5;159m.\u001b[0m\n",
      "\u001b[38;5;159m[Genesis] [18:08:09] [INFO] Video saved.\u001b[0m\n"
     ]
    },
    {
     "name": "stdout",
     "output_type": "stream",
     "text": [
      "tensor([0.7715, 0.0100, 0.1143])\n",
      "True\n"
     ]
    },
    {
     "name": "stderr",
     "output_type": "stream",
     "text": [
      "\u001b[38;5;159m[Genesis] [18:08:09] [INFO] Running at \u001b[38;5;121m18.67\u001b[0m\u001b[38;5;159m FPS.\u001b[0m\n",
      "\u001b[38;5;159m[Genesis] [18:08:09] [INFO] Running at \u001b[38;5;121m19.12\u001b[0m\u001b[38;5;159m FPS.\u001b[0m\n",
      "\u001b[38;5;159m[Genesis] [18:08:09] [INFO] Running at \u001b[38;5;121m19.47\u001b[0m\u001b[38;5;159m FPS.\u001b[0m\n",
      "\u001b[38;5;159m[Genesis] [18:08:09] [INFO] Running at \u001b[38;5;121m20.06\u001b[0m\u001b[38;5;159m FPS.\u001b[0m\n",
      "\u001b[38;5;159m[Genesis] [18:08:09] [INFO] Running at \u001b[38;5;121m20.18\u001b[0m\u001b[38;5;159m FPS.\u001b[0m\n",
      "\u001b[38;5;159m[Genesis] [18:08:09] [INFO] Running at \u001b[38;5;121m20.53\u001b[0m\u001b[38;5;159m FPS.\u001b[0m\n",
      "\u001b[38;5;159m[Genesis] [18:08:09] [INFO] Running at \u001b[38;5;121m21.11\u001b[0m\u001b[38;5;159m FPS.\u001b[0m\n",
      "\u001b[38;5;159m[Genesis] [18:08:09] [INFO] Running at \u001b[38;5;121m21.21\u001b[0m\u001b[38;5;159m FPS.\u001b[0m\n",
      "\u001b[38;5;159m[Genesis] [18:08:09] [INFO] Running at \u001b[38;5;121m21.79\u001b[0m\u001b[38;5;159m FPS.\u001b[0m\n",
      "\u001b[38;5;159m[Genesis] [18:08:09] [INFO] Running at \u001b[38;5;121m22.52\u001b[0m\u001b[38;5;159m FPS.\u001b[0m\n",
      "\u001b[38;5;159m[Genesis] [18:08:09] [INFO] Running at \u001b[38;5;121m22.54\u001b[0m\u001b[38;5;159m FPS.\u001b[0m\n",
      "\u001b[38;5;159m[Genesis] [18:08:09] [INFO] Running at \u001b[38;5;121m22.84\u001b[0m\u001b[38;5;159m FPS.\u001b[0m\n",
      "\u001b[38;5;159m[Genesis] [18:08:09] [INFO] Running at \u001b[38;5;121m23.43\u001b[0m\u001b[38;5;159m FPS.\u001b[0m\n",
      "\u001b[38;5;159m[Genesis] [18:08:09] [INFO] Running at \u001b[38;5;121m23.42\u001b[0m\u001b[38;5;159m FPS.\u001b[0m\n",
      "\u001b[38;5;159m[Genesis] [18:08:09] [INFO] Running at \u001b[38;5;121m23.97\u001b[0m\u001b[38;5;159m FPS.\u001b[0m\n",
      "\u001b[38;5;159m[Genesis] [18:08:09] [INFO] Running at \u001b[38;5;121m24.71\u001b[0m\u001b[38;5;159m FPS.\u001b[0m\n",
      "\u001b[38;5;159m[Genesis] [18:08:09] [INFO] Running at \u001b[38;5;121m25.47\u001b[0m\u001b[38;5;159m FPS.\u001b[0m\n",
      "\u001b[38;5;159m[Genesis] [18:08:09] [INFO] Running at \u001b[38;5;121m25.90\u001b[0m\u001b[38;5;159m FPS.\u001b[0m\n",
      "\u001b[38;5;159m[Genesis] [18:08:09] [INFO] Running at \u001b[38;5;121m26.49\u001b[0m\u001b[38;5;159m FPS.\u001b[0m\n",
      "\u001b[38;5;159m[Genesis] [18:08:09] [INFO] Running at \u001b[38;5;121m27.26\u001b[0m\u001b[38;5;159m FPS.\u001b[0m\n",
      "\u001b[38;5;159m[Genesis] [18:08:09] [INFO] Running at \u001b[38;5;121m27.02\u001b[0m\u001b[38;5;159m FPS.\u001b[0m\n",
      "\u001b[38;5;159m[Genesis] [18:08:10] [INFO] Running at \u001b[38;5;121m27.56\u001b[0m\u001b[38;5;159m FPS.\u001b[0m\n",
      "\u001b[38;5;159m[Genesis] [18:08:10] [INFO] Running at \u001b[38;5;121m28.29\u001b[0m\u001b[38;5;159m FPS.\u001b[0m\n",
      "\u001b[38;5;159m[Genesis] [18:08:10] [INFO] Running at \u001b[38;5;121m29.08\u001b[0m\u001b[38;5;159m FPS.\u001b[0m\n",
      "\u001b[38;5;159m[Genesis] [18:08:10] [INFO] Running at \u001b[38;5;121m29.38\u001b[0m\u001b[38;5;159m FPS.\u001b[0m\n",
      "\u001b[38;5;159m[Genesis] [18:08:10] [INFO] Saving video to \u001b[38;5;121mclip.mp4\u001b[0m\u001b[38;5;159m.\u001b[0m\n",
      "\u001b[38;5;159m[Genesis] [18:08:10] [INFO] Video saved.\u001b[0m\n"
     ]
    },
    {
     "name": "stdout",
     "output_type": "stream",
     "text": [
      "tensor([0.7721, 0.0010, 0.1119])\n",
      "True\n"
     ]
    },
    {
     "name": "stderr",
     "output_type": "stream",
     "text": [
      "\u001b[38;5;159m[Genesis] [18:08:10] [INFO] Running at \u001b[38;5;121m18.80\u001b[0m\u001b[38;5;159m FPS.\u001b[0m\n",
      "\u001b[38;5;159m[Genesis] [18:08:10] [INFO] Running at \u001b[38;5;121m19.20\u001b[0m\u001b[38;5;159m FPS.\u001b[0m\n",
      "\u001b[38;5;159m[Genesis] [18:08:10] [INFO] Running at \u001b[38;5;121m19.56\u001b[0m\u001b[38;5;159m FPS.\u001b[0m\n",
      "\u001b[38;5;159m[Genesis] [18:08:10] [INFO] Running at \u001b[38;5;121m20.14\u001b[0m\u001b[38;5;159m FPS.\u001b[0m\n",
      "\u001b[38;5;159m[Genesis] [18:08:10] [INFO] Running at \u001b[38;5;121m20.26\u001b[0m\u001b[38;5;159m FPS.\u001b[0m\n",
      "\u001b[38;5;159m[Genesis] [18:08:10] [INFO] Running at \u001b[38;5;121m20.82\u001b[0m\u001b[38;5;159m FPS.\u001b[0m\n",
      "\u001b[38;5;159m[Genesis] [18:08:10] [INFO] Running at \u001b[38;5;121m21.50\u001b[0m\u001b[38;5;159m FPS.\u001b[0m\n",
      "\u001b[38;5;159m[Genesis] [18:08:10] [INFO] Running at \u001b[38;5;121m22.22\u001b[0m\u001b[38;5;159m FPS.\u001b[0m\n",
      "\u001b[38;5;159m[Genesis] [18:08:10] [INFO] Running at \u001b[38;5;121m22.26\u001b[0m\u001b[38;5;159m FPS.\u001b[0m\n",
      "\u001b[38;5;159m[Genesis] [18:08:10] [INFO] Running at \u001b[38;5;121m22.84\u001b[0m\u001b[38;5;159m FPS.\u001b[0m\n",
      "\u001b[38;5;159m[Genesis] [18:08:10] [INFO] Running at \u001b[38;5;121m23.58\u001b[0m\u001b[38;5;159m FPS.\u001b[0m\n",
      "\u001b[38;5;159m[Genesis] [18:08:10] [INFO] Running at \u001b[38;5;121m23.57\u001b[0m\u001b[38;5;159m FPS.\u001b[0m\n",
      "\u001b[38;5;159m[Genesis] [18:08:10] [INFO] Running at \u001b[38;5;121m24.16\u001b[0m\u001b[38;5;159m FPS.\u001b[0m\n",
      "\u001b[38;5;159m[Genesis] [18:08:10] [INFO] Running at \u001b[38;5;121m24.92\u001b[0m\u001b[38;5;159m FPS.\u001b[0m\n",
      "\u001b[38;5;159m[Genesis] [18:08:10] [INFO] Running at \u001b[38;5;121m25.36\u001b[0m\u001b[38;5;159m FPS.\u001b[0m\n",
      "\u001b[38;5;159m[Genesis] [18:08:10] [INFO] Running at \u001b[38;5;121m25.57\u001b[0m\u001b[38;5;159m FPS.\u001b[0m\n",
      "\u001b[38;5;159m[Genesis] [18:08:10] [INFO] Running at \u001b[38;5;121m26.14\u001b[0m\u001b[38;5;159m FPS.\u001b[0m\n",
      "\u001b[38;5;159m[Genesis] [18:08:10] [INFO] Running at \u001b[38;5;121m25.97\u001b[0m\u001b[38;5;159m FPS.\u001b[0m\n",
      "\u001b[38;5;159m[Genesis] [18:08:10] [INFO] Running at \u001b[38;5;121m26.53\u001b[0m\u001b[38;5;159m FPS.\u001b[0m\n",
      "\u001b[38;5;159m[Genesis] [18:08:11] [INFO] Running at \u001b[38;5;121m27.26\u001b[0m\u001b[38;5;159m FPS.\u001b[0m\n",
      "\u001b[38;5;159m[Genesis] [18:08:11] [INFO] Running at \u001b[38;5;121m27.05\u001b[0m\u001b[38;5;159m FPS.\u001b[0m\n",
      "\u001b[38;5;159m[Genesis] [18:08:11] [INFO] Running at \u001b[38;5;121m27.59\u001b[0m\u001b[38;5;159m FPS.\u001b[0m\n",
      "\u001b[38;5;159m[Genesis] [18:08:11] [INFO] Running at \u001b[38;5;121m28.33\u001b[0m\u001b[38;5;159m FPS.\u001b[0m\n",
      "\u001b[38;5;159m[Genesis] [18:08:11] [INFO] Running at \u001b[38;5;121m29.11\u001b[0m\u001b[38;5;159m FPS.\u001b[0m\n",
      "\u001b[38;5;159m[Genesis] [18:08:11] [INFO] Running at \u001b[38;5;121m28.74\u001b[0m\u001b[38;5;159m FPS.\u001b[0m\n",
      "\u001b[38;5;159m[Genesis] [18:08:11] [INFO] Saving video to \u001b[38;5;121mclip.mp4\u001b[0m\u001b[38;5;159m.\u001b[0m\n",
      "\u001b[38;5;159m[Genesis] [18:08:11] [INFO] Video saved.\u001b[0m\n"
     ]
    },
    {
     "name": "stdout",
     "output_type": "stream",
     "text": [
      "tensor([ 0.7709, -0.0044,  0.1118])\n",
      "True\n"
     ]
    },
    {
     "name": "stderr",
     "output_type": "stream",
     "text": [
      "\u001b[38;5;159m[Genesis] [18:08:11] [INFO] Running at \u001b[38;5;121m18.47\u001b[0m\u001b[38;5;159m FPS.\u001b[0m\n",
      "\u001b[38;5;159m[Genesis] [18:08:11] [INFO] Running at \u001b[38;5;121m18.95\u001b[0m\u001b[38;5;159m FPS.\u001b[0m\n",
      "\u001b[38;5;159m[Genesis] [18:08:11] [INFO] Running at \u001b[38;5;121m19.53\u001b[0m\u001b[38;5;159m FPS.\u001b[0m\n",
      "\u001b[38;5;159m[Genesis] [18:08:11] [INFO] Running at \u001b[38;5;121m19.69\u001b[0m\u001b[38;5;159m FPS.\u001b[0m\n",
      "\u001b[38;5;159m[Genesis] [18:08:11] [INFO] Running at \u001b[38;5;121m20.25\u001b[0m\u001b[38;5;159m FPS.\u001b[0m\n",
      "\u001b[38;5;159m[Genesis] [18:08:11] [INFO] Running at \u001b[38;5;121m20.93\u001b[0m\u001b[38;5;159m FPS.\u001b[0m\n",
      "\u001b[38;5;159m[Genesis] [18:08:11] [INFO] Running at \u001b[38;5;121m21.65\u001b[0m\u001b[38;5;159m FPS.\u001b[0m\n",
      "\u001b[38;5;159m[Genesis] [18:08:11] [INFO] Running at \u001b[38;5;121m22.13\u001b[0m\u001b[38;5;159m FPS.\u001b[0m\n",
      "\u001b[38;5;159m[Genesis] [18:08:11] [INFO] Running at \u001b[38;5;121m22.72\u001b[0m\u001b[38;5;159m FPS.\u001b[0m\n",
      "\u001b[38;5;159m[Genesis] [18:08:11] [INFO] Running at \u001b[38;5;121m23.45\u001b[0m\u001b[38;5;159m FPS.\u001b[0m\n",
      "\u001b[38;5;159m[Genesis] [18:08:11] [INFO] Running at \u001b[38;5;121m23.89\u001b[0m\u001b[38;5;159m FPS.\u001b[0m\n",
      "\u001b[38;5;159m[Genesis] [18:08:11] [INFO] Running at \u001b[38;5;121m24.15\u001b[0m\u001b[38;5;159m FPS.\u001b[0m\n",
      "\u001b[38;5;159m[Genesis] [18:08:11] [INFO] Running at \u001b[38;5;121m24.67\u001b[0m\u001b[38;5;159m FPS.\u001b[0m\n",
      "\u001b[38;5;159m[Genesis] [18:08:11] [INFO] Running at \u001b[38;5;121m24.63\u001b[0m\u001b[38;5;159m FPS.\u001b[0m\n",
      "\u001b[38;5;159m[Genesis] [18:08:11] [INFO] Running at \u001b[38;5;121m25.20\u001b[0m\u001b[38;5;159m FPS.\u001b[0m\n",
      "\u001b[38;5;159m[Genesis] [18:08:11] [INFO] Running at \u001b[38;5;121m25.85\u001b[0m\u001b[38;5;159m FPS.\u001b[0m\n",
      "\u001b[38;5;159m[Genesis] [18:08:12] [INFO] Running at \u001b[38;5;121m25.78\u001b[0m\u001b[38;5;159m FPS.\u001b[0m\n",
      "\u001b[38;5;159m[Genesis] [18:08:12] [INFO] Running at \u001b[38;5;121m26.36\u001b[0m\u001b[38;5;159m FPS.\u001b[0m\n",
      "\u001b[38;5;159m[Genesis] [18:08:12] [INFO] Running at \u001b[38;5;121m27.13\u001b[0m\u001b[38;5;159m FPS.\u001b[0m\n",
      "\u001b[38;5;159m[Genesis] [18:08:12] [INFO] Running at \u001b[38;5;121m26.90\u001b[0m\u001b[38;5;159m FPS.\u001b[0m\n",
      "\u001b[38;5;159m[Genesis] [18:08:12] [INFO] Running at \u001b[38;5;121m27.46\u001b[0m\u001b[38;5;159m FPS.\u001b[0m\n",
      "\u001b[38;5;159m[Genesis] [18:08:12] [INFO] Running at \u001b[38;5;121m28.18\u001b[0m\u001b[38;5;159m FPS.\u001b[0m\n",
      "\u001b[38;5;159m[Genesis] [18:08:12] [INFO] Running at \u001b[38;5;121m28.97\u001b[0m\u001b[38;5;159m FPS.\u001b[0m\n",
      "\u001b[38;5;159m[Genesis] [18:08:12] [INFO] Running at \u001b[38;5;121m28.61\u001b[0m\u001b[38;5;159m FPS.\u001b[0m\n",
      "\u001b[38;5;159m[Genesis] [18:08:12] [INFO] Running at \u001b[38;5;121m29.17\u001b[0m\u001b[38;5;159m FPS.\u001b[0m\n",
      "\u001b[38;5;159m[Genesis] [18:08:12] [INFO] Saving video to \u001b[38;5;121mclip.mp4\u001b[0m\u001b[38;5;159m.\u001b[0m\n",
      "\u001b[38;5;159m[Genesis] [18:08:12] [INFO] Video saved.\u001b[0m\n"
     ]
    },
    {
     "name": "stdout",
     "output_type": "stream",
     "text": [
      "tensor([ 0.7719, -0.0021,  0.1122])\n",
      "True\n"
     ]
    },
    {
     "name": "stderr",
     "output_type": "stream",
     "text": [
      "\u001b[38;5;159m[Genesis] [18:08:12] [INFO] Running at \u001b[38;5;121m18.75\u001b[0m\u001b[38;5;159m FPS.\u001b[0m\n",
      "\u001b[38;5;159m[Genesis] [18:08:12] [INFO] Running at \u001b[38;5;121m19.41\u001b[0m\u001b[38;5;159m FPS.\u001b[0m\n",
      "\u001b[38;5;159m[Genesis] [18:08:12] [INFO] Running at \u001b[38;5;121m20.09\u001b[0m\u001b[38;5;159m FPS.\u001b[0m\n",
      "\u001b[38;5;159m[Genesis] [18:08:12] [INFO] Running at \u001b[38;5;121m20.23\u001b[0m\u001b[38;5;159m FPS.\u001b[0m\n",
      "\u001b[38;5;159m[Genesis] [18:08:12] [INFO] Running at \u001b[38;5;121m20.80\u001b[0m\u001b[38;5;159m FPS.\u001b[0m\n",
      "\u001b[38;5;159m[Genesis] [18:08:12] [INFO] Running at \u001b[38;5;121m21.48\u001b[0m\u001b[38;5;159m FPS.\u001b[0m\n",
      "\u001b[38;5;159m[Genesis] [18:08:12] [INFO] Running at \u001b[38;5;121m22.20\u001b[0m\u001b[38;5;159m FPS.\u001b[0m\n",
      "\u001b[38;5;159m[Genesis] [18:08:12] [INFO] Running at \u001b[38;5;121m22.24\u001b[0m\u001b[38;5;159m FPS.\u001b[0m\n",
      "\u001b[38;5;159m[Genesis] [18:08:12] [INFO] Running at \u001b[38;5;121m22.81\u001b[0m\u001b[38;5;159m FPS.\u001b[0m\n",
      "\u001b[38;5;159m[Genesis] [18:08:12] [INFO] Running at \u001b[38;5;121m23.55\u001b[0m\u001b[38;5;159m FPS.\u001b[0m\n",
      "\u001b[38;5;159m[Genesis] [18:08:12] [INFO] Running at \u001b[38;5;121m23.52\u001b[0m\u001b[38;5;159m FPS.\u001b[0m\n",
      "\u001b[38;5;159m[Genesis] [18:08:12] [INFO] Running at \u001b[38;5;121m24.12\u001b[0m\u001b[38;5;159m FPS.\u001b[0m\n",
      "\u001b[38;5;159m[Genesis] [18:08:12] [INFO] Running at \u001b[38;5;121m24.87\u001b[0m\u001b[38;5;159m FPS.\u001b[0m\n",
      "\u001b[38;5;159m[Genesis] [18:08:12] [INFO] Running at \u001b[38;5;121m24.77\u001b[0m\u001b[38;5;159m FPS.\u001b[0m\n",
      "\u001b[38;5;159m[Genesis] [18:08:12] [INFO] Running at \u001b[38;5;121m25.35\u001b[0m\u001b[38;5;159m FPS.\u001b[0m\n",
      "\u001b[38;5;159m[Genesis] [18:08:13] [INFO] Running at \u001b[38;5;121m26.12\u001b[0m\u001b[38;5;159m FPS.\u001b[0m\n",
      "\u001b[38;5;159m[Genesis] [18:08:13] [INFO] Running at \u001b[38;5;121m26.51\u001b[0m\u001b[38;5;159m FPS.\u001b[0m\n",
      "\u001b[38;5;159m[Genesis] [18:08:13] [INFO] Running at \u001b[38;5;121m27.05\u001b[0m\u001b[38;5;159m FPS.\u001b[0m\n",
      "\u001b[38;5;159m[Genesis] [18:08:13] [INFO] Running at \u001b[38;5;121m27.82\u001b[0m\u001b[38;5;159m FPS.\u001b[0m\n",
      "\u001b[38;5;159m[Genesis] [18:08:13] [INFO] Running at \u001b[38;5;121m28.60\u001b[0m\u001b[38;5;159m FPS.\u001b[0m\n",
      "\u001b[38;5;159m[Genesis] [18:08:13] [INFO] Running at \u001b[38;5;121m28.28\u001b[0m\u001b[38;5;159m FPS.\u001b[0m\n",
      "\u001b[38;5;159m[Genesis] [18:08:13] [INFO] Running at \u001b[38;5;121m28.82\u001b[0m\u001b[38;5;159m FPS.\u001b[0m\n",
      "\u001b[38;5;159m[Genesis] [18:08:13] [INFO] Running at \u001b[38;5;121m29.61\u001b[0m\u001b[38;5;159m FPS.\u001b[0m\n",
      "\u001b[38;5;159m[Genesis] [18:08:13] [INFO] Running at \u001b[38;5;121m29.20\u001b[0m\u001b[38;5;159m FPS.\u001b[0m\n",
      "\u001b[38;5;159m[Genesis] [18:08:13] [INFO] Running at \u001b[38;5;121m29.73\u001b[0m\u001b[38;5;159m FPS.\u001b[0m\n",
      "\u001b[38;5;159m[Genesis] [18:08:13] [INFO] Saving video to \u001b[38;5;121mclip.mp4\u001b[0m\u001b[38;5;159m.\u001b[0m\n",
      "\u001b[38;5;159m[Genesis] [18:08:13] [INFO] Video saved.\u001b[0m\n"
     ]
    },
    {
     "name": "stdout",
     "output_type": "stream",
     "text": [
      "tensor([7.7275e-01, 2.0049e-04, 1.1229e-01])\n",
      "True\n"
     ]
    },
    {
     "name": "stderr",
     "output_type": "stream",
     "text": [
      "\u001b[38;5;159m[Genesis] [18:08:13] [INFO] Running at \u001b[38;5;121m18.96\u001b[0m\u001b[38;5;159m FPS.\u001b[0m\n",
      "\u001b[38;5;159m[Genesis] [18:08:13] [INFO] Running at \u001b[38;5;121m19.42\u001b[0m\u001b[38;5;159m FPS.\u001b[0m\n",
      "\u001b[38;5;159m[Genesis] [18:08:13] [INFO] Running at \u001b[38;5;121m19.99\u001b[0m\u001b[38;5;159m FPS.\u001b[0m\n",
      "\u001b[38;5;159m[Genesis] [18:08:13] [INFO] Running at \u001b[38;5;121m20.65\u001b[0m\u001b[38;5;159m FPS.\u001b[0m\n",
      "\u001b[38;5;159m[Genesis] [18:08:13] [INFO] Running at \u001b[38;5;121m20.80\u001b[0m\u001b[38;5;159m FPS.\u001b[0m\n",
      "\u001b[38;5;159m[Genesis] [18:08:13] [INFO] Running at \u001b[38;5;121m21.37\u001b[0m\u001b[38;5;159m FPS.\u001b[0m\n",
      "\u001b[38;5;159m[Genesis] [18:08:13] [INFO] Running at \u001b[38;5;121m22.07\u001b[0m\u001b[38;5;159m FPS.\u001b[0m\n",
      "\u001b[38;5;159m[Genesis] [18:08:13] [INFO] Running at \u001b[38;5;121m22.80\u001b[0m\u001b[38;5;159m FPS.\u001b[0m\n",
      "\u001b[38;5;159m[Genesis] [18:08:13] [INFO] Running at \u001b[38;5;121m22.81\u001b[0m\u001b[38;5;159m FPS.\u001b[0m\n",
      "\u001b[38;5;159m[Genesis] [18:08:13] [INFO] Running at \u001b[38;5;121m23.41\u001b[0m\u001b[38;5;159m FPS.\u001b[0m\n",
      "\u001b[38;5;159m[Genesis] [18:08:13] [INFO] Running at \u001b[38;5;121m24.10\u001b[0m\u001b[38;5;159m FPS.\u001b[0m\n",
      "\u001b[38;5;159m[Genesis] [18:08:13] [INFO] Running at \u001b[38;5;121m24.86\u001b[0m\u001b[38;5;159m FPS.\u001b[0m\n",
      "\u001b[38;5;159m[Genesis] [18:08:13] [INFO] Running at \u001b[38;5;121m24.77\u001b[0m\u001b[38;5;159m FPS.\u001b[0m\n",
      "\u001b[38;5;159m[Genesis] [18:08:13] [INFO] Running at \u001b[38;5;121m25.37\u001b[0m\u001b[38;5;159m FPS.\u001b[0m\n",
      "\u001b[38;5;159m[Genesis] [18:08:14] [INFO] Running at \u001b[38;5;121m26.14\u001b[0m\u001b[38;5;159m FPS.\u001b[0m\n",
      "\u001b[38;5;159m[Genesis] [18:08:14] [INFO] Running at \u001b[38;5;121m26.56\u001b[0m\u001b[38;5;159m FPS.\u001b[0m\n",
      "\u001b[38;5;159m[Genesis] [18:08:14] [INFO] Running at \u001b[38;5;121m27.10\u001b[0m\u001b[38;5;159m FPS.\u001b[0m\n",
      "\u001b[38;5;159m[Genesis] [18:08:14] [INFO] Running at \u001b[38;5;121m27.82\u001b[0m\u001b[38;5;159m FPS.\u001b[0m\n",
      "\u001b[38;5;159m[Genesis] [18:08:14] [INFO] Running at \u001b[38;5;121m28.61\u001b[0m\u001b[38;5;159m FPS.\u001b[0m\n",
      "\u001b[38;5;159m[Genesis] [18:08:14] [INFO] Running at \u001b[38;5;121m28.98\u001b[0m\u001b[38;5;159m FPS.\u001b[0m\n",
      "\u001b[38;5;159m[Genesis] [18:08:14] [INFO] Running at \u001b[38;5;121m29.54\u001b[0m\u001b[38;5;159m FPS.\u001b[0m\n",
      "\u001b[38;5;159m[Genesis] [18:08:14] [INFO] Running at \u001b[38;5;121m30.33\u001b[0m\u001b[38;5;159m FPS.\u001b[0m\n",
      "\u001b[38;5;159m[Genesis] [18:08:14] [INFO] Running at \u001b[38;5;121m29.85\u001b[0m\u001b[38;5;159m FPS.\u001b[0m\n",
      "\u001b[38;5;159m[Genesis] [18:08:14] [INFO] Running at \u001b[38;5;121m30.25\u001b[0m\u001b[38;5;159m FPS.\u001b[0m\n",
      "\u001b[38;5;159m[Genesis] [18:08:14] [INFO] Running at \u001b[38;5;121m31.02\u001b[0m\u001b[38;5;159m FPS.\u001b[0m\n",
      "\u001b[38;5;159m[Genesis] [18:08:14] [INFO] Saving video to \u001b[38;5;121mclip.mp4\u001b[0m\u001b[38;5;159m.\u001b[0m\n",
      "\u001b[38;5;159m[Genesis] [18:08:14] [INFO] Video saved.\u001b[0m\n"
     ]
    },
    {
     "name": "stdout",
     "output_type": "stream",
     "text": [
      "tensor([0.7652, 0.0022, 0.1268])\n",
      "True\n"
     ]
    },
    {
     "name": "stderr",
     "output_type": "stream",
     "text": [
      "\u001b[38;5;159m[Genesis] [18:08:14] [INFO] Running at \u001b[38;5;121m19.49\u001b[0m\u001b[38;5;159m FPS.\u001b[0m\n",
      "\u001b[38;5;159m[Genesis] [18:08:14] [INFO] Running at \u001b[38;5;121m19.96\u001b[0m\u001b[38;5;159m FPS.\u001b[0m\n",
      "\u001b[38;5;159m[Genesis] [18:08:14] [INFO] Running at \u001b[38;5;121m20.30\u001b[0m\u001b[38;5;159m FPS.\u001b[0m\n",
      "\u001b[38;5;159m[Genesis] [18:08:14] [INFO] Running at \u001b[38;5;121m20.84\u001b[0m\u001b[38;5;159m FPS.\u001b[0m\n",
      "\u001b[38;5;159m[Genesis] [18:08:14] [INFO] Running at \u001b[38;5;121m21.55\u001b[0m\u001b[38;5;159m FPS.\u001b[0m\n",
      "\u001b[38;5;159m[Genesis] [18:08:14] [INFO] Running at \u001b[38;5;121m22.03\u001b[0m\u001b[38;5;159m FPS.\u001b[0m\n",
      "\u001b[38;5;159m[Genesis] [18:08:14] [INFO] Running at \u001b[38;5;121m22.62\u001b[0m\u001b[38;5;159m FPS.\u001b[0m\n",
      "\u001b[38;5;159m[Genesis] [18:08:14] [INFO] Running at \u001b[38;5;121m23.36\u001b[0m\u001b[38;5;159m FPS.\u001b[0m\n",
      "\u001b[38;5;159m[Genesis] [18:08:14] [INFO] Running at \u001b[38;5;121m23.82\u001b[0m\u001b[38;5;159m FPS.\u001b[0m\n",
      "\u001b[38;5;159m[Genesis] [18:08:14] [INFO] Running at \u001b[38;5;121m24.07\u001b[0m\u001b[38;5;159m FPS.\u001b[0m\n",
      "\u001b[38;5;159m[Genesis] [18:08:14] [INFO] Running at \u001b[38;5;121m24.59\u001b[0m\u001b[38;5;159m FPS.\u001b[0m\n",
      "\u001b[38;5;159m[Genesis] [18:08:14] [INFO] Running at \u001b[38;5;121m25.35\u001b[0m\u001b[38;5;159m FPS.\u001b[0m\n",
      "\u001b[38;5;159m[Genesis] [18:08:14] [INFO] Running at \u001b[38;5;121m25.23\u001b[0m\u001b[38;5;159m FPS.\u001b[0m\n",
      "\u001b[38;5;159m[Genesis] [18:08:14] [INFO] Running at \u001b[38;5;121m25.81\u001b[0m\u001b[38;5;159m FPS.\u001b[0m\n",
      "\u001b[38;5;159m[Genesis] [18:08:15] [INFO] Running at \u001b[38;5;121m26.58\u001b[0m\u001b[38;5;159m FPS.\u001b[0m\n",
      "\u001b[38;5;159m[Genesis] [18:08:15] [INFO] Running at \u001b[38;5;121m26.39\u001b[0m\u001b[38;5;159m FPS.\u001b[0m\n",
      "\u001b[38;5;159m[Genesis] [18:08:15] [INFO] Running at \u001b[38;5;121m26.97\u001b[0m\u001b[38;5;159m FPS.\u001b[0m\n",
      "\u001b[38;5;159m[Genesis] [18:08:15] [INFO] Running at \u001b[38;5;121m27.65\u001b[0m\u001b[38;5;159m FPS.\u001b[0m\n",
      "\u001b[38;5;159m[Genesis] [18:08:15] [INFO] Running at \u001b[38;5;121m27.45\u001b[0m\u001b[38;5;159m FPS.\u001b[0m\n",
      "\u001b[38;5;159m[Genesis] [18:08:15] [INFO] Running at \u001b[38;5;121m27.57\u001b[0m\u001b[38;5;159m FPS.\u001b[0m\n",
      "\u001b[38;5;159m[Genesis] [18:08:15] [INFO] Running at \u001b[38;5;121m28.13\u001b[0m\u001b[38;5;159m FPS.\u001b[0m\n",
      "\u001b[38;5;159m[Genesis] [18:08:15] [INFO] Running at \u001b[38;5;121m27.82\u001b[0m\u001b[38;5;159m FPS.\u001b[0m\n",
      "\u001b[38;5;159m[Genesis] [18:08:15] [INFO] Running at \u001b[38;5;121m28.37\u001b[0m\u001b[38;5;159m FPS.\u001b[0m\n",
      "\u001b[38;5;159m[Genesis] [18:08:15] [INFO] Running at \u001b[38;5;121m29.08\u001b[0m\u001b[38;5;159m FPS.\u001b[0m\n",
      "\u001b[38;5;159m[Genesis] [18:08:15] [INFO] Running at \u001b[38;5;121m29.86\u001b[0m\u001b[38;5;159m FPS.\u001b[0m\n",
      "\u001b[38;5;159m[Genesis] [18:08:15] [INFO] Saving video to \u001b[38;5;121mclip.mp4\u001b[0m\u001b[38;5;159m.\u001b[0m\n",
      "\u001b[38;5;159m[Genesis] [18:08:15] [INFO] Video saved.\u001b[0m\n"
     ]
    },
    {
     "name": "stdout",
     "output_type": "stream",
     "text": [
      "tensor([0.7702, 0.0052, 0.1184])\n",
      "True\n"
     ]
    },
    {
     "name": "stderr",
     "output_type": "stream",
     "text": [
      "\u001b[38;5;159m[Genesis] [18:08:15] [INFO] Running at \u001b[38;5;121m18.56\u001b[0m\u001b[38;5;159m FPS.\u001b[0m\n",
      "\u001b[38;5;159m[Genesis] [18:08:15] [INFO] Running at \u001b[38;5;121m18.91\u001b[0m\u001b[38;5;159m FPS.\u001b[0m\n",
      "\u001b[38;5;159m[Genesis] [18:08:15] [INFO] Running at \u001b[38;5;121m19.48\u001b[0m\u001b[38;5;159m FPS.\u001b[0m\n",
      "\u001b[38;5;159m[Genesis] [18:08:15] [INFO] Running at \u001b[38;5;121m20.13\u001b[0m\u001b[38;5;159m FPS.\u001b[0m\n",
      "\u001b[38;5;159m[Genesis] [18:08:15] [INFO] Running at \u001b[38;5;121m20.83\u001b[0m\u001b[38;5;159m FPS.\u001b[0m\n",
      "\u001b[38;5;159m[Genesis] [18:08:15] [INFO] Running at \u001b[38;5;121m21.32\u001b[0m\u001b[38;5;159m FPS.\u001b[0m\n",
      "\u001b[38;5;159m[Genesis] [18:08:15] [INFO] Running at \u001b[38;5;121m21.91\u001b[0m\u001b[38;5;159m FPS.\u001b[0m\n",
      "\u001b[38;5;159m[Genesis] [18:08:15] [INFO] Running at \u001b[38;5;121m22.64\u001b[0m\u001b[38;5;159m FPS.\u001b[0m\n",
      "\u001b[38;5;159m[Genesis] [18:08:15] [INFO] Running at \u001b[38;5;121m23.10\u001b[0m\u001b[38;5;159m FPS.\u001b[0m\n",
      "\u001b[38;5;159m[Genesis] [18:08:15] [INFO] Running at \u001b[38;5;121m23.38\u001b[0m\u001b[38;5;159m FPS.\u001b[0m\n",
      "\u001b[38;5;159m[Genesis] [18:08:15] [INFO] Running at \u001b[38;5;121m23.91\u001b[0m\u001b[38;5;159m FPS.\u001b[0m\n",
      "\u001b[38;5;159m[Genesis] [18:08:16] [INFO] Running at \u001b[38;5;121m23.90\u001b[0m\u001b[38;5;159m FPS.\u001b[0m\n",
      "\u001b[38;5;159m[Genesis] [18:08:16] [INFO] Running at \u001b[38;5;121m24.47\u001b[0m\u001b[38;5;159m FPS.\u001b[0m\n",
      "\u001b[38;5;159m[Genesis] [18:08:16] [INFO] Running at \u001b[38;5;121m25.21\u001b[0m\u001b[38;5;159m FPS.\u001b[0m\n",
      "\u001b[38;5;159m[Genesis] [18:08:16] [INFO] Running at \u001b[38;5;121m25.98\u001b[0m\u001b[38;5;159m FPS.\u001b[0m\n",
      "\u001b[38;5;159m[Genesis] [18:08:16] [INFO] Running at \u001b[38;5;121m25.83\u001b[0m\u001b[38;5;159m FPS.\u001b[0m\n",
      "\u001b[38;5;159m[Genesis] [18:08:16] [INFO] Running at \u001b[38;5;121m26.41\u001b[0m\u001b[38;5;159m FPS.\u001b[0m\n",
      "\u001b[38;5;159m[Genesis] [18:08:16] [INFO] Running at \u001b[38;5;121m27.13\u001b[0m\u001b[38;5;159m FPS.\u001b[0m\n",
      "\u001b[38;5;159m[Genesis] [18:08:16] [INFO] Running at \u001b[38;5;121m27.90\u001b[0m\u001b[38;5;159m FPS.\u001b[0m\n",
      "\u001b[38;5;159m[Genesis] [18:08:16] [INFO] Running at \u001b[38;5;121m27.61\u001b[0m\u001b[38;5;159m FPS.\u001b[0m\n",
      "\u001b[38;5;159m[Genesis] [18:08:16] [INFO] Running at \u001b[38;5;121m28.17\u001b[0m\u001b[38;5;159m FPS.\u001b[0m\n",
      "\u001b[38;5;159m[Genesis] [18:08:16] [INFO] Running at \u001b[38;5;121m28.96\u001b[0m\u001b[38;5;159m FPS.\u001b[0m\n",
      "\u001b[38;5;159m[Genesis] [18:08:16] [INFO] Running at \u001b[38;5;121m28.62\u001b[0m\u001b[38;5;159m FPS.\u001b[0m\n",
      "\u001b[38;5;159m[Genesis] [18:08:16] [INFO] Running at \u001b[38;5;121m29.17\u001b[0m\u001b[38;5;159m FPS.\u001b[0m\n",
      "\u001b[38;5;159m[Genesis] [18:08:16] [INFO] Running at \u001b[38;5;121m29.95\u001b[0m\u001b[38;5;159m FPS.\u001b[0m\n",
      "\u001b[38;5;159m[Genesis] [18:08:16] [INFO] Saving video to \u001b[38;5;121mclip.mp4\u001b[0m\u001b[38;5;159m.\u001b[0m\n",
      "\u001b[38;5;159m[Genesis] [18:08:16] [INFO] Video saved.\u001b[0m\n"
     ]
    },
    {
     "name": "stdout",
     "output_type": "stream",
     "text": [
      "tensor([ 0.7653, -0.0020,  0.1200])\n",
      "True\n"
     ]
    },
    {
     "name": "stderr",
     "output_type": "stream",
     "text": [
      "\u001b[38;5;159m[Genesis] [18:08:16] [INFO] Running at \u001b[38;5;121m18.57\u001b[0m\u001b[38;5;159m FPS.\u001b[0m\n",
      "\u001b[38;5;159m[Genesis] [18:08:16] [INFO] Running at \u001b[38;5;121m19.11\u001b[0m\u001b[38;5;159m FPS.\u001b[0m\n",
      "\u001b[38;5;159m[Genesis] [18:08:16] [INFO] Running at \u001b[38;5;121m19.79\u001b[0m\u001b[38;5;159m FPS.\u001b[0m\n",
      "\u001b[38;5;159m[Genesis] [18:08:16] [INFO] Running at \u001b[38;5;121m19.94\u001b[0m\u001b[38;5;159m FPS.\u001b[0m\n",
      "\u001b[38;5;159m[Genesis] [18:08:16] [INFO] Running at \u001b[38;5;121m20.49\u001b[0m\u001b[38;5;159m FPS.\u001b[0m\n",
      "\u001b[38;5;159m[Genesis] [18:08:16] [INFO] Running at \u001b[38;5;121m21.19\u001b[0m\u001b[38;5;159m FPS.\u001b[0m\n",
      "\u001b[38;5;159m[Genesis] [18:08:16] [INFO] Running at \u001b[38;5;121m21.91\u001b[0m\u001b[38;5;159m FPS.\u001b[0m\n",
      "\u001b[38;5;159m[Genesis] [18:08:16] [INFO] Running at \u001b[38;5;121m21.97\u001b[0m\u001b[38;5;159m FPS.\u001b[0m\n",
      "\u001b[38;5;159m[Genesis] [18:08:16] [INFO] Running at \u001b[38;5;121m22.54\u001b[0m\u001b[38;5;159m FPS.\u001b[0m\n",
      "\u001b[38;5;159m[Genesis] [18:08:17] [INFO] Running at \u001b[38;5;121m23.24\u001b[0m\u001b[38;5;159m FPS.\u001b[0m\n",
      "\u001b[38;5;159m[Genesis] [18:08:17] [INFO] Running at \u001b[38;5;121m23.98\u001b[0m\u001b[38;5;159m FPS.\u001b[0m\n",
      "\u001b[38;5;159m[Genesis] [18:08:17] [INFO] Running at \u001b[38;5;121m23.94\u001b[0m\u001b[38;5;159m FPS.\u001b[0m\n",
      "\u001b[38;5;159m[Genesis] [18:08:17] [INFO] Running at \u001b[38;5;121m24.54\u001b[0m\u001b[38;5;159m FPS.\u001b[0m\n",
      "\u001b[38;5;159m[Genesis] [18:08:17] [INFO] Running at \u001b[38;5;121m25.31\u001b[0m\u001b[38;5;159m FPS.\u001b[0m\n",
      "\u001b[38;5;159m[Genesis] [18:08:17] [INFO] Running at \u001b[38;5;121m25.74\u001b[0m\u001b[38;5;159m FPS.\u001b[0m\n",
      "\u001b[38;5;159m[Genesis] [18:08:17] [INFO] Running at \u001b[38;5;121m26.32\u001b[0m\u001b[38;5;159m FPS.\u001b[0m\n",
      "\u001b[38;5;159m[Genesis] [18:08:17] [INFO] Running at \u001b[38;5;121m27.03\u001b[0m\u001b[38;5;159m FPS.\u001b[0m\n",
      "\u001b[38;5;159m[Genesis] [18:08:17] [INFO] Running at \u001b[38;5;121m27.80\u001b[0m\u001b[38;5;159m FPS.\u001b[0m\n",
      "\u001b[38;5;159m[Genesis] [18:08:17] [INFO] Running at \u001b[38;5;121m27.51\u001b[0m\u001b[38;5;159m FPS.\u001b[0m\n",
      "\u001b[38;5;159m[Genesis] [18:08:17] [INFO] Running at \u001b[38;5;121m28.07\u001b[0m\u001b[38;5;159m FPS.\u001b[0m\n",
      "\u001b[38;5;159m[Genesis] [18:08:17] [INFO] Running at \u001b[38;5;121m28.86\u001b[0m\u001b[38;5;159m FPS.\u001b[0m\n",
      "\u001b[38;5;159m[Genesis] [18:08:17] [INFO] Running at \u001b[38;5;121m29.22\u001b[0m\u001b[38;5;159m FPS.\u001b[0m\n",
      "\u001b[38;5;159m[Genesis] [18:08:17] [INFO] Running at \u001b[38;5;121m29.75\u001b[0m\u001b[38;5;159m FPS.\u001b[0m\n",
      "\u001b[38;5;159m[Genesis] [18:08:17] [INFO] Running at \u001b[38;5;121m30.46\u001b[0m\u001b[38;5;159m FPS.\u001b[0m\n",
      "\u001b[38;5;159m[Genesis] [18:08:17] [INFO] Running at \u001b[38;5;121m31.25\u001b[0m\u001b[38;5;159m FPS.\u001b[0m\n",
      "\u001b[38;5;159m[Genesis] [18:08:17] [INFO] Saving video to \u001b[38;5;121mclip.mp4\u001b[0m\u001b[38;5;159m.\u001b[0m\n",
      "\u001b[38;5;159m[Genesis] [18:08:17] [INFO] Video saved.\u001b[0m\n"
     ]
    },
    {
     "name": "stdout",
     "output_type": "stream",
     "text": [
      "tensor([0.7716, 0.0008, 0.1131])\n",
      "True\n"
     ]
    },
    {
     "name": "stderr",
     "output_type": "stream",
     "text": [
      "\u001b[38;5;159m[Genesis] [18:08:17] [INFO] Running at \u001b[38;5;121m19.13\u001b[0m\u001b[38;5;159m FPS.\u001b[0m\n",
      "\u001b[38;5;159m[Genesis] [18:08:17] [INFO] Running at \u001b[38;5;121m19.73\u001b[0m\u001b[38;5;159m FPS.\u001b[0m\n",
      "\u001b[38;5;159m[Genesis] [18:08:17] [INFO] Running at \u001b[38;5;121m20.42\u001b[0m\u001b[38;5;159m FPS.\u001b[0m\n",
      "\u001b[38;5;159m[Genesis] [18:08:17] [INFO] Running at \u001b[38;5;121m20.76\u001b[0m\u001b[38;5;159m FPS.\u001b[0m\n",
      "\u001b[38;5;159m[Genesis] [18:08:17] [INFO] Running at \u001b[38;5;121m21.10\u001b[0m\u001b[38;5;159m FPS.\u001b[0m\n",
      "\u001b[38;5;159m[Genesis] [18:08:17] [INFO] Running at \u001b[38;5;121m21.64\u001b[0m\u001b[38;5;159m FPS.\u001b[0m\n",
      "\u001b[38;5;159m[Genesis] [18:08:17] [INFO] Running at \u001b[38;5;121m21.74\u001b[0m\u001b[38;5;159m FPS.\u001b[0m\n",
      "\u001b[38;5;159m[Genesis] [18:08:17] [INFO] Running at \u001b[38;5;121m22.31\u001b[0m\u001b[38;5;159m FPS.\u001b[0m\n",
      "\u001b[38;5;159m[Genesis] [18:08:18] [INFO] Running at \u001b[38;5;121m22.98\u001b[0m\u001b[38;5;159m FPS.\u001b[0m\n",
      "\u001b[38;5;159m[Genesis] [18:08:18] [INFO] Running at \u001b[38;5;121m22.87\u001b[0m\u001b[38;5;159m FPS.\u001b[0m\n",
      "\u001b[38;5;159m[Genesis] [18:08:18] [INFO] Running at \u001b[38;5;121m23.56\u001b[0m\u001b[38;5;159m FPS.\u001b[0m\n",
      "\u001b[38;5;159m[Genesis] [18:08:18] [INFO] Running at \u001b[38;5;121m23.61\u001b[0m\u001b[38;5;159m FPS.\u001b[0m\n",
      "\u001b[38;5;159m[Genesis] [18:08:18] [INFO] Running at \u001b[38;5;121m24.14\u001b[0m\u001b[38;5;159m FPS.\u001b[0m\n",
      "\u001b[38;5;159m[Genesis] [18:08:18] [INFO] Running at \u001b[38;5;121m24.11\u001b[0m\u001b[38;5;159m FPS.\u001b[0m\n",
      "\u001b[38;5;159m[Genesis] [18:08:18] [INFO] Running at \u001b[38;5;121m24.71\u001b[0m\u001b[38;5;159m FPS.\u001b[0m\n",
      "\u001b[38;5;159m[Genesis] [18:08:18] [INFO] Running at \u001b[38;5;121m25.39\u001b[0m\u001b[38;5;159m FPS.\u001b[0m\n",
      "\u001b[38;5;159m[Genesis] [18:08:18] [INFO] Running at \u001b[38;5;121m26.15\u001b[0m\u001b[38;5;159m FPS.\u001b[0m\n",
      "\u001b[38;5;159m[Genesis] [18:08:18] [INFO] Running at \u001b[38;5;121m26.06\u001b[0m\u001b[38;5;159m FPS.\u001b[0m\n",
      "\u001b[38;5;159m[Genesis] [18:08:18] [INFO] Running at \u001b[38;5;121m26.56\u001b[0m\u001b[38;5;159m FPS.\u001b[0m\n",
      "\u001b[38;5;159m[Genesis] [18:08:18] [INFO] Running at \u001b[38;5;121m26.43\u001b[0m\u001b[38;5;159m FPS.\u001b[0m\n",
      "\u001b[38;5;159m[Genesis] [18:08:18] [INFO] Running at \u001b[38;5;121m26.96\u001b[0m\u001b[38;5;159m FPS.\u001b[0m\n",
      "\u001b[38;5;159m[Genesis] [18:08:18] [INFO] Running at \u001b[38;5;121m27.72\u001b[0m\u001b[38;5;159m FPS.\u001b[0m\n",
      "\u001b[38;5;159m[Genesis] [18:08:18] [INFO] Running at \u001b[38;5;121m28.51\u001b[0m\u001b[38;5;159m FPS.\u001b[0m\n",
      "\u001b[38;5;159m[Genesis] [18:08:18] [INFO] Running at \u001b[38;5;121m28.87\u001b[0m\u001b[38;5;159m FPS.\u001b[0m\n",
      "\u001b[38;5;159m[Genesis] [18:08:18] [INFO] Running at \u001b[38;5;121m29.41\u001b[0m\u001b[38;5;159m FPS.\u001b[0m\n",
      "\u001b[38;5;159m[Genesis] [18:08:18] [INFO] Saving video to \u001b[38;5;121mclip.mp4\u001b[0m\u001b[38;5;159m.\u001b[0m\n",
      "\u001b[38;5;159m[Genesis] [18:08:18] [INFO] Video saved.\u001b[0m\n"
     ]
    },
    {
     "name": "stdout",
     "output_type": "stream",
     "text": [
      "tensor([0.7677, 0.0043, 0.1134])\n",
      "True\n"
     ]
    },
    {
     "name": "stderr",
     "output_type": "stream",
     "text": [
      "\u001b[38;5;159m[Genesis] [18:08:18] [INFO] Running at \u001b[38;5;121m18.86\u001b[0m\u001b[38;5;159m FPS.\u001b[0m\n",
      "\u001b[38;5;159m[Genesis] [18:08:18] [INFO] Running at \u001b[38;5;121m19.29\u001b[0m\u001b[38;5;159m FPS.\u001b[0m\n",
      "\u001b[38;5;159m[Genesis] [18:08:18] [INFO] Running at \u001b[38;5;121m19.85\u001b[0m\u001b[38;5;159m FPS.\u001b[0m\n",
      "\u001b[38;5;159m[Genesis] [18:08:18] [INFO] Running at \u001b[38;5;121m20.54\u001b[0m\u001b[38;5;159m FPS.\u001b[0m\n",
      "\u001b[38;5;159m[Genesis] [18:08:18] [INFO] Running at \u001b[38;5;121m21.24\u001b[0m\u001b[38;5;159m FPS.\u001b[0m\n",
      "\u001b[38;5;159m[Genesis] [18:08:19] [INFO] Running at \u001b[38;5;121m21.34\u001b[0m\u001b[38;5;159m FPS.\u001b[0m\n",
      "\u001b[38;5;159m[Genesis] [18:08:19] [INFO] Running at \u001b[38;5;121m21.93\u001b[0m\u001b[38;5;159m FPS.\u001b[0m\n",
      "\u001b[38;5;159m[Genesis] [18:08:19] [INFO] Running at \u001b[38;5;121m22.61\u001b[0m\u001b[38;5;159m FPS.\u001b[0m\n",
      "\u001b[38;5;159m[Genesis] [18:08:19] [INFO] Running at \u001b[38;5;121m23.35\u001b[0m\u001b[38;5;159m FPS.\u001b[0m\n",
      "\u001b[38;5;159m[Genesis] [18:08:19] [INFO] Running at \u001b[38;5;121m23.33\u001b[0m\u001b[38;5;159m FPS.\u001b[0m\n",
      "\u001b[38;5;159m[Genesis] [18:08:19] [INFO] Running at \u001b[38;5;121m23.93\u001b[0m\u001b[38;5;159m FPS.\u001b[0m\n",
      "\u001b[38;5;159m[Genesis] [18:08:19] [INFO] Running at \u001b[38;5;121m24.68\u001b[0m\u001b[38;5;159m FPS.\u001b[0m\n",
      "\u001b[38;5;159m[Genesis] [18:08:19] [INFO] Running at \u001b[38;5;121m24.61\u001b[0m\u001b[38;5;159m FPS.\u001b[0m\n",
      "\u001b[38;5;159m[Genesis] [18:08:19] [INFO] Running at \u001b[38;5;121m25.16\u001b[0m\u001b[38;5;159m FPS.\u001b[0m\n",
      "\u001b[38;5;159m[Genesis] [18:08:19] [INFO] Running at \u001b[38;5;121m25.88\u001b[0m\u001b[38;5;159m FPS.\u001b[0m\n",
      "\u001b[38;5;159m[Genesis] [18:08:19] [INFO] Running at \u001b[38;5;121m26.64\u001b[0m\u001b[38;5;159m FPS.\u001b[0m\n",
      "\u001b[38;5;159m[Genesis] [18:08:19] [INFO] Running at \u001b[38;5;121m26.44\u001b[0m\u001b[38;5;159m FPS.\u001b[0m\n",
      "\u001b[38;5;159m[Genesis] [18:08:19] [INFO] Running at \u001b[38;5;121m27.02\u001b[0m\u001b[38;5;159m FPS.\u001b[0m\n",
      "\u001b[38;5;159m[Genesis] [18:08:19] [INFO] Running at \u001b[38;5;121m27.80\u001b[0m\u001b[38;5;159m FPS.\u001b[0m\n",
      "\u001b[38;5;159m[Genesis] [18:08:19] [INFO] Running at \u001b[38;5;121m27.51\u001b[0m\u001b[38;5;159m FPS.\u001b[0m\n",
      "\u001b[38;5;159m[Genesis] [18:08:19] [INFO] Running at \u001b[38;5;121m28.08\u001b[0m\u001b[38;5;159m FPS.\u001b[0m\n",
      "\u001b[38;5;159m[Genesis] [18:08:19] [INFO] Running at \u001b[38;5;121m28.86\u001b[0m\u001b[38;5;159m FPS.\u001b[0m\n",
      "\u001b[38;5;159m[Genesis] [18:08:19] [INFO] Running at \u001b[38;5;121m28.41\u001b[0m\u001b[38;5;159m FPS.\u001b[0m\n",
      "\u001b[38;5;159m[Genesis] [18:08:19] [INFO] Running at \u001b[38;5;121m28.98\u001b[0m\u001b[38;5;159m FPS.\u001b[0m\n",
      "\u001b[38;5;159m[Genesis] [18:08:19] [INFO] Running at \u001b[38;5;121m29.76\u001b[0m\u001b[38;5;159m FPS.\u001b[0m\n",
      "\u001b[38;5;159m[Genesis] [18:08:19] [INFO] Saving video to \u001b[38;5;121mclip.mp4\u001b[0m\u001b[38;5;159m.\u001b[0m\n",
      "\u001b[38;5;159m[Genesis] [18:08:19] [INFO] Video saved.\u001b[0m\n"
     ]
    },
    {
     "name": "stdout",
     "output_type": "stream",
     "text": [
      "tensor([0.7686, 0.0065, 0.1136])\n",
      "True\n"
     ]
    },
    {
     "name": "stderr",
     "output_type": "stream",
     "text": [
      "\u001b[38;5;159m[Genesis] [18:08:19] [INFO] Running at \u001b[38;5;121m18.57\u001b[0m\u001b[38;5;159m FPS.\u001b[0m\n",
      "\u001b[38;5;159m[Genesis] [18:08:19] [INFO] Running at \u001b[38;5;121m19.19\u001b[0m\u001b[38;5;159m FPS.\u001b[0m\n",
      "\u001b[38;5;159m[Genesis] [18:08:19] [INFO] Running at \u001b[38;5;121m19.87\u001b[0m\u001b[38;5;159m FPS.\u001b[0m\n",
      "\u001b[38;5;159m[Genesis] [18:08:19] [INFO] Running at \u001b[38;5;121m20.57\u001b[0m\u001b[38;5;159m FPS.\u001b[0m\n",
      "\u001b[38;5;159m[Genesis] [18:08:20] [INFO] Running at \u001b[38;5;121m20.88\u001b[0m\u001b[38;5;159m FPS.\u001b[0m\n",
      "\u001b[38;5;159m[Genesis] [18:08:20] [INFO] Running at \u001b[38;5;121m21.47\u001b[0m\u001b[38;5;159m FPS.\u001b[0m\n",
      "\u001b[38;5;159m[Genesis] [18:08:20] [INFO] Running at \u001b[38;5;121m22.19\u001b[0m\u001b[38;5;159m FPS.\u001b[0m\n",
      "\u001b[38;5;159m[Genesis] [18:08:20] [INFO] Running at \u001b[38;5;121m22.66\u001b[0m\u001b[38;5;159m FPS.\u001b[0m\n",
      "\u001b[38;5;159m[Genesis] [18:08:20] [INFO] Running at \u001b[38;5;121m22.89\u001b[0m\u001b[38;5;159m FPS.\u001b[0m\n",
      "\u001b[38;5;159m[Genesis] [18:08:20] [INFO] Running at \u001b[38;5;121m23.46\u001b[0m\u001b[38;5;159m FPS.\u001b[0m\n",
      "\u001b[38;5;159m[Genesis] [18:08:20] [INFO] Running at \u001b[38;5;121m23.45\u001b[0m\u001b[38;5;159m FPS.\u001b[0m\n",
      "\u001b[38;5;159m[Genesis] [18:08:20] [INFO] Running at \u001b[38;5;121m24.04\u001b[0m\u001b[38;5;159m FPS.\u001b[0m\n",
      "\u001b[38;5;159m[Genesis] [18:08:20] [INFO] Running at \u001b[38;5;121m24.79\u001b[0m\u001b[38;5;159m FPS.\u001b[0m\n",
      "\u001b[38;5;159m[Genesis] [18:08:20] [INFO] Running at \u001b[38;5;121m25.24\u001b[0m\u001b[38;5;159m FPS.\u001b[0m\n",
      "\u001b[38;5;159m[Genesis] [18:08:20] [INFO] Running at \u001b[38;5;121m25.83\u001b[0m\u001b[38;5;159m FPS.\u001b[0m\n",
      "\u001b[38;5;159m[Genesis] [18:08:20] [INFO] Running at \u001b[38;5;121m26.52\u001b[0m\u001b[38;5;159m FPS.\u001b[0m\n",
      "\u001b[38;5;159m[Genesis] [18:08:20] [INFO] Running at \u001b[38;5;121m27.30\u001b[0m\u001b[38;5;159m FPS.\u001b[0m\n",
      "\u001b[38;5;159m[Genesis] [18:08:20] [INFO] Running at \u001b[38;5;121m27.69\u001b[0m\u001b[38;5;159m FPS.\u001b[0m\n",
      "\u001b[38;5;159m[Genesis] [18:08:20] [INFO] Running at \u001b[38;5;121m28.26\u001b[0m\u001b[38;5;159m FPS.\u001b[0m\n",
      "\u001b[38;5;159m[Genesis] [18:08:20] [INFO] Running at \u001b[38;5;121m29.04\u001b[0m\u001b[38;5;159m FPS.\u001b[0m\n",
      "\u001b[38;5;159m[Genesis] [18:08:20] [INFO] Running at \u001b[38;5;121m28.68\u001b[0m\u001b[38;5;159m FPS.\u001b[0m\n",
      "\u001b[38;5;159m[Genesis] [18:08:20] [INFO] Running at \u001b[38;5;121m29.20\u001b[0m\u001b[38;5;159m FPS.\u001b[0m\n",
      "\u001b[38;5;159m[Genesis] [18:08:20] [INFO] Running at \u001b[38;5;121m29.92\u001b[0m\u001b[38;5;159m FPS.\u001b[0m\n",
      "\u001b[38;5;159m[Genesis] [18:08:20] [INFO] Running at \u001b[38;5;121m29.56\u001b[0m\u001b[38;5;159m FPS.\u001b[0m\n",
      "\u001b[38;5;159m[Genesis] [18:08:20] [INFO] Running at \u001b[38;5;121m30.04\u001b[0m\u001b[38;5;159m FPS.\u001b[0m\n",
      "\u001b[38;5;159m[Genesis] [18:08:20] [INFO] Saving video to \u001b[38;5;121mclip.mp4\u001b[0m\u001b[38;5;159m.\u001b[0m\n",
      "\u001b[38;5;159m[Genesis] [18:08:20] [INFO] Video saved.\u001b[0m\n"
     ]
    },
    {
     "name": "stdout",
     "output_type": "stream",
     "text": [
      "tensor([0.7700, 0.0085, 0.1136])\n",
      "True\n"
     ]
    },
    {
     "name": "stderr",
     "output_type": "stream",
     "text": [
      "\u001b[38;5;159m[Genesis] [18:08:20] [INFO] Running at \u001b[38;5;121m19.14\u001b[0m\u001b[38;5;159m FPS.\u001b[0m\n",
      "\u001b[38;5;159m[Genesis] [18:08:20] [INFO] Running at \u001b[38;5;121m19.55\u001b[0m\u001b[38;5;159m FPS.\u001b[0m\n",
      "\u001b[38;5;159m[Genesis] [18:08:21] [INFO] Running at \u001b[38;5;121m19.90\u001b[0m\u001b[38;5;159m FPS.\u001b[0m\n",
      "\u001b[38;5;159m[Genesis] [18:08:21] [INFO] Running at \u001b[38;5;121m20.43\u001b[0m\u001b[38;5;159m FPS.\u001b[0m\n",
      "\u001b[38;5;159m[Genesis] [18:08:21] [INFO] Running at \u001b[38;5;121m21.14\u001b[0m\u001b[38;5;159m FPS.\u001b[0m\n",
      "\u001b[38;5;159m[Genesis] [18:08:21] [INFO] Running at \u001b[38;5;121m21.23\u001b[0m\u001b[38;5;159m FPS.\u001b[0m\n",
      "\u001b[38;5;159m[Genesis] [18:08:21] [INFO] Running at \u001b[38;5;121m21.83\u001b[0m\u001b[38;5;159m FPS.\u001b[0m\n",
      "\u001b[38;5;159m[Genesis] [18:08:21] [INFO] Running at \u001b[38;5;121m22.55\u001b[0m\u001b[38;5;159m FPS.\u001b[0m\n",
      "\u001b[38;5;159m[Genesis] [18:08:21] [INFO] Running at \u001b[38;5;121m22.58\u001b[0m\u001b[38;5;159m FPS.\u001b[0m\n",
      "\u001b[38;5;159m[Genesis] [18:08:21] [INFO] Running at \u001b[38;5;121m23.16\u001b[0m\u001b[38;5;159m FPS.\u001b[0m\n",
      "\u001b[38;5;159m[Genesis] [18:08:21] [INFO] Running at \u001b[38;5;121m23.86\u001b[0m\u001b[38;5;159m FPS.\u001b[0m\n",
      "\u001b[38;5;159m[Genesis] [18:08:21] [INFO] Running at \u001b[38;5;121m24.61\u001b[0m\u001b[38;5;159m FPS.\u001b[0m\n",
      "\u001b[38;5;159m[Genesis] [18:08:21] [INFO] Running at \u001b[38;5;121m24.55\u001b[0m\u001b[38;5;159m FPS.\u001b[0m\n",
      "\u001b[38;5;159m[Genesis] [18:08:21] [INFO] Running at \u001b[38;5;121m25.15\u001b[0m\u001b[38;5;159m FPS.\u001b[0m\n",
      "\u001b[38;5;159m[Genesis] [18:08:21] [INFO] Running at \u001b[38;5;121m25.92\u001b[0m\u001b[38;5;159m FPS.\u001b[0m\n",
      "\u001b[38;5;159m[Genesis] [18:08:21] [INFO] Running at \u001b[38;5;121m26.31\u001b[0m\u001b[38;5;159m FPS.\u001b[0m\n",
      "\u001b[38;5;159m[Genesis] [18:08:21] [INFO] Running at \u001b[38;5;121m26.50\u001b[0m\u001b[38;5;159m FPS.\u001b[0m\n",
      "\u001b[38;5;159m[Genesis] [18:08:21] [INFO] Running at \u001b[38;5;121m26.99\u001b[0m\u001b[38;5;159m FPS.\u001b[0m\n",
      "\u001b[38;5;159m[Genesis] [18:08:21] [INFO] Running at \u001b[38;5;121m26.82\u001b[0m\u001b[38;5;159m FPS.\u001b[0m\n",
      "\u001b[38;5;159m[Genesis] [18:08:21] [INFO] Running at \u001b[38;5;121m27.34\u001b[0m\u001b[38;5;159m FPS.\u001b[0m\n",
      "\u001b[38;5;159m[Genesis] [18:08:21] [INFO] Running at \u001b[38;5;121m28.11\u001b[0m\u001b[38;5;159m FPS.\u001b[0m\n",
      "\u001b[38;5;159m[Genesis] [18:08:21] [INFO] Running at \u001b[38;5;121m28.89\u001b[0m\u001b[38;5;159m FPS.\u001b[0m\n",
      "\u001b[38;5;159m[Genesis] [18:08:21] [INFO] Running at \u001b[38;5;121m29.26\u001b[0m\u001b[38;5;159m FPS.\u001b[0m\n",
      "\u001b[38;5;159m[Genesis] [18:08:21] [INFO] Running at \u001b[38;5;121m29.76\u001b[0m\u001b[38;5;159m FPS.\u001b[0m\n",
      "\u001b[38;5;159m[Genesis] [18:08:21] [INFO] Running at \u001b[38;5;121m30.48\u001b[0m\u001b[38;5;159m FPS.\u001b[0m\n",
      "\u001b[38;5;159m[Genesis] [18:08:21] [INFO] Saving video to \u001b[38;5;121mclip.mp4\u001b[0m\u001b[38;5;159m.\u001b[0m\n",
      "\u001b[38;5;159m[Genesis] [18:08:21] [INFO] Video saved.\u001b[0m\n"
     ]
    },
    {
     "name": "stdout",
     "output_type": "stream",
     "text": [
      "tensor([0.7625, 0.0105, 0.1282])\n",
      "True\n"
     ]
    },
    {
     "name": "stderr",
     "output_type": "stream",
     "text": [
      "\u001b[38;5;159m[Genesis] [18:08:21] [INFO] Running at \u001b[38;5;121m19.35\u001b[0m\u001b[38;5;159m FPS.\u001b[0m\n",
      "\u001b[38;5;159m[Genesis] [18:08:22] [INFO] Running at \u001b[38;5;121m19.73\u001b[0m\u001b[38;5;159m FPS.\u001b[0m\n",
      "\u001b[38;5;159m[Genesis] [18:08:22] [INFO] Running at \u001b[38;5;121m20.27\u001b[0m\u001b[38;5;159m FPS.\u001b[0m\n",
      "\u001b[38;5;159m[Genesis] [18:08:22] [INFO] Running at \u001b[38;5;121m20.97\u001b[0m\u001b[38;5;159m FPS.\u001b[0m\n",
      "\u001b[38;5;159m[Genesis] [18:08:22] [INFO] Running at \u001b[38;5;121m21.46\u001b[0m\u001b[38;5;159m FPS.\u001b[0m\n",
      "\u001b[38;5;159m[Genesis] [18:08:22] [INFO] Running at \u001b[38;5;121m22.05\u001b[0m\u001b[38;5;159m FPS.\u001b[0m\n",
      "\u001b[38;5;159m[Genesis] [18:08:22] [INFO] Running at \u001b[38;5;121m22.72\u001b[0m\u001b[38;5;159m FPS.\u001b[0m\n",
      "\u001b[38;5;159m[Genesis] [18:08:22] [INFO] Running at \u001b[38;5;121m22.81\u001b[0m\u001b[38;5;159m FPS.\u001b[0m\n",
      "\u001b[38;5;159m[Genesis] [18:08:22] [INFO] Running at \u001b[38;5;121m23.08\u001b[0m\u001b[38;5;159m FPS.\u001b[0m\n",
      "\u001b[38;5;159m[Genesis] [18:08:22] [INFO] Running at \u001b[38;5;121m23.61\u001b[0m\u001b[38;5;159m FPS.\u001b[0m\n",
      "\u001b[38;5;159m[Genesis] [18:08:22] [INFO] Running at \u001b[38;5;121m24.36\u001b[0m\u001b[38;5;159m FPS.\u001b[0m\n",
      "\u001b[38;5;159m[Genesis] [18:08:22] [INFO] Running at \u001b[38;5;121m24.30\u001b[0m\u001b[38;5;159m FPS.\u001b[0m\n",
      "\u001b[38;5;159m[Genesis] [18:08:22] [INFO] Running at \u001b[38;5;121m24.90\u001b[0m\u001b[38;5;159m FPS.\u001b[0m\n",
      "\u001b[38;5;159m[Genesis] [18:08:22] [INFO] Running at \u001b[38;5;121m25.66\u001b[0m\u001b[38;5;159m FPS.\u001b[0m\n",
      "\u001b[38;5;159m[Genesis] [18:08:22] [INFO] Running at \u001b[38;5;121m25.53\u001b[0m\u001b[38;5;159m FPS.\u001b[0m\n",
      "\u001b[38;5;159m[Genesis] [18:08:22] [INFO] Running at \u001b[38;5;121m26.10\u001b[0m\u001b[38;5;159m FPS.\u001b[0m\n",
      "\u001b[38;5;159m[Genesis] [18:08:22] [INFO] Running at \u001b[38;5;121m26.87\u001b[0m\u001b[38;5;159m FPS.\u001b[0m\n",
      "\u001b[38;5;159m[Genesis] [18:08:22] [INFO] Running at \u001b[38;5;121m26.65\u001b[0m\u001b[38;5;159m FPS.\u001b[0m\n",
      "\u001b[38;5;159m[Genesis] [18:08:22] [INFO] Running at \u001b[38;5;121m27.21\u001b[0m\u001b[38;5;159m FPS.\u001b[0m\n",
      "\u001b[38;5;159m[Genesis] [18:08:22] [INFO] Running at \u001b[38;5;121m27.94\u001b[0m\u001b[38;5;159m FPS.\u001b[0m\n",
      "\u001b[38;5;159m[Genesis] [18:08:22] [INFO] Running at \u001b[38;5;121m28.72\u001b[0m\u001b[38;5;159m FPS.\u001b[0m\n",
      "\u001b[38;5;159m[Genesis] [18:08:22] [INFO] Running at \u001b[38;5;121m28.37\u001b[0m\u001b[38;5;159m FPS.\u001b[0m\n",
      "\u001b[38;5;159m[Genesis] [18:08:22] [INFO] Running at \u001b[38;5;121m28.94\u001b[0m\u001b[38;5;159m FPS.\u001b[0m\n",
      "\u001b[38;5;159m[Genesis] [18:08:22] [INFO] Running at \u001b[38;5;121m29.72\u001b[0m\u001b[38;5;159m FPS.\u001b[0m\n",
      "\u001b[38;5;159m[Genesis] [18:08:22] [INFO] Running at \u001b[38;5;121m30.02\u001b[0m\u001b[38;5;159m FPS.\u001b[0m\n",
      "\u001b[38;5;159m[Genesis] [18:08:22] [INFO] Saving video to \u001b[38;5;121mclip.mp4\u001b[0m\u001b[38;5;159m.\u001b[0m\n",
      "\u001b[38;5;159m[Genesis] [18:08:22] [INFO] Video saved.\u001b[0m\n"
     ]
    },
    {
     "name": "stdout",
     "output_type": "stream",
     "text": [
      "tensor([0.7590, 0.0100, 0.1187])\n",
      "True\n"
     ]
    },
    {
     "name": "stderr",
     "output_type": "stream",
     "text": [
      "\u001b[38;5;159m[Genesis] [18:08:23] [INFO] Running at \u001b[38;5;121m18.86\u001b[0m\u001b[38;5;159m FPS.\u001b[0m\n",
      "\u001b[38;5;159m[Genesis] [18:08:23] [INFO] Running at \u001b[38;5;121m19.32\u001b[0m\u001b[38;5;159m FPS.\u001b[0m\n",
      "\u001b[38;5;159m[Genesis] [18:08:23] [INFO] Running at \u001b[38;5;121m20.00\u001b[0m\u001b[38;5;159m FPS.\u001b[0m\n",
      "\u001b[38;5;159m[Genesis] [18:08:23] [INFO] Running at \u001b[38;5;121m20.69\u001b[0m\u001b[38;5;159m FPS.\u001b[0m\n",
      "\u001b[38;5;159m[Genesis] [18:08:23] [INFO] Running at \u001b[38;5;121m20.79\u001b[0m\u001b[38;5;159m FPS.\u001b[0m\n",
      "\u001b[38;5;159m[Genesis] [18:08:23] [INFO] Running at \u001b[38;5;121m21.38\u001b[0m\u001b[38;5;159m FPS.\u001b[0m\n",
      "\u001b[38;5;159m[Genesis] [18:08:23] [INFO] Running at \u001b[38;5;121m22.05\u001b[0m\u001b[38;5;159m FPS.\u001b[0m\n",
      "\u001b[38;5;159m[Genesis] [18:08:23] [INFO] Running at \u001b[38;5;121m22.78\u001b[0m\u001b[38;5;159m FPS.\u001b[0m\n",
      "\u001b[38;5;159m[Genesis] [18:08:23] [INFO] Running at \u001b[38;5;121m22.80\u001b[0m\u001b[38;5;159m FPS.\u001b[0m\n",
      "\u001b[38;5;159m[Genesis] [18:08:23] [INFO] Running at \u001b[38;5;121m23.40\u001b[0m\u001b[38;5;159m FPS.\u001b[0m\n",
      "\u001b[38;5;159m[Genesis] [18:08:23] [INFO] Running at \u001b[38;5;121m24.14\u001b[0m\u001b[38;5;159m FPS.\u001b[0m\n",
      "\u001b[38;5;159m[Genesis] [18:08:23] [INFO] Running at \u001b[38;5;121m24.59\u001b[0m\u001b[38;5;159m FPS.\u001b[0m\n",
      "\u001b[38;5;159m[Genesis] [18:08:23] [INFO] Running at \u001b[38;5;121m25.14\u001b[0m\u001b[38;5;159m FPS.\u001b[0m\n",
      "\u001b[38;5;159m[Genesis] [18:08:23] [INFO] Running at \u001b[38;5;121m25.91\u001b[0m\u001b[38;5;159m FPS.\u001b[0m\n",
      "\u001b[38;5;159m[Genesis] [18:08:23] [INFO] Running at \u001b[38;5;121m25.76\u001b[0m\u001b[38;5;159m FPS.\u001b[0m\n",
      "\u001b[38;5;159m[Genesis] [18:08:23] [INFO] Running at \u001b[38;5;121m25.97\u001b[0m\u001b[38;5;159m FPS.\u001b[0m\n",
      "\u001b[38;5;159m[Genesis] [18:08:23] [INFO] Running at \u001b[38;5;121m26.46\u001b[0m\u001b[38;5;159m FPS.\u001b[0m\n",
      "\u001b[38;5;159m[Genesis] [18:08:23] [INFO] Running at \u001b[38;5;121m27.24\u001b[0m\u001b[38;5;159m FPS.\u001b[0m\n",
      "\u001b[38;5;159m[Genesis] [18:08:23] [INFO] Running at \u001b[38;5;121m27.64\u001b[0m\u001b[38;5;159m FPS.\u001b[0m\n",
      "\u001b[38;5;159m[Genesis] [18:08:23] [INFO] Running at \u001b[38;5;121m28.22\u001b[0m\u001b[38;5;159m FPS.\u001b[0m\n",
      "\u001b[38;5;159m[Genesis] [18:08:23] [INFO] Running at \u001b[38;5;121m29.01\u001b[0m\u001b[38;5;159m FPS.\u001b[0m\n",
      "\u001b[38;5;159m[Genesis] [18:08:23] [INFO] Running at \u001b[38;5;121m29.34\u001b[0m\u001b[38;5;159m FPS.\u001b[0m\n",
      "\u001b[38;5;159m[Genesis] [18:08:23] [INFO] Running at \u001b[38;5;121m29.39\u001b[0m\u001b[38;5;159m FPS.\u001b[0m\n",
      "\u001b[38;5;159m[Genesis] [18:08:23] [INFO] Running at \u001b[38;5;121m29.82\u001b[0m\u001b[38;5;159m FPS.\u001b[0m\n",
      "\u001b[38;5;159m[Genesis] [18:08:23] [INFO] Running at \u001b[38;5;121m30.62\u001b[0m\u001b[38;5;159m FPS.\u001b[0m\n",
      "\u001b[38;5;159m[Genesis] [18:08:23] [INFO] Saving video to \u001b[38;5;121mclip.mp4\u001b[0m\u001b[38;5;159m.\u001b[0m\n",
      "\u001b[38;5;159m[Genesis] [18:08:23] [INFO] Video saved.\u001b[0m\n"
     ]
    },
    {
     "name": "stdout",
     "output_type": "stream",
     "text": [
      "tensor([0.7592, 0.0153, 0.1196])\n",
      "True\n"
     ]
    },
    {
     "name": "stderr",
     "output_type": "stream",
     "text": [
      "\u001b[38;5;159m[Genesis] [18:08:24] [INFO] Running at \u001b[38;5;121m18.86\u001b[0m\u001b[38;5;159m FPS.\u001b[0m\n",
      "\u001b[38;5;159m[Genesis] [18:08:24] [INFO] Running at \u001b[38;5;121m19.50\u001b[0m\u001b[38;5;159m FPS.\u001b[0m\n",
      "\u001b[38;5;159m[Genesis] [18:08:24] [INFO] Running at \u001b[38;5;121m20.18\u001b[0m\u001b[38;5;159m FPS.\u001b[0m\n",
      "\u001b[38;5;159m[Genesis] [18:08:24] [INFO] Running at \u001b[38;5;121m20.51\u001b[0m\u001b[38;5;159m FPS.\u001b[0m\n",
      "\u001b[38;5;159m[Genesis] [18:08:24] [INFO] Running at \u001b[38;5;121m20.88\u001b[0m\u001b[38;5;159m FPS.\u001b[0m\n",
      "\u001b[38;5;159m[Genesis] [18:08:24] [INFO] Running at \u001b[38;5;121m21.42\u001b[0m\u001b[38;5;159m FPS.\u001b[0m\n",
      "\u001b[38;5;159m[Genesis] [18:08:24] [INFO] Running at \u001b[38;5;121m22.14\u001b[0m\u001b[38;5;159m FPS.\u001b[0m\n",
      "\u001b[38;5;159m[Genesis] [18:08:24] [INFO] Running at \u001b[38;5;121m22.20\u001b[0m\u001b[38;5;159m FPS.\u001b[0m\n",
      "\u001b[38;5;159m[Genesis] [18:08:24] [INFO] Running at \u001b[38;5;121m22.78\u001b[0m\u001b[38;5;159m FPS.\u001b[0m\n",
      "\u001b[38;5;159m[Genesis] [18:08:24] [INFO] Running at \u001b[38;5;121m23.52\u001b[0m\u001b[38;5;159m FPS.\u001b[0m\n",
      "\u001b[38;5;159m[Genesis] [18:08:24] [INFO] Running at \u001b[38;5;121m23.48\u001b[0m\u001b[38;5;159m FPS.\u001b[0m\n",
      "\u001b[38;5;159m[Genesis] [18:08:24] [INFO] Running at \u001b[38;5;121m24.08\u001b[0m\u001b[38;5;159m FPS.\u001b[0m\n",
      "\u001b[38;5;159m[Genesis] [18:08:24] [INFO] Running at \u001b[38;5;121m24.84\u001b[0m\u001b[38;5;159m FPS.\u001b[0m\n",
      "\u001b[38;5;159m[Genesis] [18:08:24] [INFO] Running at \u001b[38;5;121m24.76\u001b[0m\u001b[38;5;159m FPS.\u001b[0m\n",
      "\u001b[38;5;159m[Genesis] [18:08:24] [INFO] Running at \u001b[38;5;121m25.30\u001b[0m\u001b[38;5;159m FPS.\u001b[0m\n",
      "\u001b[38;5;159m[Genesis] [18:08:24] [INFO] Running at \u001b[38;5;121m26.04\u001b[0m\u001b[38;5;159m FPS.\u001b[0m\n",
      "\u001b[38;5;159m[Genesis] [18:08:24] [INFO] Running at \u001b[38;5;121m26.81\u001b[0m\u001b[38;5;159m FPS.\u001b[0m\n",
      "\u001b[38;5;159m[Genesis] [18:08:24] [INFO] Running at \u001b[38;5;121m26.57\u001b[0m\u001b[38;5;159m FPS.\u001b[0m\n",
      "\u001b[38;5;159m[Genesis] [18:08:24] [INFO] Running at \u001b[38;5;121m27.15\u001b[0m\u001b[38;5;159m FPS.\u001b[0m\n",
      "\u001b[38;5;159m[Genesis] [18:08:24] [INFO] Running at \u001b[38;5;121m26.97\u001b[0m\u001b[38;5;159m FPS.\u001b[0m\n",
      "\u001b[38;5;159m[Genesis] [18:08:24] [INFO] Running at \u001b[38;5;121m27.02\u001b[0m\u001b[38;5;159m FPS.\u001b[0m\n",
      "\u001b[38;5;159m[Genesis] [18:08:24] [INFO] Running at \u001b[38;5;121m27.56\u001b[0m\u001b[38;5;159m FPS.\u001b[0m\n",
      "\u001b[38;5;159m[Genesis] [18:08:24] [INFO] Running at \u001b[38;5;121m27.41\u001b[0m\u001b[38;5;159m FPS.\u001b[0m\n",
      "\u001b[38;5;159m[Genesis] [18:08:24] [INFO] Running at \u001b[38;5;121m27.89\u001b[0m\u001b[38;5;159m FPS.\u001b[0m\n",
      "\u001b[38;5;159m[Genesis] [18:08:24] [INFO] Running at \u001b[38;5;121m28.68\u001b[0m\u001b[38;5;159m FPS.\u001b[0m\n",
      "\u001b[38;5;159m[Genesis] [18:08:24] [INFO] Saving video to \u001b[38;5;121mclip.mp4\u001b[0m\u001b[38;5;159m.\u001b[0m\n",
      "\u001b[38;5;159m[Genesis] [18:08:24] [INFO] Video saved.\u001b[0m\n"
     ]
    },
    {
     "name": "stdout",
     "output_type": "stream",
     "text": [
      "tensor([0.7577, 0.0174, 0.1218])\n",
      "True\n"
     ]
    },
    {
     "name": "stderr",
     "output_type": "stream",
     "text": [
      "\u001b[38;5;159m[Genesis] [18:08:25] [INFO] Running at \u001b[38;5;121m18.07\u001b[0m\u001b[38;5;159m FPS.\u001b[0m\n",
      "\u001b[38;5;159m[Genesis] [18:08:25] [INFO] Running at \u001b[38;5;121m18.73\u001b[0m\u001b[38;5;159m FPS.\u001b[0m\n",
      "\u001b[38;5;159m[Genesis] [18:08:25] [INFO] Running at \u001b[38;5;121m19.13\u001b[0m\u001b[38;5;159m FPS.\u001b[0m\n",
      "\u001b[38;5;159m[Genesis] [18:08:25] [INFO] Running at \u001b[38;5;121m19.49\u001b[0m\u001b[38;5;159m FPS.\u001b[0m\n",
      "\u001b[38;5;159m[Genesis] [18:08:25] [INFO] Running at \u001b[38;5;121m20.03\u001b[0m\u001b[38;5;159m FPS.\u001b[0m\n",
      "\u001b[38;5;159m[Genesis] [18:08:25] [INFO] Running at \u001b[38;5;121m20.73\u001b[0m\u001b[38;5;159m FPS.\u001b[0m\n",
      "\u001b[38;5;159m[Genesis] [18:08:25] [INFO] Running at \u001b[38;5;121m21.23\u001b[0m\u001b[38;5;159m FPS.\u001b[0m\n",
      "\u001b[38;5;159m[Genesis] [18:08:25] [INFO] Running at \u001b[38;5;121m21.81\u001b[0m\u001b[38;5;159m FPS.\u001b[0m\n",
      "\u001b[38;5;159m[Genesis] [18:08:25] [INFO] Running at \u001b[38;5;121m22.48\u001b[0m\u001b[38;5;159m FPS.\u001b[0m\n",
      "\u001b[38;5;159m[Genesis] [18:08:25] [INFO] Running at \u001b[38;5;121m23.22\u001b[0m\u001b[38;5;159m FPS.\u001b[0m\n",
      "\u001b[38;5;159m[Genesis] [18:08:25] [INFO] Running at \u001b[38;5;121m23.68\u001b[0m\u001b[38;5;159m FPS.\u001b[0m\n",
      "\u001b[38;5;159m[Genesis] [18:08:25] [INFO] Running at \u001b[38;5;121m24.27\u001b[0m\u001b[38;5;159m FPS.\u001b[0m\n",
      "\u001b[38;5;159m[Genesis] [18:08:25] [INFO] Running at \u001b[38;5;121m25.02\u001b[0m\u001b[38;5;159m FPS.\u001b[0m\n",
      "\u001b[38;5;159m[Genesis] [18:08:25] [INFO] Running at \u001b[38;5;121m24.92\u001b[0m\u001b[38;5;159m FPS.\u001b[0m\n",
      "\u001b[38;5;159m[Genesis] [18:08:25] [INFO] Running at \u001b[38;5;121m25.51\u001b[0m\u001b[38;5;159m FPS.\u001b[0m\n",
      "\u001b[38;5;159m[Genesis] [18:08:25] [INFO] Running at \u001b[38;5;121m26.20\u001b[0m\u001b[38;5;159m FPS.\u001b[0m\n",
      "\u001b[38;5;159m[Genesis] [18:08:25] [INFO] Running at \u001b[38;5;121m26.98\u001b[0m\u001b[38;5;159m FPS.\u001b[0m\n",
      "\u001b[38;5;159m[Genesis] [18:08:25] [INFO] Running at \u001b[38;5;121m27.39\u001b[0m\u001b[38;5;159m FPS.\u001b[0m\n",
      "\u001b[38;5;159m[Genesis] [18:08:25] [INFO] Running at \u001b[38;5;121m27.94\u001b[0m\u001b[38;5;159m FPS.\u001b[0m\n",
      "\u001b[38;5;159m[Genesis] [18:08:25] [INFO] Running at \u001b[38;5;121m28.72\u001b[0m\u001b[38;5;159m FPS.\u001b[0m\n",
      "\u001b[38;5;159m[Genesis] [18:08:25] [INFO] Running at \u001b[38;5;121m28.40\u001b[0m\u001b[38;5;159m FPS.\u001b[0m\n",
      "\u001b[38;5;159m[Genesis] [18:08:25] [INFO] Running at \u001b[38;5;121m28.91\u001b[0m\u001b[38;5;159m FPS.\u001b[0m\n",
      "\u001b[38;5;159m[Genesis] [18:08:25] [INFO] Running at \u001b[38;5;121m29.67\u001b[0m\u001b[38;5;159m FPS.\u001b[0m\n",
      "\u001b[38;5;159m[Genesis] [18:08:25] [INFO] Running at \u001b[38;5;121m30.46\u001b[0m\u001b[38;5;159m FPS.\u001b[0m\n",
      "\u001b[38;5;159m[Genesis] [18:08:25] [INFO] Running at \u001b[38;5;121m29.99\u001b[0m\u001b[38;5;159m FPS.\u001b[0m\n",
      "\u001b[38;5;159m[Genesis] [18:08:25] [INFO] Saving video to \u001b[38;5;121mclip.mp4\u001b[0m\u001b[38;5;159m.\u001b[0m\n",
      "\u001b[38;5;159m[Genesis] [18:08:25] [INFO] Video saved.\u001b[0m\n"
     ]
    },
    {
     "name": "stdout",
     "output_type": "stream",
     "text": [
      "tensor([0.7584, 0.0139, 0.1142])\n",
      "True\n"
     ]
    },
    {
     "name": "stderr",
     "output_type": "stream",
     "text": [
      "\u001b[38;5;159m[Genesis] [18:08:26] [INFO] Running at \u001b[38;5;121m19.06\u001b[0m\u001b[38;5;159m FPS.\u001b[0m\n",
      "\u001b[38;5;159m[Genesis] [18:08:26] [INFO] Running at \u001b[38;5;121m19.74\u001b[0m\u001b[38;5;159m FPS.\u001b[0m\n",
      "\u001b[38;5;159m[Genesis] [18:08:26] [INFO] Running at \u001b[38;5;121m20.43\u001b[0m\u001b[38;5;159m FPS.\u001b[0m\n",
      "\u001b[38;5;159m[Genesis] [18:08:26] [INFO] Running at \u001b[38;5;121m21.14\u001b[0m\u001b[38;5;159m FPS.\u001b[0m\n",
      "\u001b[38;5;159m[Genesis] [18:08:26] [INFO] Running at \u001b[38;5;121m21.45\u001b[0m\u001b[38;5;159m FPS.\u001b[0m\n",
      "\u001b[38;5;159m[Genesis] [18:08:26] [INFO] Running at \u001b[38;5;121m22.05\u001b[0m\u001b[38;5;159m FPS.\u001b[0m\n",
      "\u001b[38;5;159m[Genesis] [18:08:26] [INFO] Running at \u001b[38;5;121m22.78\u001b[0m\u001b[38;5;159m FPS.\u001b[0m\n",
      "\u001b[38;5;159m[Genesis] [18:08:26] [INFO] Running at \u001b[38;5;121m23.21\u001b[0m\u001b[38;5;159m FPS.\u001b[0m\n",
      "\u001b[38;5;159m[Genesis] [18:08:26] [INFO] Running at \u001b[38;5;121m23.49\u001b[0m\u001b[38;5;159m FPS.\u001b[0m\n",
      "\u001b[38;5;159m[Genesis] [18:08:26] [INFO] Running at \u001b[38;5;121m24.04\u001b[0m\u001b[38;5;159m FPS.\u001b[0m\n",
      "\u001b[38;5;159m[Genesis] [18:08:26] [INFO] Running at \u001b[38;5;121m24.79\u001b[0m\u001b[38;5;159m FPS.\u001b[0m\n",
      "\u001b[38;5;159m[Genesis] [18:08:26] [INFO] Running at \u001b[38;5;121m24.72\u001b[0m\u001b[38;5;159m FPS.\u001b[0m\n",
      "\u001b[38;5;159m[Genesis] [18:08:26] [INFO] Running at \u001b[38;5;121m25.31\u001b[0m\u001b[38;5;159m FPS.\u001b[0m\n",
      "\u001b[38;5;159m[Genesis] [18:08:26] [INFO] Running at \u001b[38;5;121m26.08\u001b[0m\u001b[38;5;159m FPS.\u001b[0m\n",
      "\u001b[38;5;159m[Genesis] [18:08:26] [INFO] Running at \u001b[38;5;121m26.46\u001b[0m\u001b[38;5;159m FPS.\u001b[0m\n",
      "\u001b[38;5;159m[Genesis] [18:08:26] [INFO] Running at \u001b[38;5;121m26.65\u001b[0m\u001b[38;5;159m FPS.\u001b[0m\n",
      "\u001b[38;5;159m[Genesis] [18:08:26] [INFO] Running at \u001b[38;5;121m27.15\u001b[0m\u001b[38;5;159m FPS.\u001b[0m\n",
      "\u001b[38;5;159m[Genesis] [18:08:26] [INFO] Running at \u001b[38;5;121m27.93\u001b[0m\u001b[38;5;159m FPS.\u001b[0m\n",
      "\u001b[38;5;159m[Genesis] [18:08:26] [INFO] Running at \u001b[38;5;121m27.65\u001b[0m\u001b[38;5;159m FPS.\u001b[0m\n",
      "\u001b[38;5;159m[Genesis] [18:08:26] [INFO] Running at \u001b[38;5;121m28.22\u001b[0m\u001b[38;5;159m FPS.\u001b[0m\n",
      "\u001b[38;5;159m[Genesis] [18:08:26] [INFO] Running at \u001b[38;5;121m28.93\u001b[0m\u001b[38;5;159m FPS.\u001b[0m\n",
      "\u001b[38;5;159m[Genesis] [18:08:26] [INFO] Running at \u001b[38;5;121m29.71\u001b[0m\u001b[38;5;159m FPS.\u001b[0m\n",
      "\u001b[38;5;159m[Genesis] [18:08:26] [INFO] Running at \u001b[38;5;121m29.29\u001b[0m\u001b[38;5;159m FPS.\u001b[0m\n",
      "\u001b[38;5;159m[Genesis] [18:08:26] [INFO] Running at \u001b[38;5;121m29.87\u001b[0m\u001b[38;5;159m FPS.\u001b[0m\n",
      "\u001b[38;5;159m[Genesis] [18:08:26] [INFO] Running at \u001b[38;5;121m30.51\u001b[0m\u001b[38;5;159m FPS.\u001b[0m\n",
      "\u001b[38;5;159m[Genesis] [18:08:26] [INFO] Saving video to \u001b[38;5;121mclip.mp4\u001b[0m\u001b[38;5;159m.\u001b[0m\n",
      "\u001b[38;5;159m[Genesis] [18:08:26] [INFO] Video saved.\u001b[0m\n"
     ]
    },
    {
     "name": "stdout",
     "output_type": "stream",
     "text": [
      "tensor([0.7477, 0.0158, 0.1290])\n",
      "True\n"
     ]
    },
    {
     "name": "stderr",
     "output_type": "stream",
     "text": [
      "\u001b[38;5;159m[Genesis] [18:08:27] [INFO] Running at \u001b[38;5;121m18.74\u001b[0m\u001b[38;5;159m FPS.\u001b[0m\n",
      "\u001b[38;5;159m[Genesis] [18:08:27] [INFO] Running at \u001b[38;5;121m19.17\u001b[0m\u001b[38;5;159m FPS.\u001b[0m\n",
      "\u001b[38;5;159m[Genesis] [18:08:27] [INFO] Running at \u001b[38;5;121m19.74\u001b[0m\u001b[38;5;159m FPS.\u001b[0m\n",
      "\u001b[38;5;159m[Genesis] [18:08:27] [INFO] Running at \u001b[38;5;121m20.44\u001b[0m\u001b[38;5;159m FPS.\u001b[0m\n",
      "\u001b[38;5;159m[Genesis] [18:08:27] [INFO] Running at \u001b[38;5;121m20.93\u001b[0m\u001b[38;5;159m FPS.\u001b[0m\n",
      "\u001b[38;5;159m[Genesis] [18:08:27] [INFO] Running at \u001b[38;5;121m21.51\u001b[0m\u001b[38;5;159m FPS.\u001b[0m\n",
      "\u001b[38;5;159m[Genesis] [18:08:27] [INFO] Running at \u001b[38;5;121m22.20\u001b[0m\u001b[38;5;159m FPS.\u001b[0m\n",
      "\u001b[38;5;159m[Genesis] [18:08:27] [INFO] Running at \u001b[38;5;121m22.93\u001b[0m\u001b[38;5;159m FPS.\u001b[0m\n",
      "\u001b[38;5;159m[Genesis] [18:08:27] [INFO] Running at \u001b[38;5;121m23.40\u001b[0m\u001b[38;5;159m FPS.\u001b[0m\n",
      "\u001b[38;5;159m[Genesis] [18:08:27] [INFO] Running at \u001b[38;5;121m23.99\u001b[0m\u001b[38;5;159m FPS.\u001b[0m\n",
      "\u001b[38;5;159m[Genesis] [18:08:27] [INFO] Running at \u001b[38;5;121m24.69\u001b[0m\u001b[38;5;159m FPS.\u001b[0m\n",
      "\u001b[38;5;159m[Genesis] [18:08:27] [INFO] Running at \u001b[38;5;121m24.66\u001b[0m\u001b[38;5;159m FPS.\u001b[0m\n",
      "\u001b[38;5;159m[Genesis] [18:08:27] [INFO] Running at \u001b[38;5;121m25.23\u001b[0m\u001b[38;5;159m FPS.\u001b[0m\n",
      "\u001b[38;5;159m[Genesis] [18:08:27] [INFO] Running at \u001b[38;5;121m25.93\u001b[0m\u001b[38;5;159m FPS.\u001b[0m\n",
      "\u001b[38;5;159m[Genesis] [18:08:27] [INFO] Running at \u001b[38;5;121m26.70\u001b[0m\u001b[38;5;159m FPS.\u001b[0m\n",
      "\u001b[38;5;159m[Genesis] [18:08:27] [INFO] Running at \u001b[38;5;121m26.50\u001b[0m\u001b[38;5;159m FPS.\u001b[0m\n",
      "\u001b[38;5;159m[Genesis] [18:08:27] [INFO] Running at \u001b[38;5;121m27.10\u001b[0m\u001b[38;5;159m FPS.\u001b[0m\n",
      "\u001b[38;5;159m[Genesis] [18:08:27] [INFO] Running at \u001b[38;5;121m27.88\u001b[0m\u001b[38;5;159m FPS.\u001b[0m\n",
      "\u001b[38;5;159m[Genesis] [18:08:27] [INFO] Running at \u001b[38;5;121m28.26\u001b[0m\u001b[38;5;159m FPS.\u001b[0m\n",
      "\u001b[38;5;159m[Genesis] [18:08:27] [INFO] Running at \u001b[38;5;121m28.36\u001b[0m\u001b[38;5;159m FPS.\u001b[0m\n",
      "\u001b[38;5;159m[Genesis] [18:08:27] [INFO] Running at \u001b[38;5;121m28.84\u001b[0m\u001b[38;5;159m FPS.\u001b[0m\n",
      "\u001b[38;5;159m[Genesis] [18:08:27] [INFO] Running at \u001b[38;5;121m29.62\u001b[0m\u001b[38;5;159m FPS.\u001b[0m\n",
      "\u001b[38;5;159m[Genesis] [18:08:27] [INFO] Running at \u001b[38;5;121m29.22\u001b[0m\u001b[38;5;159m FPS.\u001b[0m\n",
      "\u001b[38;5;159m[Genesis] [18:08:27] [INFO] Running at \u001b[38;5;121m29.77\u001b[0m\u001b[38;5;159m FPS.\u001b[0m\n",
      "\u001b[38;5;159m[Genesis] [18:08:27] [INFO] Running at \u001b[38;5;121m30.56\u001b[0m\u001b[38;5;159m FPS.\u001b[0m\n",
      "\u001b[38;5;159m[Genesis] [18:08:27] [INFO] Saving video to \u001b[38;5;121mclip.mp4\u001b[0m\u001b[38;5;159m.\u001b[0m\n",
      "\u001b[38;5;159m[Genesis] [18:08:27] [INFO] Video saved.\u001b[0m\n"
     ]
    },
    {
     "name": "stdout",
     "output_type": "stream",
     "text": [
      "tensor([0.7439, 0.0199, 0.1208])\n",
      "True\n"
     ]
    },
    {
     "name": "stderr",
     "output_type": "stream",
     "text": [
      "\u001b[38;5;159m[Genesis] [18:08:28] [INFO] Running at \u001b[38;5;121m18.86\u001b[0m\u001b[38;5;159m FPS.\u001b[0m\n",
      "\u001b[38;5;159m[Genesis] [18:08:28] [INFO] Running at \u001b[38;5;121m19.45\u001b[0m\u001b[38;5;159m FPS.\u001b[0m\n",
      "\u001b[38;5;159m[Genesis] [18:08:28] [INFO] Running at \u001b[38;5;121m20.13\u001b[0m\u001b[38;5;159m FPS.\u001b[0m\n",
      "\u001b[38;5;159m[Genesis] [18:08:28] [INFO] Running at \u001b[38;5;121m20.48\u001b[0m\u001b[38;5;159m FPS.\u001b[0m\n",
      "\u001b[38;5;159m[Genesis] [18:08:28] [INFO] Running at \u001b[38;5;121m20.78\u001b[0m\u001b[38;5;159m FPS.\u001b[0m\n",
      "\u001b[38;5;159m[Genesis] [18:08:28] [INFO] Running at \u001b[38;5;121m21.37\u001b[0m\u001b[38;5;159m FPS.\u001b[0m\n",
      "\u001b[38;5;159m[Genesis] [18:08:28] [INFO] Running at \u001b[38;5;121m22.09\u001b[0m\u001b[38;5;159m FPS.\u001b[0m\n",
      "\u001b[38;5;159m[Genesis] [18:08:28] [INFO] Running at \u001b[38;5;121m22.14\u001b[0m\u001b[38;5;159m FPS.\u001b[0m\n",
      "\u001b[38;5;159m[Genesis] [18:08:28] [INFO] Running at \u001b[38;5;121m22.74\u001b[0m\u001b[38;5;159m FPS.\u001b[0m\n",
      "\u001b[38;5;159m[Genesis] [18:08:28] [INFO] Running at \u001b[38;5;121m23.48\u001b[0m\u001b[38;5;159m FPS.\u001b[0m\n",
      "\u001b[38;5;159m[Genesis] [18:08:28] [INFO] Running at \u001b[38;5;121m23.46\u001b[0m\u001b[38;5;159m FPS.\u001b[0m\n",
      "\u001b[38;5;159m[Genesis] [18:08:28] [INFO] Running at \u001b[38;5;121m24.02\u001b[0m\u001b[38;5;159m FPS.\u001b[0m\n",
      "\u001b[38;5;159m[Genesis] [18:08:28] [INFO] Running at \u001b[38;5;121m24.75\u001b[0m\u001b[38;5;159m FPS.\u001b[0m\n",
      "\u001b[38;5;159m[Genesis] [18:08:28] [INFO] Running at \u001b[38;5;121m25.51\u001b[0m\u001b[38;5;159m FPS.\u001b[0m\n",
      "\u001b[38;5;159m[Genesis] [18:08:28] [INFO] Running at \u001b[38;5;121m25.38\u001b[0m\u001b[38;5;159m FPS.\u001b[0m\n",
      "\u001b[38;5;159m[Genesis] [18:08:28] [INFO] Running at \u001b[38;5;121m25.98\u001b[0m\u001b[38;5;159m FPS.\u001b[0m\n",
      "\u001b[38;5;159m[Genesis] [18:08:28] [INFO] Running at \u001b[38;5;121m26.74\u001b[0m\u001b[38;5;159m FPS.\u001b[0m\n",
      "\u001b[38;5;159m[Genesis] [18:08:28] [INFO] Running at \u001b[38;5;121m26.55\u001b[0m\u001b[38;5;159m FPS.\u001b[0m\n",
      "\u001b[38;5;159m[Genesis] [18:08:28] [INFO] Running at \u001b[38;5;121m27.13\u001b[0m\u001b[38;5;159m FPS.\u001b[0m\n",
      "\u001b[38;5;159m[Genesis] [18:08:28] [INFO] Running at \u001b[38;5;121m27.84\u001b[0m\u001b[38;5;159m FPS.\u001b[0m\n",
      "\u001b[38;5;159m[Genesis] [18:08:28] [INFO] Running at \u001b[38;5;121m28.62\u001b[0m\u001b[38;5;159m FPS.\u001b[0m\n",
      "\u001b[38;5;159m[Genesis] [18:08:28] [INFO] Running at \u001b[38;5;121m28.28\u001b[0m\u001b[38;5;159m FPS.\u001b[0m\n",
      "\u001b[38;5;159m[Genesis] [18:08:28] [INFO] Running at \u001b[38;5;121m28.86\u001b[0m\u001b[38;5;159m FPS.\u001b[0m\n",
      "\u001b[38;5;159m[Genesis] [18:08:28] [INFO] Running at \u001b[38;5;121m29.64\u001b[0m\u001b[38;5;159m FPS.\u001b[0m\n",
      "\u001b[38;5;159m[Genesis] [18:08:28] [INFO] Running at \u001b[38;5;121m29.25\u001b[0m\u001b[38;5;159m FPS.\u001b[0m\n",
      "\u001b[38;5;159m[Genesis] [18:08:28] [INFO] Saving video to \u001b[38;5;121mclip.mp4\u001b[0m\u001b[38;5;159m.\u001b[0m\n",
      "\u001b[38;5;159m[Genesis] [18:08:28] [INFO] Video saved.\u001b[0m\n"
     ]
    },
    {
     "name": "stdout",
     "output_type": "stream",
     "text": [
      "tensor([0.7412, 0.0226, 0.1190])\n",
      "True\n"
     ]
    },
    {
     "name": "stderr",
     "output_type": "stream",
     "text": [
      "\u001b[38;5;159m[Genesis] [18:08:29] [INFO] Running at \u001b[38;5;121m18.67\u001b[0m\u001b[38;5;159m FPS.\u001b[0m\n",
      "\u001b[38;5;159m[Genesis] [18:08:29] [INFO] Running at \u001b[38;5;121m19.13\u001b[0m\u001b[38;5;159m FPS.\u001b[0m\n",
      "\u001b[38;5;159m[Genesis] [18:08:29] [INFO] Running at \u001b[38;5;121m19.70\u001b[0m\u001b[38;5;159m FPS.\u001b[0m\n",
      "\u001b[38;5;159m[Genesis] [18:08:29] [INFO] Running at \u001b[38;5;121m20.35\u001b[0m\u001b[38;5;159m FPS.\u001b[0m\n",
      "\u001b[38;5;159m[Genesis] [18:08:29] [INFO] Running at \u001b[38;5;121m20.50\u001b[0m\u001b[38;5;159m FPS.\u001b[0m\n",
      "\u001b[38;5;159m[Genesis] [18:08:29] [INFO] Running at \u001b[38;5;121m21.09\u001b[0m\u001b[38;5;159m FPS.\u001b[0m\n",
      "\u001b[38;5;159m[Genesis] [18:08:29] [INFO] Running at \u001b[38;5;121m21.76\u001b[0m\u001b[38;5;159m FPS.\u001b[0m\n",
      "\u001b[38;5;159m[Genesis] [18:08:29] [INFO] Running at \u001b[38;5;121m22.48\u001b[0m\u001b[38;5;159m FPS.\u001b[0m\n",
      "\u001b[38;5;159m[Genesis] [18:08:29] [INFO] Running at \u001b[38;5;121m22.51\u001b[0m\u001b[38;5;159m FPS.\u001b[0m\n",
      "\u001b[38;5;159m[Genesis] [18:08:29] [INFO] Running at \u001b[38;5;121m23.11\u001b[0m\u001b[38;5;159m FPS.\u001b[0m\n",
      "\u001b[38;5;159m[Genesis] [18:08:29] [INFO] Running at \u001b[38;5;121m23.86\u001b[0m\u001b[38;5;159m FPS.\u001b[0m\n",
      "\u001b[38;5;159m[Genesis] [18:08:29] [INFO] Running at \u001b[38;5;121m23.83\u001b[0m\u001b[38;5;159m FPS.\u001b[0m\n",
      "\u001b[38;5;159m[Genesis] [18:08:29] [INFO] Running at \u001b[38;5;121m24.39\u001b[0m\u001b[38;5;159m FPS.\u001b[0m\n",
      "\u001b[38;5;159m[Genesis] [18:08:29] [INFO] Running at \u001b[38;5;121m25.12\u001b[0m\u001b[38;5;159m FPS.\u001b[0m\n",
      "\u001b[38;5;159m[Genesis] [18:08:29] [INFO] Running at \u001b[38;5;121m25.89\u001b[0m\u001b[38;5;159m FPS.\u001b[0m\n",
      "\u001b[38;5;159m[Genesis] [18:08:29] [INFO] Running at \u001b[38;5;121m25.74\u001b[0m\u001b[38;5;159m FPS.\u001b[0m\n",
      "\u001b[38;5;159m[Genesis] [18:08:29] [INFO] Running at \u001b[38;5;121m26.31\u001b[0m\u001b[38;5;159m FPS.\u001b[0m\n",
      "\u001b[38;5;159m[Genesis] [18:08:29] [INFO] Running at \u001b[38;5;121m27.08\u001b[0m\u001b[38;5;159m FPS.\u001b[0m\n",
      "\u001b[38;5;159m[Genesis] [18:08:29] [INFO] Running at \u001b[38;5;121m26.87\u001b[0m\u001b[38;5;159m FPS.\u001b[0m\n",
      "\u001b[38;5;159m[Genesis] [18:08:29] [INFO] Running at \u001b[38;5;121m27.43\u001b[0m\u001b[38;5;159m FPS.\u001b[0m\n",
      "\u001b[38;5;159m[Genesis] [18:08:29] [INFO] Running at \u001b[38;5;121m28.20\u001b[0m\u001b[38;5;159m FPS.\u001b[0m\n",
      "\u001b[38;5;159m[Genesis] [18:08:29] [INFO] Running at \u001b[38;5;121m27.90\u001b[0m\u001b[38;5;159m FPS.\u001b[0m\n",
      "\u001b[38;5;159m[Genesis] [18:08:29] [INFO] Running at \u001b[38;5;121m28.40\u001b[0m\u001b[38;5;159m FPS.\u001b[0m\n",
      "\u001b[38;5;159m[Genesis] [18:08:29] [INFO] Running at \u001b[38;5;121m29.10\u001b[0m\u001b[38;5;159m FPS.\u001b[0m\n",
      "\u001b[38;5;159m[Genesis] [18:08:29] [INFO] Running at \u001b[38;5;121m29.88\u001b[0m\u001b[38;5;159m FPS.\u001b[0m\n",
      "\u001b[38;5;159m[Genesis] [18:08:29] [INFO] Saving video to \u001b[38;5;121mclip.mp4\u001b[0m\u001b[38;5;159m.\u001b[0m\n",
      "\u001b[38;5;159m[Genesis] [18:08:30] [INFO] Video saved.\u001b[0m\n"
     ]
    },
    {
     "name": "stdout",
     "output_type": "stream",
     "text": [
      "tensor([0.7424, 0.0275, 0.1162])\n",
      "True\n"
     ]
    },
    {
     "name": "stderr",
     "output_type": "stream",
     "text": [
      "\u001b[38;5;159m[Genesis] [18:08:30] [INFO] Running at \u001b[38;5;121m18.67\u001b[0m\u001b[38;5;159m FPS.\u001b[0m\n",
      "\u001b[38;5;159m[Genesis] [18:08:30] [INFO] Running at \u001b[38;5;121m19.13\u001b[0m\u001b[38;5;159m FPS.\u001b[0m\n",
      "\u001b[38;5;159m[Genesis] [18:08:30] [INFO] Running at \u001b[38;5;121m19.81\u001b[0m\u001b[38;5;159m FPS.\u001b[0m\n",
      "\u001b[38;5;159m[Genesis] [18:08:30] [INFO] Running at \u001b[38;5;121m20.50\u001b[0m\u001b[38;5;159m FPS.\u001b[0m\n",
      "\u001b[38;5;159m[Genesis] [18:08:30] [INFO] Running at \u001b[38;5;121m20.61\u001b[0m\u001b[38;5;159m FPS.\u001b[0m\n",
      "\u001b[38;5;159m[Genesis] [18:08:30] [INFO] Running at \u001b[38;5;121m21.19\u001b[0m\u001b[38;5;159m FPS.\u001b[0m\n",
      "\u001b[38;5;159m[Genesis] [18:08:30] [INFO] Running at \u001b[38;5;121m21.90\u001b[0m\u001b[38;5;159m FPS.\u001b[0m\n",
      "\u001b[38;5;159m[Genesis] [18:08:30] [INFO] Running at \u001b[38;5;121m22.62\u001b[0m\u001b[38;5;159m FPS.\u001b[0m\n",
      "\u001b[38;5;159m[Genesis] [18:08:30] [INFO] Running at \u001b[38;5;121m22.66\u001b[0m\u001b[38;5;159m FPS.\u001b[0m\n",
      "\u001b[38;5;159m[Genesis] [18:08:30] [INFO] Running at \u001b[38;5;121m23.24\u001b[0m\u001b[38;5;159m FPS.\u001b[0m\n",
      "\u001b[38;5;159m[Genesis] [18:08:30] [INFO] Running at \u001b[38;5;121m23.94\u001b[0m\u001b[38;5;159m FPS.\u001b[0m\n",
      "\u001b[38;5;159m[Genesis] [18:08:30] [INFO] Running at \u001b[38;5;121m24.70\u001b[0m\u001b[38;5;159m FPS.\u001b[0m\n",
      "\u001b[38;5;159m[Genesis] [18:08:30] [INFO] Running at \u001b[38;5;121m24.60\u001b[0m\u001b[38;5;159m FPS.\u001b[0m\n",
      "\u001b[38;5;159m[Genesis] [18:08:30] [INFO] Running at \u001b[38;5;121m25.19\u001b[0m\u001b[38;5;159m FPS.\u001b[0m\n",
      "\u001b[38;5;159m[Genesis] [18:08:30] [INFO] Running at \u001b[38;5;121m25.95\u001b[0m\u001b[38;5;159m FPS.\u001b[0m\n",
      "\u001b[38;5;159m[Genesis] [18:08:30] [INFO] Running at \u001b[38;5;121m25.80\u001b[0m\u001b[38;5;159m FPS.\u001b[0m\n",
      "\u001b[38;5;159m[Genesis] [18:08:30] [INFO] Running at \u001b[38;5;121m26.39\u001b[0m\u001b[38;5;159m FPS.\u001b[0m\n",
      "\u001b[38;5;159m[Genesis] [18:08:30] [INFO] Running at \u001b[38;5;121m27.15\u001b[0m\u001b[38;5;159m FPS.\u001b[0m\n",
      "\u001b[38;5;159m[Genesis] [18:08:30] [INFO] Running at \u001b[38;5;121m26.92\u001b[0m\u001b[38;5;159m FPS.\u001b[0m\n",
      "\u001b[38;5;159m[Genesis] [18:08:30] [INFO] Running at \u001b[38;5;121m27.46\u001b[0m\u001b[38;5;159m FPS.\u001b[0m\n",
      "\u001b[38;5;159m[Genesis] [18:08:30] [INFO] Running at \u001b[38;5;121m28.19\u001b[0m\u001b[38;5;159m FPS.\u001b[0m\n",
      "\u001b[38;5;159m[Genesis] [18:08:30] [INFO] Running at \u001b[38;5;121m28.97\u001b[0m\u001b[38;5;159m FPS.\u001b[0m\n",
      "\u001b[38;5;159m[Genesis] [18:08:30] [INFO] Running at \u001b[38;5;121m28.62\u001b[0m\u001b[38;5;159m FPS.\u001b[0m\n",
      "\u001b[38;5;159m[Genesis] [18:08:30] [INFO] Running at \u001b[38;5;121m29.18\u001b[0m\u001b[38;5;159m FPS.\u001b[0m\n",
      "\u001b[38;5;159m[Genesis] [18:08:30] [INFO] Running at \u001b[38;5;121m29.97\u001b[0m\u001b[38;5;159m FPS.\u001b[0m\n",
      "\u001b[38;5;159m[Genesis] [18:08:31] [INFO] Saving video to \u001b[38;5;121mclip.mp4\u001b[0m\u001b[38;5;159m.\u001b[0m\n",
      "\u001b[38;5;159m[Genesis] [18:08:31] [INFO] Video saved.\u001b[0m\n"
     ]
    },
    {
     "name": "stdout",
     "output_type": "stream",
     "text": [
      "tensor([0.7445, 0.0319, 0.1165])\n",
      "True\n"
     ]
    },
    {
     "name": "stderr",
     "output_type": "stream",
     "text": [
      "\u001b[38;5;159m[Genesis] [18:08:31] [INFO] Running at \u001b[38;5;121m18.63\u001b[0m\u001b[38;5;159m FPS.\u001b[0m\n",
      "\u001b[38;5;159m[Genesis] [18:08:31] [INFO] Running at \u001b[38;5;121m19.22\u001b[0m\u001b[38;5;159m FPS.\u001b[0m\n",
      "\u001b[38;5;159m[Genesis] [18:08:31] [INFO] Running at \u001b[38;5;121m19.80\u001b[0m\u001b[38;5;159m FPS.\u001b[0m\n",
      "\u001b[38;5;159m[Genesis] [18:08:31] [INFO] Running at \u001b[38;5;121m19.94\u001b[0m\u001b[38;5;159m FPS.\u001b[0m\n",
      "\u001b[38;5;159m[Genesis] [18:08:31] [INFO] Running at \u001b[38;5;121m20.28\u001b[0m\u001b[38;5;159m FPS.\u001b[0m\n",
      "\u001b[38;5;159m[Genesis] [18:08:31] [INFO] Running at \u001b[38;5;121m20.82\u001b[0m\u001b[38;5;159m FPS.\u001b[0m\n",
      "\u001b[38;5;159m[Genesis] [18:08:31] [INFO] Running at \u001b[38;5;121m21.54\u001b[0m\u001b[38;5;159m FPS.\u001b[0m\n",
      "\u001b[38;5;159m[Genesis] [18:08:31] [INFO] Running at \u001b[38;5;121m22.03\u001b[0m\u001b[38;5;159m FPS.\u001b[0m\n",
      "\u001b[38;5;159m[Genesis] [18:08:31] [INFO] Running at \u001b[38;5;121m22.62\u001b[0m\u001b[38;5;159m FPS.\u001b[0m\n",
      "\u001b[38;5;159m[Genesis] [18:08:31] [INFO] Running at \u001b[38;5;121m23.35\u001b[0m\u001b[38;5;159m FPS.\u001b[0m\n",
      "\u001b[38;5;159m[Genesis] [18:08:31] [INFO] Running at \u001b[38;5;121m23.34\u001b[0m\u001b[38;5;159m FPS.\u001b[0m\n",
      "\u001b[38;5;159m[Genesis] [18:08:31] [INFO] Running at \u001b[38;5;121m23.60\u001b[0m\u001b[38;5;159m FPS.\u001b[0m\n",
      "\u001b[38;5;159m[Genesis] [18:08:31] [INFO] Running at \u001b[38;5;121m24.20\u001b[0m\u001b[38;5;159m FPS.\u001b[0m\n",
      "\u001b[38;5;159m[Genesis] [18:08:31] [INFO] Running at \u001b[38;5;121m24.11\u001b[0m\u001b[38;5;159m FPS.\u001b[0m\n",
      "\u001b[38;5;159m[Genesis] [18:08:31] [INFO] Running at \u001b[38;5;121m24.70\u001b[0m\u001b[38;5;159m FPS.\u001b[0m\n",
      "\u001b[38;5;159m[Genesis] [18:08:31] [INFO] Running at \u001b[38;5;121m25.47\u001b[0m\u001b[38;5;159m FPS.\u001b[0m\n",
      "\u001b[38;5;159m[Genesis] [18:08:31] [INFO] Running at \u001b[38;5;121m25.89\u001b[0m\u001b[38;5;159m FPS.\u001b[0m\n",
      "\u001b[38;5;159m[Genesis] [18:08:31] [INFO] Running at \u001b[38;5;121m26.07\u001b[0m\u001b[38;5;159m FPS.\u001b[0m\n",
      "\u001b[38;5;159m[Genesis] [18:08:31] [INFO] Running at \u001b[38;5;121m26.57\u001b[0m\u001b[38;5;159m FPS.\u001b[0m\n",
      "\u001b[38;5;159m[Genesis] [18:08:31] [INFO] Running at \u001b[38;5;121m27.35\u001b[0m\u001b[38;5;159m FPS.\u001b[0m\n",
      "\u001b[38;5;159m[Genesis] [18:08:31] [INFO] Running at \u001b[38;5;121m27.09\u001b[0m\u001b[38;5;159m FPS.\u001b[0m\n",
      "\u001b[38;5;159m[Genesis] [18:08:31] [INFO] Running at \u001b[38;5;121m27.67\u001b[0m\u001b[38;5;159m FPS.\u001b[0m\n",
      "\u001b[38;5;159m[Genesis] [18:08:32] [INFO] Running at \u001b[38;5;121m28.45\u001b[0m\u001b[38;5;159m FPS.\u001b[0m\n",
      "\u001b[38;5;159m[Genesis] [18:08:32] [INFO] Running at \u001b[38;5;121m28.81\u001b[0m\u001b[38;5;159m FPS.\u001b[0m\n",
      "\u001b[38;5;159m[Genesis] [18:08:32] [INFO] Running at \u001b[38;5;121m29.26\u001b[0m\u001b[38;5;159m FPS.\u001b[0m\n",
      "\u001b[38;5;159m[Genesis] [18:08:32] [INFO] Saving video to \u001b[38;5;121mclip.mp4\u001b[0m\u001b[38;5;159m.\u001b[0m\n",
      "\u001b[38;5;159m[Genesis] [18:08:32] [INFO] Video saved.\u001b[0m\n"
     ]
    },
    {
     "name": "stdout",
     "output_type": "stream",
     "text": [
      "tensor([0.7445, 0.0354, 0.1166])\n",
      "True\n"
     ]
    },
    {
     "name": "stderr",
     "output_type": "stream",
     "text": [
      "\u001b[38;5;159m[Genesis] [18:08:32] [INFO] Running at \u001b[38;5;121m18.76\u001b[0m\u001b[38;5;159m FPS.\u001b[0m\n",
      "\u001b[38;5;159m[Genesis] [18:08:32] [INFO] Running at \u001b[38;5;121m19.25\u001b[0m\u001b[38;5;159m FPS.\u001b[0m\n",
      "\u001b[38;5;159m[Genesis] [18:08:32] [INFO] Running at \u001b[38;5;121m19.83\u001b[0m\u001b[38;5;159m FPS.\u001b[0m\n",
      "\u001b[38;5;159m[Genesis] [18:08:32] [INFO] Running at \u001b[38;5;121m20.53\u001b[0m\u001b[38;5;159m FPS.\u001b[0m\n",
      "\u001b[38;5;159m[Genesis] [18:08:32] [INFO] Running at \u001b[38;5;121m21.00\u001b[0m\u001b[38;5;159m FPS.\u001b[0m\n",
      "\u001b[38;5;159m[Genesis] [18:08:32] [INFO] Running at \u001b[38;5;121m21.33\u001b[0m\u001b[38;5;159m FPS.\u001b[0m\n",
      "\u001b[38;5;159m[Genesis] [18:08:32] [INFO] Running at \u001b[38;5;121m21.93\u001b[0m\u001b[38;5;159m FPS.\u001b[0m\n",
      "\u001b[38;5;159m[Genesis] [18:08:32] [INFO] Running at \u001b[38;5;121m21.98\u001b[0m\u001b[38;5;159m FPS.\u001b[0m\n",
      "\u001b[38;5;159m[Genesis] [18:08:32] [INFO] Running at \u001b[38;5;121m22.28\u001b[0m\u001b[38;5;159m FPS.\u001b[0m\n",
      "\u001b[38;5;159m[Genesis] [18:08:32] [INFO] Running at \u001b[38;5;121m22.81\u001b[0m\u001b[38;5;159m FPS.\u001b[0m\n",
      "\u001b[38;5;159m[Genesis] [18:08:32] [INFO] Running at \u001b[38;5;121m23.56\u001b[0m\u001b[38;5;159m FPS.\u001b[0m\n",
      "\u001b[38;5;159m[Genesis] [18:08:32] [INFO] Running at \u001b[38;5;121m23.54\u001b[0m\u001b[38;5;159m FPS.\u001b[0m\n",
      "\u001b[38;5;159m[Genesis] [18:08:32] [INFO] Running at \u001b[38;5;121m24.13\u001b[0m\u001b[38;5;159m FPS.\u001b[0m\n",
      "\u001b[38;5;159m[Genesis] [18:08:32] [INFO] Running at \u001b[38;5;121m24.89\u001b[0m\u001b[38;5;159m FPS.\u001b[0m\n",
      "\u001b[38;5;159m[Genesis] [18:08:32] [INFO] Running at \u001b[38;5;121m24.80\u001b[0m\u001b[38;5;159m FPS.\u001b[0m\n",
      "\u001b[38;5;159m[Genesis] [18:08:32] [INFO] Running at \u001b[38;5;121m25.40\u001b[0m\u001b[38;5;159m FPS.\u001b[0m\n",
      "\u001b[38;5;159m[Genesis] [18:08:32] [INFO] Running at \u001b[38;5;121m26.17\u001b[0m\u001b[38;5;159m FPS.\u001b[0m\n",
      "\u001b[38;5;159m[Genesis] [18:08:32] [INFO] Running at \u001b[38;5;121m26.57\u001b[0m\u001b[38;5;159m FPS.\u001b[0m\n",
      "\u001b[38;5;159m[Genesis] [18:08:32] [INFO] Running at \u001b[38;5;121m27.15\u001b[0m\u001b[38;5;159m FPS.\u001b[0m\n",
      "\u001b[38;5;159m[Genesis] [18:08:32] [INFO] Running at \u001b[38;5;121m27.92\u001b[0m\u001b[38;5;159m FPS.\u001b[0m\n",
      "\u001b[38;5;159m[Genesis] [18:08:33] [INFO] Running at \u001b[38;5;121m27.62\u001b[0m\u001b[38;5;159m FPS.\u001b[0m\n",
      "\u001b[38;5;159m[Genesis] [18:08:33] [INFO] Running at \u001b[38;5;121m28.18\u001b[0m\u001b[38;5;159m FPS.\u001b[0m\n",
      "\u001b[38;5;159m[Genesis] [18:08:33] [INFO] Running at \u001b[38;5;121m28.98\u001b[0m\u001b[38;5;159m FPS.\u001b[0m\n",
      "\u001b[38;5;159m[Genesis] [18:08:33] [INFO] Running at \u001b[38;5;121m29.31\u001b[0m\u001b[38;5;159m FPS.\u001b[0m\n",
      "\u001b[38;5;159m[Genesis] [18:08:33] [INFO] Running at \u001b[38;5;121m29.34\u001b[0m\u001b[38;5;159m FPS.\u001b[0m\n",
      "\u001b[38;5;159m[Genesis] [18:08:33] [INFO] Saving video to \u001b[38;5;121mclip.mp4\u001b[0m\u001b[38;5;159m.\u001b[0m\n",
      "\u001b[38;5;159m[Genesis] [18:08:33] [INFO] Video saved.\u001b[0m\n"
     ]
    },
    {
     "name": "stdout",
     "output_type": "stream",
     "text": [
      "tensor([0.7441, 0.0336, 0.1159])\n",
      "True\n"
     ]
    },
    {
     "name": "stderr",
     "output_type": "stream",
     "text": [
      "\u001b[38;5;159m[Genesis] [18:08:33] [INFO] Running at \u001b[38;5;121m18.74\u001b[0m\u001b[38;5;159m FPS.\u001b[0m\n",
      "\u001b[38;5;159m[Genesis] [18:08:33] [INFO] Running at \u001b[38;5;121m19.32\u001b[0m\u001b[38;5;159m FPS.\u001b[0m\n",
      "\u001b[38;5;159m[Genesis] [18:08:33] [INFO] Running at \u001b[38;5;121m19.98\u001b[0m\u001b[38;5;159m FPS.\u001b[0m\n",
      "\u001b[38;5;159m[Genesis] [18:08:33] [INFO] Running at \u001b[38;5;121m20.68\u001b[0m\u001b[38;5;159m FPS.\u001b[0m\n",
      "\u001b[38;5;159m[Genesis] [18:08:33] [INFO] Running at \u001b[38;5;121m21.34\u001b[0m\u001b[38;5;159m FPS.\u001b[0m\n",
      "\u001b[38;5;159m[Genesis] [18:08:33] [INFO] Running at \u001b[38;5;121m21.55\u001b[0m\u001b[38;5;159m FPS.\u001b[0m\n",
      "\u001b[38;5;159m[Genesis] [18:08:33] [INFO] Running at \u001b[38;5;121m22.09\u001b[0m\u001b[38;5;159m FPS.\u001b[0m\n",
      "\u001b[38;5;159m[Genesis] [18:08:33] [INFO] Running at \u001b[38;5;121m22.82\u001b[0m\u001b[38;5;159m FPS.\u001b[0m\n",
      "\u001b[38;5;159m[Genesis] [18:08:33] [INFO] Running at \u001b[38;5;121m22.82\u001b[0m\u001b[38;5;159m FPS.\u001b[0m\n",
      "\u001b[38;5;159m[Genesis] [18:08:33] [INFO] Running at \u001b[38;5;121m23.42\u001b[0m\u001b[38;5;159m FPS.\u001b[0m\n",
      "\u001b[38;5;159m[Genesis] [18:08:33] [INFO] Running at \u001b[38;5;121m24.16\u001b[0m\u001b[38;5;159m FPS.\u001b[0m\n",
      "\u001b[38;5;159m[Genesis] [18:08:33] [INFO] Running at \u001b[38;5;121m24.11\u001b[0m\u001b[38;5;159m FPS.\u001b[0m\n",
      "\u001b[38;5;159m[Genesis] [18:08:33] [INFO] Running at \u001b[38;5;121m24.69\u001b[0m\u001b[38;5;159m FPS.\u001b[0m\n",
      "\u001b[38;5;159m[Genesis] [18:08:33] [INFO] Running at \u001b[38;5;121m25.46\u001b[0m\u001b[38;5;159m FPS.\u001b[0m\n",
      "\u001b[38;5;159m[Genesis] [18:08:33] [INFO] Running at \u001b[38;5;121m25.34\u001b[0m\u001b[38;5;159m FPS.\u001b[0m\n",
      "\u001b[38;5;159m[Genesis] [18:08:33] [INFO] Running at \u001b[38;5;121m25.55\u001b[0m\u001b[38;5;159m FPS.\u001b[0m\n",
      "\u001b[38;5;159m[Genesis] [18:08:33] [INFO] Running at \u001b[38;5;121m26.04\u001b[0m\u001b[38;5;159m FPS.\u001b[0m\n",
      "\u001b[38;5;159m[Genesis] [18:08:33] [INFO] Running at \u001b[38;5;121m26.82\u001b[0m\u001b[38;5;159m FPS.\u001b[0m\n",
      "\u001b[38;5;159m[Genesis] [18:08:34] [INFO] Running at \u001b[38;5;121m26.61\u001b[0m\u001b[38;5;159m FPS.\u001b[0m\n",
      "\u001b[38;5;159m[Genesis] [18:08:34] [INFO] Running at \u001b[38;5;121m27.19\u001b[0m\u001b[38;5;159m FPS.\u001b[0m\n",
      "\u001b[38;5;159m[Genesis] [18:08:34] [INFO] Running at \u001b[38;5;121m27.97\u001b[0m\u001b[38;5;159m FPS.\u001b[0m\n",
      "\u001b[38;5;159m[Genesis] [18:08:34] [INFO] Running at \u001b[38;5;121m27.70\u001b[0m\u001b[38;5;159m FPS.\u001b[0m\n",
      "\u001b[38;5;159m[Genesis] [18:08:34] [INFO] Running at \u001b[38;5;121m28.24\u001b[0m\u001b[38;5;159m FPS.\u001b[0m\n",
      "\u001b[38;5;159m[Genesis] [18:08:34] [INFO] Running at \u001b[38;5;121m28.97\u001b[0m\u001b[38;5;159m FPS.\u001b[0m\n",
      "\u001b[38;5;159m[Genesis] [18:08:34] [INFO] Running at \u001b[38;5;121m29.75\u001b[0m\u001b[38;5;159m FPS.\u001b[0m\n",
      "\u001b[38;5;159m[Genesis] [18:08:34] [INFO] Saving video to \u001b[38;5;121mclip.mp4\u001b[0m\u001b[38;5;159m.\u001b[0m\n",
      "\u001b[38;5;159m[Genesis] [18:08:34] [INFO] Video saved.\u001b[0m\n"
     ]
    },
    {
     "name": "stdout",
     "output_type": "stream",
     "text": [
      "tensor([0.7437, 0.0318, 0.1153])\n",
      "True\n"
     ]
    },
    {
     "name": "stderr",
     "output_type": "stream",
     "text": [
      "\u001b[38;5;159m[Genesis] [18:08:34] [INFO] Running at \u001b[38;5;121m18.58\u001b[0m\u001b[38;5;159m FPS.\u001b[0m\n",
      "\u001b[38;5;159m[Genesis] [18:08:34] [INFO] Running at \u001b[38;5;121m19.15\u001b[0m\u001b[38;5;159m FPS.\u001b[0m\n",
      "\u001b[38;5;159m[Genesis] [18:08:34] [INFO] Running at \u001b[38;5;121m19.83\u001b[0m\u001b[38;5;159m FPS.\u001b[0m\n",
      "\u001b[38;5;159m[Genesis] [18:08:34] [INFO] Running at \u001b[38;5;121m20.53\u001b[0m\u001b[38;5;159m FPS.\u001b[0m\n",
      "\u001b[38;5;159m[Genesis] [18:08:34] [INFO] Running at \u001b[38;5;121m20.88\u001b[0m\u001b[38;5;159m FPS.\u001b[0m\n",
      "\u001b[38;5;159m[Genesis] [18:08:34] [INFO] Running at \u001b[38;5;121m21.20\u001b[0m\u001b[38;5;159m FPS.\u001b[0m\n",
      "\u001b[38;5;159m[Genesis] [18:08:34] [INFO] Running at \u001b[38;5;121m21.79\u001b[0m\u001b[38;5;159m FPS.\u001b[0m\n",
      "\u001b[38;5;159m[Genesis] [18:08:34] [INFO] Running at \u001b[38;5;121m21.85\u001b[0m\u001b[38;5;159m FPS.\u001b[0m\n",
      "\u001b[38;5;159m[Genesis] [18:08:34] [INFO] Running at \u001b[38;5;121m22.42\u001b[0m\u001b[38;5;159m FPS.\u001b[0m\n",
      "\u001b[38;5;159m[Genesis] [18:08:34] [INFO] Running at \u001b[38;5;121m23.12\u001b[0m\u001b[38;5;159m FPS.\u001b[0m\n",
      "\u001b[38;5;159m[Genesis] [18:08:34] [INFO] Running at \u001b[38;5;121m23.86\u001b[0m\u001b[38;5;159m FPS.\u001b[0m\n",
      "\u001b[38;5;159m[Genesis] [18:08:34] [INFO] Running at \u001b[38;5;121m24.32\u001b[0m\u001b[38;5;159m FPS.\u001b[0m\n",
      "\u001b[38;5;159m[Genesis] [18:08:34] [INFO] Running at \u001b[38;5;121m24.92\u001b[0m\u001b[38;5;159m FPS.\u001b[0m\n",
      "\u001b[38;5;159m[Genesis] [18:08:34] [INFO] Running at \u001b[38;5;121m25.62\u001b[0m\u001b[38;5;159m FPS.\u001b[0m\n",
      "\u001b[38;5;159m[Genesis] [18:08:34] [INFO] Running at \u001b[38;5;121m26.39\u001b[0m\u001b[38;5;159m FPS.\u001b[0m\n",
      "\u001b[38;5;159m[Genesis] [18:08:34] [INFO] Running at \u001b[38;5;121m26.21\u001b[0m\u001b[38;5;159m FPS.\u001b[0m\n",
      "\u001b[38;5;159m[Genesis] [18:08:34] [INFO] Running at \u001b[38;5;121m26.81\u001b[0m\u001b[38;5;159m FPS.\u001b[0m\n",
      "\u001b[38;5;159m[Genesis] [18:08:35] [INFO] Running at \u001b[38;5;121m27.58\u001b[0m\u001b[38;5;159m FPS.\u001b[0m\n",
      "\u001b[38;5;159m[Genesis] [18:08:35] [INFO] Running at \u001b[38;5;121m27.34\u001b[0m\u001b[38;5;159m FPS.\u001b[0m\n",
      "\u001b[38;5;159m[Genesis] [18:08:35] [INFO] Running at \u001b[38;5;121m27.90\u001b[0m\u001b[38;5;159m FPS.\u001b[0m\n",
      "\u001b[38;5;159m[Genesis] [18:08:35] [INFO] Running at \u001b[38;5;121m28.60\u001b[0m\u001b[38;5;159m FPS.\u001b[0m\n",
      "\u001b[38;5;159m[Genesis] [18:08:35] [INFO] Running at \u001b[38;5;121m28.31\u001b[0m\u001b[38;5;159m FPS.\u001b[0m\n",
      "\u001b[38;5;159m[Genesis] [18:08:35] [INFO] Running at \u001b[38;5;121m28.84\u001b[0m\u001b[38;5;159m FPS.\u001b[0m\n",
      "\u001b[38;5;159m[Genesis] [18:08:35] [INFO] Running at \u001b[38;5;121m29.62\u001b[0m\u001b[38;5;159m FPS.\u001b[0m\n",
      "\u001b[38;5;159m[Genesis] [18:08:35] [INFO] Running at \u001b[38;5;121m29.24\u001b[0m\u001b[38;5;159m FPS.\u001b[0m\n",
      "\u001b[38;5;159m[Genesis] [18:08:35] [INFO] Saving video to \u001b[38;5;121mclip.mp4\u001b[0m\u001b[38;5;159m.\u001b[0m\n",
      "\u001b[38;5;159m[Genesis] [18:08:35] [INFO] Video saved.\u001b[0m\n"
     ]
    },
    {
     "name": "stdout",
     "output_type": "stream",
     "text": [
      "tensor([0.7451, 0.0365, 0.1164])\n",
      "True\n"
     ]
    },
    {
     "name": "stderr",
     "output_type": "stream",
     "text": [
      "\u001b[38;5;159m[Genesis] [18:08:35] [INFO] Running at \u001b[38;5;121m18.51\u001b[0m\u001b[38;5;159m FPS.\u001b[0m\n",
      "\u001b[38;5;159m[Genesis] [18:08:35] [INFO] Running at \u001b[38;5;121m19.02\u001b[0m\u001b[38;5;159m FPS.\u001b[0m\n",
      "\u001b[38;5;159m[Genesis] [18:08:35] [INFO] Running at \u001b[38;5;121m19.68\u001b[0m\u001b[38;5;159m FPS.\u001b[0m\n",
      "\u001b[38;5;159m[Genesis] [18:08:35] [INFO] Running at \u001b[38;5;121m20.37\u001b[0m\u001b[38;5;159m FPS.\u001b[0m\n",
      "\u001b[38;5;159m[Genesis] [18:08:35] [INFO] Running at \u001b[38;5;121m20.49\u001b[0m\u001b[38;5;159m FPS.\u001b[0m\n",
      "\u001b[38;5;159m[Genesis] [18:08:35] [INFO] Running at \u001b[38;5;121m21.06\u001b[0m\u001b[38;5;159m FPS.\u001b[0m\n",
      "\u001b[38;5;159m[Genesis] [18:08:35] [INFO] Running at \u001b[38;5;121m21.78\u001b[0m\u001b[38;5;159m FPS.\u001b[0m\n",
      "\u001b[38;5;159m[Genesis] [18:08:35] [INFO] Running at \u001b[38;5;121m21.83\u001b[0m\u001b[38;5;159m FPS.\u001b[0m\n",
      "\u001b[38;5;159m[Genesis] [18:08:35] [INFO] Running at \u001b[38;5;121m22.41\u001b[0m\u001b[38;5;159m FPS.\u001b[0m\n",
      "\u001b[38;5;159m[Genesis] [18:08:35] [INFO] Running at \u001b[38;5;121m23.15\u001b[0m\u001b[38;5;159m FPS.\u001b[0m\n",
      "\u001b[38;5;159m[Genesis] [18:08:35] [INFO] Running at \u001b[38;5;121m23.62\u001b[0m\u001b[38;5;159m FPS.\u001b[0m\n",
      "\u001b[38;5;159m[Genesis] [18:08:35] [INFO] Running at \u001b[38;5;121m24.19\u001b[0m\u001b[38;5;159m FPS.\u001b[0m\n",
      "\u001b[38;5;159m[Genesis] [18:08:35] [INFO] Running at \u001b[38;5;121m24.90\u001b[0m\u001b[38;5;159m FPS.\u001b[0m\n",
      "\u001b[38;5;159m[Genesis] [18:08:35] [INFO] Running at \u001b[38;5;121m25.66\u001b[0m\u001b[38;5;159m FPS.\u001b[0m\n",
      "\u001b[38;5;159m[Genesis] [18:08:36] [INFO] Running at \u001b[38;5;121m25.50\u001b[0m\u001b[38;5;159m FPS.\u001b[0m\n",
      "\u001b[38;5;159m[Genesis] [18:08:36] [INFO] Running at \u001b[38;5;121m26.10\u001b[0m\u001b[38;5;159m FPS.\u001b[0m\n",
      "\u001b[38;5;159m[Genesis] [18:08:36] [INFO] Running at \u001b[38;5;121m26.87\u001b[0m\u001b[38;5;159m FPS.\u001b[0m\n",
      "\u001b[38;5;159m[Genesis] [18:08:36] [INFO] Running at \u001b[38;5;121m26.64\u001b[0m\u001b[38;5;159m FPS.\u001b[0m\n",
      "\u001b[38;5;159m[Genesis] [18:08:36] [INFO] Running at \u001b[38;5;121m27.22\u001b[0m\u001b[38;5;159m FPS.\u001b[0m\n",
      "\u001b[38;5;159m[Genesis] [18:08:36] [INFO] Running at \u001b[38;5;121m28.00\u001b[0m\u001b[38;5;159m FPS.\u001b[0m\n",
      "\u001b[38;5;159m[Genesis] [18:08:36] [INFO] Running at \u001b[38;5;121m27.70\u001b[0m\u001b[38;5;159m FPS.\u001b[0m\n",
      "\u001b[38;5;159m[Genesis] [18:08:36] [INFO] Running at \u001b[38;5;121m28.25\u001b[0m\u001b[38;5;159m FPS.\u001b[0m\n",
      "\u001b[38;5;159m[Genesis] [18:08:36] [INFO] Running at \u001b[38;5;121m29.03\u001b[0m\u001b[38;5;159m FPS.\u001b[0m\n",
      "\u001b[38;5;159m[Genesis] [18:08:36] [INFO] Running at \u001b[38;5;121m28.66\u001b[0m\u001b[38;5;159m FPS.\u001b[0m\n",
      "\u001b[38;5;159m[Genesis] [18:08:36] [INFO] Running at \u001b[38;5;121m29.19\u001b[0m\u001b[38;5;159m FPS.\u001b[0m\n",
      "\u001b[38;5;159m[Genesis] [18:08:36] [INFO] Saving video to \u001b[38;5;121mclip.mp4\u001b[0m\u001b[38;5;159m.\u001b[0m\n",
      "\u001b[38;5;159m[Genesis] [18:08:36] [INFO] Video saved.\u001b[0m\n"
     ]
    },
    {
     "name": "stdout",
     "output_type": "stream",
     "text": [
      "tensor([0.7437, 0.0408, 0.1167])\n",
      "True\n"
     ]
    },
    {
     "name": "stderr",
     "output_type": "stream",
     "text": [
      "\u001b[38;5;159m[Genesis] [18:08:36] [INFO] Running at \u001b[38;5;121m18.81\u001b[0m\u001b[38;5;159m FPS.\u001b[0m\n",
      "\u001b[38;5;159m[Genesis] [18:08:36] [INFO] Running at \u001b[38;5;121m19.49\u001b[0m\u001b[38;5;159m FPS.\u001b[0m\n",
      "\u001b[38;5;159m[Genesis] [18:08:36] [INFO] Running at \u001b[38;5;121m19.87\u001b[0m\u001b[38;5;159m FPS.\u001b[0m\n",
      "\u001b[38;5;159m[Genesis] [18:08:36] [INFO] Running at \u001b[38;5;121m20.23\u001b[0m\u001b[38;5;159m FPS.\u001b[0m\n",
      "\u001b[38;5;159m[Genesis] [18:08:36] [INFO] Running at \u001b[38;5;121m20.78\u001b[0m\u001b[38;5;159m FPS.\u001b[0m\n",
      "\u001b[38;5;159m[Genesis] [18:08:36] [INFO] Running at \u001b[38;5;121m21.49\u001b[0m\u001b[38;5;159m FPS.\u001b[0m\n",
      "\u001b[38;5;159m[Genesis] [18:08:36] [INFO] Running at \u001b[38;5;121m21.57\u001b[0m\u001b[38;5;159m FPS.\u001b[0m\n",
      "\u001b[38;5;159m[Genesis] [18:08:36] [INFO] Running at \u001b[38;5;121m22.18\u001b[0m\u001b[38;5;159m FPS.\u001b[0m\n",
      "\u001b[38;5;159m[Genesis] [18:08:36] [INFO] Running at \u001b[38;5;121m22.91\u001b[0m\u001b[38;5;159m FPS.\u001b[0m\n",
      "\u001b[38;5;159m[Genesis] [18:08:36] [INFO] Running at \u001b[38;5;121m22.92\u001b[0m\u001b[38;5;159m FPS.\u001b[0m\n",
      "\u001b[38;5;159m[Genesis] [18:08:36] [INFO] Running at \u001b[38;5;121m23.21\u001b[0m\u001b[38;5;159m FPS.\u001b[0m\n",
      "\u001b[38;5;159m[Genesis] [18:08:36] [INFO] Running at \u001b[38;5;121m23.74\u001b[0m\u001b[38;5;159m FPS.\u001b[0m\n",
      "\u001b[38;5;159m[Genesis] [18:08:37] [INFO] Running at \u001b[38;5;121m24.49\u001b[0m\u001b[38;5;159m FPS.\u001b[0m\n",
      "\u001b[38;5;159m[Genesis] [18:08:37] [INFO] Running at \u001b[38;5;121m24.94\u001b[0m\u001b[38;5;159m FPS.\u001b[0m\n",
      "\u001b[38;5;159m[Genesis] [18:08:37] [INFO] Running at \u001b[38;5;121m25.54\u001b[0m\u001b[38;5;159m FPS.\u001b[0m\n",
      "\u001b[38;5;159m[Genesis] [18:08:37] [INFO] Running at \u001b[38;5;121m26.32\u001b[0m\u001b[38;5;159m FPS.\u001b[0m\n",
      "\u001b[38;5;159m[Genesis] [18:08:37] [INFO] Running at \u001b[38;5;121m26.69\u001b[0m\u001b[38;5;159m FPS.\u001b[0m\n",
      "\u001b[38;5;159m[Genesis] [18:08:37] [INFO] Running at \u001b[38;5;121m26.87\u001b[0m\u001b[38;5;159m FPS.\u001b[0m\n",
      "\u001b[38;5;159m[Genesis] [18:08:37] [INFO] Running at \u001b[38;5;121m27.37\u001b[0m\u001b[38;5;159m FPS.\u001b[0m\n",
      "\u001b[38;5;159m[Genesis] [18:08:37] [INFO] Running at \u001b[38;5;121m27.18\u001b[0m\u001b[38;5;159m FPS.\u001b[0m\n",
      "\u001b[38;5;159m[Genesis] [18:08:37] [INFO] Running at \u001b[38;5;121m27.33\u001b[0m\u001b[38;5;159m FPS.\u001b[0m\n",
      "\u001b[38;5;159m[Genesis] [18:08:37] [INFO] Running at \u001b[38;5;121m27.81\u001b[0m\u001b[38;5;159m FPS.\u001b[0m\n",
      "\u001b[38;5;159m[Genesis] [18:08:37] [INFO] Running at \u001b[38;5;121m28.59\u001b[0m\u001b[38;5;159m FPS.\u001b[0m\n",
      "\u001b[38;5;159m[Genesis] [18:08:37] [INFO] Running at \u001b[38;5;121m28.26\u001b[0m\u001b[38;5;159m FPS.\u001b[0m\n",
      "\u001b[38;5;159m[Genesis] [18:08:37] [INFO] Running at \u001b[38;5;121m28.84\u001b[0m\u001b[38;5;159m FPS.\u001b[0m\n",
      "\u001b[38;5;159m[Genesis] [18:08:37] [INFO] Saving video to \u001b[38;5;121mclip.mp4\u001b[0m\u001b[38;5;159m.\u001b[0m\n",
      "\u001b[38;5;159m[Genesis] [18:08:37] [INFO] Video saved.\u001b[0m\n"
     ]
    },
    {
     "name": "stdout",
     "output_type": "stream",
     "text": [
      "tensor([0.7349, 0.0398, 0.1163])\n",
      "True\n"
     ]
    },
    {
     "name": "stderr",
     "output_type": "stream",
     "text": [
      "\u001b[38;5;159m[Genesis] [18:08:37] [INFO] Running at \u001b[38;5;121m18.66\u001b[0m\u001b[38;5;159m FPS.\u001b[0m\n",
      "\u001b[38;5;159m[Genesis] [18:08:37] [INFO] Running at \u001b[38;5;121m19.27\u001b[0m\u001b[38;5;159m FPS.\u001b[0m\n",
      "\u001b[38;5;159m[Genesis] [18:08:37] [INFO] Running at \u001b[38;5;121m19.94\u001b[0m\u001b[38;5;159m FPS.\u001b[0m\n",
      "\u001b[38;5;159m[Genesis] [18:08:37] [INFO] Running at \u001b[38;5;121m20.64\u001b[0m\u001b[38;5;159m FPS.\u001b[0m\n",
      "\u001b[38;5;159m[Genesis] [18:08:37] [INFO] Running at \u001b[38;5;121m20.75\u001b[0m\u001b[38;5;159m FPS.\u001b[0m\n",
      "\u001b[38;5;159m[Genesis] [18:08:37] [INFO] Running at \u001b[38;5;121m21.33\u001b[0m\u001b[38;5;159m FPS.\u001b[0m\n",
      "\u001b[38;5;159m[Genesis] [18:08:37] [INFO] Running at \u001b[38;5;121m22.00\u001b[0m\u001b[38;5;159m FPS.\u001b[0m\n",
      "\u001b[38;5;159m[Genesis] [18:08:37] [INFO] Running at \u001b[38;5;121m22.73\u001b[0m\u001b[38;5;159m FPS.\u001b[0m\n",
      "\u001b[38;5;159m[Genesis] [18:08:37] [INFO] Running at \u001b[38;5;121m22.74\u001b[0m\u001b[38;5;159m FPS.\u001b[0m\n",
      "\u001b[38;5;159m[Genesis] [18:08:37] [INFO] Running at \u001b[38;5;121m23.34\u001b[0m\u001b[38;5;159m FPS.\u001b[0m\n",
      "\u001b[38;5;159m[Genesis] [18:08:38] [INFO] Running at \u001b[38;5;121m23.35\u001b[0m\u001b[38;5;159m FPS.\u001b[0m\n",
      "\u001b[38;5;159m[Genesis] [18:08:38] [INFO] Running at \u001b[38;5;121m23.93\u001b[0m\u001b[38;5;159m FPS.\u001b[0m\n",
      "\u001b[38;5;159m[Genesis] [18:08:38] [INFO] Running at \u001b[38;5;121m24.69\u001b[0m\u001b[38;5;159m FPS.\u001b[0m\n",
      "\u001b[38;5;159m[Genesis] [18:08:38] [INFO] Running at \u001b[38;5;121m24.61\u001b[0m\u001b[38;5;159m FPS.\u001b[0m\n",
      "\u001b[38;5;159m[Genesis] [18:08:38] [INFO] Running at \u001b[38;5;121m24.84\u001b[0m\u001b[38;5;159m FPS.\u001b[0m\n",
      "\u001b[38;5;159m[Genesis] [18:08:38] [INFO] Running at \u001b[38;5;121m25.33\u001b[0m\u001b[38;5;159m FPS.\u001b[0m\n",
      "\u001b[38;5;159m[Genesis] [18:08:38] [INFO] Running at \u001b[38;5;121m26.10\u001b[0m\u001b[38;5;159m FPS.\u001b[0m\n",
      "\u001b[38;5;159m[Genesis] [18:08:38] [INFO] Running at \u001b[38;5;121m25.94\u001b[0m\u001b[38;5;159m FPS.\u001b[0m\n",
      "\u001b[38;5;159m[Genesis] [18:08:38] [INFO] Running at \u001b[38;5;121m26.52\u001b[0m\u001b[38;5;159m FPS.\u001b[0m\n",
      "\u001b[38;5;159m[Genesis] [18:08:38] [INFO] Running at \u001b[38;5;121m27.29\u001b[0m\u001b[38;5;159m FPS.\u001b[0m\n",
      "\u001b[38;5;159m[Genesis] [18:08:38] [INFO] Running at \u001b[38;5;121m27.67\u001b[0m\u001b[38;5;159m FPS.\u001b[0m\n",
      "\u001b[38;5;159m[Genesis] [18:08:38] [INFO] Running at \u001b[38;5;121m28.23\u001b[0m\u001b[38;5;159m FPS.\u001b[0m\n",
      "\u001b[38;5;159m[Genesis] [18:08:38] [INFO] Running at \u001b[38;5;121m29.02\u001b[0m\u001b[38;5;159m FPS.\u001b[0m\n",
      "\u001b[38;5;159m[Genesis] [18:08:38] [INFO] Running at \u001b[38;5;121m29.36\u001b[0m\u001b[38;5;159m FPS.\u001b[0m\n",
      "\u001b[38;5;159m[Genesis] [18:08:38] [INFO] Running at \u001b[38;5;121m29.39\u001b[0m\u001b[38;5;159m FPS.\u001b[0m\n",
      "\u001b[38;5;159m[Genesis] [18:08:38] [INFO] Saving video to \u001b[38;5;121mclip.mp4\u001b[0m\u001b[38;5;159m.\u001b[0m\n",
      "\u001b[38;5;159m[Genesis] [18:08:38] [INFO] Video saved.\u001b[0m\n"
     ]
    },
    {
     "name": "stdout",
     "output_type": "stream",
     "text": [
      "tensor([0.7345, 0.0381, 0.1154])\n",
      "True\n"
     ]
    },
    {
     "name": "stderr",
     "output_type": "stream",
     "text": [
      "\u001b[38;5;159m[Genesis] [18:08:38] [INFO] Running at \u001b[38;5;121m18.78\u001b[0m\u001b[38;5;159m FPS.\u001b[0m\n",
      "\u001b[38;5;159m[Genesis] [18:08:38] [INFO] Running at \u001b[38;5;121m19.19\u001b[0m\u001b[38;5;159m FPS.\u001b[0m\n",
      "\u001b[38;5;159m[Genesis] [18:08:38] [INFO] Running at \u001b[38;5;121m19.73\u001b[0m\u001b[38;5;159m FPS.\u001b[0m\n",
      "\u001b[38;5;159m[Genesis] [18:08:38] [INFO] Running at \u001b[38;5;121m20.42\u001b[0m\u001b[38;5;159m FPS.\u001b[0m\n",
      "\u001b[38;5;159m[Genesis] [18:08:38] [INFO] Running at \u001b[38;5;121m20.54\u001b[0m\u001b[38;5;159m FPS.\u001b[0m\n",
      "\u001b[38;5;159m[Genesis] [18:08:38] [INFO] Running at \u001b[38;5;121m21.15\u001b[0m\u001b[38;5;159m FPS.\u001b[0m\n",
      "\u001b[38;5;159m[Genesis] [18:08:38] [INFO] Running at \u001b[38;5;121m21.86\u001b[0m\u001b[38;5;159m FPS.\u001b[0m\n",
      "\u001b[38;5;159m[Genesis] [18:08:39] [INFO] Running at \u001b[38;5;121m21.93\u001b[0m\u001b[38;5;159m FPS.\u001b[0m\n",
      "\u001b[38;5;159m[Genesis] [18:08:39] [INFO] Running at \u001b[38;5;121m22.24\u001b[0m\u001b[38;5;159m FPS.\u001b[0m\n",
      "\u001b[38;5;159m[Genesis] [18:08:39] [INFO] Running at \u001b[38;5;121m22.75\u001b[0m\u001b[38;5;159m FPS.\u001b[0m\n",
      "\u001b[38;5;159m[Genesis] [18:08:39] [INFO] Running at \u001b[38;5;121m22.82\u001b[0m\u001b[38;5;159m FPS.\u001b[0m\n",
      "\u001b[38;5;159m[Genesis] [18:08:39] [INFO] Running at \u001b[38;5;121m23.42\u001b[0m\u001b[38;5;159m FPS.\u001b[0m\n",
      "\u001b[38;5;159m[Genesis] [18:08:39] [INFO] Running at \u001b[38;5;121m24.10\u001b[0m\u001b[38;5;159m FPS.\u001b[0m\n",
      "\u001b[38;5;159m[Genesis] [18:08:39] [INFO] Running at \u001b[38;5;121m24.86\u001b[0m\u001b[38;5;159m FPS.\u001b[0m\n",
      "\u001b[38;5;159m[Genesis] [18:08:39] [INFO] Running at \u001b[38;5;121m24.77\u001b[0m\u001b[38;5;159m FPS.\u001b[0m\n",
      "\u001b[38;5;159m[Genesis] [18:08:39] [INFO] Running at \u001b[38;5;121m25.35\u001b[0m\u001b[38;5;159m FPS.\u001b[0m\n",
      "\u001b[38;5;159m[Genesis] [18:08:39] [INFO] Running at \u001b[38;5;121m26.12\u001b[0m\u001b[38;5;159m FPS.\u001b[0m\n",
      "\u001b[38;5;159m[Genesis] [18:08:39] [INFO] Running at \u001b[38;5;121m26.56\u001b[0m\u001b[38;5;159m FPS.\u001b[0m\n",
      "\u001b[38;5;159m[Genesis] [18:08:39] [INFO] Running at \u001b[38;5;121m26.72\u001b[0m\u001b[38;5;159m FPS.\u001b[0m\n",
      "\u001b[38;5;159m[Genesis] [18:08:39] [INFO] Running at \u001b[38;5;121m27.23\u001b[0m\u001b[38;5;159m FPS.\u001b[0m\n",
      "\u001b[38;5;159m[Genesis] [18:08:39] [INFO] Running at \u001b[38;5;121m27.00\u001b[0m\u001b[38;5;159m FPS.\u001b[0m\n",
      "\u001b[38;5;159m[Genesis] [18:08:39] [INFO] Running at \u001b[38;5;121m27.10\u001b[0m\u001b[38;5;159m FPS.\u001b[0m\n",
      "\u001b[38;5;159m[Genesis] [18:08:39] [INFO] Running at \u001b[38;5;121m27.65\u001b[0m\u001b[38;5;159m FPS.\u001b[0m\n",
      "\u001b[38;5;159m[Genesis] [18:08:39] [INFO] Running at \u001b[38;5;121m27.39\u001b[0m\u001b[38;5;159m FPS.\u001b[0m\n",
      "\u001b[38;5;159m[Genesis] [18:08:39] [INFO] Running at \u001b[38;5;121m27.96\u001b[0m\u001b[38;5;159m FPS.\u001b[0m\n",
      "\u001b[38;5;159m[Genesis] [18:08:39] [INFO] Saving video to \u001b[38;5;121mclip.mp4\u001b[0m\u001b[38;5;159m.\u001b[0m\n",
      "\u001b[38;5;159m[Genesis] [18:08:39] [INFO] Video saved.\u001b[0m\n"
     ]
    },
    {
     "name": "stdout",
     "output_type": "stream",
     "text": [
      "tensor([0.7225, 0.0355, 0.1147])\n",
      "True\n"
     ]
    },
    {
     "name": "stderr",
     "output_type": "stream",
     "text": [
      "\u001b[38;5;159m[Genesis] [18:08:39] [INFO] Running at \u001b[38;5;121m18.28\u001b[0m\u001b[38;5;159m FPS.\u001b[0m\n",
      "\u001b[38;5;159m[Genesis] [18:08:39] [INFO] Running at \u001b[38;5;121m18.93\u001b[0m\u001b[38;5;159m FPS.\u001b[0m\n",
      "\u001b[38;5;159m[Genesis] [18:08:39] [INFO] Running at \u001b[38;5;121m19.61\u001b[0m\u001b[38;5;159m FPS.\u001b[0m\n",
      "\u001b[38;5;159m[Genesis] [18:08:39] [INFO] Running at \u001b[38;5;121m19.77\u001b[0m\u001b[38;5;159m FPS.\u001b[0m\n",
      "\u001b[38;5;159m[Genesis] [18:08:40] [INFO] Running at \u001b[38;5;121m20.11\u001b[0m\u001b[38;5;159m FPS.\u001b[0m\n",
      "\u001b[38;5;159m[Genesis] [18:08:40] [INFO] Running at \u001b[38;5;121m20.65\u001b[0m\u001b[38;5;159m FPS.\u001b[0m\n",
      "\u001b[38;5;159m[Genesis] [18:08:40] [INFO] Running at \u001b[38;5;121m21.36\u001b[0m\u001b[38;5;159m FPS.\u001b[0m\n",
      "\u001b[38;5;159m[Genesis] [18:08:40] [INFO] Running at \u001b[38;5;121m21.86\u001b[0m\u001b[38;5;159m FPS.\u001b[0m\n",
      "\u001b[38;5;159m[Genesis] [18:08:40] [INFO] Running at \u001b[38;5;121m22.44\u001b[0m\u001b[38;5;159m FPS.\u001b[0m\n",
      "\u001b[38;5;159m[Genesis] [18:08:40] [INFO] Running at \u001b[38;5;121m23.13\u001b[0m\u001b[38;5;159m FPS.\u001b[0m\n",
      "\u001b[38;5;159m[Genesis] [18:08:40] [INFO] Running at \u001b[38;5;121m23.88\u001b[0m\u001b[38;5;159m FPS.\u001b[0m\n",
      "\u001b[38;5;159m[Genesis] [18:08:40] [INFO] Running at \u001b[38;5;121m24.36\u001b[0m\u001b[38;5;159m FPS.\u001b[0m\n",
      "\u001b[38;5;159m[Genesis] [18:08:40] [INFO] Running at \u001b[38;5;121m24.92\u001b[0m\u001b[38;5;159m FPS.\u001b[0m\n",
      "\u001b[38;5;159m[Genesis] [18:08:40] [INFO] Running at \u001b[38;5;121m25.66\u001b[0m\u001b[38;5;159m FPS.\u001b[0m\n",
      "\u001b[38;5;159m[Genesis] [18:08:40] [INFO] Running at \u001b[38;5;121m26.43\u001b[0m\u001b[38;5;159m FPS.\u001b[0m\n",
      "\u001b[38;5;159m[Genesis] [18:08:40] [INFO] Running at \u001b[38;5;121m26.26\u001b[0m\u001b[38;5;159m FPS.\u001b[0m\n",
      "\u001b[38;5;159m[Genesis] [18:08:40] [INFO] Running at \u001b[38;5;121m26.82\u001b[0m\u001b[38;5;159m FPS.\u001b[0m\n",
      "\u001b[38;5;159m[Genesis] [18:08:40] [INFO] Running at \u001b[38;5;121m27.57\u001b[0m\u001b[38;5;159m FPS.\u001b[0m\n",
      "\u001b[38;5;159m[Genesis] [18:08:40] [INFO] Running at \u001b[38;5;121m28.36\u001b[0m\u001b[38;5;159m FPS.\u001b[0m\n",
      "\u001b[38;5;159m[Genesis] [18:08:40] [INFO] Running at \u001b[38;5;121m28.06\u001b[0m\u001b[38;5;159m FPS.\u001b[0m\n",
      "\u001b[38;5;159m[Genesis] [18:08:40] [INFO] Running at \u001b[38;5;121m28.58\u001b[0m\u001b[38;5;159m FPS.\u001b[0m\n",
      "\u001b[38;5;159m[Genesis] [18:08:40] [INFO] Running at \u001b[38;5;121m29.35\u001b[0m\u001b[38;5;159m FPS.\u001b[0m\n",
      "\u001b[38;5;159m[Genesis] [18:08:40] [INFO] Running at \u001b[38;5;121m30.14\u001b[0m\u001b[38;5;159m FPS.\u001b[0m\n",
      "\u001b[38;5;159m[Genesis] [18:08:40] [INFO] Running at \u001b[38;5;121m29.70\u001b[0m\u001b[38;5;159m FPS.\u001b[0m\n",
      "\u001b[38;5;159m[Genesis] [18:08:40] [INFO] Running at \u001b[38;5;121m30.11\u001b[0m\u001b[38;5;159m FPS.\u001b[0m\n",
      "\u001b[38;5;159m[Genesis] [18:08:40] [INFO] Saving video to \u001b[38;5;121mclip.mp4\u001b[0m\u001b[38;5;159m.\u001b[0m\n",
      "\u001b[38;5;159m[Genesis] [18:08:40] [INFO] Video saved.\u001b[0m\n"
     ]
    },
    {
     "name": "stdout",
     "output_type": "stream",
     "text": [
      "tensor([0.7124, 0.0361, 0.1309])\n",
      "True\n"
     ]
    },
    {
     "name": "stderr",
     "output_type": "stream",
     "text": [
      "\u001b[38;5;159m[Genesis] [18:08:40] [INFO] Running at \u001b[38;5;121m19.13\u001b[0m\u001b[38;5;159m FPS.\u001b[0m\n",
      "\u001b[38;5;159m[Genesis] [18:08:40] [INFO] Running at \u001b[38;5;121m19.81\u001b[0m\u001b[38;5;159m FPS.\u001b[0m\n",
      "\u001b[38;5;159m[Genesis] [18:08:40] [INFO] Running at \u001b[38;5;121m20.50\u001b[0m\u001b[38;5;159m FPS.\u001b[0m\n",
      "\u001b[38;5;159m[Genesis] [18:08:40] [INFO] Running at \u001b[38;5;121m21.21\u001b[0m\u001b[38;5;159m FPS.\u001b[0m\n",
      "\u001b[38;5;159m[Genesis] [18:08:41] [INFO] Running at \u001b[38;5;121m21.30\u001b[0m\u001b[38;5;159m FPS.\u001b[0m\n",
      "\u001b[38;5;159m[Genesis] [18:08:41] [INFO] Running at \u001b[38;5;121m21.62\u001b[0m\u001b[38;5;159m FPS.\u001b[0m\n",
      "\u001b[38;5;159m[Genesis] [18:08:41] [INFO] Running at \u001b[38;5;121m22.16\u001b[0m\u001b[38;5;159m FPS.\u001b[0m\n",
      "\u001b[38;5;159m[Genesis] [18:08:41] [INFO] Running at \u001b[38;5;121m22.89\u001b[0m\u001b[38;5;159m FPS.\u001b[0m\n",
      "\u001b[38;5;159m[Genesis] [18:08:41] [INFO] Running at \u001b[38;5;121m22.91\u001b[0m\u001b[38;5;159m FPS.\u001b[0m\n",
      "\u001b[38;5;159m[Genesis] [18:08:41] [INFO] Running at \u001b[38;5;121m23.52\u001b[0m\u001b[38;5;159m FPS.\u001b[0m\n",
      "\u001b[38;5;159m[Genesis] [18:08:41] [INFO] Running at \u001b[38;5;121m24.27\u001b[0m\u001b[38;5;159m FPS.\u001b[0m\n",
      "\u001b[38;5;159m[Genesis] [18:08:41] [INFO] Running at \u001b[38;5;121m24.21\u001b[0m\u001b[38;5;159m FPS.\u001b[0m\n",
      "\u001b[38;5;159m[Genesis] [18:08:41] [INFO] Running at \u001b[38;5;121m24.45\u001b[0m\u001b[38;5;159m FPS.\u001b[0m\n",
      "\u001b[38;5;159m[Genesis] [18:08:41] [INFO] Running at \u001b[38;5;121m24.97\u001b[0m\u001b[38;5;159m FPS.\u001b[0m\n",
      "\u001b[38;5;159m[Genesis] [18:08:41] [INFO] Running at \u001b[38;5;121m25.74\u001b[0m\u001b[38;5;159m FPS.\u001b[0m\n",
      "\u001b[38;5;159m[Genesis] [18:08:41] [INFO] Running at \u001b[38;5;121m26.17\u001b[0m\u001b[38;5;159m FPS.\u001b[0m\n",
      "\u001b[38;5;159m[Genesis] [18:08:41] [INFO] Running at \u001b[38;5;121m26.76\u001b[0m\u001b[38;5;159m FPS.\u001b[0m\n",
      "\u001b[38;5;159m[Genesis] [18:08:41] [INFO] Running at \u001b[38;5;121m27.46\u001b[0m\u001b[38;5;159m FPS.\u001b[0m\n",
      "\u001b[38;5;159m[Genesis] [18:08:41] [INFO] Running at \u001b[38;5;121m28.24\u001b[0m\u001b[38;5;159m FPS.\u001b[0m\n",
      "\u001b[38;5;159m[Genesis] [18:08:41] [INFO] Running at \u001b[38;5;121m27.94\u001b[0m\u001b[38;5;159m FPS.\u001b[0m\n",
      "\u001b[38;5;159m[Genesis] [18:08:41] [INFO] Running at \u001b[38;5;121m28.54\u001b[0m\u001b[38;5;159m FPS.\u001b[0m\n",
      "\u001b[38;5;159m[Genesis] [18:08:41] [INFO] Running at \u001b[38;5;121m29.33\u001b[0m\u001b[38;5;159m FPS.\u001b[0m\n",
      "\u001b[38;5;159m[Genesis] [18:08:41] [INFO] Running at \u001b[38;5;121m29.64\u001b[0m\u001b[38;5;159m FPS.\u001b[0m\n",
      "\u001b[38;5;159m[Genesis] [18:08:41] [INFO] Running at \u001b[38;5;121m29.67\u001b[0m\u001b[38;5;159m FPS.\u001b[0m\n",
      "\u001b[38;5;159m[Genesis] [18:08:41] [INFO] Running at \u001b[38;5;121m30.20\u001b[0m\u001b[38;5;159m FPS.\u001b[0m\n",
      "\u001b[38;5;159m[Genesis] [18:08:41] [INFO] Saving video to \u001b[38;5;121mclip.mp4\u001b[0m\u001b[38;5;159m.\u001b[0m\n",
      "\u001b[38;5;159m[Genesis] [18:08:41] [INFO] Video saved.\u001b[0m\n"
     ]
    },
    {
     "name": "stdout",
     "output_type": "stream",
     "text": [
      "tensor([0.7149, 0.0392, 0.1230])\n",
      "True\n"
     ]
    },
    {
     "name": "stderr",
     "output_type": "stream",
     "text": [
      "\u001b[38;5;159m[Genesis] [18:08:41] [INFO] Running at \u001b[38;5;121m18.71\u001b[0m\u001b[38;5;159m FPS.\u001b[0m\n",
      "\u001b[38;5;159m[Genesis] [18:08:42] [INFO] Running at \u001b[38;5;121m19.19\u001b[0m\u001b[38;5;159m FPS.\u001b[0m\n",
      "\u001b[38;5;159m[Genesis] [18:08:42] [INFO] Running at \u001b[38;5;121m19.87\u001b[0m\u001b[38;5;159m FPS.\u001b[0m\n",
      "\u001b[38;5;159m[Genesis] [18:08:42] [INFO] Running at \u001b[38;5;121m20.56\u001b[0m\u001b[38;5;159m FPS.\u001b[0m\n",
      "\u001b[38;5;159m[Genesis] [18:08:42] [INFO] Running at \u001b[38;5;121m20.69\u001b[0m\u001b[38;5;159m FPS.\u001b[0m\n",
      "\u001b[38;5;159m[Genesis] [18:08:42] [INFO] Running at \u001b[38;5;121m21.27\u001b[0m\u001b[38;5;159m FPS.\u001b[0m\n",
      "\u001b[38;5;159m[Genesis] [18:08:42] [INFO] Running at \u001b[38;5;121m21.94\u001b[0m\u001b[38;5;159m FPS.\u001b[0m\n",
      "\u001b[38;5;159m[Genesis] [18:08:42] [INFO] Running at \u001b[38;5;121m22.66\u001b[0m\u001b[38;5;159m FPS.\u001b[0m\n",
      "\u001b[38;5;159m[Genesis] [18:08:42] [INFO] Running at \u001b[38;5;121m22.69\u001b[0m\u001b[38;5;159m FPS.\u001b[0m\n",
      "\u001b[38;5;159m[Genesis] [18:08:42] [INFO] Running at \u001b[38;5;121m23.29\u001b[0m\u001b[38;5;159m FPS.\u001b[0m\n",
      "\u001b[38;5;159m[Genesis] [18:08:42] [INFO] Running at \u001b[38;5;121m24.03\u001b[0m\u001b[38;5;159m FPS.\u001b[0m\n",
      "\u001b[38;5;159m[Genesis] [18:08:42] [INFO] Running at \u001b[38;5;121m24.00\u001b[0m\u001b[38;5;159m FPS.\u001b[0m\n",
      "\u001b[38;5;159m[Genesis] [18:08:42] [INFO] Running at \u001b[38;5;121m24.58\u001b[0m\u001b[38;5;159m FPS.\u001b[0m\n",
      "\u001b[38;5;159m[Genesis] [18:08:42] [INFO] Running at \u001b[38;5;121m25.27\u001b[0m\u001b[38;5;159m FPS.\u001b[0m\n",
      "\u001b[38;5;159m[Genesis] [18:08:42] [INFO] Running at \u001b[38;5;121m26.05\u001b[0m\u001b[38;5;159m FPS.\u001b[0m\n",
      "\u001b[38;5;159m[Genesis] [18:08:42] [INFO] Running at \u001b[38;5;121m25.89\u001b[0m\u001b[38;5;159m FPS.\u001b[0m\n",
      "\u001b[38;5;159m[Genesis] [18:08:42] [INFO] Running at \u001b[38;5;121m26.47\u001b[0m\u001b[38;5;159m FPS.\u001b[0m\n",
      "\u001b[38;5;159m[Genesis] [18:08:42] [INFO] Running at \u001b[38;5;121m27.25\u001b[0m\u001b[38;5;159m FPS.\u001b[0m\n",
      "\u001b[38;5;159m[Genesis] [18:08:42] [INFO] Running at \u001b[38;5;121m27.01\u001b[0m\u001b[38;5;159m FPS.\u001b[0m\n",
      "\u001b[38;5;159m[Genesis] [18:08:42] [INFO] Running at \u001b[38;5;121m27.59\u001b[0m\u001b[38;5;159m FPS.\u001b[0m\n",
      "\u001b[38;5;159m[Genesis] [18:08:42] [INFO] Running at \u001b[38;5;121m28.35\u001b[0m\u001b[38;5;159m FPS.\u001b[0m\n",
      "\u001b[38;5;159m[Genesis] [18:08:42] [INFO] Running at \u001b[38;5;121m28.04\u001b[0m\u001b[38;5;159m FPS.\u001b[0m\n",
      "\u001b[38;5;159m[Genesis] [18:08:42] [INFO] Running at \u001b[38;5;121m28.56\u001b[0m\u001b[38;5;159m FPS.\u001b[0m\n",
      "\u001b[38;5;159m[Genesis] [18:08:42] [INFO] Running at \u001b[38;5;121m29.30\u001b[0m\u001b[38;5;159m FPS.\u001b[0m\n",
      "\u001b[38;5;159m[Genesis] [18:08:42] [INFO] Running at \u001b[38;5;121m30.08\u001b[0m\u001b[38;5;159m FPS.\u001b[0m\n",
      "\u001b[38;5;159m[Genesis] [18:08:42] [INFO] Saving video to \u001b[38;5;121mclip.mp4\u001b[0m\u001b[38;5;159m.\u001b[0m\n",
      "\u001b[38;5;159m[Genesis] [18:08:42] [INFO] Video saved.\u001b[0m\n"
     ]
    },
    {
     "name": "stdout",
     "output_type": "stream",
     "text": [
      "tensor([0.7159, 0.0388, 0.1154])\n",
      "True\n"
     ]
    },
    {
     "name": "stderr",
     "output_type": "stream",
     "text": [
      "\u001b[38;5;159m[Genesis] [18:08:43] [INFO] Running at \u001b[38;5;121m18.66\u001b[0m\u001b[38;5;159m FPS.\u001b[0m\n",
      "\u001b[38;5;159m[Genesis] [18:08:43] [INFO] Running at \u001b[38;5;121m19.27\u001b[0m\u001b[38;5;159m FPS.\u001b[0m\n",
      "\u001b[38;5;159m[Genesis] [18:08:43] [INFO] Running at \u001b[38;5;121m19.96\u001b[0m\u001b[38;5;159m FPS.\u001b[0m\n",
      "\u001b[38;5;159m[Genesis] [18:08:43] [INFO] Running at \u001b[38;5;121m20.31\u001b[0m\u001b[38;5;159m FPS.\u001b[0m\n",
      "\u001b[38;5;159m[Genesis] [18:08:43] [INFO] Running at \u001b[38;5;121m20.66\u001b[0m\u001b[38;5;159m FPS.\u001b[0m\n",
      "\u001b[38;5;159m[Genesis] [18:08:43] [INFO] Running at \u001b[38;5;121m21.18\u001b[0m\u001b[38;5;159m FPS.\u001b[0m\n",
      "\u001b[38;5;159m[Genesis] [18:08:43] [INFO] Running at \u001b[38;5;121m21.89\u001b[0m\u001b[38;5;159m FPS.\u001b[0m\n",
      "\u001b[38;5;159m[Genesis] [18:08:43] [INFO] Running at \u001b[38;5;121m22.00\u001b[0m\u001b[38;5;159m FPS.\u001b[0m\n",
      "\u001b[38;5;159m[Genesis] [18:08:43] [INFO] Running at \u001b[38;5;121m22.52\u001b[0m\u001b[38;5;159m FPS.\u001b[0m\n",
      "\u001b[38;5;159m[Genesis] [18:08:43] [INFO] Running at \u001b[38;5;121m23.26\u001b[0m\u001b[38;5;159m FPS.\u001b[0m\n",
      "\u001b[38;5;159m[Genesis] [18:08:43] [INFO] Running at \u001b[38;5;121m23.31\u001b[0m\u001b[38;5;159m FPS.\u001b[0m\n",
      "\u001b[38;5;159m[Genesis] [18:08:43] [INFO] Running at \u001b[38;5;121m23.89\u001b[0m\u001b[38;5;159m FPS.\u001b[0m\n",
      "\u001b[38;5;159m[Genesis] [18:08:43] [INFO] Running at \u001b[38;5;121m23.85\u001b[0m\u001b[38;5;159m FPS.\u001b[0m\n",
      "\u001b[38;5;159m[Genesis] [18:08:43] [INFO] Running at \u001b[38;5;121m24.43\u001b[0m\u001b[38;5;159m FPS.\u001b[0m\n",
      "\u001b[38;5;159m[Genesis] [18:08:43] [INFO] Running at \u001b[38;5;121m25.12\u001b[0m\u001b[38;5;159m FPS.\u001b[0m\n",
      "\u001b[38;5;159m[Genesis] [18:08:43] [INFO] Running at \u001b[38;5;121m25.89\u001b[0m\u001b[38;5;159m FPS.\u001b[0m\n",
      "\u001b[38;5;159m[Genesis] [18:08:43] [INFO] Running at \u001b[38;5;121m25.72\u001b[0m\u001b[38;5;159m FPS.\u001b[0m\n",
      "\u001b[38;5;159m[Genesis] [18:08:43] [INFO] Running at \u001b[38;5;121m26.31\u001b[0m\u001b[38;5;159m FPS.\u001b[0m\n",
      "\u001b[38;5;159m[Genesis] [18:08:43] [INFO] Running at \u001b[38;5;121m27.08\u001b[0m\u001b[38;5;159m FPS.\u001b[0m\n",
      "\u001b[38;5;159m[Genesis] [18:08:43] [INFO] Running at \u001b[38;5;121m26.85\u001b[0m\u001b[38;5;159m FPS.\u001b[0m\n",
      "\u001b[38;5;159m[Genesis] [18:08:43] [INFO] Running at \u001b[38;5;121m27.43\u001b[0m\u001b[38;5;159m FPS.\u001b[0m\n",
      "\u001b[38;5;159m[Genesis] [18:08:43] [INFO] Running at \u001b[38;5;121m28.21\u001b[0m\u001b[38;5;159m FPS.\u001b[0m\n",
      "\u001b[38;5;159m[Genesis] [18:08:43] [INFO] Running at \u001b[38;5;121m27.90\u001b[0m\u001b[38;5;159m FPS.\u001b[0m\n",
      "\u001b[38;5;159m[Genesis] [18:08:43] [INFO] Running at \u001b[38;5;121m28.43\u001b[0m\u001b[38;5;159m FPS.\u001b[0m\n",
      "\u001b[38;5;159m[Genesis] [18:08:43] [INFO] Running at \u001b[38;5;121m29.21\u001b[0m\u001b[38;5;159m FPS.\u001b[0m\n",
      "\u001b[38;5;159m[Genesis] [18:08:43] [INFO] Saving video to \u001b[38;5;121mclip.mp4\u001b[0m\u001b[38;5;159m.\u001b[0m\n",
      "\u001b[38;5;159m[Genesis] [18:08:43] [INFO] Video saved.\u001b[0m\n"
     ]
    },
    {
     "name": "stdout",
     "output_type": "stream",
     "text": [
      "tensor([0.7155, 0.0372, 0.1146])\n",
      "True\n"
     ]
    },
    {
     "name": "stderr",
     "output_type": "stream",
     "text": [
      "\u001b[38;5;159m[Genesis] [18:08:44] [INFO] Running at \u001b[38;5;121m18.25\u001b[0m\u001b[38;5;159m FPS.\u001b[0m\n",
      "\u001b[38;5;159m[Genesis] [18:08:44] [INFO] Running at \u001b[38;5;121m18.91\u001b[0m\u001b[38;5;159m FPS.\u001b[0m\n",
      "\u001b[38;5;159m[Genesis] [18:08:44] [INFO] Running at \u001b[38;5;121m19.32\u001b[0m\u001b[38;5;159m FPS.\u001b[0m\n",
      "\u001b[38;5;159m[Genesis] [18:08:44] [INFO] Running at \u001b[38;5;121m19.67\u001b[0m\u001b[38;5;159m FPS.\u001b[0m\n",
      "\u001b[38;5;159m[Genesis] [18:08:44] [INFO] Running at \u001b[38;5;121m20.21\u001b[0m\u001b[38;5;159m FPS.\u001b[0m\n",
      "\u001b[38;5;159m[Genesis] [18:08:44] [INFO] Running at \u001b[38;5;121m20.38\u001b[0m\u001b[38;5;159m FPS.\u001b[0m\n",
      "\u001b[38;5;159m[Genesis] [18:08:44] [INFO] Running at \u001b[38;5;121m20.71\u001b[0m\u001b[38;5;159m FPS.\u001b[0m\n",
      "\u001b[38;5;159m[Genesis] [18:08:44] [INFO] Running at \u001b[38;5;121m21.24\u001b[0m\u001b[38;5;159m FPS.\u001b[0m\n",
      "\u001b[38;5;159m[Genesis] [18:08:44] [INFO] Running at \u001b[38;5;121m21.38\u001b[0m\u001b[38;5;159m FPS.\u001b[0m\n",
      "\u001b[38;5;159m[Genesis] [18:08:44] [INFO] Running at \u001b[38;5;121m21.94\u001b[0m\u001b[38;5;159m FPS.\u001b[0m\n",
      "\u001b[38;5;159m[Genesis] [18:08:44] [INFO] Running at \u001b[38;5;121m22.63\u001b[0m\u001b[38;5;159m FPS.\u001b[0m\n",
      "\u001b[38;5;159m[Genesis] [18:08:44] [INFO] Running at \u001b[38;5;121m23.37\u001b[0m\u001b[38;5;159m FPS.\u001b[0m\n",
      "\u001b[38;5;159m[Genesis] [18:08:44] [INFO] Running at \u001b[38;5;121m23.83\u001b[0m\u001b[38;5;159m FPS.\u001b[0m\n",
      "\u001b[38;5;159m[Genesis] [18:08:44] [INFO] Running at \u001b[38;5;121m24.42\u001b[0m\u001b[38;5;159m FPS.\u001b[0m\n",
      "\u001b[38;5;159m[Genesis] [18:08:44] [INFO] Running at \u001b[38;5;121m25.18\u001b[0m\u001b[38;5;159m FPS.\u001b[0m\n",
      "\u001b[38;5;159m[Genesis] [18:08:44] [INFO] Running at \u001b[38;5;121m25.61\u001b[0m\u001b[38;5;159m FPS.\u001b[0m\n",
      "\u001b[38;5;159m[Genesis] [18:08:44] [INFO] Running at \u001b[38;5;121m26.17\u001b[0m\u001b[38;5;159m FPS.\u001b[0m\n",
      "\u001b[38;5;159m[Genesis] [18:08:44] [INFO] Running at \u001b[38;5;121m26.90\u001b[0m\u001b[38;5;159m FPS.\u001b[0m\n",
      "\u001b[38;5;159m[Genesis] [18:08:44] [INFO] Running at \u001b[38;5;121m27.67\u001b[0m\u001b[38;5;159m FPS.\u001b[0m\n",
      "\u001b[38;5;159m[Genesis] [18:08:44] [INFO] Running at \u001b[38;5;121m27.41\u001b[0m\u001b[38;5;159m FPS.\u001b[0m\n",
      "\u001b[38;5;159m[Genesis] [18:08:44] [INFO] Running at \u001b[38;5;121m27.98\u001b[0m\u001b[38;5;159m FPS.\u001b[0m\n",
      "\u001b[38;5;159m[Genesis] [18:08:44] [INFO] Running at \u001b[38;5;121m28.76\u001b[0m\u001b[38;5;159m FPS.\u001b[0m\n",
      "\u001b[38;5;159m[Genesis] [18:08:44] [INFO] Running at \u001b[38;5;121m28.42\u001b[0m\u001b[38;5;159m FPS.\u001b[0m\n",
      "\u001b[38;5;159m[Genesis] [18:08:44] [INFO] Running at \u001b[38;5;121m28.96\u001b[0m\u001b[38;5;159m FPS.\u001b[0m\n",
      "\u001b[38;5;159m[Genesis] [18:08:44] [INFO] Running at \u001b[38;5;121m29.65\u001b[0m\u001b[38;5;159m FPS.\u001b[0m\n",
      "\u001b[38;5;159m[Genesis] [18:08:44] [INFO] Saving video to \u001b[38;5;121mclip.mp4\u001b[0m\u001b[38;5;159m.\u001b[0m\n",
      "\u001b[38;5;159m[Genesis] [18:08:44] [INFO] Video saved.\u001b[0m\n"
     ]
    },
    {
     "name": "stdout",
     "output_type": "stream",
     "text": [
      "tensor([0.7153, 0.0356, 0.1141])\n",
      "True\n"
     ]
    },
    {
     "name": "stderr",
     "output_type": "stream",
     "text": [
      "\u001b[38;5;159m[Genesis] [18:08:45] [INFO] Running at \u001b[38;5;121m19.00\u001b[0m\u001b[38;5;159m FPS.\u001b[0m\n",
      "\u001b[38;5;159m[Genesis] [18:08:45] [INFO] Running at \u001b[38;5;121m19.61\u001b[0m\u001b[38;5;159m FPS.\u001b[0m\n",
      "\u001b[38;5;159m[Genesis] [18:08:45] [INFO] Running at \u001b[38;5;121m19.76\u001b[0m\u001b[38;5;159m FPS.\u001b[0m\n",
      "\u001b[38;5;159m[Genesis] [18:08:45] [INFO] Running at \u001b[38;5;121m20.34\u001b[0m\u001b[38;5;159m FPS.\u001b[0m\n",
      "\u001b[38;5;159m[Genesis] [18:08:45] [INFO] Running at \u001b[38;5;121m21.05\u001b[0m\u001b[38;5;159m FPS.\u001b[0m\n",
      "\u001b[38;5;159m[Genesis] [18:08:45] [INFO] Running at \u001b[38;5;121m21.51\u001b[0m\u001b[38;5;159m FPS.\u001b[0m\n",
      "\u001b[38;5;159m[Genesis] [18:08:45] [INFO] Running at \u001b[38;5;121m21.83\u001b[0m\u001b[38;5;159m FPS.\u001b[0m\n",
      "\u001b[38;5;159m[Genesis] [18:08:45] [INFO] Running at \u001b[38;5;121m22.36\u001b[0m\u001b[38;5;159m FPS.\u001b[0m\n",
      "\u001b[38;5;159m[Genesis] [18:08:45] [INFO] Running at \u001b[38;5;121m22.44\u001b[0m\u001b[38;5;159m FPS.\u001b[0m\n",
      "\u001b[38;5;159m[Genesis] [18:08:45] [INFO] Running at \u001b[38;5;121m22.74\u001b[0m\u001b[38;5;159m FPS.\u001b[0m\n",
      "\u001b[38;5;159m[Genesis] [18:08:45] [INFO] Running at \u001b[38;5;121m23.32\u001b[0m\u001b[38;5;159m FPS.\u001b[0m\n",
      "\u001b[38;5;159m[Genesis] [18:08:45] [INFO] Running at \u001b[38;5;121m23.31\u001b[0m\u001b[38;5;159m FPS.\u001b[0m\n",
      "\u001b[38;5;159m[Genesis] [18:08:45] [INFO] Running at \u001b[38;5;121m23.88\u001b[0m\u001b[38;5;159m FPS.\u001b[0m\n",
      "\u001b[38;5;159m[Genesis] [18:08:45] [INFO] Running at \u001b[38;5;121m24.63\u001b[0m\u001b[38;5;159m FPS.\u001b[0m\n",
      "\u001b[38;5;159m[Genesis] [18:08:45] [INFO] Running at \u001b[38;5;121m24.56\u001b[0m\u001b[38;5;159m FPS.\u001b[0m\n",
      "\u001b[38;5;159m[Genesis] [18:08:45] [INFO] Running at \u001b[38;5;121m24.79\u001b[0m\u001b[38;5;159m FPS.\u001b[0m\n",
      "\u001b[38;5;159m[Genesis] [18:08:45] [INFO] Running at \u001b[38;5;121m25.29\u001b[0m\u001b[38;5;159m FPS.\u001b[0m\n",
      "\u001b[38;5;159m[Genesis] [18:08:45] [INFO] Running at \u001b[38;5;121m25.24\u001b[0m\u001b[38;5;159m FPS.\u001b[0m\n",
      "\u001b[38;5;159m[Genesis] [18:08:45] [INFO] Running at \u001b[38;5;121m25.77\u001b[0m\u001b[38;5;159m FPS.\u001b[0m\n",
      "\u001b[38;5;159m[Genesis] [18:08:45] [INFO] Running at \u001b[38;5;121m26.51\u001b[0m\u001b[38;5;159m FPS.\u001b[0m\n",
      "\u001b[38;5;159m[Genesis] [18:08:45] [INFO] Running at \u001b[38;5;121m27.28\u001b[0m\u001b[38;5;159m FPS.\u001b[0m\n",
      "\u001b[38;5;159m[Genesis] [18:08:45] [INFO] Running at \u001b[38;5;121m27.03\u001b[0m\u001b[38;5;159m FPS.\u001b[0m\n",
      "\u001b[38;5;159m[Genesis] [18:08:45] [INFO] Running at \u001b[38;5;121m27.60\u001b[0m\u001b[38;5;159m FPS.\u001b[0m\n",
      "\u001b[38;5;159m[Genesis] [18:08:45] [INFO] Running at \u001b[38;5;121m28.38\u001b[0m\u001b[38;5;159m FPS.\u001b[0m\n",
      "\u001b[38;5;159m[Genesis] [18:08:45] [INFO] Running at \u001b[38;5;121m28.06\u001b[0m\u001b[38;5;159m FPS.\u001b[0m\n",
      "\u001b[38;5;159m[Genesis] [18:08:45] [INFO] Saving video to \u001b[38;5;121mclip.mp4\u001b[0m\u001b[38;5;159m.\u001b[0m\n",
      "\u001b[38;5;159m[Genesis] [18:08:45] [INFO] Video saved.\u001b[0m\n"
     ]
    },
    {
     "name": "stdout",
     "output_type": "stream",
     "text": [
      "tensor([0.7150, 0.0340, 0.1136])\n",
      "True\n"
     ]
    },
    {
     "name": "stderr",
     "output_type": "stream",
     "text": [
      "\u001b[38;5;159m[Genesis] [18:08:46] [INFO] Running at \u001b[38;5;121m18.27\u001b[0m\u001b[38;5;159m FPS.\u001b[0m\n",
      "\u001b[38;5;159m[Genesis] [18:08:46] [INFO] Running at \u001b[38;5;121m18.68\u001b[0m\u001b[38;5;159m FPS.\u001b[0m\n",
      "\u001b[38;5;159m[Genesis] [18:08:46] [INFO] Running at \u001b[38;5;121m19.04\u001b[0m\u001b[38;5;159m FPS.\u001b[0m\n",
      "\u001b[38;5;159m[Genesis] [18:08:46] [INFO] Running at \u001b[38;5;121m19.58\u001b[0m\u001b[38;5;159m FPS.\u001b[0m\n",
      "\u001b[38;5;159m[Genesis] [18:08:46] [INFO] Running at \u001b[38;5;121m20.27\u001b[0m\u001b[38;5;159m FPS.\u001b[0m\n",
      "\u001b[38;5;159m[Genesis] [18:08:46] [INFO] Running at \u001b[38;5;121m20.76\u001b[0m\u001b[38;5;159m FPS.\u001b[0m\n",
      "\u001b[38;5;159m[Genesis] [18:08:46] [INFO] Running at \u001b[38;5;121m21.35\u001b[0m\u001b[38;5;159m FPS.\u001b[0m\n",
      "\u001b[38;5;159m[Genesis] [18:08:46] [INFO] Running at \u001b[38;5;121m22.02\u001b[0m\u001b[38;5;159m FPS.\u001b[0m\n",
      "\u001b[38;5;159m[Genesis] [18:08:46] [INFO] Running at \u001b[38;5;121m22.74\u001b[0m\u001b[38;5;159m FPS.\u001b[0m\n",
      "\u001b[38;5;159m[Genesis] [18:08:46] [INFO] Running at \u001b[38;5;121m22.76\u001b[0m\u001b[38;5;159m FPS.\u001b[0m\n",
      "\u001b[38;5;159m[Genesis] [18:08:46] [INFO] Running at \u001b[38;5;121m23.36\u001b[0m\u001b[38;5;159m FPS.\u001b[0m\n",
      "\u001b[38;5;159m[Genesis] [18:08:46] [INFO] Running at \u001b[38;5;121m24.11\u001b[0m\u001b[38;5;159m FPS.\u001b[0m\n",
      "\u001b[38;5;159m[Genesis] [18:08:46] [INFO] Running at \u001b[38;5;121m24.07\u001b[0m\u001b[38;5;159m FPS.\u001b[0m\n",
      "\u001b[38;5;159m[Genesis] [18:08:46] [INFO] Running at \u001b[38;5;121m24.67\u001b[0m\u001b[38;5;159m FPS.\u001b[0m\n",
      "\u001b[38;5;159m[Genesis] [18:08:46] [INFO] Running at \u001b[38;5;121m25.35\u001b[0m\u001b[38;5;159m FPS.\u001b[0m\n",
      "\u001b[38;5;159m[Genesis] [18:08:46] [INFO] Running at \u001b[38;5;121m26.12\u001b[0m\u001b[38;5;159m FPS.\u001b[0m\n",
      "\u001b[38;5;159m[Genesis] [18:08:46] [INFO] Running at \u001b[38;5;121m25.95\u001b[0m\u001b[38;5;159m FPS.\u001b[0m\n",
      "\u001b[38;5;159m[Genesis] [18:08:46] [INFO] Running at \u001b[38;5;121m26.53\u001b[0m\u001b[38;5;159m FPS.\u001b[0m\n",
      "\u001b[38;5;159m[Genesis] [18:08:46] [INFO] Running at \u001b[38;5;121m27.30\u001b[0m\u001b[38;5;159m FPS.\u001b[0m\n",
      "\u001b[38;5;159m[Genesis] [18:08:46] [INFO] Running at \u001b[38;5;121m27.69\u001b[0m\u001b[38;5;159m FPS.\u001b[0m\n",
      "\u001b[38;5;159m[Genesis] [18:08:46] [INFO] Running at \u001b[38;5;121m28.25\u001b[0m\u001b[38;5;159m FPS.\u001b[0m\n",
      "\u001b[38;5;159m[Genesis] [18:08:46] [INFO] Running at \u001b[38;5;121m28.96\u001b[0m\u001b[38;5;159m FPS.\u001b[0m\n",
      "\u001b[38;5;159m[Genesis] [18:08:46] [INFO] Running at \u001b[38;5;121m29.74\u001b[0m\u001b[38;5;159m FPS.\u001b[0m\n",
      "\u001b[38;5;159m[Genesis] [18:08:46] [INFO] Running at \u001b[38;5;121m29.33\u001b[0m\u001b[38;5;159m FPS.\u001b[0m\n",
      "\u001b[38;5;159m[Genesis] [18:08:46] [INFO] Running at \u001b[38;5;121m29.86\u001b[0m\u001b[38;5;159m FPS.\u001b[0m\n",
      "\u001b[38;5;159m[Genesis] [18:08:46] [INFO] Saving video to \u001b[38;5;121mclip.mp4\u001b[0m\u001b[38;5;159m.\u001b[0m\n",
      "\u001b[38;5;159m[Genesis] [18:08:46] [INFO] Video saved.\u001b[0m\n"
     ]
    },
    {
     "name": "stdout",
     "output_type": "stream",
     "text": [
      "tensor([0.7136, 0.0333, 0.1134])\n",
      "True\n"
     ]
    },
    {
     "name": "stderr",
     "output_type": "stream",
     "text": [
      "\u001b[38;5;159m[Genesis] [18:08:47] [INFO] Running at \u001b[38;5;121m18.96\u001b[0m\u001b[38;5;159m FPS.\u001b[0m\n",
      "\u001b[38;5;159m[Genesis] [18:08:47] [INFO] Running at \u001b[38;5;121m19.64\u001b[0m\u001b[38;5;159m FPS.\u001b[0m\n",
      "\u001b[38;5;159m[Genesis] [18:08:47] [INFO] Running at \u001b[38;5;121m20.33\u001b[0m\u001b[38;5;159m FPS.\u001b[0m\n",
      "\u001b[38;5;159m[Genesis] [18:08:47] [INFO] Running at \u001b[38;5;121m21.01\u001b[0m\u001b[38;5;159m FPS.\u001b[0m\n",
      "\u001b[38;5;159m[Genesis] [18:08:47] [INFO] Running at \u001b[38;5;121m21.16\u001b[0m\u001b[38;5;159m FPS.\u001b[0m\n",
      "\u001b[38;5;159m[Genesis] [18:08:47] [INFO] Running at \u001b[38;5;121m21.70\u001b[0m\u001b[38;5;159m FPS.\u001b[0m\n",
      "\u001b[38;5;159m[Genesis] [18:08:47] [INFO] Running at \u001b[38;5;121m22.42\u001b[0m\u001b[38;5;159m FPS.\u001b[0m\n",
      "\u001b[38;5;159m[Genesis] [18:08:47] [INFO] Running at \u001b[38;5;121m23.15\u001b[0m\u001b[38;5;159m FPS.\u001b[0m\n",
      "\u001b[38;5;159m[Genesis] [18:08:47] [INFO] Running at \u001b[38;5;121m23.23\u001b[0m\u001b[38;5;159m FPS.\u001b[0m\n",
      "\u001b[38;5;159m[Genesis] [18:08:47] [INFO] Running at \u001b[38;5;121m23.75\u001b[0m\u001b[38;5;159m FPS.\u001b[0m\n",
      "\u001b[38;5;159m[Genesis] [18:08:47] [INFO] Running at \u001b[38;5;121m24.50\u001b[0m\u001b[38;5;159m FPS.\u001b[0m\n",
      "\u001b[38;5;159m[Genesis] [18:08:47] [INFO] Running at \u001b[38;5;121m24.44\u001b[0m\u001b[38;5;159m FPS.\u001b[0m\n",
      "\u001b[38;5;159m[Genesis] [18:08:47] [INFO] Running at \u001b[38;5;121m25.02\u001b[0m\u001b[38;5;159m FPS.\u001b[0m\n",
      "\u001b[38;5;159m[Genesis] [18:08:47] [INFO] Running at \u001b[38;5;121m25.79\u001b[0m\u001b[38;5;159m FPS.\u001b[0m\n",
      "\u001b[38;5;159m[Genesis] [18:08:47] [INFO] Running at \u001b[38;5;121m26.20\u001b[0m\u001b[38;5;159m FPS.\u001b[0m\n",
      "\u001b[38;5;159m[Genesis] [18:08:47] [INFO] Running at \u001b[38;5;121m26.78\u001b[0m\u001b[38;5;159m FPS.\u001b[0m\n",
      "\u001b[38;5;159m[Genesis] [18:08:47] [INFO] Running at \u001b[38;5;121m27.56\u001b[0m\u001b[38;5;159m FPS.\u001b[0m\n",
      "\u001b[38;5;159m[Genesis] [18:08:47] [INFO] Running at \u001b[38;5;121m27.93\u001b[0m\u001b[38;5;159m FPS.\u001b[0m\n",
      "\u001b[38;5;159m[Genesis] [18:08:47] [INFO] Running at \u001b[38;5;121m28.05\u001b[0m\u001b[38;5;159m FPS.\u001b[0m\n",
      "\u001b[38;5;159m[Genesis] [18:08:47] [INFO] Running at \u001b[38;5;121m28.50\u001b[0m\u001b[38;5;159m FPS.\u001b[0m\n",
      "\u001b[38;5;159m[Genesis] [18:08:47] [INFO] Running at \u001b[38;5;121m28.22\u001b[0m\u001b[38;5;159m FPS.\u001b[0m\n",
      "\u001b[38;5;159m[Genesis] [18:08:47] [INFO] Running at \u001b[38;5;121m28.77\u001b[0m\u001b[38;5;159m FPS.\u001b[0m\n",
      "\u001b[38;5;159m[Genesis] [18:08:47] [INFO] Running at \u001b[38;5;121m29.54\u001b[0m\u001b[38;5;159m FPS.\u001b[0m\n",
      "\u001b[38;5;159m[Genesis] [18:08:47] [INFO] Running at \u001b[38;5;121m29.15\u001b[0m\u001b[38;5;159m FPS.\u001b[0m\n",
      "\u001b[38;5;159m[Genesis] [18:08:47] [INFO] Running at \u001b[38;5;121m29.66\u001b[0m\u001b[38;5;159m FPS.\u001b[0m\n",
      "\u001b[38;5;159m[Genesis] [18:08:47] [INFO] Saving video to \u001b[38;5;121mclip.mp4\u001b[0m\u001b[38;5;159m.\u001b[0m\n",
      "\u001b[38;5;159m[Genesis] [18:08:48] [INFO] Video saved.\u001b[0m\n"
     ]
    },
    {
     "name": "stdout",
     "output_type": "stream",
     "text": [
      "tensor([0.7121, 0.0327, 0.1130])\n",
      "True\n"
     ]
    },
    {
     "name": "stderr",
     "output_type": "stream",
     "text": [
      "\u001b[38;5;159m[Genesis] [18:08:48] [INFO] Running at \u001b[38;5;121m19.02\u001b[0m\u001b[38;5;159m FPS.\u001b[0m\n",
      "\u001b[38;5;159m[Genesis] [18:08:48] [INFO] Running at \u001b[38;5;121m19.69\u001b[0m\u001b[38;5;159m FPS.\u001b[0m\n",
      "\u001b[38;5;159m[Genesis] [18:08:48] [INFO] Running at \u001b[38;5;121m20.39\u001b[0m\u001b[38;5;159m FPS.\u001b[0m\n",
      "\u001b[38;5;159m[Genesis] [18:08:48] [INFO] Running at \u001b[38;5;121m20.74\u001b[0m\u001b[38;5;159m FPS.\u001b[0m\n",
      "\u001b[38;5;159m[Genesis] [18:08:48] [INFO] Running at \u001b[38;5;121m21.32\u001b[0m\u001b[38;5;159m FPS.\u001b[0m\n",
      "\u001b[38;5;159m[Genesis] [18:08:48] [INFO] Running at \u001b[38;5;121m21.39\u001b[0m\u001b[38;5;159m FPS.\u001b[0m\n",
      "\u001b[38;5;159m[Genesis] [18:08:48] [INFO] Running at \u001b[38;5;121m21.95\u001b[0m\u001b[38;5;159m FPS.\u001b[0m\n",
      "\u001b[38;5;159m[Genesis] [18:08:48] [INFO] Running at \u001b[38;5;121m22.66\u001b[0m\u001b[38;5;159m FPS.\u001b[0m\n",
      "\u001b[38;5;159m[Genesis] [18:08:48] [INFO] Running at \u001b[38;5;121m23.39\u001b[0m\u001b[38;5;159m FPS.\u001b[0m\n",
      "\u001b[38;5;159m[Genesis] [18:08:48] [INFO] Running at \u001b[38;5;121m23.39\u001b[0m\u001b[38;5;159m FPS.\u001b[0m\n",
      "\u001b[38;5;159m[Genesis] [18:08:48] [INFO] Running at \u001b[38;5;121m23.97\u001b[0m\u001b[38;5;159m FPS.\u001b[0m\n",
      "\u001b[38;5;159m[Genesis] [18:08:48] [INFO] Running at \u001b[38;5;121m24.73\u001b[0m\u001b[38;5;159m FPS.\u001b[0m\n",
      "\u001b[38;5;159m[Genesis] [18:08:48] [INFO] Running at \u001b[38;5;121m24.64\u001b[0m\u001b[38;5;159m FPS.\u001b[0m\n",
      "\u001b[38;5;159m[Genesis] [18:08:48] [INFO] Running at \u001b[38;5;121m25.22\u001b[0m\u001b[38;5;159m FPS.\u001b[0m\n",
      "\u001b[38;5;159m[Genesis] [18:08:48] [INFO] Running at \u001b[38;5;121m25.92\u001b[0m\u001b[38;5;159m FPS.\u001b[0m\n",
      "\u001b[38;5;159m[Genesis] [18:08:48] [INFO] Running at \u001b[38;5;121m26.70\u001b[0m\u001b[38;5;159m FPS.\u001b[0m\n",
      "\u001b[38;5;159m[Genesis] [18:08:48] [INFO] Running at \u001b[38;5;121m26.49\u001b[0m\u001b[38;5;159m FPS.\u001b[0m\n",
      "\u001b[38;5;159m[Genesis] [18:08:48] [INFO] Running at \u001b[38;5;121m27.07\u001b[0m\u001b[38;5;159m FPS.\u001b[0m\n",
      "\u001b[38;5;159m[Genesis] [18:08:48] [INFO] Running at \u001b[38;5;121m27.85\u001b[0m\u001b[38;5;159m FPS.\u001b[0m\n",
      "\u001b[38;5;159m[Genesis] [18:08:48] [INFO] Running at \u001b[38;5;121m27.56\u001b[0m\u001b[38;5;159m FPS.\u001b[0m\n",
      "\u001b[38;5;159m[Genesis] [18:08:48] [INFO] Running at \u001b[38;5;121m28.13\u001b[0m\u001b[38;5;159m FPS.\u001b[0m\n",
      "\u001b[38;5;159m[Genesis] [18:08:48] [INFO] Running at \u001b[38;5;121m28.91\u001b[0m\u001b[38;5;159m FPS.\u001b[0m\n",
      "\u001b[38;5;159m[Genesis] [18:08:48] [INFO] Running at \u001b[38;5;121m28.58\u001b[0m\u001b[38;5;159m FPS.\u001b[0m\n",
      "\u001b[38;5;159m[Genesis] [18:08:48] [INFO] Running at \u001b[38;5;121m28.63\u001b[0m\u001b[38;5;159m FPS.\u001b[0m\n",
      "\u001b[38;5;159m[Genesis] [18:08:48] [INFO] Running at \u001b[38;5;121m29.19\u001b[0m\u001b[38;5;159m FPS.\u001b[0m\n",
      "\u001b[38;5;159m[Genesis] [18:08:48] [INFO] Saving video to \u001b[38;5;121mclip.mp4\u001b[0m\u001b[38;5;159m.\u001b[0m\n",
      "\u001b[38;5;159m[Genesis] [18:08:49] [INFO] Video saved.\u001b[0m\n"
     ]
    },
    {
     "name": "stdout",
     "output_type": "stream",
     "text": [
      "tensor([0.7075, 0.0321, 0.1127])\n",
      "True\n"
     ]
    },
    {
     "name": "stderr",
     "output_type": "stream",
     "text": [
      "\u001b[38;5;159m[Genesis] [18:08:49] [INFO] Running at \u001b[38;5;121m18.30\u001b[0m\u001b[38;5;159m FPS.\u001b[0m\n",
      "\u001b[38;5;159m[Genesis] [18:08:49] [INFO] Running at \u001b[38;5;121m18.93\u001b[0m\u001b[38;5;159m FPS.\u001b[0m\n",
      "\u001b[38;5;159m[Genesis] [18:08:49] [INFO] Running at \u001b[38;5;121m19.29\u001b[0m\u001b[38;5;159m FPS.\u001b[0m\n",
      "\u001b[38;5;159m[Genesis] [18:08:49] [INFO] Running at \u001b[38;5;121m19.65\u001b[0m\u001b[38;5;159m FPS.\u001b[0m\n",
      "\u001b[38;5;159m[Genesis] [18:08:49] [INFO] Running at \u001b[38;5;121m20.23\u001b[0m\u001b[38;5;159m FPS.\u001b[0m\n",
      "\u001b[38;5;159m[Genesis] [18:08:49] [INFO] Running at \u001b[38;5;121m20.35\u001b[0m\u001b[38;5;159m FPS.\u001b[0m\n",
      "\u001b[38;5;159m[Genesis] [18:08:49] [INFO] Running at \u001b[38;5;121m20.92\u001b[0m\u001b[38;5;159m FPS.\u001b[0m\n",
      "\u001b[38;5;159m[Genesis] [18:08:49] [INFO] Running at \u001b[38;5;121m21.60\u001b[0m\u001b[38;5;159m FPS.\u001b[0m\n",
      "\u001b[38;5;159m[Genesis] [18:08:49] [INFO] Running at \u001b[38;5;121m22.32\u001b[0m\u001b[38;5;159m FPS.\u001b[0m\n",
      "\u001b[38;5;159m[Genesis] [18:08:49] [INFO] Running at \u001b[38;5;121m22.36\u001b[0m\u001b[38;5;159m FPS.\u001b[0m\n",
      "\u001b[38;5;159m[Genesis] [18:08:49] [INFO] Running at \u001b[38;5;121m22.96\u001b[0m\u001b[38;5;159m FPS.\u001b[0m\n",
      "\u001b[38;5;159m[Genesis] [18:08:49] [INFO] Running at \u001b[38;5;121m23.70\u001b[0m\u001b[38;5;159m FPS.\u001b[0m\n",
      "\u001b[38;5;159m[Genesis] [18:08:49] [INFO] Running at \u001b[38;5;121m23.68\u001b[0m\u001b[38;5;159m FPS.\u001b[0m\n",
      "\u001b[38;5;159m[Genesis] [18:08:49] [INFO] Running at \u001b[38;5;121m24.25\u001b[0m\u001b[38;5;159m FPS.\u001b[0m\n",
      "\u001b[38;5;159m[Genesis] [18:08:49] [INFO] Running at \u001b[38;5;121m24.96\u001b[0m\u001b[38;5;159m FPS.\u001b[0m\n",
      "\u001b[38;5;159m[Genesis] [18:08:49] [INFO] Running at \u001b[38;5;121m25.72\u001b[0m\u001b[38;5;159m FPS.\u001b[0m\n",
      "\u001b[38;5;159m[Genesis] [18:08:49] [INFO] Running at \u001b[38;5;121m25.58\u001b[0m\u001b[38;5;159m FPS.\u001b[0m\n",
      "\u001b[38;5;159m[Genesis] [18:08:49] [INFO] Running at \u001b[38;5;121m26.12\u001b[0m\u001b[38;5;159m FPS.\u001b[0m\n",
      "\u001b[38;5;159m[Genesis] [18:08:49] [INFO] Running at \u001b[38;5;121m26.90\u001b[0m\u001b[38;5;159m FPS.\u001b[0m\n",
      "\u001b[38;5;159m[Genesis] [18:08:49] [INFO] Running at \u001b[38;5;121m26.68\u001b[0m\u001b[38;5;159m FPS.\u001b[0m\n",
      "\u001b[38;5;159m[Genesis] [18:08:49] [INFO] Running at \u001b[38;5;121m27.25\u001b[0m\u001b[38;5;159m FPS.\u001b[0m\n",
      "\u001b[38;5;159m[Genesis] [18:08:49] [INFO] Running at \u001b[38;5;121m28.03\u001b[0m\u001b[38;5;159m FPS.\u001b[0m\n",
      "\u001b[38;5;159m[Genesis] [18:08:50] [INFO] Running at \u001b[38;5;121m27.75\u001b[0m\u001b[38;5;159m FPS.\u001b[0m\n",
      "\u001b[38;5;159m[Genesis] [18:08:50] [INFO] Running at \u001b[38;5;121m28.31\u001b[0m\u001b[38;5;159m FPS.\u001b[0m\n",
      "\u001b[38;5;159m[Genesis] [18:08:50] [INFO] Running at \u001b[38;5;121m29.10\u001b[0m\u001b[38;5;159m FPS.\u001b[0m\n",
      "\u001b[38;5;159m[Genesis] [18:08:50] [INFO] Saving video to \u001b[38;5;121mclip.mp4\u001b[0m\u001b[38;5;159m.\u001b[0m\n",
      "\u001b[38;5;159m[Genesis] [18:08:50] [INFO] Video saved.\u001b[0m\n"
     ]
    },
    {
     "name": "stdout",
     "output_type": "stream",
     "text": [
      "tensor([0.7100, 0.0325, 0.1127])\n",
      "True\n"
     ]
    },
    {
     "name": "stderr",
     "output_type": "stream",
     "text": [
      "\u001b[38;5;159m[Genesis] [18:08:50] [INFO] Running at \u001b[38;5;121m18.59\u001b[0m\u001b[38;5;159m FPS.\u001b[0m\n",
      "\u001b[38;5;159m[Genesis] [18:08:50] [INFO] Running at \u001b[38;5;121m19.18\u001b[0m\u001b[38;5;159m FPS.\u001b[0m\n",
      "\u001b[38;5;159m[Genesis] [18:08:50] [INFO] Running at \u001b[38;5;121m19.86\u001b[0m\u001b[38;5;159m FPS.\u001b[0m\n",
      "\u001b[38;5;159m[Genesis] [18:08:50] [INFO] Running at \u001b[38;5;121m20.56\u001b[0m\u001b[38;5;159m FPS.\u001b[0m\n",
      "\u001b[38;5;159m[Genesis] [18:08:50] [INFO] Running at \u001b[38;5;121m21.26\u001b[0m\u001b[38;5;159m FPS.\u001b[0m\n",
      "\u001b[38;5;159m[Genesis] [18:08:50] [INFO] Running at \u001b[38;5;121m21.60\u001b[0m\u001b[38;5;159m FPS.\u001b[0m\n",
      "\u001b[38;5;159m[Genesis] [18:08:50] [INFO] Running at \u001b[38;5;121m22.18\u001b[0m\u001b[38;5;159m FPS.\u001b[0m\n",
      "\u001b[38;5;159m[Genesis] [18:08:50] [INFO] Running at \u001b[38;5;121m22.22\u001b[0m\u001b[38;5;159m FPS.\u001b[0m\n",
      "\u001b[38;5;159m[Genesis] [18:08:50] [INFO] Running at \u001b[38;5;121m22.52\u001b[0m\u001b[38;5;159m FPS.\u001b[0m\n",
      "\u001b[38;5;159m[Genesis] [18:08:50] [INFO] Running at \u001b[38;5;121m23.11\u001b[0m\u001b[38;5;159m FPS.\u001b[0m\n",
      "\u001b[38;5;159m[Genesis] [18:08:50] [INFO] Running at \u001b[38;5;121m23.10\u001b[0m\u001b[38;5;159m FPS.\u001b[0m\n",
      "\u001b[38;5;159m[Genesis] [18:08:50] [INFO] Running at \u001b[38;5;121m23.37\u001b[0m\u001b[38;5;159m FPS.\u001b[0m\n",
      "\u001b[38;5;159m[Genesis] [18:08:50] [INFO] Running at \u001b[38;5;121m23.89\u001b[0m\u001b[38;5;159m FPS.\u001b[0m\n",
      "\u001b[38;5;159m[Genesis] [18:08:50] [INFO] Running at \u001b[38;5;121m24.65\u001b[0m\u001b[38;5;159m FPS.\u001b[0m\n",
      "\u001b[38;5;159m[Genesis] [18:08:50] [INFO] Running at \u001b[38;5;121m24.56\u001b[0m\u001b[38;5;159m FPS.\u001b[0m\n",
      "\u001b[38;5;159m[Genesis] [18:08:50] [INFO] Running at \u001b[38;5;121m25.16\u001b[0m\u001b[38;5;159m FPS.\u001b[0m\n",
      "\u001b[38;5;159m[Genesis] [18:08:50] [INFO] Running at \u001b[38;5;121m25.93\u001b[0m\u001b[38;5;159m FPS.\u001b[0m\n",
      "\u001b[38;5;159m[Genesis] [18:08:50] [INFO] Running at \u001b[38;5;121m26.35\u001b[0m\u001b[38;5;159m FPS.\u001b[0m\n",
      "\u001b[38;5;159m[Genesis] [18:08:50] [INFO] Running at \u001b[38;5;121m26.92\u001b[0m\u001b[38;5;159m FPS.\u001b[0m\n",
      "\u001b[38;5;159m[Genesis] [18:08:50] [INFO] Running at \u001b[38;5;121m27.63\u001b[0m\u001b[38;5;159m FPS.\u001b[0m\n",
      "\u001b[38;5;159m[Genesis] [18:08:50] [INFO] Running at \u001b[38;5;121m28.41\u001b[0m\u001b[38;5;159m FPS.\u001b[0m\n",
      "\u001b[38;5;159m[Genesis] [18:08:51] [INFO] Running at \u001b[38;5;121m28.09\u001b[0m\u001b[38;5;159m FPS.\u001b[0m\n",
      "\u001b[38;5;159m[Genesis] [18:08:51] [INFO] Running at \u001b[38;5;121m28.66\u001b[0m\u001b[38;5;159m FPS.\u001b[0m\n",
      "\u001b[38;5;159m[Genesis] [18:08:51] [INFO] Running at \u001b[38;5;121m29.44\u001b[0m\u001b[38;5;159m FPS.\u001b[0m\n",
      "\u001b[38;5;159m[Genesis] [18:08:51] [INFO] Running at \u001b[38;5;121m29.05\u001b[0m\u001b[38;5;159m FPS.\u001b[0m\n",
      "\u001b[38;5;159m[Genesis] [18:08:51] [INFO] Saving video to \u001b[38;5;121mclip.mp4\u001b[0m\u001b[38;5;159m.\u001b[0m\n",
      "\u001b[38;5;159m[Genesis] [18:08:51] [INFO] Video saved.\u001b[0m\n"
     ]
    },
    {
     "name": "stdout",
     "output_type": "stream",
     "text": [
      "tensor([0.7080, 0.0327, 0.1128])\n",
      "True\n"
     ]
    },
    {
     "name": "stderr",
     "output_type": "stream",
     "text": [
      "\u001b[38;5;159m[Genesis] [18:08:51] [INFO] Running at \u001b[38;5;121m18.67\u001b[0m\u001b[38;5;159m FPS.\u001b[0m\n",
      "\u001b[38;5;159m[Genesis] [18:08:51] [INFO] Running at \u001b[38;5;121m19.33\u001b[0m\u001b[38;5;159m FPS.\u001b[0m\n",
      "\u001b[38;5;159m[Genesis] [18:08:51] [INFO] Running at \u001b[38;5;121m19.72\u001b[0m\u001b[38;5;159m FPS.\u001b[0m\n",
      "\u001b[38;5;159m[Genesis] [18:08:51] [INFO] Running at \u001b[38;5;121m20.07\u001b[0m\u001b[38;5;159m FPS.\u001b[0m\n",
      "\u001b[38;5;159m[Genesis] [18:08:51] [INFO] Running at \u001b[38;5;121m20.65\u001b[0m\u001b[38;5;159m FPS.\u001b[0m\n",
      "\u001b[38;5;159m[Genesis] [18:08:51] [INFO] Running at \u001b[38;5;121m20.75\u001b[0m\u001b[38;5;159m FPS.\u001b[0m\n",
      "\u001b[38;5;159m[Genesis] [18:08:51] [INFO] Running at \u001b[38;5;121m21.07\u001b[0m\u001b[38;5;159m FPS.\u001b[0m\n",
      "\u001b[38;5;159m[Genesis] [18:08:51] [INFO] Running at \u001b[38;5;121m21.66\u001b[0m\u001b[38;5;159m FPS.\u001b[0m\n",
      "\u001b[38;5;159m[Genesis] [18:08:51] [INFO] Running at \u001b[38;5;121m21.73\u001b[0m\u001b[38;5;159m FPS.\u001b[0m\n",
      "\u001b[38;5;159m[Genesis] [18:08:51] [INFO] Running at \u001b[38;5;121m22.04\u001b[0m\u001b[38;5;159m FPS.\u001b[0m\n",
      "\u001b[38;5;159m[Genesis] [18:08:51] [INFO] Running at \u001b[38;5;121m22.63\u001b[0m\u001b[38;5;159m FPS.\u001b[0m\n",
      "\u001b[38;5;159m[Genesis] [18:08:51] [INFO] Running at \u001b[38;5;121m22.64\u001b[0m\u001b[38;5;159m FPS.\u001b[0m\n",
      "\u001b[38;5;159m[Genesis] [18:08:51] [INFO] Running at \u001b[38;5;121m22.92\u001b[0m\u001b[38;5;159m FPS.\u001b[0m\n",
      "\u001b[38;5;159m[Genesis] [18:08:51] [INFO] Running at \u001b[38;5;121m23.44\u001b[0m\u001b[38;5;159m FPS.\u001b[0m\n",
      "\u001b[38;5;159m[Genesis] [18:08:51] [INFO] Running at \u001b[38;5;121m24.19\u001b[0m\u001b[38;5;159m FPS.\u001b[0m\n",
      "\u001b[38;5;159m[Genesis] [18:08:51] [INFO] Running at \u001b[38;5;121m24.14\u001b[0m\u001b[38;5;159m FPS.\u001b[0m\n",
      "\u001b[38;5;159m[Genesis] [18:08:52] [INFO] Running at \u001b[38;5;121m24.73\u001b[0m\u001b[38;5;159m FPS.\u001b[0m\n",
      "\u001b[38;5;159m[Genesis] [18:08:52] [INFO] Running at \u001b[38;5;121m25.49\u001b[0m\u001b[38;5;159m FPS.\u001b[0m\n",
      "\u001b[38;5;159m[Genesis] [18:08:52] [INFO] Running at \u001b[38;5;121m25.92\u001b[0m\u001b[38;5;159m FPS.\u001b[0m\n",
      "\u001b[38;5;159m[Genesis] [18:08:52] [INFO] Running at \u001b[38;5;121m26.50\u001b[0m\u001b[38;5;159m FPS.\u001b[0m\n",
      "\u001b[38;5;159m[Genesis] [18:08:52] [INFO] Running at \u001b[38;5;121m27.27\u001b[0m\u001b[38;5;159m FPS.\u001b[0m\n",
      "\u001b[38;5;159m[Genesis] [18:08:52] [INFO] Running at \u001b[38;5;121m26.99\u001b[0m\u001b[38;5;159m FPS.\u001b[0m\n",
      "\u001b[38;5;159m[Genesis] [18:08:52] [INFO] Running at \u001b[38;5;121m27.55\u001b[0m\u001b[38;5;159m FPS.\u001b[0m\n",
      "\u001b[38;5;159m[Genesis] [18:08:52] [INFO] Running at \u001b[38;5;121m28.32\u001b[0m\u001b[38;5;159m FPS.\u001b[0m\n",
      "\u001b[38;5;159m[Genesis] [18:08:52] [INFO] Running at \u001b[38;5;121m28.02\u001b[0m\u001b[38;5;159m FPS.\u001b[0m\n",
      "\u001b[38;5;159m[Genesis] [18:08:52] [INFO] Saving video to \u001b[38;5;121mclip.mp4\u001b[0m\u001b[38;5;159m.\u001b[0m\n",
      "\u001b[38;5;159m[Genesis] [18:08:52] [INFO] Video saved.\u001b[0m\n"
     ]
    },
    {
     "name": "stdout",
     "output_type": "stream",
     "text": [
      "tensor([0.7105, 0.0331, 0.1127])\n",
      "True\n"
     ]
    },
    {
     "name": "stderr",
     "output_type": "stream",
     "text": [
      "\u001b[38;5;159m[Genesis] [18:08:52] [INFO] Running at \u001b[38;5;121m18.01\u001b[0m\u001b[38;5;159m FPS.\u001b[0m\n",
      "\u001b[38;5;159m[Genesis] [18:08:52] [INFO] Running at \u001b[38;5;121m18.65\u001b[0m\u001b[38;5;159m FPS.\u001b[0m\n",
      "\u001b[38;5;159m[Genesis] [18:08:52] [INFO] Running at \u001b[38;5;121m19.02\u001b[0m\u001b[38;5;159m FPS.\u001b[0m\n",
      "\u001b[38;5;159m[Genesis] [18:08:52] [INFO] Running at \u001b[38;5;121m19.38\u001b[0m\u001b[38;5;159m FPS.\u001b[0m\n",
      "\u001b[38;5;159m[Genesis] [18:08:52] [INFO] Running at \u001b[38;5;121m19.96\u001b[0m\u001b[38;5;159m FPS.\u001b[0m\n",
      "\u001b[38;5;159m[Genesis] [18:08:52] [INFO] Running at \u001b[38;5;121m20.10\u001b[0m\u001b[38;5;159m FPS.\u001b[0m\n",
      "\u001b[38;5;159m[Genesis] [18:08:52] [INFO] Running at \u001b[38;5;121m20.67\u001b[0m\u001b[38;5;159m FPS.\u001b[0m\n",
      "\u001b[38;5;159m[Genesis] [18:08:52] [INFO] Running at \u001b[38;5;121m21.35\u001b[0m\u001b[38;5;159m FPS.\u001b[0m\n",
      "\u001b[38;5;159m[Genesis] [18:08:52] [INFO] Running at \u001b[38;5;121m22.07\u001b[0m\u001b[38;5;159m FPS.\u001b[0m\n",
      "\u001b[38;5;159m[Genesis] [18:08:52] [INFO] Running at \u001b[38;5;121m22.40\u001b[0m\u001b[38;5;159m FPS.\u001b[0m\n",
      "\u001b[38;5;159m[Genesis] [18:08:52] [INFO] Running at \u001b[38;5;121m22.94\u001b[0m\u001b[38;5;159m FPS.\u001b[0m\n",
      "\u001b[38;5;159m[Genesis] [18:08:52] [INFO] Running at \u001b[38;5;121m23.39\u001b[0m\u001b[38;5;159m FPS.\u001b[0m\n",
      "\u001b[38;5;159m[Genesis] [18:08:52] [INFO] Running at \u001b[38;5;121m24.13\u001b[0m\u001b[38;5;159m FPS.\u001b[0m\n",
      "\u001b[38;5;159m[Genesis] [18:08:52] [INFO] Running at \u001b[38;5;121m24.84\u001b[0m\u001b[38;5;159m FPS.\u001b[0m\n",
      "\u001b[38;5;159m[Genesis] [18:08:53] [INFO] Running at \u001b[38;5;121m24.81\u001b[0m\u001b[38;5;159m FPS.\u001b[0m\n",
      "\u001b[38;5;159m[Genesis] [18:08:53] [INFO] Running at \u001b[38;5;121m25.40\u001b[0m\u001b[38;5;159m FPS.\u001b[0m\n",
      "\u001b[38;5;159m[Genesis] [18:08:53] [INFO] Running at \u001b[38;5;121m26.10\u001b[0m\u001b[38;5;159m FPS.\u001b[0m\n",
      "\u001b[38;5;159m[Genesis] [18:08:53] [INFO] Running at \u001b[38;5;121m26.88\u001b[0m\u001b[38;5;159m FPS.\u001b[0m\n",
      "\u001b[38;5;159m[Genesis] [18:08:53] [INFO] Running at \u001b[38;5;121m26.66\u001b[0m\u001b[38;5;159m FPS.\u001b[0m\n",
      "\u001b[38;5;159m[Genesis] [18:08:53] [INFO] Running at \u001b[38;5;121m27.24\u001b[0m\u001b[38;5;159m FPS.\u001b[0m\n",
      "\u001b[38;5;159m[Genesis] [18:08:53] [INFO] Running at \u001b[38;5;121m28.02\u001b[0m\u001b[38;5;159m FPS.\u001b[0m\n",
      "\u001b[38;5;159m[Genesis] [18:08:53] [INFO] Running at \u001b[38;5;121m27.72\u001b[0m\u001b[38;5;159m FPS.\u001b[0m\n",
      "\u001b[38;5;159m[Genesis] [18:08:53] [INFO] Running at \u001b[38;5;121m28.28\u001b[0m\u001b[38;5;159m FPS.\u001b[0m\n",
      "\u001b[38;5;159m[Genesis] [18:08:53] [INFO] Running at \u001b[38;5;121m28.99\u001b[0m\u001b[38;5;159m FPS.\u001b[0m\n",
      "\u001b[38;5;159m[Genesis] [18:08:53] [INFO] Running at \u001b[38;5;121m29.77\u001b[0m\u001b[38;5;159m FPS.\u001b[0m\n",
      "\u001b[38;5;159m[Genesis] [18:08:53] [INFO] Saving video to \u001b[38;5;121mclip.mp4\u001b[0m\u001b[38;5;159m.\u001b[0m\n",
      "\u001b[38;5;159m[Genesis] [18:08:53] [INFO] Video saved.\u001b[0m\n"
     ]
    },
    {
     "name": "stdout",
     "output_type": "stream",
     "text": [
      "tensor([0.7131, 0.0336, 0.1126])\n",
      "True\n"
     ]
    },
    {
     "name": "stderr",
     "output_type": "stream",
     "text": [
      "\u001b[38;5;159m[Genesis] [18:08:53] [INFO] Running at \u001b[38;5;121m18.56\u001b[0m\u001b[38;5;159m FPS.\u001b[0m\n",
      "\u001b[38;5;159m[Genesis] [18:08:53] [INFO] Running at \u001b[38;5;121m18.87\u001b[0m\u001b[38;5;159m FPS.\u001b[0m\n",
      "\u001b[38;5;159m[Genesis] [18:08:53] [INFO] Running at \u001b[38;5;121m19.44\u001b[0m\u001b[38;5;159m FPS.\u001b[0m\n",
      "\u001b[38;5;159m[Genesis] [18:08:53] [INFO] Running at \u001b[38;5;121m20.09\u001b[0m\u001b[38;5;159m FPS.\u001b[0m\n",
      "\u001b[38;5;159m[Genesis] [18:08:53] [INFO] Running at \u001b[38;5;121m20.79\u001b[0m\u001b[38;5;159m FPS.\u001b[0m\n",
      "\u001b[38;5;159m[Genesis] [18:08:53] [INFO] Running at \u001b[38;5;121m20.90\u001b[0m\u001b[38;5;159m FPS.\u001b[0m\n",
      "\u001b[38;5;159m[Genesis] [18:08:53] [INFO] Running at \u001b[38;5;121m21.48\u001b[0m\u001b[38;5;159m FPS.\u001b[0m\n",
      "\u001b[38;5;159m[Genesis] [18:08:53] [INFO] Running at \u001b[38;5;121m22.21\u001b[0m\u001b[38;5;159m FPS.\u001b[0m\n",
      "\u001b[38;5;159m[Genesis] [18:08:53] [INFO] Running at \u001b[38;5;121m22.68\u001b[0m\u001b[38;5;159m FPS.\u001b[0m\n",
      "\u001b[38;5;159m[Genesis] [18:08:53] [INFO] Running at \u001b[38;5;121m23.26\u001b[0m\u001b[38;5;159m FPS.\u001b[0m\n",
      "\u001b[38;5;159m[Genesis] [18:08:53] [INFO] Running at \u001b[38;5;121m24.00\u001b[0m\u001b[38;5;159m FPS.\u001b[0m\n",
      "\u001b[38;5;159m[Genesis] [18:08:53] [INFO] Running at \u001b[38;5;121m23.95\u001b[0m\u001b[38;5;159m FPS.\u001b[0m\n",
      "\u001b[38;5;159m[Genesis] [18:08:54] [INFO] Running at \u001b[38;5;121m24.54\u001b[0m\u001b[38;5;159m FPS.\u001b[0m\n",
      "\u001b[38;5;159m[Genesis] [18:08:54] [INFO] Running at \u001b[38;5;121m25.24\u001b[0m\u001b[38;5;159m FPS.\u001b[0m\n",
      "\u001b[38;5;159m[Genesis] [18:08:54] [INFO] Running at \u001b[38;5;121m26.00\u001b[0m\u001b[38;5;159m FPS.\u001b[0m\n",
      "\u001b[38;5;159m[Genesis] [18:08:54] [INFO] Running at \u001b[38;5;121m26.40\u001b[0m\u001b[38;5;159m FPS.\u001b[0m\n",
      "\u001b[38;5;159m[Genesis] [18:08:54] [INFO] Running at \u001b[38;5;121m26.99\u001b[0m\u001b[38;5;159m FPS.\u001b[0m\n",
      "\u001b[38;5;159m[Genesis] [18:08:54] [INFO] Running at \u001b[38;5;121m27.77\u001b[0m\u001b[38;5;159m FPS.\u001b[0m\n",
      "\u001b[38;5;159m[Genesis] [18:08:54] [INFO] Running at \u001b[38;5;121m27.50\u001b[0m\u001b[38;5;159m FPS.\u001b[0m\n",
      "\u001b[38;5;159m[Genesis] [18:08:54] [INFO] Running at \u001b[38;5;121m28.04\u001b[0m\u001b[38;5;159m FPS.\u001b[0m\n",
      "\u001b[38;5;159m[Genesis] [18:08:54] [INFO] Running at \u001b[38;5;121m28.75\u001b[0m\u001b[38;5;159m FPS.\u001b[0m\n",
      "\u001b[38;5;159m[Genesis] [18:08:54] [INFO] Running at \u001b[38;5;121m29.53\u001b[0m\u001b[38;5;159m FPS.\u001b[0m\n",
      "\u001b[38;5;159m[Genesis] [18:08:54] [INFO] Running at \u001b[38;5;121m29.14\u001b[0m\u001b[38;5;159m FPS.\u001b[0m\n",
      "\u001b[38;5;159m[Genesis] [18:08:54] [INFO] Running at \u001b[38;5;121m29.70\u001b[0m\u001b[38;5;159m FPS.\u001b[0m\n",
      "\u001b[38;5;159m[Genesis] [18:08:54] [INFO] Running at \u001b[38;5;121m30.49\u001b[0m\u001b[38;5;159m FPS.\u001b[0m\n",
      "\u001b[38;5;159m[Genesis] [18:08:54] [INFO] Saving video to \u001b[38;5;121mclip.mp4\u001b[0m\u001b[38;5;159m.\u001b[0m\n",
      "\u001b[38;5;159m[Genesis] [18:08:54] [INFO] Video saved.\u001b[0m\n"
     ]
    },
    {
     "name": "stdout",
     "output_type": "stream",
     "text": [
      "tensor([0.7116, 0.0341, 0.1128])\n",
      "True\n"
     ]
    },
    {
     "name": "stderr",
     "output_type": "stream",
     "text": [
      "\u001b[38;5;159m[Genesis] [18:08:54] [INFO] Running at \u001b[38;5;121m19.00\u001b[0m\u001b[38;5;159m FPS.\u001b[0m\n",
      "\u001b[38;5;159m[Genesis] [18:08:54] [INFO] Running at \u001b[38;5;121m19.68\u001b[0m\u001b[38;5;159m FPS.\u001b[0m\n",
      "\u001b[38;5;159m[Genesis] [18:08:54] [INFO] Running at \u001b[38;5;121m20.09\u001b[0m\u001b[38;5;159m FPS.\u001b[0m\n",
      "\u001b[38;5;159m[Genesis] [18:08:54] [INFO] Running at \u001b[38;5;121m20.44\u001b[0m\u001b[38;5;159m FPS.\u001b[0m\n",
      "\u001b[38;5;159m[Genesis] [18:08:54] [INFO] Running at \u001b[38;5;121m20.97\u001b[0m\u001b[38;5;159m FPS.\u001b[0m\n",
      "\u001b[38;5;159m[Genesis] [18:08:54] [INFO] Running at \u001b[38;5;121m21.69\u001b[0m\u001b[38;5;159m FPS.\u001b[0m\n",
      "\u001b[38;5;159m[Genesis] [18:08:54] [INFO] Running at \u001b[38;5;121m21.76\u001b[0m\u001b[38;5;159m FPS.\u001b[0m\n",
      "\u001b[38;5;159m[Genesis] [18:08:54] [INFO] Running at \u001b[38;5;121m22.34\u001b[0m\u001b[38;5;159m FPS.\u001b[0m\n",
      "\u001b[38;5;159m[Genesis] [18:08:54] [INFO] Running at \u001b[38;5;121m23.08\u001b[0m\u001b[38;5;159m FPS.\u001b[0m\n",
      "\u001b[38;5;159m[Genesis] [18:08:54] [INFO] Running at \u001b[38;5;121m23.08\u001b[0m\u001b[38;5;159m FPS.\u001b[0m\n",
      "\u001b[38;5;159m[Genesis] [18:08:54] [INFO] Running at \u001b[38;5;121m23.67\u001b[0m\u001b[38;5;159m FPS.\u001b[0m\n",
      "\u001b[38;5;159m[Genesis] [18:08:55] [INFO] Running at \u001b[38;5;121m24.42\u001b[0m\u001b[38;5;159m FPS.\u001b[0m\n",
      "\u001b[38;5;159m[Genesis] [18:08:55] [INFO] Running at \u001b[38;5;121m24.86\u001b[0m\u001b[38;5;159m FPS.\u001b[0m\n",
      "\u001b[38;5;159m[Genesis] [18:08:55] [INFO] Running at \u001b[38;5;121m25.09\u001b[0m\u001b[38;5;159m FPS.\u001b[0m\n",
      "\u001b[38;5;159m[Genesis] [18:08:55] [INFO] Running at \u001b[38;5;121m25.58\u001b[0m\u001b[38;5;159m FPS.\u001b[0m\n",
      "\u001b[38;5;159m[Genesis] [18:08:55] [INFO] Running at \u001b[38;5;121m26.36\u001b[0m\u001b[38;5;159m FPS.\u001b[0m\n",
      "\u001b[38;5;159m[Genesis] [18:08:55] [INFO] Running at \u001b[38;5;121m26.77\u001b[0m\u001b[38;5;159m FPS.\u001b[0m\n",
      "\u001b[38;5;159m[Genesis] [18:08:55] [INFO] Running at \u001b[38;5;121m27.36\u001b[0m\u001b[38;5;159m FPS.\u001b[0m\n",
      "\u001b[38;5;159m[Genesis] [18:08:55] [INFO] Running at \u001b[38;5;121m28.14\u001b[0m\u001b[38;5;159m FPS.\u001b[0m\n",
      "\u001b[38;5;159m[Genesis] [18:08:55] [INFO] Running at \u001b[38;5;121m27.85\u001b[0m\u001b[38;5;159m FPS.\u001b[0m\n",
      "\u001b[38;5;159m[Genesis] [18:08:55] [INFO] Running at \u001b[38;5;121m28.40\u001b[0m\u001b[38;5;159m FPS.\u001b[0m\n",
      "\u001b[38;5;159m[Genesis] [18:08:55] [INFO] Running at \u001b[38;5;121m29.10\u001b[0m\u001b[38;5;159m FPS.\u001b[0m\n",
      "\u001b[38;5;159m[Genesis] [18:08:55] [INFO] Running at \u001b[38;5;121m29.89\u001b[0m\u001b[38;5;159m FPS.\u001b[0m\n",
      "\u001b[38;5;159m[Genesis] [18:08:55] [INFO] Running at \u001b[38;5;121m29.46\u001b[0m\u001b[38;5;159m FPS.\u001b[0m\n",
      "\u001b[38;5;159m[Genesis] [18:08:55] [INFO] Running at \u001b[38;5;121m30.01\u001b[0m\u001b[38;5;159m FPS.\u001b[0m\n",
      "\u001b[38;5;159m[Genesis] [18:08:55] [INFO] Saving video to \u001b[38;5;121mclip.mp4\u001b[0m\u001b[38;5;159m.\u001b[0m\n",
      "\u001b[38;5;159m[Genesis] [18:08:55] [INFO] Video saved.\u001b[0m\n"
     ]
    },
    {
     "name": "stdout",
     "output_type": "stream",
     "text": [
      "tensor([0.7127, 0.0348, 0.1127])\n",
      "True\n"
     ]
    },
    {
     "name": "stderr",
     "output_type": "stream",
     "text": [
      "\u001b[38;5;159m[Genesis] [18:08:55] [INFO] Running at \u001b[38;5;121m19.16\u001b[0m\u001b[38;5;159m FPS.\u001b[0m\n",
      "\u001b[38;5;159m[Genesis] [18:08:55] [INFO] Running at \u001b[38;5;121m19.75\u001b[0m\u001b[38;5;159m FPS.\u001b[0m\n",
      "\u001b[38;5;159m[Genesis] [18:08:55] [INFO] Running at \u001b[38;5;121m19.89\u001b[0m\u001b[38;5;159m FPS.\u001b[0m\n",
      "\u001b[38;5;159m[Genesis] [18:08:55] [INFO] Running at \u001b[38;5;121m20.47\u001b[0m\u001b[38;5;159m FPS.\u001b[0m\n",
      "\u001b[38;5;159m[Genesis] [18:08:55] [INFO] Running at \u001b[38;5;121m21.17\u001b[0m\u001b[38;5;159m FPS.\u001b[0m\n",
      "\u001b[38;5;159m[Genesis] [18:08:55] [INFO] Running at \u001b[38;5;121m21.25\u001b[0m\u001b[38;5;159m FPS.\u001b[0m\n",
      "\u001b[38;5;159m[Genesis] [18:08:55] [INFO] Running at \u001b[38;5;121m21.84\u001b[0m\u001b[38;5;159m FPS.\u001b[0m\n",
      "\u001b[38;5;159m[Genesis] [18:08:55] [INFO] Running at \u001b[38;5;121m22.56\u001b[0m\u001b[38;5;159m FPS.\u001b[0m\n",
      "\u001b[38;5;159m[Genesis] [18:08:55] [INFO] Running at \u001b[38;5;121m22.60\u001b[0m\u001b[38;5;159m FPS.\u001b[0m\n",
      "\u001b[38;5;159m[Genesis] [18:08:56] [INFO] Running at \u001b[38;5;121m23.17\u001b[0m\u001b[38;5;159m FPS.\u001b[0m\n",
      "\u001b[38;5;159m[Genesis] [18:08:56] [INFO] Running at \u001b[38;5;121m23.84\u001b[0m\u001b[38;5;159m FPS.\u001b[0m\n",
      "\u001b[38;5;159m[Genesis] [18:08:56] [INFO] Running at \u001b[38;5;121m23.87\u001b[0m\u001b[38;5;159m FPS.\u001b[0m\n",
      "\u001b[38;5;159m[Genesis] [18:08:56] [INFO] Running at \u001b[38;5;121m24.43\u001b[0m\u001b[38;5;159m FPS.\u001b[0m\n",
      "\u001b[38;5;159m[Genesis] [18:08:56] [INFO] Running at \u001b[38;5;121m25.15\u001b[0m\u001b[38;5;159m FPS.\u001b[0m\n",
      "\u001b[38;5;159m[Genesis] [18:08:56] [INFO] Running at \u001b[38;5;121m25.91\u001b[0m\u001b[38;5;159m FPS.\u001b[0m\n",
      "\u001b[38;5;159m[Genesis] [18:08:56] [INFO] Running at \u001b[38;5;121m25.75\u001b[0m\u001b[38;5;159m FPS.\u001b[0m\n",
      "\u001b[38;5;159m[Genesis] [18:08:56] [INFO] Running at \u001b[38;5;121m26.33\u001b[0m\u001b[38;5;159m FPS.\u001b[0m\n",
      "\u001b[38;5;159m[Genesis] [18:08:56] [INFO] Running at \u001b[38;5;121m27.10\u001b[0m\u001b[38;5;159m FPS.\u001b[0m\n",
      "\u001b[38;5;159m[Genesis] [18:08:56] [INFO] Running at \u001b[38;5;121m27.49\u001b[0m\u001b[38;5;159m FPS.\u001b[0m\n",
      "\u001b[38;5;159m[Genesis] [18:08:56] [INFO] Running at \u001b[38;5;121m28.06\u001b[0m\u001b[38;5;159m FPS.\u001b[0m\n",
      "\u001b[38;5;159m[Genesis] [18:08:56] [INFO] Running at \u001b[38;5;121m28.85\u001b[0m\u001b[38;5;159m FPS.\u001b[0m\n",
      "\u001b[38;5;159m[Genesis] [18:08:56] [INFO] Running at \u001b[38;5;121m29.19\u001b[0m\u001b[38;5;159m FPS.\u001b[0m\n",
      "\u001b[38;5;159m[Genesis] [18:08:56] [INFO] Running at \u001b[38;5;121m29.69\u001b[0m\u001b[38;5;159m FPS.\u001b[0m\n",
      "\u001b[38;5;159m[Genesis] [18:08:56] [INFO] Running at \u001b[38;5;121m30.42\u001b[0m\u001b[38;5;159m FPS.\u001b[0m\n",
      "\u001b[38;5;159m[Genesis] [18:08:56] [INFO] Running at \u001b[38;5;121m31.22\u001b[0m\u001b[38;5;159m FPS.\u001b[0m\n",
      "\u001b[38;5;159m[Genesis] [18:08:56] [INFO] Saving video to \u001b[38;5;121mclip.mp4\u001b[0m\u001b[38;5;159m.\u001b[0m\n",
      "\u001b[38;5;159m[Genesis] [18:08:56] [INFO] Video saved.\u001b[0m\n"
     ]
    },
    {
     "name": "stdout",
     "output_type": "stream",
     "text": [
      "tensor([0.7112, 0.0353, 0.1127])\n",
      "True\n"
     ]
    },
    {
     "name": "stderr",
     "output_type": "stream",
     "text": [
      "\u001b[38;5;159m[Genesis] [18:08:56] [INFO] Running at \u001b[38;5;121m19.29\u001b[0m\u001b[38;5;159m FPS.\u001b[0m\n",
      "\u001b[38;5;159m[Genesis] [18:08:56] [INFO] Running at \u001b[38;5;121m19.68\u001b[0m\u001b[38;5;159m FPS.\u001b[0m\n",
      "\u001b[38;5;159m[Genesis] [18:08:56] [INFO] Running at \u001b[38;5;121m20.06\u001b[0m\u001b[38;5;159m FPS.\u001b[0m\n",
      "\u001b[38;5;159m[Genesis] [18:08:56] [INFO] Running at \u001b[38;5;121m20.59\u001b[0m\u001b[38;5;159m FPS.\u001b[0m\n",
      "\u001b[38;5;159m[Genesis] [18:08:56] [INFO] Running at \u001b[38;5;121m20.73\u001b[0m\u001b[38;5;159m FPS.\u001b[0m\n",
      "\u001b[38;5;159m[Genesis] [18:08:56] [INFO] Running at \u001b[38;5;121m21.07\u001b[0m\u001b[38;5;159m FPS.\u001b[0m\n",
      "\u001b[38;5;159m[Genesis] [18:08:56] [INFO] Running at \u001b[38;5;121m21.61\u001b[0m\u001b[38;5;159m FPS.\u001b[0m\n",
      "\u001b[38;5;159m[Genesis] [18:08:56] [INFO] Running at \u001b[38;5;121m22.34\u001b[0m\u001b[38;5;159m FPS.\u001b[0m\n",
      "\u001b[38;5;159m[Genesis] [18:08:57] [INFO] Running at \u001b[38;5;121m22.81\u001b[0m\u001b[38;5;159m FPS.\u001b[0m\n",
      "\u001b[38;5;159m[Genesis] [18:08:57] [INFO] Running at \u001b[38;5;121m23.41\u001b[0m\u001b[38;5;159m FPS.\u001b[0m\n",
      "\u001b[38;5;159m[Genesis] [18:08:57] [INFO] Running at \u001b[38;5;121m24.16\u001b[0m\u001b[38;5;159m FPS.\u001b[0m\n",
      "\u001b[38;5;159m[Genesis] [18:08:57] [INFO] Running at \u001b[38;5;121m24.58\u001b[0m\u001b[38;5;159m FPS.\u001b[0m\n",
      "\u001b[38;5;159m[Genesis] [18:08:57] [INFO] Running at \u001b[38;5;121m24.82\u001b[0m\u001b[38;5;159m FPS.\u001b[0m\n",
      "\u001b[38;5;159m[Genesis] [18:08:57] [INFO] Running at \u001b[38;5;121m25.43\u001b[0m\u001b[38;5;159m FPS.\u001b[0m\n",
      "\u001b[38;5;159m[Genesis] [18:08:57] [INFO] Running at \u001b[38;5;121m25.31\u001b[0m\u001b[38;5;159m FPS.\u001b[0m\n",
      "\u001b[38;5;159m[Genesis] [18:08:57] [INFO] Running at \u001b[38;5;121m25.52\u001b[0m\u001b[38;5;159m FPS.\u001b[0m\n",
      "\u001b[38;5;159m[Genesis] [18:08:57] [INFO] Running at \u001b[38;5;121m25.98\u001b[0m\u001b[38;5;159m FPS.\u001b[0m\n",
      "\u001b[38;5;159m[Genesis] [18:08:57] [INFO] Running at \u001b[38;5;121m25.91\u001b[0m\u001b[38;5;159m FPS.\u001b[0m\n",
      "\u001b[38;5;159m[Genesis] [18:08:57] [INFO] Running at \u001b[38;5;121m26.49\u001b[0m\u001b[38;5;159m FPS.\u001b[0m\n",
      "\u001b[38;5;159m[Genesis] [18:08:57] [INFO] Running at \u001b[38;5;121m27.19\u001b[0m\u001b[38;5;159m FPS.\u001b[0m\n",
      "\u001b[38;5;159m[Genesis] [18:08:57] [INFO] Running at \u001b[38;5;121m27.00\u001b[0m\u001b[38;5;159m FPS.\u001b[0m\n",
      "\u001b[38;5;159m[Genesis] [18:08:57] [INFO] Running at \u001b[38;5;121m27.54\u001b[0m\u001b[38;5;159m FPS.\u001b[0m\n",
      "\u001b[38;5;159m[Genesis] [18:08:57] [INFO] Running at \u001b[38;5;121m28.29\u001b[0m\u001b[38;5;159m FPS.\u001b[0m\n",
      "\u001b[38;5;159m[Genesis] [18:08:57] [INFO] Running at \u001b[38;5;121m29.07\u001b[0m\u001b[38;5;159m FPS.\u001b[0m\n",
      "\u001b[38;5;159m[Genesis] [18:08:57] [INFO] Running at \u001b[38;5;121m29.42\u001b[0m\u001b[38;5;159m FPS.\u001b[0m\n",
      "\u001b[38;5;159m[Genesis] [18:08:57] [INFO] Saving video to \u001b[38;5;121mclip.mp4\u001b[0m\u001b[38;5;159m.\u001b[0m\n",
      "\u001b[38;5;159m[Genesis] [18:08:57] [INFO] Video saved.\u001b[0m\n"
     ]
    },
    {
     "name": "stdout",
     "output_type": "stream",
     "text": [
      "tensor([0.7096, 0.0358, 0.1127])\n",
      "True\n"
     ]
    },
    {
     "name": "stderr",
     "output_type": "stream",
     "text": [
      "\u001b[38;5;159m[Genesis] [18:08:57] [INFO] Running at \u001b[38;5;121m18.82\u001b[0m\u001b[38;5;159m FPS.\u001b[0m\n",
      "\u001b[38;5;159m[Genesis] [18:08:57] [INFO] Running at \u001b[38;5;121m19.19\u001b[0m\u001b[38;5;159m FPS.\u001b[0m\n",
      "\u001b[38;5;159m[Genesis] [18:08:57] [INFO] Running at \u001b[38;5;121m19.75\u001b[0m\u001b[38;5;159m FPS.\u001b[0m\n",
      "\u001b[38;5;159m[Genesis] [18:08:57] [INFO] Running at \u001b[38;5;121m20.42\u001b[0m\u001b[38;5;159m FPS.\u001b[0m\n",
      "\u001b[38;5;159m[Genesis] [18:08:57] [INFO] Running at \u001b[38;5;121m20.57\u001b[0m\u001b[38;5;159m FPS.\u001b[0m\n",
      "\u001b[38;5;159m[Genesis] [18:08:58] [INFO] Running at \u001b[38;5;121m20.91\u001b[0m\u001b[38;5;159m FPS.\u001b[0m\n",
      "\u001b[38;5;159m[Genesis] [18:08:58] [INFO] Running at \u001b[38;5;121m21.49\u001b[0m\u001b[38;5;159m FPS.\u001b[0m\n",
      "\u001b[38;5;159m[Genesis] [18:08:58] [INFO] Running at \u001b[38;5;121m21.56\u001b[0m\u001b[38;5;159m FPS.\u001b[0m\n",
      "\u001b[38;5;159m[Genesis] [18:08:58] [INFO] Running at \u001b[38;5;121m21.87\u001b[0m\u001b[38;5;159m FPS.\u001b[0m\n",
      "\u001b[38;5;159m[Genesis] [18:08:58] [INFO] Running at \u001b[38;5;121m22.46\u001b[0m\u001b[38;5;159m FPS.\u001b[0m\n",
      "\u001b[38;5;159m[Genesis] [18:08:58] [INFO] Running at \u001b[38;5;121m22.48\u001b[0m\u001b[38;5;159m FPS.\u001b[0m\n",
      "\u001b[38;5;159m[Genesis] [18:08:58] [INFO] Running at \u001b[38;5;121m22.77\u001b[0m\u001b[38;5;159m FPS.\u001b[0m\n",
      "\u001b[38;5;159m[Genesis] [18:08:58] [INFO] Running at \u001b[38;5;121m23.35\u001b[0m\u001b[38;5;159m FPS.\u001b[0m\n",
      "\u001b[38;5;159m[Genesis] [18:08:58] [INFO] Running at \u001b[38;5;121m23.34\u001b[0m\u001b[38;5;159m FPS.\u001b[0m\n",
      "\u001b[38;5;159m[Genesis] [18:08:58] [INFO] Running at \u001b[38;5;121m23.62\u001b[0m\u001b[38;5;159m FPS.\u001b[0m\n",
      "\u001b[38;5;159m[Genesis] [18:08:58] [INFO] Running at \u001b[38;5;121m24.19\u001b[0m\u001b[38;5;159m FPS.\u001b[0m\n",
      "\u001b[38;5;159m[Genesis] [18:08:58] [INFO] Running at \u001b[38;5;121m24.12\u001b[0m\u001b[38;5;159m FPS.\u001b[0m\n",
      "\u001b[38;5;159m[Genesis] [18:08:58] [INFO] Running at \u001b[38;5;121m24.37\u001b[0m\u001b[38;5;159m FPS.\u001b[0m\n",
      "\u001b[38;5;159m[Genesis] [18:08:58] [INFO] Running at \u001b[38;5;121m24.88\u001b[0m\u001b[38;5;159m FPS.\u001b[0m\n",
      "\u001b[38;5;159m[Genesis] [18:08:58] [INFO] Running at \u001b[38;5;121m25.64\u001b[0m\u001b[38;5;159m FPS.\u001b[0m\n",
      "\u001b[38;5;159m[Genesis] [18:08:58] [INFO] Running at \u001b[38;5;121m26.06\u001b[0m\u001b[38;5;159m FPS.\u001b[0m\n",
      "\u001b[38;5;159m[Genesis] [18:08:58] [INFO] Running at \u001b[38;5;121m26.64\u001b[0m\u001b[38;5;159m FPS.\u001b[0m\n",
      "\u001b[38;5;159m[Genesis] [18:08:58] [INFO] Running at \u001b[38;5;121m27.41\u001b[0m\u001b[38;5;159m FPS.\u001b[0m\n",
      "\u001b[38;5;159m[Genesis] [18:08:58] [INFO] Running at \u001b[38;5;121m27.81\u001b[0m\u001b[38;5;159m FPS.\u001b[0m\n",
      "\u001b[38;5;159m[Genesis] [18:08:58] [INFO] Running at \u001b[38;5;121m28.31\u001b[0m\u001b[38;5;159m FPS.\u001b[0m\n",
      "\u001b[38;5;159m[Genesis] [18:08:58] [INFO] Saving video to \u001b[38;5;121mclip.mp4\u001b[0m\u001b[38;5;159m.\u001b[0m\n",
      "\u001b[38;5;159m[Genesis] [18:08:58] [INFO] Video saved.\u001b[0m\n"
     ]
    },
    {
     "name": "stdout",
     "output_type": "stream",
     "text": [
      "tensor([0.7112, 0.0363, 0.1126])\n",
      "True\n"
     ]
    },
    {
     "name": "stderr",
     "output_type": "stream",
     "text": [
      "\u001b[38;5;159m[Genesis] [18:08:58] [INFO] Running at \u001b[38;5;121m18.41\u001b[0m\u001b[38;5;159m FPS.\u001b[0m\n",
      "\u001b[38;5;159m[Genesis] [18:08:59] [INFO] Running at \u001b[38;5;121m18.87\u001b[0m\u001b[38;5;159m FPS.\u001b[0m\n",
      "\u001b[38;5;159m[Genesis] [18:08:59] [INFO] Running at \u001b[38;5;121m19.43\u001b[0m\u001b[38;5;159m FPS.\u001b[0m\n",
      "\u001b[38;5;159m[Genesis] [18:08:59] [INFO] Running at \u001b[38;5;121m20.10\u001b[0m\u001b[38;5;159m FPS.\u001b[0m\n",
      "\u001b[38;5;159m[Genesis] [18:08:59] [INFO] Running at \u001b[38;5;121m20.80\u001b[0m\u001b[38;5;159m FPS.\u001b[0m\n",
      "\u001b[38;5;159m[Genesis] [18:08:59] [INFO] Running at \u001b[38;5;121m20.91\u001b[0m\u001b[38;5;159m FPS.\u001b[0m\n",
      "\u001b[38;5;159m[Genesis] [18:08:59] [INFO] Running at \u001b[38;5;121m21.51\u001b[0m\u001b[38;5;159m FPS.\u001b[0m\n",
      "\u001b[38;5;159m[Genesis] [18:08:59] [INFO] Running at \u001b[38;5;121m22.24\u001b[0m\u001b[38;5;159m FPS.\u001b[0m\n",
      "\u001b[38;5;159m[Genesis] [18:08:59] [INFO] Running at \u001b[38;5;121m22.72\u001b[0m\u001b[38;5;159m FPS.\u001b[0m\n",
      "\u001b[38;5;159m[Genesis] [18:08:59] [INFO] Running at \u001b[38;5;121m23.29\u001b[0m\u001b[38;5;159m FPS.\u001b[0m\n",
      "\u001b[38;5;159m[Genesis] [18:08:59] [INFO] Running at \u001b[38;5;121m24.00\u001b[0m\u001b[38;5;159m FPS.\u001b[0m\n",
      "\u001b[38;5;159m[Genesis] [18:08:59] [INFO] Running at \u001b[38;5;121m23.99\u001b[0m\u001b[38;5;159m FPS.\u001b[0m\n",
      "\u001b[38;5;159m[Genesis] [18:08:59] [INFO] Running at \u001b[38;5;121m24.25\u001b[0m\u001b[38;5;159m FPS.\u001b[0m\n",
      "\u001b[38;5;159m[Genesis] [18:08:59] [INFO] Running at \u001b[38;5;121m24.76\u001b[0m\u001b[38;5;159m FPS.\u001b[0m\n",
      "\u001b[38;5;159m[Genesis] [18:08:59] [INFO] Running at \u001b[38;5;121m24.73\u001b[0m\u001b[38;5;159m FPS.\u001b[0m\n",
      "\u001b[38;5;159m[Genesis] [18:08:59] [INFO] Running at \u001b[38;5;121m24.95\u001b[0m\u001b[38;5;159m FPS.\u001b[0m\n",
      "\u001b[38;5;159m[Genesis] [18:08:59] [INFO] Running at \u001b[38;5;121m25.45\u001b[0m\u001b[38;5;159m FPS.\u001b[0m\n",
      "\u001b[38;5;159m[Genesis] [18:08:59] [INFO] Running at \u001b[38;5;121m26.22\u001b[0m\u001b[38;5;159m FPS.\u001b[0m\n",
      "\u001b[38;5;159m[Genesis] [18:08:59] [INFO] Running at \u001b[38;5;121m26.05\u001b[0m\u001b[38;5;159m FPS.\u001b[0m\n",
      "\u001b[38;5;159m[Genesis] [18:08:59] [INFO] Running at \u001b[38;5;121m26.64\u001b[0m\u001b[38;5;159m FPS.\u001b[0m\n",
      "\u001b[38;5;159m[Genesis] [18:08:59] [INFO] Running at \u001b[38;5;121m27.42\u001b[0m\u001b[38;5;159m FPS.\u001b[0m\n",
      "\u001b[38;5;159m[Genesis] [18:08:59] [INFO] Running at \u001b[38;5;121m27.17\u001b[0m\u001b[38;5;159m FPS.\u001b[0m\n",
      "\u001b[38;5;159m[Genesis] [18:08:59] [INFO] Running at \u001b[38;5;121m27.75\u001b[0m\u001b[38;5;159m FPS.\u001b[0m\n",
      "\u001b[38;5;159m[Genesis] [18:08:59] [INFO] Running at \u001b[38;5;121m28.45\u001b[0m\u001b[38;5;159m FPS.\u001b[0m\n",
      "\u001b[38;5;159m[Genesis] [18:08:59] [INFO] Running at \u001b[38;5;121m29.24\u001b[0m\u001b[38;5;159m FPS.\u001b[0m\n",
      "\u001b[38;5;159m[Genesis] [18:08:59] [INFO] Saving video to \u001b[38;5;121mclip.mp4\u001b[0m\u001b[38;5;159m.\u001b[0m\n",
      "\u001b[38;5;159m[Genesis] [18:08:59] [INFO] Video saved.\u001b[0m\n"
     ]
    },
    {
     "name": "stdout",
     "output_type": "stream",
     "text": [
      "tensor([0.7124, 0.0370, 0.1126])\n",
      "True\n"
     ]
    },
    {
     "name": "stderr",
     "output_type": "stream",
     "text": [
      "\u001b[38;5;159m[Genesis] [18:09:00] [INFO] Running at \u001b[38;5;121m18.38\u001b[0m\u001b[38;5;159m FPS.\u001b[0m\n",
      "\u001b[38;5;159m[Genesis] [18:09:00] [INFO] Running at \u001b[38;5;121m18.98\u001b[0m\u001b[38;5;159m FPS.\u001b[0m\n",
      "\u001b[38;5;159m[Genesis] [18:09:00] [INFO] Running at \u001b[38;5;121m19.66\u001b[0m\u001b[38;5;159m FPS.\u001b[0m\n",
      "\u001b[38;5;159m[Genesis] [18:09:00] [INFO] Running at \u001b[38;5;121m20.35\u001b[0m\u001b[38;5;159m FPS.\u001b[0m\n",
      "\u001b[38;5;159m[Genesis] [18:09:00] [INFO] Running at \u001b[38;5;121m20.70\u001b[0m\u001b[38;5;159m FPS.\u001b[0m\n",
      "\u001b[38;5;159m[Genesis] [18:09:00] [INFO] Running at \u001b[38;5;121m21.24\u001b[0m\u001b[38;5;159m FPS.\u001b[0m\n",
      "\u001b[38;5;159m[Genesis] [18:09:00] [INFO] Running at \u001b[38;5;121m21.95\u001b[0m\u001b[38;5;159m FPS.\u001b[0m\n",
      "\u001b[38;5;159m[Genesis] [18:09:00] [INFO] Running at \u001b[38;5;121m22.01\u001b[0m\u001b[38;5;159m FPS.\u001b[0m\n",
      "\u001b[38;5;159m[Genesis] [18:09:00] [INFO] Running at \u001b[38;5;121m22.61\u001b[0m\u001b[38;5;159m FPS.\u001b[0m\n",
      "\u001b[38;5;159m[Genesis] [18:09:00] [INFO] Running at \u001b[38;5;121m23.35\u001b[0m\u001b[38;5;159m FPS.\u001b[0m\n",
      "\u001b[38;5;159m[Genesis] [18:09:00] [INFO] Running at \u001b[38;5;121m23.34\u001b[0m\u001b[38;5;159m FPS.\u001b[0m\n",
      "\u001b[38;5;159m[Genesis] [18:09:00] [INFO] Running at \u001b[38;5;121m23.94\u001b[0m\u001b[38;5;159m FPS.\u001b[0m\n",
      "\u001b[38;5;159m[Genesis] [18:09:00] [INFO] Running at \u001b[38;5;121m24.60\u001b[0m\u001b[38;5;159m FPS.\u001b[0m\n",
      "\u001b[38;5;159m[Genesis] [18:09:00] [INFO] Running at \u001b[38;5;121m24.59\u001b[0m\u001b[38;5;159m FPS.\u001b[0m\n",
      "\u001b[38;5;159m[Genesis] [18:09:00] [INFO] Running at \u001b[38;5;121m24.84\u001b[0m\u001b[38;5;159m FPS.\u001b[0m\n",
      "\u001b[38;5;159m[Genesis] [18:09:00] [INFO] Running at \u001b[38;5;121m25.35\u001b[0m\u001b[38;5;159m FPS.\u001b[0m\n",
      "\u001b[38;5;159m[Genesis] [18:09:00] [INFO] Running at \u001b[38;5;121m26.12\u001b[0m\u001b[38;5;159m FPS.\u001b[0m\n",
      "\u001b[38;5;159m[Genesis] [18:09:00] [INFO] Running at \u001b[38;5;121m25.96\u001b[0m\u001b[38;5;159m FPS.\u001b[0m\n",
      "\u001b[38;5;159m[Genesis] [18:09:00] [INFO] Running at \u001b[38;5;121m26.55\u001b[0m\u001b[38;5;159m FPS.\u001b[0m\n",
      "\u001b[38;5;159m[Genesis] [18:09:00] [INFO] Running at \u001b[38;5;121m27.32\u001b[0m\u001b[38;5;159m FPS.\u001b[0m\n",
      "\u001b[38;5;159m[Genesis] [18:09:00] [INFO] Running at \u001b[38;5;121m27.09\u001b[0m\u001b[38;5;159m FPS.\u001b[0m\n",
      "\u001b[38;5;159m[Genesis] [18:09:00] [INFO] Running at \u001b[38;5;121m27.63\u001b[0m\u001b[38;5;159m FPS.\u001b[0m\n",
      "\u001b[38;5;159m[Genesis] [18:09:00] [INFO] Running at \u001b[38;5;121m28.37\u001b[0m\u001b[38;5;159m FPS.\u001b[0m\n",
      "\u001b[38;5;159m[Genesis] [18:09:00] [INFO] Running at \u001b[38;5;121m29.15\u001b[0m\u001b[38;5;159m FPS.\u001b[0m\n",
      "\u001b[38;5;159m[Genesis] [18:09:00] [INFO] Running at \u001b[38;5;121m28.78\u001b[0m\u001b[38;5;159m FPS.\u001b[0m\n",
      "\u001b[38;5;159m[Genesis] [18:09:00] [INFO] Saving video to \u001b[38;5;121mclip.mp4\u001b[0m\u001b[38;5;159m.\u001b[0m\n",
      "\u001b[38;5;159m[Genesis] [18:09:00] [INFO] Video saved.\u001b[0m\n"
     ]
    },
    {
     "name": "stdout",
     "output_type": "stream",
     "text": [
      "tensor([0.7135, 0.0377, 0.1126])\n",
      "True\n"
     ]
    },
    {
     "name": "stderr",
     "output_type": "stream",
     "text": [
      "\u001b[38;5;159m[Genesis] [18:09:01] [INFO] Running at \u001b[38;5;121m18.57\u001b[0m\u001b[38;5;159m FPS.\u001b[0m\n",
      "\u001b[38;5;159m[Genesis] [18:09:01] [INFO] Running at \u001b[38;5;121m18.96\u001b[0m\u001b[38;5;159m FPS.\u001b[0m\n",
      "\u001b[38;5;159m[Genesis] [18:09:01] [INFO] Running at \u001b[38;5;121m19.32\u001b[0m\u001b[38;5;159m FPS.\u001b[0m\n",
      "\u001b[38;5;159m[Genesis] [18:09:01] [INFO] Running at \u001b[38;5;121m19.85\u001b[0m\u001b[38;5;159m FPS.\u001b[0m\n",
      "\u001b[38;5;159m[Genesis] [18:09:01] [INFO] Running at \u001b[38;5;121m20.55\u001b[0m\u001b[38;5;159m FPS.\u001b[0m\n",
      "\u001b[38;5;159m[Genesis] [18:09:01] [INFO] Running at \u001b[38;5;121m20.67\u001b[0m\u001b[38;5;159m FPS.\u001b[0m\n",
      "\u001b[38;5;159m[Genesis] [18:09:01] [INFO] Running at \u001b[38;5;121m21.26\u001b[0m\u001b[38;5;159m FPS.\u001b[0m\n",
      "\u001b[38;5;159m[Genesis] [18:09:01] [INFO] Running at \u001b[38;5;121m21.98\u001b[0m\u001b[38;5;159m FPS.\u001b[0m\n",
      "\u001b[38;5;159m[Genesis] [18:09:01] [INFO] Running at \u001b[38;5;121m22.05\u001b[0m\u001b[38;5;159m FPS.\u001b[0m\n",
      "\u001b[38;5;159m[Genesis] [18:09:01] [INFO] Running at \u001b[38;5;121m22.63\u001b[0m\u001b[38;5;159m FPS.\u001b[0m\n",
      "\u001b[38;5;159m[Genesis] [18:09:01] [INFO] Running at \u001b[38;5;121m23.32\u001b[0m\u001b[38;5;159m FPS.\u001b[0m\n",
      "\u001b[38;5;159m[Genesis] [18:09:01] [INFO] Running at \u001b[38;5;121m24.06\u001b[0m\u001b[38;5;159m FPS.\u001b[0m\n",
      "\u001b[38;5;159m[Genesis] [18:09:01] [INFO] Running at \u001b[38;5;121m24.02\u001b[0m\u001b[38;5;159m FPS.\u001b[0m\n",
      "\u001b[38;5;159m[Genesis] [18:09:01] [INFO] Running at \u001b[38;5;121m24.62\u001b[0m\u001b[38;5;159m FPS.\u001b[0m\n",
      "\u001b[38;5;159m[Genesis] [18:09:01] [INFO] Running at \u001b[38;5;121m25.38\u001b[0m\u001b[38;5;159m FPS.\u001b[0m\n",
      "\u001b[38;5;159m[Genesis] [18:09:01] [INFO] Running at \u001b[38;5;121m25.25\u001b[0m\u001b[38;5;159m FPS.\u001b[0m\n",
      "\u001b[38;5;159m[Genesis] [18:09:01] [INFO] Running at \u001b[38;5;121m25.82\u001b[0m\u001b[38;5;159m FPS.\u001b[0m\n",
      "\u001b[38;5;159m[Genesis] [18:09:01] [INFO] Running at \u001b[38;5;121m26.60\u001b[0m\u001b[38;5;159m FPS.\u001b[0m\n",
      "\u001b[38;5;159m[Genesis] [18:09:01] [INFO] Running at \u001b[38;5;121m27.00\u001b[0m\u001b[38;5;159m FPS.\u001b[0m\n",
      "\u001b[38;5;159m[Genesis] [18:09:01] [INFO] Running at \u001b[38;5;121m27.56\u001b[0m\u001b[38;5;159m FPS.\u001b[0m\n",
      "\u001b[38;5;159m[Genesis] [18:09:01] [INFO] Running at \u001b[38;5;121m28.26\u001b[0m\u001b[38;5;159m FPS.\u001b[0m\n",
      "\u001b[38;5;159m[Genesis] [18:09:01] [INFO] Running at \u001b[38;5;121m29.04\u001b[0m\u001b[38;5;159m FPS.\u001b[0m\n",
      "\u001b[38;5;159m[Genesis] [18:09:01] [INFO] Running at \u001b[38;5;121m28.68\u001b[0m\u001b[38;5;159m FPS.\u001b[0m\n",
      "\u001b[38;5;159m[Genesis] [18:09:01] [INFO] Running at \u001b[38;5;121m29.24\u001b[0m\u001b[38;5;159m FPS.\u001b[0m\n",
      "\u001b[38;5;159m[Genesis] [18:09:01] [INFO] Running at \u001b[38;5;121m30.03\u001b[0m\u001b[38;5;159m FPS.\u001b[0m\n",
      "\u001b[38;5;159m[Genesis] [18:09:01] [INFO] Saving video to \u001b[38;5;121mclip.mp4\u001b[0m\u001b[38;5;159m.\u001b[0m\n",
      "\u001b[38;5;159m[Genesis] [18:09:01] [INFO] Video saved.\u001b[0m\n"
     ]
    },
    {
     "name": "stdout",
     "output_type": "stream",
     "text": [
      "tensor([0.7120, 0.0383, 0.1126])\n",
      "True\n"
     ]
    },
    {
     "name": "stderr",
     "output_type": "stream",
     "text": [
      "\u001b[38;5;159m[Genesis] [18:09:02] [INFO] Running at \u001b[38;5;121m18.93\u001b[0m\u001b[38;5;159m FPS.\u001b[0m\n",
      "\u001b[38;5;159m[Genesis] [18:09:02] [INFO] Running at \u001b[38;5;121m19.60\u001b[0m\u001b[38;5;159m FPS.\u001b[0m\n",
      "\u001b[38;5;159m[Genesis] [18:09:02] [INFO] Running at \u001b[38;5;121m19.90\u001b[0m\u001b[38;5;159m FPS.\u001b[0m\n",
      "\u001b[38;5;159m[Genesis] [18:09:02] [INFO] Running at \u001b[38;5;121m20.17\u001b[0m\u001b[38;5;159m FPS.\u001b[0m\n",
      "\u001b[38;5;159m[Genesis] [18:09:02] [INFO] Running at \u001b[38;5;121m20.23\u001b[0m\u001b[38;5;159m FPS.\u001b[0m\n",
      "\u001b[38;5;159m[Genesis] [18:09:02] [INFO] Running at \u001b[38;5;121m20.81\u001b[0m\u001b[38;5;159m FPS.\u001b[0m\n",
      "\u001b[38;5;159m[Genesis] [18:09:02] [INFO] Running at \u001b[38;5;121m20.94\u001b[0m\u001b[38;5;159m FPS.\u001b[0m\n",
      "\u001b[38;5;159m[Genesis] [18:09:02] [INFO] Running at \u001b[38;5;121m21.51\u001b[0m\u001b[38;5;159m FPS.\u001b[0m\n",
      "\u001b[38;5;159m[Genesis] [18:09:02] [INFO] Running at \u001b[38;5;121m22.20\u001b[0m\u001b[38;5;159m FPS.\u001b[0m\n",
      "\u001b[38;5;159m[Genesis] [18:09:02] [INFO] Running at \u001b[38;5;121m22.93\u001b[0m\u001b[38;5;159m FPS.\u001b[0m\n",
      "\u001b[38;5;159m[Genesis] [18:09:02] [INFO] Running at \u001b[38;5;121m23.41\u001b[0m\u001b[38;5;159m FPS.\u001b[0m\n",
      "\u001b[38;5;159m[Genesis] [18:09:02] [INFO] Running at \u001b[38;5;121m24.01\u001b[0m\u001b[38;5;159m FPS.\u001b[0m\n",
      "\u001b[38;5;159m[Genesis] [18:09:02] [INFO] Running at \u001b[38;5;121m24.65\u001b[0m\u001b[38;5;159m FPS.\u001b[0m\n",
      "\u001b[38;5;159m[Genesis] [18:09:02] [INFO] Running at \u001b[38;5;121m24.63\u001b[0m\u001b[38;5;159m FPS.\u001b[0m\n",
      "\u001b[38;5;159m[Genesis] [18:09:02] [INFO] Running at \u001b[38;5;121m25.22\u001b[0m\u001b[38;5;159m FPS.\u001b[0m\n",
      "\u001b[38;5;159m[Genesis] [18:09:02] [INFO] Running at \u001b[38;5;121m25.98\u001b[0m\u001b[38;5;159m FPS.\u001b[0m\n",
      "\u001b[38;5;159m[Genesis] [18:09:02] [INFO] Running at \u001b[38;5;121m25.81\u001b[0m\u001b[38;5;159m FPS.\u001b[0m\n",
      "\u001b[38;5;159m[Genesis] [18:09:02] [INFO] Running at \u001b[38;5;121m26.38\u001b[0m\u001b[38;5;159m FPS.\u001b[0m\n",
      "\u001b[38;5;159m[Genesis] [18:09:02] [INFO] Running at \u001b[38;5;121m27.15\u001b[0m\u001b[38;5;159m FPS.\u001b[0m\n",
      "\u001b[38;5;159m[Genesis] [18:09:02] [INFO] Running at \u001b[38;5;121m27.52\u001b[0m\u001b[38;5;159m FPS.\u001b[0m\n",
      "\u001b[38;5;159m[Genesis] [18:09:02] [INFO] Running at \u001b[38;5;121m27.65\u001b[0m\u001b[38;5;159m FPS.\u001b[0m\n",
      "\u001b[38;5;159m[Genesis] [18:09:02] [INFO] Running at \u001b[38;5;121m28.12\u001b[0m\u001b[38;5;159m FPS.\u001b[0m\n",
      "\u001b[38;5;159m[Genesis] [18:09:02] [INFO] Running at \u001b[38;5;121m28.90\u001b[0m\u001b[38;5;159m FPS.\u001b[0m\n",
      "\u001b[38;5;159m[Genesis] [18:09:02] [INFO] Running at \u001b[38;5;121m28.53\u001b[0m\u001b[38;5;159m FPS.\u001b[0m\n",
      "\u001b[38;5;159m[Genesis] [18:09:02] [INFO] Running at \u001b[38;5;121m29.09\u001b[0m\u001b[38;5;159m FPS.\u001b[0m\n",
      "\u001b[38;5;159m[Genesis] [18:09:02] [INFO] Saving video to \u001b[38;5;121mclip.mp4\u001b[0m\u001b[38;5;159m.\u001b[0m\n",
      "\u001b[38;5;159m[Genesis] [18:09:02] [INFO] Video saved.\u001b[0m\n"
     ]
    },
    {
     "name": "stdout",
     "output_type": "stream",
     "text": [
      "tensor([0.7105, 0.0388, 0.1126])\n",
      "True\n"
     ]
    },
    {
     "name": "stderr",
     "output_type": "stream",
     "text": [
      "\u001b[38;5;159m[Genesis] [18:09:03] [INFO] Running at \u001b[38;5;121m18.26\u001b[0m\u001b[38;5;159m FPS.\u001b[0m\n",
      "\u001b[38;5;159m[Genesis] [18:09:03] [INFO] Running at \u001b[38;5;121m18.78\u001b[0m\u001b[38;5;159m FPS.\u001b[0m\n",
      "\u001b[38;5;159m[Genesis] [18:09:03] [INFO] Running at \u001b[38;5;121m19.45\u001b[0m\u001b[38;5;159m FPS.\u001b[0m\n",
      "\u001b[38;5;159m[Genesis] [18:09:03] [INFO] Running at \u001b[38;5;121m19.62\u001b[0m\u001b[38;5;159m FPS.\u001b[0m\n",
      "\u001b[38;5;159m[Genesis] [18:09:03] [INFO] Running at \u001b[38;5;121m20.19\u001b[0m\u001b[38;5;159m FPS.\u001b[0m\n",
      "\u001b[38;5;159m[Genesis] [18:09:03] [INFO] Running at \u001b[38;5;121m20.89\u001b[0m\u001b[38;5;159m FPS.\u001b[0m\n",
      "\u001b[38;5;159m[Genesis] [18:09:03] [INFO] Running at \u001b[38;5;121m20.99\u001b[0m\u001b[38;5;159m FPS.\u001b[0m\n",
      "\u001b[38;5;159m[Genesis] [18:09:03] [INFO] Running at \u001b[38;5;121m21.59\u001b[0m\u001b[38;5;159m FPS.\u001b[0m\n",
      "\u001b[38;5;159m[Genesis] [18:09:03] [INFO] Running at \u001b[38;5;121m22.31\u001b[0m\u001b[38;5;159m FPS.\u001b[0m\n",
      "\u001b[38;5;159m[Genesis] [18:09:03] [INFO] Running at \u001b[38;5;121m22.35\u001b[0m\u001b[38;5;159m FPS.\u001b[0m\n",
      "\u001b[38;5;159m[Genesis] [18:09:03] [INFO] Running at \u001b[38;5;121m22.91\u001b[0m\u001b[38;5;159m FPS.\u001b[0m\n",
      "\u001b[38;5;159m[Genesis] [18:09:03] [INFO] Running at \u001b[38;5;121m23.61\u001b[0m\u001b[38;5;159m FPS.\u001b[0m\n",
      "\u001b[38;5;159m[Genesis] [18:09:03] [INFO] Running at \u001b[38;5;121m24.36\u001b[0m\u001b[38;5;159m FPS.\u001b[0m\n",
      "\u001b[38;5;159m[Genesis] [18:09:03] [INFO] Running at \u001b[38;5;121m24.32\u001b[0m\u001b[38;5;159m FPS.\u001b[0m\n",
      "\u001b[38;5;159m[Genesis] [18:09:03] [INFO] Running at \u001b[38;5;121m24.90\u001b[0m\u001b[38;5;159m FPS.\u001b[0m\n",
      "\u001b[38;5;159m[Genesis] [18:09:03] [INFO] Running at \u001b[38;5;121m25.66\u001b[0m\u001b[38;5;159m FPS.\u001b[0m\n",
      "\u001b[38;5;159m[Genesis] [18:09:03] [INFO] Running at \u001b[38;5;121m26.08\u001b[0m\u001b[38;5;159m FPS.\u001b[0m\n",
      "\u001b[38;5;159m[Genesis] [18:09:03] [INFO] Running at \u001b[38;5;121m26.27\u001b[0m\u001b[38;5;159m FPS.\u001b[0m\n",
      "\u001b[38;5;159m[Genesis] [18:09:03] [INFO] Running at \u001b[38;5;121m26.76\u001b[0m\u001b[38;5;159m FPS.\u001b[0m\n",
      "\u001b[38;5;159m[Genesis] [18:09:03] [INFO] Running at \u001b[38;5;121m27.54\u001b[0m\u001b[38;5;159m FPS.\u001b[0m\n",
      "\u001b[38;5;159m[Genesis] [18:09:03] [INFO] Running at \u001b[38;5;121m27.28\u001b[0m\u001b[38;5;159m FPS.\u001b[0m\n",
      "\u001b[38;5;159m[Genesis] [18:09:03] [INFO] Running at \u001b[38;5;121m27.84\u001b[0m\u001b[38;5;159m FPS.\u001b[0m\n",
      "\u001b[38;5;159m[Genesis] [18:09:03] [INFO] Running at \u001b[38;5;121m28.62\u001b[0m\u001b[38;5;159m FPS.\u001b[0m\n",
      "\u001b[38;5;159m[Genesis] [18:09:03] [INFO] Running at \u001b[38;5;121m28.97\u001b[0m\u001b[38;5;159m FPS.\u001b[0m\n",
      "\u001b[38;5;159m[Genesis] [18:09:03] [INFO] Running at \u001b[38;5;121m29.52\u001b[0m\u001b[38;5;159m FPS.\u001b[0m\n",
      "\u001b[38;5;159m[Genesis] [18:09:03] [INFO] Saving video to \u001b[38;5;121mclip.mp4\u001b[0m\u001b[38;5;159m.\u001b[0m\n",
      "\u001b[38;5;159m[Genesis] [18:09:03] [INFO] Video saved.\u001b[0m\n"
     ]
    },
    {
     "name": "stdout",
     "output_type": "stream",
     "text": [
      "tensor([0.7116, 0.0395, 0.1125])\n",
      "True\n"
     ]
    },
    {
     "name": "stderr",
     "output_type": "stream",
     "text": [
      "\u001b[38;5;159m[Genesis] [18:09:04] [INFO] Running at \u001b[38;5;121m18.92\u001b[0m\u001b[38;5;159m FPS.\u001b[0m\n",
      "\u001b[38;5;159m[Genesis] [18:09:04] [INFO] Running at \u001b[38;5;121m19.53\u001b[0m\u001b[38;5;159m FPS.\u001b[0m\n",
      "\u001b[38;5;159m[Genesis] [18:09:04] [INFO] Running at \u001b[38;5;121m20.22\u001b[0m\u001b[38;5;159m FPS.\u001b[0m\n",
      "\u001b[38;5;159m[Genesis] [18:09:04] [INFO] Running at \u001b[38;5;121m20.92\u001b[0m\u001b[38;5;159m FPS.\u001b[0m\n",
      "\u001b[38;5;159m[Genesis] [18:09:04] [INFO] Running at \u001b[38;5;121m21.04\u001b[0m\u001b[38;5;159m FPS.\u001b[0m\n",
      "\u001b[38;5;159m[Genesis] [18:09:04] [INFO] Running at \u001b[38;5;121m21.36\u001b[0m\u001b[38;5;159m FPS.\u001b[0m\n",
      "\u001b[38;5;159m[Genesis] [18:09:04] [INFO] Running at \u001b[38;5;121m21.95\u001b[0m\u001b[38;5;159m FPS.\u001b[0m\n",
      "\u001b[38;5;159m[Genesis] [18:09:04] [INFO] Running at \u001b[38;5;121m22.00\u001b[0m\u001b[38;5;159m FPS.\u001b[0m\n",
      "\u001b[38;5;159m[Genesis] [18:09:04] [INFO] Running at \u001b[38;5;121m22.30\u001b[0m\u001b[38;5;159m FPS.\u001b[0m\n",
      "\u001b[38;5;159m[Genesis] [18:09:04] [INFO] Running at \u001b[38;5;121m22.89\u001b[0m\u001b[38;5;159m FPS.\u001b[0m\n",
      "\u001b[38;5;159m[Genesis] [18:09:04] [INFO] Running at \u001b[38;5;121m22.89\u001b[0m\u001b[38;5;159m FPS.\u001b[0m\n",
      "\u001b[38;5;159m[Genesis] [18:09:04] [INFO] Running at \u001b[38;5;121m23.18\u001b[0m\u001b[38;5;159m FPS.\u001b[0m\n",
      "\u001b[38;5;159m[Genesis] [18:09:04] [INFO] Running at \u001b[38;5;121m23.71\u001b[0m\u001b[38;5;159m FPS.\u001b[0m\n",
      "\u001b[38;5;159m[Genesis] [18:09:04] [INFO] Running at \u001b[38;5;121m24.46\u001b[0m\u001b[38;5;159m FPS.\u001b[0m\n",
      "\u001b[38;5;159m[Genesis] [18:09:04] [INFO] Running at \u001b[38;5;121m24.45\u001b[0m\u001b[38;5;159m FPS.\u001b[0m\n",
      "\u001b[38;5;159m[Genesis] [18:09:04] [INFO] Running at \u001b[38;5;121m24.96\u001b[0m\u001b[38;5;159m FPS.\u001b[0m\n",
      "\u001b[38;5;159m[Genesis] [18:09:04] [INFO] Running at \u001b[38;5;121m25.73\u001b[0m\u001b[38;5;159m FPS.\u001b[0m\n",
      "\u001b[38;5;159m[Genesis] [18:09:04] [INFO] Running at \u001b[38;5;121m25.59\u001b[0m\u001b[38;5;159m FPS.\u001b[0m\n",
      "\u001b[38;5;159m[Genesis] [18:09:04] [INFO] Running at \u001b[38;5;121m26.18\u001b[0m\u001b[38;5;159m FPS.\u001b[0m\n",
      "\u001b[38;5;159m[Genesis] [18:09:04] [INFO] Running at \u001b[38;5;121m26.97\u001b[0m\u001b[38;5;159m FPS.\u001b[0m\n",
      "\u001b[38;5;159m[Genesis] [18:09:04] [INFO] Running at \u001b[38;5;121m27.35\u001b[0m\u001b[38;5;159m FPS.\u001b[0m\n",
      "\u001b[38;5;159m[Genesis] [18:09:04] [INFO] Running at \u001b[38;5;121m27.86\u001b[0m\u001b[38;5;159m FPS.\u001b[0m\n",
      "\u001b[38;5;159m[Genesis] [18:09:04] [INFO] Running at \u001b[38;5;121m28.62\u001b[0m\u001b[38;5;159m FPS.\u001b[0m\n",
      "\u001b[38;5;159m[Genesis] [18:09:04] [INFO] Running at \u001b[38;5;121m29.41\u001b[0m\u001b[38;5;159m FPS.\u001b[0m\n",
      "\u001b[38;5;159m[Genesis] [18:09:04] [INFO] Running at \u001b[38;5;121m29.00\u001b[0m\u001b[38;5;159m FPS.\u001b[0m\n",
      "\u001b[38;5;159m[Genesis] [18:09:05] [INFO] Saving video to \u001b[38;5;121mclip.mp4\u001b[0m\u001b[38;5;159m.\u001b[0m\n",
      "\u001b[38;5;159m[Genesis] [18:09:05] [INFO] Video saved.\u001b[0m\n"
     ]
    },
    {
     "name": "stdout",
     "output_type": "stream",
     "text": [
      "tensor([0.7128, 0.0402, 0.1125])\n",
      "True\n"
     ]
    },
    {
     "name": "stderr",
     "output_type": "stream",
     "text": [
      "\u001b[38;5;159m[Genesis] [18:09:05] [INFO] Running at \u001b[38;5;121m18.60\u001b[0m\u001b[38;5;159m FPS.\u001b[0m\n",
      "\u001b[38;5;159m[Genesis] [18:09:05] [INFO] Running at \u001b[38;5;121m19.22\u001b[0m\u001b[38;5;159m FPS.\u001b[0m\n",
      "\u001b[38;5;159m[Genesis] [18:09:05] [INFO] Running at \u001b[38;5;121m19.91\u001b[0m\u001b[38;5;159m FPS.\u001b[0m\n",
      "\u001b[38;5;159m[Genesis] [18:09:05] [INFO] Running at \u001b[38;5;121m20.60\u001b[0m\u001b[38;5;159m FPS.\u001b[0m\n",
      "\u001b[38;5;159m[Genesis] [18:09:05] [INFO] Running at \u001b[38;5;121m20.74\u001b[0m\u001b[38;5;159m FPS.\u001b[0m\n",
      "\u001b[38;5;159m[Genesis] [18:09:05] [INFO] Running at \u001b[38;5;121m21.32\u001b[0m\u001b[38;5;159m FPS.\u001b[0m\n",
      "\u001b[38;5;159m[Genesis] [18:09:05] [INFO] Running at \u001b[38;5;121m22.00\u001b[0m\u001b[38;5;159m FPS.\u001b[0m\n",
      "\u001b[38;5;159m[Genesis] [18:09:05] [INFO] Running at \u001b[38;5;121m22.07\u001b[0m\u001b[38;5;159m FPS.\u001b[0m\n",
      "\u001b[38;5;159m[Genesis] [18:09:05] [INFO] Running at \u001b[38;5;121m22.66\u001b[0m\u001b[38;5;159m FPS.\u001b[0m\n",
      "\u001b[38;5;159m[Genesis] [18:09:05] [INFO] Running at \u001b[38;5;121m23.39\u001b[0m\u001b[38;5;159m FPS.\u001b[0m\n",
      "\u001b[38;5;159m[Genesis] [18:09:05] [INFO] Running at \u001b[38;5;121m23.84\u001b[0m\u001b[38;5;159m FPS.\u001b[0m\n",
      "\u001b[38;5;159m[Genesis] [18:09:05] [INFO] Running at \u001b[38;5;121m24.10\u001b[0m\u001b[38;5;159m FPS.\u001b[0m\n",
      "\u001b[38;5;159m[Genesis] [18:09:05] [INFO] Running at \u001b[38;5;121m24.62\u001b[0m\u001b[38;5;159m FPS.\u001b[0m\n",
      "\u001b[38;5;159m[Genesis] [18:09:05] [INFO] Running at \u001b[38;5;121m24.58\u001b[0m\u001b[38;5;159m FPS.\u001b[0m\n",
      "\u001b[38;5;159m[Genesis] [18:09:05] [INFO] Running at \u001b[38;5;121m25.14\u001b[0m\u001b[38;5;159m FPS.\u001b[0m\n",
      "\u001b[38;5;159m[Genesis] [18:09:05] [INFO] Running at \u001b[38;5;121m25.87\u001b[0m\u001b[38;5;159m FPS.\u001b[0m\n",
      "\u001b[38;5;159m[Genesis] [18:09:05] [INFO] Running at \u001b[38;5;121m26.64\u001b[0m\u001b[38;5;159m FPS.\u001b[0m\n",
      "\u001b[38;5;159m[Genesis] [18:09:05] [INFO] Running at \u001b[38;5;121m26.45\u001b[0m\u001b[38;5;159m FPS.\u001b[0m\n",
      "\u001b[38;5;159m[Genesis] [18:09:05] [INFO] Running at \u001b[38;5;121m27.04\u001b[0m\u001b[38;5;159m FPS.\u001b[0m\n",
      "\u001b[38;5;159m[Genesis] [18:09:05] [INFO] Running at \u001b[38;5;121m27.80\u001b[0m\u001b[38;5;159m FPS.\u001b[0m\n",
      "\u001b[38;5;159m[Genesis] [18:09:05] [INFO] Running at \u001b[38;5;121m27.54\u001b[0m\u001b[38;5;159m FPS.\u001b[0m\n",
      "\u001b[38;5;159m[Genesis] [18:09:05] [INFO] Running at \u001b[38;5;121m28.05\u001b[0m\u001b[38;5;159m FPS.\u001b[0m\n",
      "\u001b[38;5;159m[Genesis] [18:09:05] [INFO] Running at \u001b[38;5;121m28.77\u001b[0m\u001b[38;5;159m FPS.\u001b[0m\n",
      "\u001b[38;5;159m[Genesis] [18:09:05] [INFO] Running at \u001b[38;5;121m29.56\u001b[0m\u001b[38;5;159m FPS.\u001b[0m\n",
      "\u001b[38;5;159m[Genesis] [18:09:06] [INFO] Running at \u001b[38;5;121m29.16\u001b[0m\u001b[38;5;159m FPS.\u001b[0m\n",
      "\u001b[38;5;159m[Genesis] [18:09:06] [INFO] Saving video to \u001b[38;5;121mclip.mp4\u001b[0m\u001b[38;5;159m.\u001b[0m\n",
      "\u001b[38;5;159m[Genesis] [18:09:06] [INFO] Video saved.\u001b[0m\n"
     ]
    },
    {
     "name": "stdout",
     "output_type": "stream",
     "text": [
      "tensor([0.7139, 0.0409, 0.1125])\n",
      "True\n"
     ]
    },
    {
     "name": "stderr",
     "output_type": "stream",
     "text": [
      "\u001b[38;5;159m[Genesis] [18:09:06] [INFO] Running at \u001b[38;5;121m18.68\u001b[0m\u001b[38;5;159m FPS.\u001b[0m\n",
      "\u001b[38;5;159m[Genesis] [18:09:06] [INFO] Running at \u001b[38;5;121m19.30\u001b[0m\u001b[38;5;159m FPS.\u001b[0m\n",
      "\u001b[38;5;159m[Genesis] [18:09:06] [INFO] Running at \u001b[38;5;121m19.98\u001b[0m\u001b[38;5;159m FPS.\u001b[0m\n",
      "\u001b[38;5;159m[Genesis] [18:09:06] [INFO] Running at \u001b[38;5;121m20.67\u001b[0m\u001b[38;5;159m FPS.\u001b[0m\n",
      "\u001b[38;5;159m[Genesis] [18:09:06] [INFO] Running at \u001b[38;5;121m20.78\u001b[0m\u001b[38;5;159m FPS.\u001b[0m\n",
      "\u001b[38;5;159m[Genesis] [18:09:06] [INFO] Running at \u001b[38;5;121m21.37\u001b[0m\u001b[38;5;159m FPS.\u001b[0m\n",
      "\u001b[38;5;159m[Genesis] [18:09:06] [INFO] Running at \u001b[38;5;121m22.10\u001b[0m\u001b[38;5;159m FPS.\u001b[0m\n",
      "\u001b[38;5;159m[Genesis] [18:09:06] [INFO] Running at \u001b[38;5;121m22.56\u001b[0m\u001b[38;5;159m FPS.\u001b[0m\n",
      "\u001b[38;5;159m[Genesis] [18:09:06] [INFO] Running at \u001b[38;5;121m23.15\u001b[0m\u001b[38;5;159m FPS.\u001b[0m\n",
      "\u001b[38;5;159m[Genesis] [18:09:06] [INFO] Running at \u001b[38;5;121m23.90\u001b[0m\u001b[38;5;159m FPS.\u001b[0m\n",
      "\u001b[38;5;159m[Genesis] [18:09:06] [INFO] Running at \u001b[38;5;121m24.33\u001b[0m\u001b[38;5;159m FPS.\u001b[0m\n",
      "\u001b[38;5;159m[Genesis] [18:09:06] [INFO] Running at \u001b[38;5;121m24.57\u001b[0m\u001b[38;5;159m FPS.\u001b[0m\n",
      "\u001b[38;5;159m[Genesis] [18:09:06] [INFO] Running at \u001b[38;5;121m25.08\u001b[0m\u001b[38;5;159m FPS.\u001b[0m\n",
      "\u001b[38;5;159m[Genesis] [18:09:06] [INFO] Running at \u001b[38;5;121m25.85\u001b[0m\u001b[38;5;159m FPS.\u001b[0m\n",
      "\u001b[38;5;159m[Genesis] [18:09:06] [INFO] Running at \u001b[38;5;121m25.70\u001b[0m\u001b[38;5;159m FPS.\u001b[0m\n",
      "\u001b[38;5;159m[Genesis] [18:09:06] [INFO] Running at \u001b[38;5;121m26.29\u001b[0m\u001b[38;5;159m FPS.\u001b[0m\n",
      "\u001b[38;5;159m[Genesis] [18:09:06] [INFO] Running at \u001b[38;5;121m27.07\u001b[0m\u001b[38;5;159m FPS.\u001b[0m\n",
      "\u001b[38;5;159m[Genesis] [18:09:06] [INFO] Running at \u001b[38;5;121m26.83\u001b[0m\u001b[38;5;159m FPS.\u001b[0m\n",
      "\u001b[38;5;159m[Genesis] [18:09:06] [INFO] Running at \u001b[38;5;121m27.40\u001b[0m\u001b[38;5;159m FPS.\u001b[0m\n",
      "\u001b[38;5;159m[Genesis] [18:09:06] [INFO] Running at \u001b[38;5;121m28.18\u001b[0m\u001b[38;5;159m FPS.\u001b[0m\n",
      "\u001b[38;5;159m[Genesis] [18:09:06] [INFO] Running at \u001b[38;5;121m27.88\u001b[0m\u001b[38;5;159m FPS.\u001b[0m\n",
      "\u001b[38;5;159m[Genesis] [18:09:06] [INFO] Running at \u001b[38;5;121m28.40\u001b[0m\u001b[38;5;159m FPS.\u001b[0m\n",
      "\u001b[38;5;159m[Genesis] [18:09:07] [INFO] Running at \u001b[38;5;121m29.13\u001b[0m\u001b[38;5;159m FPS.\u001b[0m\n",
      "\u001b[38;5;159m[Genesis] [18:09:07] [INFO] Running at \u001b[38;5;121m29.91\u001b[0m\u001b[38;5;159m FPS.\u001b[0m\n",
      "\u001b[38;5;159m[Genesis] [18:09:07] [INFO] Running at \u001b[38;5;121m29.51\u001b[0m\u001b[38;5;159m FPS.\u001b[0m\n",
      "\u001b[38;5;159m[Genesis] [18:09:07] [INFO] Saving video to \u001b[38;5;121mclip.mp4\u001b[0m\u001b[38;5;159m.\u001b[0m\n",
      "\u001b[38;5;159m[Genesis] [18:09:07] [INFO] Video saved.\u001b[0m\n"
     ]
    },
    {
     "name": "stdout",
     "output_type": "stream",
     "text": [
      "tensor([0.7124, 0.0414, 0.1125])\n",
      "True\n"
     ]
    },
    {
     "name": "stderr",
     "output_type": "stream",
     "text": [
      "\u001b[38;5;159m[Genesis] [18:09:07] [INFO] Running at \u001b[38;5;121m18.86\u001b[0m\u001b[38;5;159m FPS.\u001b[0m\n",
      "\u001b[38;5;159m[Genesis] [18:09:07] [INFO] Running at \u001b[38;5;121m19.25\u001b[0m\u001b[38;5;159m FPS.\u001b[0m\n",
      "\u001b[38;5;159m[Genesis] [18:09:07] [INFO] Running at \u001b[38;5;121m19.60\u001b[0m\u001b[38;5;159m FPS.\u001b[0m\n",
      "\u001b[38;5;159m[Genesis] [18:09:07] [INFO] Running at \u001b[38;5;121m20.12\u001b[0m\u001b[38;5;159m FPS.\u001b[0m\n",
      "\u001b[38;5;159m[Genesis] [18:09:07] [INFO] Running at \u001b[38;5;121m20.82\u001b[0m\u001b[38;5;159m FPS.\u001b[0m\n",
      "\u001b[38;5;159m[Genesis] [18:09:07] [INFO] Running at \u001b[38;5;121m20.98\u001b[0m\u001b[38;5;159m FPS.\u001b[0m\n",
      "\u001b[38;5;159m[Genesis] [18:09:07] [INFO] Running at \u001b[38;5;121m21.52\u001b[0m\u001b[38;5;159m FPS.\u001b[0m\n",
      "\u001b[38;5;159m[Genesis] [18:09:07] [INFO] Running at \u001b[38;5;121m21.63\u001b[0m\u001b[38;5;159m FPS.\u001b[0m\n",
      "\u001b[38;5;159m[Genesis] [18:09:07] [INFO] Running at \u001b[38;5;121m21.94\u001b[0m\u001b[38;5;159m FPS.\u001b[0m\n",
      "\u001b[38;5;159m[Genesis] [18:09:07] [INFO] Running at \u001b[38;5;121m22.47\u001b[0m\u001b[38;5;159m FPS.\u001b[0m\n",
      "\u001b[38;5;159m[Genesis] [18:09:07] [INFO] Running at \u001b[38;5;121m23.20\u001b[0m\u001b[38;5;159m FPS.\u001b[0m\n",
      "\u001b[38;5;159m[Genesis] [18:09:07] [INFO] Running at \u001b[38;5;121m23.19\u001b[0m\u001b[38;5;159m FPS.\u001b[0m\n",
      "\u001b[38;5;159m[Genesis] [18:09:07] [INFO] Running at \u001b[38;5;121m23.78\u001b[0m\u001b[38;5;159m FPS.\u001b[0m\n",
      "\u001b[38;5;159m[Genesis] [18:09:07] [INFO] Running at \u001b[38;5;121m24.53\u001b[0m\u001b[38;5;159m FPS.\u001b[0m\n",
      "\u001b[38;5;159m[Genesis] [18:09:07] [INFO] Running at \u001b[38;5;121m24.44\u001b[0m\u001b[38;5;159m FPS.\u001b[0m\n",
      "\u001b[38;5;159m[Genesis] [18:09:07] [INFO] Running at \u001b[38;5;121m25.03\u001b[0m\u001b[38;5;159m FPS.\u001b[0m\n",
      "\u001b[38;5;159m[Genesis] [18:09:07] [INFO] Running at \u001b[38;5;121m25.80\u001b[0m\u001b[38;5;159m FPS.\u001b[0m\n",
      "\u001b[38;5;159m[Genesis] [18:09:07] [INFO] Running at \u001b[38;5;121m25.65\u001b[0m\u001b[38;5;159m FPS.\u001b[0m\n",
      "\u001b[38;5;159m[Genesis] [18:09:08] [INFO] Running at \u001b[38;5;121m26.23\u001b[0m\u001b[38;5;159m FPS.\u001b[0m\n",
      "\u001b[38;5;159m[Genesis] [18:09:08] [INFO] Running at \u001b[38;5;121m26.94\u001b[0m\u001b[38;5;159m FPS.\u001b[0m\n",
      "\u001b[38;5;159m[Genesis] [18:09:08] [INFO] Running at \u001b[38;5;121m27.72\u001b[0m\u001b[38;5;159m FPS.\u001b[0m\n",
      "\u001b[38;5;159m[Genesis] [18:09:08] [INFO] Running at \u001b[38;5;121m27.44\u001b[0m\u001b[38;5;159m FPS.\u001b[0m\n",
      "\u001b[38;5;159m[Genesis] [18:09:08] [INFO] Running at \u001b[38;5;121m28.01\u001b[0m\u001b[38;5;159m FPS.\u001b[0m\n",
      "\u001b[38;5;159m[Genesis] [18:09:08] [INFO] Running at \u001b[38;5;121m28.79\u001b[0m\u001b[38;5;159m FPS.\u001b[0m\n",
      "\u001b[38;5;159m[Genesis] [18:09:08] [INFO] Running at \u001b[38;5;121m28.44\u001b[0m\u001b[38;5;159m FPS.\u001b[0m\n",
      "\u001b[38;5;159m[Genesis] [18:09:08] [INFO] Saving video to \u001b[38;5;121mclip.mp4\u001b[0m\u001b[38;5;159m.\u001b[0m\n",
      "\u001b[38;5;159m[Genesis] [18:09:08] [INFO] Video saved.\u001b[0m\n"
     ]
    },
    {
     "name": "stdout",
     "output_type": "stream",
     "text": [
      "tensor([0.7108, 0.0419, 0.1124])\n",
      "True\n"
     ]
    },
    {
     "name": "stderr",
     "output_type": "stream",
     "text": [
      "\u001b[38;5;159m[Genesis] [18:09:08] [INFO] Running at \u001b[38;5;121m18.15\u001b[0m\u001b[38;5;159m FPS.\u001b[0m\n",
      "\u001b[38;5;159m[Genesis] [18:09:08] [INFO] Running at \u001b[38;5;121m18.54\u001b[0m\u001b[38;5;159m FPS.\u001b[0m\n",
      "\u001b[38;5;159m[Genesis] [18:09:08] [INFO] Running at \u001b[38;5;121m18.91\u001b[0m\u001b[38;5;159m FPS.\u001b[0m\n",
      "\u001b[38;5;159m[Genesis] [18:09:08] [INFO] Running at \u001b[38;5;121m19.45\u001b[0m\u001b[38;5;159m FPS.\u001b[0m\n",
      "\u001b[38;5;159m[Genesis] [18:09:08] [INFO] Running at \u001b[38;5;121m20.14\u001b[0m\u001b[38;5;159m FPS.\u001b[0m\n",
      "\u001b[38;5;159m[Genesis] [18:09:08] [INFO] Running at \u001b[38;5;121m20.27\u001b[0m\u001b[38;5;159m FPS.\u001b[0m\n",
      "\u001b[38;5;159m[Genesis] [18:09:08] [INFO] Running at \u001b[38;5;121m20.82\u001b[0m\u001b[38;5;159m FPS.\u001b[0m\n",
      "\u001b[38;5;159m[Genesis] [18:09:08] [INFO] Running at \u001b[38;5;121m21.50\u001b[0m\u001b[38;5;159m FPS.\u001b[0m\n",
      "\u001b[38;5;159m[Genesis] [18:09:08] [INFO] Running at \u001b[38;5;121m22.18\u001b[0m\u001b[38;5;159m FPS.\u001b[0m\n",
      "\u001b[38;5;159m[Genesis] [18:09:08] [INFO] Running at \u001b[38;5;121m22.33\u001b[0m\u001b[38;5;159m FPS.\u001b[0m\n",
      "\u001b[38;5;159m[Genesis] [18:09:08] [INFO] Running at \u001b[38;5;121m22.92\u001b[0m\u001b[38;5;159m FPS.\u001b[0m\n",
      "\u001b[38;5;159m[Genesis] [18:09:08] [INFO] Running at \u001b[38;5;121m22.90\u001b[0m\u001b[38;5;159m FPS.\u001b[0m\n",
      "\u001b[38;5;159m[Genesis] [18:09:08] [INFO] Running at \u001b[38;5;121m23.45\u001b[0m\u001b[38;5;159m FPS.\u001b[0m\n",
      "\u001b[38;5;159m[Genesis] [18:09:08] [INFO] Running at \u001b[38;5;121m24.16\u001b[0m\u001b[38;5;159m FPS.\u001b[0m\n",
      "\u001b[38;5;159m[Genesis] [18:09:09] [INFO] Running at \u001b[38;5;121m24.14\u001b[0m\u001b[38;5;159m FPS.\u001b[0m\n",
      "\u001b[38;5;159m[Genesis] [18:09:09] [INFO] Running at \u001b[38;5;121m24.71\u001b[0m\u001b[38;5;159m FPS.\u001b[0m\n",
      "\u001b[38;5;159m[Genesis] [18:09:09] [INFO] Running at \u001b[38;5;121m24.66\u001b[0m\u001b[38;5;159m FPS.\u001b[0m\n",
      "\u001b[38;5;159m[Genesis] [18:09:09] [INFO] Running at \u001b[38;5;121m25.18\u001b[0m\u001b[38;5;159m FPS.\u001b[0m\n",
      "\u001b[38;5;159m[Genesis] [18:09:09] [INFO] Running at \u001b[38;5;121m25.88\u001b[0m\u001b[38;5;159m FPS.\u001b[0m\n",
      "\u001b[38;5;159m[Genesis] [18:09:09] [INFO] Running at \u001b[38;5;121m26.61\u001b[0m\u001b[38;5;159m FPS.\u001b[0m\n",
      "\u001b[38;5;159m[Genesis] [18:09:09] [INFO] Running at \u001b[38;5;121m26.44\u001b[0m\u001b[38;5;159m FPS.\u001b[0m\n",
      "\u001b[38;5;159m[Genesis] [18:09:09] [INFO] Running at \u001b[38;5;121m26.98\u001b[0m\u001b[38;5;159m FPS.\u001b[0m\n",
      "\u001b[38;5;159m[Genesis] [18:09:09] [INFO] Running at \u001b[38;5;121m26.45\u001b[0m\u001b[38;5;159m FPS.\u001b[0m\n",
      "\u001b[38;5;159m[Genesis] [18:09:09] [INFO] Running at \u001b[38;5;121m26.47\u001b[0m\u001b[38;5;159m FPS.\u001b[0m\n",
      "\u001b[38;5;159m[Genesis] [18:09:09] [INFO] Running at \u001b[38;5;121m27.01\u001b[0m\u001b[38;5;159m FPS.\u001b[0m\n",
      "\u001b[38;5;159m[Genesis] [18:09:09] [INFO] Saving video to \u001b[38;5;121mclip.mp4\u001b[0m\u001b[38;5;159m.\u001b[0m\n",
      "\u001b[38;5;159m[Genesis] [18:09:09] [INFO] Video saved.\u001b[0m\n"
     ]
    },
    {
     "name": "stdout",
     "output_type": "stream",
     "text": [
      "tensor([0.7120, 0.0426, 0.1124])\n",
      "True\n"
     ]
    },
    {
     "name": "stderr",
     "output_type": "stream",
     "text": [
      "\u001b[38;5;159m[Genesis] [18:09:09] [INFO] Running at \u001b[38;5;121m17.03\u001b[0m\u001b[38;5;159m FPS.\u001b[0m\n",
      "\u001b[38;5;159m[Genesis] [18:09:09] [INFO] Running at \u001b[38;5;121m17.50\u001b[0m\u001b[38;5;159m FPS.\u001b[0m\n",
      "\u001b[38;5;159m[Genesis] [18:09:09] [INFO] Running at \u001b[38;5;121m18.15\u001b[0m\u001b[38;5;159m FPS.\u001b[0m\n",
      "\u001b[38;5;159m[Genesis] [18:09:09] [INFO] Running at \u001b[38;5;121m18.78\u001b[0m\u001b[38;5;159m FPS.\u001b[0m\n",
      "\u001b[38;5;159m[Genesis] [18:09:09] [INFO] Running at \u001b[38;5;121m19.46\u001b[0m\u001b[38;5;159m FPS.\u001b[0m\n",
      "\u001b[38;5;159m[Genesis] [18:09:09] [INFO] Running at \u001b[38;5;121m19.68\u001b[0m\u001b[38;5;159m FPS.\u001b[0m\n",
      "\u001b[38;5;159m[Genesis] [18:09:09] [INFO] Running at \u001b[38;5;121m20.21\u001b[0m\u001b[38;5;159m FPS.\u001b[0m\n",
      "\u001b[38;5;159m[Genesis] [18:09:09] [INFO] Running at \u001b[38;5;121m20.91\u001b[0m\u001b[38;5;159m FPS.\u001b[0m\n",
      "\u001b[38;5;159m[Genesis] [18:09:09] [INFO] Running at \u001b[38;5;121m21.01\u001b[0m\u001b[38;5;159m FPS.\u001b[0m\n",
      "\u001b[38;5;159m[Genesis] [18:09:10] [INFO] Running at \u001b[38;5;121m21.60\u001b[0m\u001b[38;5;159m FPS.\u001b[0m\n",
      "\u001b[38;5;159m[Genesis] [18:09:10] [INFO] Running at \u001b[38;5;121m22.32\u001b[0m\u001b[38;5;159m FPS.\u001b[0m\n",
      "\u001b[38;5;159m[Genesis] [18:09:10] [INFO] Running at \u001b[38;5;121m22.37\u001b[0m\u001b[38;5;159m FPS.\u001b[0m\n",
      "\u001b[38;5;159m[Genesis] [18:09:10] [INFO] Running at \u001b[38;5;121m22.95\u001b[0m\u001b[38;5;159m FPS.\u001b[0m\n",
      "\u001b[38;5;159m[Genesis] [18:09:10] [INFO] Running at \u001b[38;5;121m23.68\u001b[0m\u001b[38;5;159m FPS.\u001b[0m\n",
      "\u001b[38;5;159m[Genesis] [18:09:10] [INFO] Running at \u001b[38;5;121m23.65\u001b[0m\u001b[38;5;159m FPS.\u001b[0m\n",
      "\u001b[38;5;159m[Genesis] [18:09:10] [INFO] Running at \u001b[38;5;121m24.23\u001b[0m\u001b[38;5;159m FPS.\u001b[0m\n",
      "\u001b[38;5;159m[Genesis] [18:09:10] [INFO] Running at \u001b[38;5;121m24.92\u001b[0m\u001b[38;5;159m FPS.\u001b[0m\n",
      "\u001b[38;5;159m[Genesis] [18:09:10] [INFO] Running at \u001b[38;5;121m25.68\u001b[0m\u001b[38;5;159m FPS.\u001b[0m\n",
      "\u001b[38;5;159m[Genesis] [18:09:10] [INFO] Running at \u001b[38;5;121m26.11\u001b[0m\u001b[38;5;159m FPS.\u001b[0m\n",
      "\u001b[38;5;159m[Genesis] [18:09:10] [INFO] Running at \u001b[38;5;121m26.69\u001b[0m\u001b[38;5;159m FPS.\u001b[0m\n",
      "\u001b[38;5;159m[Genesis] [18:09:10] [INFO] Running at \u001b[38;5;121m27.46\u001b[0m\u001b[38;5;159m FPS.\u001b[0m\n",
      "\u001b[38;5;159m[Genesis] [18:09:10] [INFO] Running at \u001b[38;5;121m27.85\u001b[0m\u001b[38;5;159m FPS.\u001b[0m\n",
      "\u001b[38;5;159m[Genesis] [18:09:10] [INFO] Running at \u001b[38;5;121m28.41\u001b[0m\u001b[38;5;159m FPS.\u001b[0m\n",
      "\u001b[38;5;159m[Genesis] [18:09:10] [INFO] Running at \u001b[38;5;121m29.12\u001b[0m\u001b[38;5;159m FPS.\u001b[0m\n",
      "\u001b[38;5;159m[Genesis] [18:09:10] [INFO] Running at \u001b[38;5;121m29.90\u001b[0m\u001b[38;5;159m FPS.\u001b[0m\n",
      "\u001b[38;5;159m[Genesis] [18:09:10] [INFO] Saving video to \u001b[38;5;121mclip.mp4\u001b[0m\u001b[38;5;159m.\u001b[0m\n",
      "\u001b[38;5;159m[Genesis] [18:09:10] [INFO] Video saved.\u001b[0m\n"
     ]
    },
    {
     "name": "stdout",
     "output_type": "stream",
     "text": [
      "tensor([0.7114, 0.0427, 0.1121])\n",
      "True\n"
     ]
    },
    {
     "name": "stderr",
     "output_type": "stream",
     "text": [
      "\u001b[38;5;159m[Genesis] [18:09:10] [INFO] Running at \u001b[38;5;121m18.60\u001b[0m\u001b[38;5;159m FPS.\u001b[0m\n",
      "\u001b[38;5;159m[Genesis] [18:09:10] [INFO] Running at \u001b[38;5;121m19.22\u001b[0m\u001b[38;5;159m FPS.\u001b[0m\n",
      "\u001b[38;5;159m[Genesis] [18:09:10] [INFO] Running at \u001b[38;5;121m19.91\u001b[0m\u001b[38;5;159m FPS.\u001b[0m\n",
      "\u001b[38;5;159m[Genesis] [18:09:10] [INFO] Running at \u001b[38;5;121m20.60\u001b[0m\u001b[38;5;159m FPS.\u001b[0m\n",
      "\u001b[38;5;159m[Genesis] [18:09:10] [INFO] Running at \u001b[38;5;121m21.31\u001b[0m\u001b[38;5;159m FPS.\u001b[0m\n",
      "\u001b[38;5;159m[Genesis] [18:09:10] [INFO] Running at \u001b[38;5;121m21.60\u001b[0m\u001b[38;5;159m FPS.\u001b[0m\n",
      "\u001b[38;5;159m[Genesis] [18:09:10] [INFO] Running at \u001b[38;5;121m22.20\u001b[0m\u001b[38;5;159m FPS.\u001b[0m\n",
      "\u001b[38;5;159m[Genesis] [18:09:10] [INFO] Running at \u001b[38;5;121m22.93\u001b[0m\u001b[38;5;159m FPS.\u001b[0m\n",
      "\u001b[38;5;159m[Genesis] [18:09:10] [INFO] Running at \u001b[38;5;121m23.38\u001b[0m\u001b[38;5;159m FPS.\u001b[0m\n",
      "\u001b[38;5;159m[Genesis] [18:09:10] [INFO] Running at \u001b[38;5;121m23.96\u001b[0m\u001b[38;5;159m FPS.\u001b[0m\n",
      "\u001b[38;5;159m[Genesis] [18:09:11] [INFO] Running at \u001b[38;5;121m24.71\u001b[0m\u001b[38;5;159m FPS.\u001b[0m\n",
      "\u001b[38;5;159m[Genesis] [18:09:11] [INFO] Running at \u001b[38;5;121m24.60\u001b[0m\u001b[38;5;159m FPS.\u001b[0m\n",
      "\u001b[38;5;159m[Genesis] [18:09:11] [INFO] Running at \u001b[38;5;121m25.19\u001b[0m\u001b[38;5;159m FPS.\u001b[0m\n",
      "\u001b[38;5;159m[Genesis] [18:09:11] [INFO] Running at \u001b[38;5;121m25.96\u001b[0m\u001b[38;5;159m FPS.\u001b[0m\n",
      "\u001b[38;5;159m[Genesis] [18:09:11] [INFO] Running at \u001b[38;5;121m25.81\u001b[0m\u001b[38;5;159m FPS.\u001b[0m\n",
      "\u001b[38;5;159m[Genesis] [18:09:11] [INFO] Running at \u001b[38;5;121m26.38\u001b[0m\u001b[38;5;159m FPS.\u001b[0m\n",
      "\u001b[38;5;159m[Genesis] [18:09:11] [INFO] Running at \u001b[38;5;121m27.10\u001b[0m\u001b[38;5;159m FPS.\u001b[0m\n",
      "\u001b[38;5;159m[Genesis] [18:09:11] [INFO] Running at \u001b[38;5;121m26.92\u001b[0m\u001b[38;5;159m FPS.\u001b[0m\n",
      "\u001b[38;5;159m[Genesis] [18:09:11] [INFO] Running at \u001b[38;5;121m27.07\u001b[0m\u001b[38;5;159m FPS.\u001b[0m\n",
      "\u001b[38;5;159m[Genesis] [18:09:11] [INFO] Running at \u001b[38;5;121m27.63\u001b[0m\u001b[38;5;159m FPS.\u001b[0m\n",
      "\u001b[38;5;159m[Genesis] [18:09:11] [INFO] Running at \u001b[38;5;121m27.35\u001b[0m\u001b[38;5;159m FPS.\u001b[0m\n",
      "\u001b[38;5;159m[Genesis] [18:09:11] [INFO] Running at \u001b[38;5;121m27.90\u001b[0m\u001b[38;5;159m FPS.\u001b[0m\n",
      "\u001b[38;5;159m[Genesis] [18:09:11] [INFO] Running at \u001b[38;5;121m28.62\u001b[0m\u001b[38;5;159m FPS.\u001b[0m\n",
      "\u001b[38;5;159m[Genesis] [18:09:11] [INFO] Running at \u001b[38;5;121m29.41\u001b[0m\u001b[38;5;159m FPS.\u001b[0m\n",
      "\u001b[38;5;159m[Genesis] [18:09:11] [INFO] Running at \u001b[38;5;121m29.01\u001b[0m\u001b[38;5;159m FPS.\u001b[0m\n",
      "\u001b[38;5;159m[Genesis] [18:09:11] [INFO] Saving video to \u001b[38;5;121mclip.mp4\u001b[0m\u001b[38;5;159m.\u001b[0m\n",
      "\u001b[38;5;159m[Genesis] [18:09:11] [INFO] Video saved.\u001b[0m\n"
     ]
    },
    {
     "name": "stdout",
     "output_type": "stream",
     "text": [
      "tensor([0.7099, 0.0431, 0.1123])\n",
      "True\n"
     ]
    },
    {
     "name": "stderr",
     "output_type": "stream",
     "text": [
      "\u001b[38;5;159m[Genesis] [18:09:11] [INFO] Running at \u001b[38;5;121m18.68\u001b[0m\u001b[38;5;159m FPS.\u001b[0m\n",
      "\u001b[38;5;159m[Genesis] [18:09:11] [INFO] Running at \u001b[38;5;121m19.35\u001b[0m\u001b[38;5;159m FPS.\u001b[0m\n",
      "\u001b[38;5;159m[Genesis] [18:09:11] [INFO] Running at \u001b[38;5;121m19.72\u001b[0m\u001b[38;5;159m FPS.\u001b[0m\n",
      "\u001b[38;5;159m[Genesis] [18:09:11] [INFO] Running at \u001b[38;5;121m20.07\u001b[0m\u001b[38;5;159m FPS.\u001b[0m\n",
      "\u001b[38;5;159m[Genesis] [18:09:11] [INFO] Running at \u001b[38;5;121m20.60\u001b[0m\u001b[38;5;159m FPS.\u001b[0m\n",
      "\u001b[38;5;159m[Genesis] [18:09:11] [INFO] Running at \u001b[38;5;121m21.31\u001b[0m\u001b[38;5;159m FPS.\u001b[0m\n",
      "\u001b[38;5;159m[Genesis] [18:09:12] [INFO] Running at \u001b[38;5;121m21.40\u001b[0m\u001b[38;5;159m FPS.\u001b[0m\n",
      "\u001b[38;5;159m[Genesis] [18:09:12] [INFO] Running at \u001b[38;5;121m22.00\u001b[0m\u001b[38;5;159m FPS.\u001b[0m\n",
      "\u001b[38;5;159m[Genesis] [18:09:12] [INFO] Running at \u001b[38;5;121m22.73\u001b[0m\u001b[38;5;159m FPS.\u001b[0m\n",
      "\u001b[38;5;159m[Genesis] [18:09:12] [INFO] Running at \u001b[38;5;121m23.20\u001b[0m\u001b[38;5;159m FPS.\u001b[0m\n",
      "\u001b[38;5;159m[Genesis] [18:09:12] [INFO] Running at \u001b[38;5;121m23.47\u001b[0m\u001b[38;5;159m FPS.\u001b[0m\n",
      "\u001b[38;5;159m[Genesis] [18:09:12] [INFO] Running at \u001b[38;5;121m23.99\u001b[0m\u001b[38;5;159m FPS.\u001b[0m\n",
      "\u001b[38;5;159m[Genesis] [18:09:12] [INFO] Running at \u001b[38;5;121m24.75\u001b[0m\u001b[38;5;159m FPS.\u001b[0m\n",
      "\u001b[38;5;159m[Genesis] [18:09:12] [INFO] Running at \u001b[38;5;121m24.66\u001b[0m\u001b[38;5;159m FPS.\u001b[0m\n",
      "\u001b[38;5;159m[Genesis] [18:09:12] [INFO] Running at \u001b[38;5;121m25.26\u001b[0m\u001b[38;5;159m FPS.\u001b[0m\n",
      "\u001b[38;5;159m[Genesis] [18:09:12] [INFO] Running at \u001b[38;5;121m26.03\u001b[0m\u001b[38;5;159m FPS.\u001b[0m\n",
      "\u001b[38;5;159m[Genesis] [18:09:12] [INFO] Running at \u001b[38;5;121m26.44\u001b[0m\u001b[38;5;159m FPS.\u001b[0m\n",
      "\u001b[38;5;159m[Genesis] [18:09:12] [INFO] Running at \u001b[38;5;121m26.61\u001b[0m\u001b[38;5;159m FPS.\u001b[0m\n",
      "\u001b[38;5;159m[Genesis] [18:09:12] [INFO] Running at \u001b[38;5;121m27.20\u001b[0m\u001b[38;5;159m FPS.\u001b[0m\n",
      "\u001b[38;5;159m[Genesis] [18:09:12] [INFO] Running at \u001b[38;5;121m26.93\u001b[0m\u001b[38;5;159m FPS.\u001b[0m\n",
      "\u001b[38;5;159m[Genesis] [18:09:12] [INFO] Running at \u001b[38;5;121m27.49\u001b[0m\u001b[38;5;159m FPS.\u001b[0m\n",
      "\u001b[38;5;159m[Genesis] [18:09:12] [INFO] Running at \u001b[38;5;121m28.20\u001b[0m\u001b[38;5;159m FPS.\u001b[0m\n",
      "\u001b[38;5;159m[Genesis] [18:09:12] [INFO] Running at \u001b[38;5;121m28.98\u001b[0m\u001b[38;5;159m FPS.\u001b[0m\n",
      "\u001b[38;5;159m[Genesis] [18:09:12] [INFO] Running at \u001b[38;5;121m28.58\u001b[0m\u001b[38;5;159m FPS.\u001b[0m\n",
      "\u001b[38;5;159m[Genesis] [18:09:12] [INFO] Running at \u001b[38;5;121m29.21\u001b[0m\u001b[38;5;159m FPS.\u001b[0m\n",
      "\u001b[38;5;159m[Genesis] [18:09:12] [INFO] Saving video to \u001b[38;5;121mclip.mp4\u001b[0m\u001b[38;5;159m.\u001b[0m\n",
      "\u001b[38;5;159m[Genesis] [18:09:12] [INFO] Video saved.\u001b[0m\n"
     ]
    },
    {
     "name": "stdout",
     "output_type": "stream",
     "text": [
      "tensor([0.7119, 0.0438, 0.1122])\n",
      "True\n"
     ]
    },
    {
     "name": "stderr",
     "output_type": "stream",
     "text": [
      "\u001b[38;5;159m[Genesis] [18:09:12] [INFO] Running at \u001b[38;5;121m18.78\u001b[0m\u001b[38;5;159m FPS.\u001b[0m\n",
      "\u001b[38;5;159m[Genesis] [18:09:12] [INFO] Running at \u001b[38;5;121m19.17\u001b[0m\u001b[38;5;159m FPS.\u001b[0m\n",
      "\u001b[38;5;159m[Genesis] [18:09:12] [INFO] Running at \u001b[38;5;121m19.74\u001b[0m\u001b[38;5;159m FPS.\u001b[0m\n",
      "\u001b[38;5;159m[Genesis] [18:09:12] [INFO] Running at \u001b[38;5;121m20.43\u001b[0m\u001b[38;5;159m FPS.\u001b[0m\n",
      "\u001b[38;5;159m[Genesis] [18:09:13] [INFO] Running at \u001b[38;5;121m20.60\u001b[0m\u001b[38;5;159m FPS.\u001b[0m\n",
      "\u001b[38;5;159m[Genesis] [18:09:13] [INFO] Running at \u001b[38;5;121m21.13\u001b[0m\u001b[38;5;159m FPS.\u001b[0m\n",
      "\u001b[38;5;159m[Genesis] [18:09:13] [INFO] Running at \u001b[38;5;121m21.85\u001b[0m\u001b[38;5;159m FPS.\u001b[0m\n",
      "\u001b[38;5;159m[Genesis] [18:09:13] [INFO] Running at \u001b[38;5;121m21.91\u001b[0m\u001b[38;5;159m FPS.\u001b[0m\n",
      "\u001b[38;5;159m[Genesis] [18:09:13] [INFO] Running at \u001b[38;5;121m22.51\u001b[0m\u001b[38;5;159m FPS.\u001b[0m\n",
      "\u001b[38;5;159m[Genesis] [18:09:13] [INFO] Running at \u001b[38;5;121m23.24\u001b[0m\u001b[38;5;159m FPS.\u001b[0m\n",
      "\u001b[38;5;159m[Genesis] [18:09:13] [INFO] Running at \u001b[38;5;121m23.24\u001b[0m\u001b[38;5;159m FPS.\u001b[0m\n",
      "\u001b[38;5;159m[Genesis] [18:09:13] [INFO] Running at \u001b[38;5;121m23.84\u001b[0m\u001b[38;5;159m FPS.\u001b[0m\n",
      "\u001b[38;5;159m[Genesis] [18:09:13] [INFO] Running at \u001b[38;5;121m24.54\u001b[0m\u001b[38;5;159m FPS.\u001b[0m\n",
      "\u001b[38;5;159m[Genesis] [18:09:13] [INFO] Running at \u001b[38;5;121m25.30\u001b[0m\u001b[38;5;159m FPS.\u001b[0m\n",
      "\u001b[38;5;159m[Genesis] [18:09:13] [INFO] Running at \u001b[38;5;121m25.17\u001b[0m\u001b[38;5;159m FPS.\u001b[0m\n",
      "\u001b[38;5;159m[Genesis] [18:09:13] [INFO] Running at \u001b[38;5;121m25.77\u001b[0m\u001b[38;5;159m FPS.\u001b[0m\n",
      "\u001b[38;5;159m[Genesis] [18:09:13] [INFO] Running at \u001b[38;5;121m26.54\u001b[0m\u001b[38;5;159m FPS.\u001b[0m\n",
      "\u001b[38;5;159m[Genesis] [18:09:13] [INFO] Running at \u001b[38;5;121m26.95\u001b[0m\u001b[38;5;159m FPS.\u001b[0m\n",
      "\u001b[38;5;159m[Genesis] [18:09:13] [INFO] Running at \u001b[38;5;121m27.10\u001b[0m\u001b[38;5;159m FPS.\u001b[0m\n",
      "\u001b[38;5;159m[Genesis] [18:09:13] [INFO] Running at \u001b[38;5;121m27.59\u001b[0m\u001b[38;5;159m FPS.\u001b[0m\n",
      "\u001b[38;5;159m[Genesis] [18:09:13] [INFO] Running at \u001b[38;5;121m27.38\u001b[0m\u001b[38;5;159m FPS.\u001b[0m\n",
      "\u001b[38;5;159m[Genesis] [18:09:13] [INFO] Running at \u001b[38;5;121m27.90\u001b[0m\u001b[38;5;159m FPS.\u001b[0m\n",
      "\u001b[38;5;159m[Genesis] [18:09:13] [INFO] Running at \u001b[38;5;121m28.64\u001b[0m\u001b[38;5;159m FPS.\u001b[0m\n",
      "\u001b[38;5;159m[Genesis] [18:09:13] [INFO] Running at \u001b[38;5;121m29.43\u001b[0m\u001b[38;5;159m FPS.\u001b[0m\n",
      "\u001b[38;5;159m[Genesis] [18:09:13] [INFO] Running at \u001b[38;5;121m29.05\u001b[0m\u001b[38;5;159m FPS.\u001b[0m\n",
      "\u001b[38;5;159m[Genesis] [18:09:13] [INFO] Saving video to \u001b[38;5;121mclip.mp4\u001b[0m\u001b[38;5;159m.\u001b[0m\n",
      "\u001b[38;5;159m[Genesis] [18:09:13] [INFO] Video saved.\u001b[0m\n"
     ]
    },
    {
     "name": "stdout",
     "output_type": "stream",
     "text": [
      "tensor([0.7144, 0.0444, 0.1120])\n",
      "True\n"
     ]
    },
    {
     "name": "stderr",
     "output_type": "stream",
     "text": [
      "\u001b[38;5;159m[Genesis] [18:09:13] [INFO] Running at \u001b[38;5;121m18.57\u001b[0m\u001b[38;5;159m FPS.\u001b[0m\n",
      "\u001b[38;5;159m[Genesis] [18:09:14] [INFO] Running at \u001b[38;5;121m18.76\u001b[0m\u001b[38;5;159m FPS.\u001b[0m\n",
      "\u001b[38;5;159m[Genesis] [18:09:14] [INFO] Running at \u001b[38;5;121m19.34\u001b[0m\u001b[38;5;159m FPS.\u001b[0m\n",
      "\u001b[38;5;159m[Genesis] [18:09:14] [INFO] Running at \u001b[38;5;121m20.02\u001b[0m\u001b[38;5;159m FPS.\u001b[0m\n",
      "\u001b[38;5;159m[Genesis] [18:09:14] [INFO] Running at \u001b[38;5;121m20.16\u001b[0m\u001b[38;5;159m FPS.\u001b[0m\n",
      "\u001b[38;5;159m[Genesis] [18:09:14] [INFO] Running at \u001b[38;5;121m20.51\u001b[0m\u001b[38;5;159m FPS.\u001b[0m\n",
      "\u001b[38;5;159m[Genesis] [18:09:14] [INFO] Running at \u001b[38;5;121m21.04\u001b[0m\u001b[38;5;159m FPS.\u001b[0m\n",
      "\u001b[38;5;159m[Genesis] [18:09:14] [INFO] Running at \u001b[38;5;121m21.75\u001b[0m\u001b[38;5;159m FPS.\u001b[0m\n",
      "\u001b[38;5;159m[Genesis] [18:09:14] [INFO] Running at \u001b[38;5;121m21.85\u001b[0m\u001b[38;5;159m FPS.\u001b[0m\n",
      "\u001b[38;5;159m[Genesis] [18:09:14] [INFO] Running at \u001b[38;5;121m22.40\u001b[0m\u001b[38;5;159m FPS.\u001b[0m\n",
      "\u001b[38;5;159m[Genesis] [18:09:14] [INFO] Running at \u001b[38;5;121m22.51\u001b[0m\u001b[38;5;159m FPS.\u001b[0m\n",
      "\u001b[38;5;159m[Genesis] [18:09:14] [INFO] Running at \u001b[38;5;121m23.04\u001b[0m\u001b[38;5;159m FPS.\u001b[0m\n",
      "\u001b[38;5;159m[Genesis] [18:09:14] [INFO] Running at \u001b[38;5;121m23.79\u001b[0m\u001b[38;5;159m FPS.\u001b[0m\n",
      "\u001b[38;5;159m[Genesis] [18:09:14] [INFO] Running at \u001b[38;5;121m23.74\u001b[0m\u001b[38;5;159m FPS.\u001b[0m\n",
      "\u001b[38;5;159m[Genesis] [18:09:14] [INFO] Running at \u001b[38;5;121m24.32\u001b[0m\u001b[38;5;159m FPS.\u001b[0m\n",
      "\u001b[38;5;159m[Genesis] [18:09:14] [INFO] Running at \u001b[38;5;121m25.08\u001b[0m\u001b[38;5;159m FPS.\u001b[0m\n",
      "\u001b[38;5;159m[Genesis] [18:09:14] [INFO] Running at \u001b[38;5;121m25.06\u001b[0m\u001b[38;5;159m FPS.\u001b[0m\n",
      "\u001b[38;5;159m[Genesis] [18:09:14] [INFO] Running at \u001b[38;5;121m25.56\u001b[0m\u001b[38;5;159m FPS.\u001b[0m\n",
      "\u001b[38;5;159m[Genesis] [18:09:14] [INFO] Running at \u001b[38;5;121m26.33\u001b[0m\u001b[38;5;159m FPS.\u001b[0m\n",
      "\u001b[38;5;159m[Genesis] [18:09:14] [INFO] Running at \u001b[38;5;121m26.21\u001b[0m\u001b[38;5;159m FPS.\u001b[0m\n",
      "\u001b[38;5;159m[Genesis] [18:09:14] [INFO] Running at \u001b[38;5;121m26.70\u001b[0m\u001b[38;5;159m FPS.\u001b[0m\n",
      "\u001b[38;5;159m[Genesis] [18:09:14] [INFO] Running at \u001b[38;5;121m27.48\u001b[0m\u001b[38;5;159m FPS.\u001b[0m\n",
      "\u001b[38;5;159m[Genesis] [18:09:14] [INFO] Running at \u001b[38;5;121m27.30\u001b[0m\u001b[38;5;159m FPS.\u001b[0m\n",
      "\u001b[38;5;159m[Genesis] [18:09:14] [INFO] Running at \u001b[38;5;121m27.72\u001b[0m\u001b[38;5;159m FPS.\u001b[0m\n",
      "\u001b[38;5;159m[Genesis] [18:09:14] [INFO] Running at \u001b[38;5;121m27.52\u001b[0m\u001b[38;5;159m FPS.\u001b[0m\n",
      "\u001b[38;5;159m[Genesis] [18:09:14] [INFO] Saving video to \u001b[38;5;121mclip.mp4\u001b[0m\u001b[38;5;159m.\u001b[0m\n",
      "\u001b[38;5;159m[Genesis] [18:09:14] [INFO] Video saved.\u001b[0m\n"
     ]
    },
    {
     "name": "stdout",
     "output_type": "stream",
     "text": [
      "tensor([0.7123, 0.0452, 0.1122])\n",
      "True\n"
     ]
    },
    {
     "name": "stderr",
     "output_type": "stream",
     "text": [
      "\u001b[38;5;159m[Genesis] [18:09:15] [INFO] Running at \u001b[38;5;121m18.03\u001b[0m\u001b[38;5;159m FPS.\u001b[0m\n",
      "\u001b[38;5;159m[Genesis] [18:09:15] [INFO] Running at \u001b[38;5;121m18.45\u001b[0m\u001b[38;5;159m FPS.\u001b[0m\n",
      "\u001b[38;5;159m[Genesis] [18:09:15] [INFO] Running at \u001b[38;5;121m19.01\u001b[0m\u001b[38;5;159m FPS.\u001b[0m\n",
      "\u001b[38;5;159m[Genesis] [18:09:15] [INFO] Running at \u001b[38;5;121m19.67\u001b[0m\u001b[38;5;159m FPS.\u001b[0m\n",
      "\u001b[38;5;159m[Genesis] [18:09:15] [INFO] Running at \u001b[38;5;121m20.36\u001b[0m\u001b[38;5;159m FPS.\u001b[0m\n",
      "\u001b[38;5;159m[Genesis] [18:09:15] [INFO] Running at \u001b[38;5;121m20.48\u001b[0m\u001b[38;5;159m FPS.\u001b[0m\n",
      "\u001b[38;5;159m[Genesis] [18:09:15] [INFO] Running at \u001b[38;5;121m21.07\u001b[0m\u001b[38;5;159m FPS.\u001b[0m\n",
      "\u001b[38;5;159m[Genesis] [18:09:15] [INFO] Running at \u001b[38;5;121m21.79\u001b[0m\u001b[38;5;159m FPS.\u001b[0m\n",
      "\u001b[38;5;159m[Genesis] [18:09:15] [INFO] Running at \u001b[38;5;121m21.85\u001b[0m\u001b[38;5;159m FPS.\u001b[0m\n",
      "\u001b[38;5;159m[Genesis] [18:09:15] [INFO] Running at \u001b[38;5;121m22.43\u001b[0m\u001b[38;5;159m FPS.\u001b[0m\n",
      "\u001b[38;5;159m[Genesis] [18:09:15] [INFO] Running at \u001b[38;5;121m23.15\u001b[0m\u001b[38;5;159m FPS.\u001b[0m\n",
      "\u001b[38;5;159m[Genesis] [18:09:15] [INFO] Running at \u001b[38;5;121m23.16\u001b[0m\u001b[38;5;159m FPS.\u001b[0m\n",
      "\u001b[38;5;159m[Genesis] [18:09:15] [INFO] Running at \u001b[38;5;121m23.74\u001b[0m\u001b[38;5;159m FPS.\u001b[0m\n",
      "\u001b[38;5;159m[Genesis] [18:09:15] [INFO] Running at \u001b[38;5;121m24.45\u001b[0m\u001b[38;5;159m FPS.\u001b[0m\n",
      "\u001b[38;5;159m[Genesis] [18:09:15] [INFO] Running at \u001b[38;5;121m25.21\u001b[0m\u001b[38;5;159m FPS.\u001b[0m\n",
      "\u001b[38;5;159m[Genesis] [18:09:15] [INFO] Running at \u001b[38;5;121m25.64\u001b[0m\u001b[38;5;159m FPS.\u001b[0m\n",
      "\u001b[38;5;159m[Genesis] [18:09:15] [INFO] Running at \u001b[38;5;121m26.22\u001b[0m\u001b[38;5;159m FPS.\u001b[0m\n",
      "\u001b[38;5;159m[Genesis] [18:09:15] [INFO] Running at \u001b[38;5;121m26.99\u001b[0m\u001b[38;5;159m FPS.\u001b[0m\n",
      "\u001b[38;5;159m[Genesis] [18:09:15] [INFO] Running at \u001b[38;5;121m26.76\u001b[0m\u001b[38;5;159m FPS.\u001b[0m\n",
      "\u001b[38;5;159m[Genesis] [18:09:15] [INFO] Running at \u001b[38;5;121m27.29\u001b[0m\u001b[38;5;159m FPS.\u001b[0m\n",
      "\u001b[38;5;159m[Genesis] [18:09:15] [INFO] Running at \u001b[38;5;121m28.01\u001b[0m\u001b[38;5;159m FPS.\u001b[0m\n",
      "\u001b[38;5;159m[Genesis] [18:09:15] [INFO] Running at \u001b[38;5;121m28.80\u001b[0m\u001b[38;5;159m FPS.\u001b[0m\n",
      "\u001b[38;5;159m[Genesis] [18:09:15] [INFO] Running at \u001b[38;5;121m28.46\u001b[0m\u001b[38;5;159m FPS.\u001b[0m\n",
      "\u001b[38;5;159m[Genesis] [18:09:15] [INFO] Running at \u001b[38;5;121m29.02\u001b[0m\u001b[38;5;159m FPS.\u001b[0m\n",
      "\u001b[38;5;159m[Genesis] [18:09:15] [INFO] Running at \u001b[38;5;121m29.81\u001b[0m\u001b[38;5;159m FPS.\u001b[0m\n",
      "\u001b[38;5;159m[Genesis] [18:09:15] [INFO] Saving video to \u001b[38;5;121mclip.mp4\u001b[0m\u001b[38;5;159m.\u001b[0m\n",
      "\u001b[38;5;159m[Genesis] [18:09:15] [INFO] Video saved.\u001b[0m\n"
     ]
    },
    {
     "name": "stdout",
     "output_type": "stream",
     "text": [
      "tensor([0.7143, 0.0457, 0.1121])\n",
      "True\n"
     ]
    },
    {
     "name": "stderr",
     "output_type": "stream",
     "text": [
      "\u001b[38;5;159m[Genesis] [18:09:16] [INFO] Running at \u001b[38;5;121m18.54\u001b[0m\u001b[38;5;159m FPS.\u001b[0m\n",
      "\u001b[38;5;159m[Genesis] [18:09:16] [INFO] Running at \u001b[38;5;121m19.17\u001b[0m\u001b[38;5;159m FPS.\u001b[0m\n",
      "\u001b[38;5;159m[Genesis] [18:09:16] [INFO] Running at \u001b[38;5;121m19.85\u001b[0m\u001b[38;5;159m FPS.\u001b[0m\n",
      "\u001b[38;5;159m[Genesis] [18:09:16] [INFO] Running at \u001b[38;5;121m20.54\u001b[0m\u001b[38;5;159m FPS.\u001b[0m\n",
      "\u001b[38;5;159m[Genesis] [18:09:16] [INFO] Running at \u001b[38;5;121m21.25\u001b[0m\u001b[38;5;159m FPS.\u001b[0m\n",
      "\u001b[38;5;159m[Genesis] [18:09:16] [INFO] Running at \u001b[38;5;121m21.59\u001b[0m\u001b[38;5;159m FPS.\u001b[0m\n",
      "\u001b[38;5;159m[Genesis] [18:09:16] [INFO] Running at \u001b[38;5;121m22.13\u001b[0m\u001b[38;5;159m FPS.\u001b[0m\n",
      "\u001b[38;5;159m[Genesis] [18:09:16] [INFO] Running at \u001b[38;5;121m22.86\u001b[0m\u001b[38;5;159m FPS.\u001b[0m\n",
      "\u001b[38;5;159m[Genesis] [18:09:16] [INFO] Running at \u001b[38;5;121m23.32\u001b[0m\u001b[38;5;159m FPS.\u001b[0m\n",
      "\u001b[38;5;159m[Genesis] [18:09:16] [INFO] Running at \u001b[38;5;121m23.93\u001b[0m\u001b[38;5;159m FPS.\u001b[0m\n",
      "\u001b[38;5;159m[Genesis] [18:09:16] [INFO] Running at \u001b[38;5;121m24.69\u001b[0m\u001b[38;5;159m FPS.\u001b[0m\n",
      "\u001b[38;5;159m[Genesis] [18:09:16] [INFO] Running at \u001b[38;5;121m24.59\u001b[0m\u001b[38;5;159m FPS.\u001b[0m\n",
      "\u001b[38;5;159m[Genesis] [18:09:16] [INFO] Running at \u001b[38;5;121m25.16\u001b[0m\u001b[38;5;159m FPS.\u001b[0m\n",
      "\u001b[38;5;159m[Genesis] [18:09:16] [INFO] Running at \u001b[38;5;121m25.88\u001b[0m\u001b[38;5;159m FPS.\u001b[0m\n",
      "\u001b[38;5;159m[Genesis] [18:09:16] [INFO] Running at \u001b[38;5;121m26.65\u001b[0m\u001b[38;5;159m FPS.\u001b[0m\n",
      "\u001b[38;5;159m[Genesis] [18:09:16] [INFO] Running at \u001b[38;5;121m26.45\u001b[0m\u001b[38;5;159m FPS.\u001b[0m\n",
      "\u001b[38;5;159m[Genesis] [18:09:16] [INFO] Running at \u001b[38;5;121m27.03\u001b[0m\u001b[38;5;159m FPS.\u001b[0m\n",
      "\u001b[38;5;159m[Genesis] [18:09:16] [INFO] Running at \u001b[38;5;121m27.81\u001b[0m\u001b[38;5;159m FPS.\u001b[0m\n",
      "\u001b[38;5;159m[Genesis] [18:09:16] [INFO] Running at \u001b[38;5;121m27.54\u001b[0m\u001b[38;5;159m FPS.\u001b[0m\n",
      "\u001b[38;5;159m[Genesis] [18:09:16] [INFO] Running at \u001b[38;5;121m28.10\u001b[0m\u001b[38;5;159m FPS.\u001b[0m\n",
      "\u001b[38;5;159m[Genesis] [18:09:16] [INFO] Running at \u001b[38;5;121m28.80\u001b[0m\u001b[38;5;159m FPS.\u001b[0m\n",
      "\u001b[38;5;159m[Genesis] [18:09:16] [INFO] Running at \u001b[38;5;121m29.59\u001b[0m\u001b[38;5;159m FPS.\u001b[0m\n",
      "\u001b[38;5;159m[Genesis] [18:09:16] [INFO] Running at \u001b[38;5;121m29.93\u001b[0m\u001b[38;5;159m FPS.\u001b[0m\n",
      "\u001b[38;5;159m[Genesis] [18:09:16] [INFO] Running at \u001b[38;5;121m30.50\u001b[0m\u001b[38;5;159m FPS.\u001b[0m\n",
      "\u001b[38;5;159m[Genesis] [18:09:16] [INFO] Running at \u001b[38;5;121m31.29\u001b[0m\u001b[38;5;159m FPS.\u001b[0m\n",
      "\u001b[38;5;159m[Genesis] [18:09:16] [INFO] Saving video to \u001b[38;5;121mclip.mp4\u001b[0m\u001b[38;5;159m.\u001b[0m\n",
      "\u001b[38;5;159m[Genesis] [18:09:16] [INFO] Video saved.\u001b[0m\n"
     ]
    },
    {
     "name": "stdout",
     "output_type": "stream",
     "text": [
      "tensor([0.7122, 0.0463, 0.1122])\n",
      "True\n"
     ]
    },
    {
     "name": "stderr",
     "output_type": "stream",
     "text": [
      "\u001b[38;5;159m[Genesis] [18:09:17] [INFO] Running at \u001b[38;5;121m18.99\u001b[0m\u001b[38;5;159m FPS.\u001b[0m\n",
      "\u001b[38;5;159m[Genesis] [18:09:17] [INFO] Running at \u001b[38;5;121m19.39\u001b[0m\u001b[38;5;159m FPS.\u001b[0m\n",
      "\u001b[38;5;159m[Genesis] [18:09:17] [INFO] Running at \u001b[38;5;121m19.95\u001b[0m\u001b[38;5;159m FPS.\u001b[0m\n",
      "\u001b[38;5;159m[Genesis] [18:09:17] [INFO] Running at \u001b[38;5;121m20.65\u001b[0m\u001b[38;5;159m FPS.\u001b[0m\n",
      "\u001b[38;5;159m[Genesis] [18:09:17] [INFO] Running at \u001b[38;5;121m21.09\u001b[0m\u001b[38;5;159m FPS.\u001b[0m\n",
      "\u001b[38;5;159m[Genesis] [18:09:17] [INFO] Running at \u001b[38;5;121m21.66\u001b[0m\u001b[38;5;159m FPS.\u001b[0m\n",
      "\u001b[38;5;159m[Genesis] [18:09:17] [INFO] Running at \u001b[38;5;121m22.39\u001b[0m\u001b[38;5;159m FPS.\u001b[0m\n",
      "\u001b[38;5;159m[Genesis] [18:09:17] [INFO] Running at \u001b[38;5;121m22.42\u001b[0m\u001b[38;5;159m FPS.\u001b[0m\n",
      "\u001b[38;5;159m[Genesis] [18:09:17] [INFO] Running at \u001b[38;5;121m23.01\u001b[0m\u001b[38;5;159m FPS.\u001b[0m\n",
      "\u001b[38;5;159m[Genesis] [18:09:17] [INFO] Running at \u001b[38;5;121m23.75\u001b[0m\u001b[38;5;159m FPS.\u001b[0m\n",
      "\u001b[38;5;159m[Genesis] [18:09:17] [INFO] Running at \u001b[38;5;121m23.71\u001b[0m\u001b[38;5;159m FPS.\u001b[0m\n",
      "\u001b[38;5;159m[Genesis] [18:09:17] [INFO] Running at \u001b[38;5;121m24.30\u001b[0m\u001b[38;5;159m FPS.\u001b[0m\n",
      "\u001b[38;5;159m[Genesis] [18:09:17] [INFO] Running at \u001b[38;5;121m25.05\u001b[0m\u001b[38;5;159m FPS.\u001b[0m\n",
      "\u001b[38;5;159m[Genesis] [18:09:17] [INFO] Running at \u001b[38;5;121m24.94\u001b[0m\u001b[38;5;159m FPS.\u001b[0m\n",
      "\u001b[38;5;159m[Genesis] [18:09:17] [INFO] Running at \u001b[38;5;121m25.52\u001b[0m\u001b[38;5;159m FPS.\u001b[0m\n",
      "\u001b[38;5;159m[Genesis] [18:09:17] [INFO] Running at \u001b[38;5;121m26.29\u001b[0m\u001b[38;5;159m FPS.\u001b[0m\n",
      "\u001b[38;5;159m[Genesis] [18:09:17] [INFO] Running at \u001b[38;5;121m26.10\u001b[0m\u001b[38;5;159m FPS.\u001b[0m\n",
      "\u001b[38;5;159m[Genesis] [18:09:17] [INFO] Running at \u001b[38;5;121m26.67\u001b[0m\u001b[38;5;159m FPS.\u001b[0m\n",
      "\u001b[38;5;159m[Genesis] [18:09:17] [INFO] Running at \u001b[38;5;121m27.45\u001b[0m\u001b[38;5;159m FPS.\u001b[0m\n",
      "\u001b[38;5;159m[Genesis] [18:09:17] [INFO] Running at \u001b[38;5;121m27.82\u001b[0m\u001b[38;5;159m FPS.\u001b[0m\n",
      "\u001b[38;5;159m[Genesis] [18:09:17] [INFO] Running at \u001b[38;5;121m28.36\u001b[0m\u001b[38;5;159m FPS.\u001b[0m\n",
      "\u001b[38;5;159m[Genesis] [18:09:17] [INFO] Running at \u001b[38;5;121m29.07\u001b[0m\u001b[38;5;159m FPS.\u001b[0m\n",
      "\u001b[38;5;159m[Genesis] [18:09:17] [INFO] Running at \u001b[38;5;121m28.48\u001b[0m\u001b[38;5;159m FPS.\u001b[0m\n",
      "\u001b[38;5;159m[Genesis] [18:09:17] [INFO] Running at \u001b[38;5;121m29.09\u001b[0m\u001b[38;5;159m FPS.\u001b[0m\n",
      "\u001b[38;5;159m[Genesis] [18:09:17] [INFO] Running at \u001b[38;5;121m29.72\u001b[0m\u001b[38;5;159m FPS.\u001b[0m\n",
      "\u001b[38;5;159m[Genesis] [18:09:17] [INFO] Saving video to \u001b[38;5;121mclip.mp4\u001b[0m\u001b[38;5;159m.\u001b[0m\n",
      "\u001b[38;5;159m[Genesis] [18:09:17] [INFO] Video saved.\u001b[0m\n"
     ]
    },
    {
     "name": "stdout",
     "output_type": "stream",
     "text": [
      "tensor([0.7100, 0.0469, 0.1122])\n",
      "True\n"
     ]
    },
    {
     "name": "stderr",
     "output_type": "stream",
     "text": [
      "\u001b[38;5;159m[Genesis] [18:09:18] [INFO] Running at \u001b[38;5;121m18.66\u001b[0m\u001b[38;5;159m FPS.\u001b[0m\n",
      "\u001b[38;5;159m[Genesis] [18:09:18] [INFO] Running at \u001b[38;5;121m18.98\u001b[0m\u001b[38;5;159m FPS.\u001b[0m\n",
      "\u001b[38;5;159m[Genesis] [18:09:18] [INFO] Running at \u001b[38;5;121m19.35\u001b[0m\u001b[38;5;159m FPS.\u001b[0m\n",
      "\u001b[38;5;159m[Genesis] [18:09:18] [INFO] Running at \u001b[38;5;121m19.93\u001b[0m\u001b[38;5;159m FPS.\u001b[0m\n",
      "\u001b[38;5;159m[Genesis] [18:09:18] [INFO] Running at \u001b[38;5;121m20.06\u001b[0m\u001b[38;5;159m FPS.\u001b[0m\n",
      "\u001b[38;5;159m[Genesis] [18:09:18] [INFO] Running at \u001b[38;5;121m20.63\u001b[0m\u001b[38;5;159m FPS.\u001b[0m\n",
      "\u001b[38;5;159m[Genesis] [18:09:18] [INFO] Running at \u001b[38;5;121m21.31\u001b[0m\u001b[38;5;159m FPS.\u001b[0m\n",
      "\u001b[38;5;159m[Genesis] [18:09:18] [INFO] Running at \u001b[38;5;121m21.41\u001b[0m\u001b[38;5;159m FPS.\u001b[0m\n",
      "\u001b[38;5;159m[Genesis] [18:09:18] [INFO] Running at \u001b[38;5;121m21.99\u001b[0m\u001b[38;5;159m FPS.\u001b[0m\n",
      "\u001b[38;5;159m[Genesis] [18:09:18] [INFO] Running at \u001b[38;5;121m22.72\u001b[0m\u001b[38;5;159m FPS.\u001b[0m\n",
      "\u001b[38;5;159m[Genesis] [18:09:18] [INFO] Running at \u001b[38;5;121m22.72\u001b[0m\u001b[38;5;159m FPS.\u001b[0m\n",
      "\u001b[38;5;159m[Genesis] [18:09:18] [INFO] Running at \u001b[38;5;121m23.31\u001b[0m\u001b[38;5;159m FPS.\u001b[0m\n",
      "\u001b[38;5;159m[Genesis] [18:09:18] [INFO] Running at \u001b[38;5;121m24.01\u001b[0m\u001b[38;5;159m FPS.\u001b[0m\n",
      "\u001b[38;5;159m[Genesis] [18:09:18] [INFO] Running at \u001b[38;5;121m24.77\u001b[0m\u001b[38;5;159m FPS.\u001b[0m\n",
      "\u001b[38;5;159m[Genesis] [18:09:18] [INFO] Running at \u001b[38;5;121m24.69\u001b[0m\u001b[38;5;159m FPS.\u001b[0m\n",
      "\u001b[38;5;159m[Genesis] [18:09:18] [INFO] Running at \u001b[38;5;121m25.28\u001b[0m\u001b[38;5;159m FPS.\u001b[0m\n",
      "\u001b[38;5;159m[Genesis] [18:09:18] [INFO] Running at \u001b[38;5;121m26.04\u001b[0m\u001b[38;5;159m FPS.\u001b[0m\n",
      "\u001b[38;5;159m[Genesis] [18:09:18] [INFO] Running at \u001b[38;5;121m26.43\u001b[0m\u001b[38;5;159m FPS.\u001b[0m\n",
      "\u001b[38;5;159m[Genesis] [18:09:18] [INFO] Running at \u001b[38;5;121m27.01\u001b[0m\u001b[38;5;159m FPS.\u001b[0m\n",
      "\u001b[38;5;159m[Genesis] [18:09:18] [INFO] Running at \u001b[38;5;121m27.79\u001b[0m\u001b[38;5;159m FPS.\u001b[0m\n",
      "\u001b[38;5;159m[Genesis] [18:09:18] [INFO] Running at \u001b[38;5;121m28.16\u001b[0m\u001b[38;5;159m FPS.\u001b[0m\n",
      "\u001b[38;5;159m[Genesis] [18:09:18] [INFO] Running at \u001b[38;5;121m28.69\u001b[0m\u001b[38;5;159m FPS.\u001b[0m\n",
      "\u001b[38;5;159m[Genesis] [18:09:18] [INFO] Running at \u001b[38;5;121m29.31\u001b[0m\u001b[38;5;159m FPS.\u001b[0m\n",
      "\u001b[38;5;159m[Genesis] [18:09:18] [INFO] Running at \u001b[38;5;121m29.04\u001b[0m\u001b[38;5;159m FPS.\u001b[0m\n",
      "\u001b[38;5;159m[Genesis] [18:09:18] [INFO] Running at \u001b[38;5;121m29.59\u001b[0m\u001b[38;5;159m FPS.\u001b[0m\n",
      "\u001b[38;5;159m[Genesis] [18:09:18] [INFO] Saving video to \u001b[38;5;121mclip.mp4\u001b[0m\u001b[38;5;159m.\u001b[0m\n",
      "\u001b[38;5;159m[Genesis] [18:09:18] [INFO] Video saved.\u001b[0m\n"
     ]
    },
    {
     "name": "stdout",
     "output_type": "stream",
     "text": [
      "tensor([0.7120, 0.0475, 0.1121])\n",
      "True\n"
     ]
    },
    {
     "name": "stderr",
     "output_type": "stream",
     "text": [
      "\u001b[38;5;159m[Genesis] [18:09:19] [INFO] Running at \u001b[38;5;121m17.82\u001b[0m\u001b[38;5;159m FPS.\u001b[0m\n",
      "\u001b[38;5;159m[Genesis] [18:09:19] [INFO] Running at \u001b[38;5;121m18.23\u001b[0m\u001b[38;5;159m FPS.\u001b[0m\n",
      "\u001b[38;5;159m[Genesis] [18:09:19] [INFO] Running at \u001b[38;5;121m18.62\u001b[0m\u001b[38;5;159m FPS.\u001b[0m\n",
      "\u001b[38;5;159m[Genesis] [18:09:19] [INFO] Running at \u001b[38;5;121m19.18\u001b[0m\u001b[38;5;159m FPS.\u001b[0m\n",
      "\u001b[38;5;159m[Genesis] [18:09:19] [INFO] Running at \u001b[38;5;121m19.34\u001b[0m\u001b[38;5;159m FPS.\u001b[0m\n",
      "\u001b[38;5;159m[Genesis] [18:09:19] [INFO] Running at \u001b[38;5;121m19.92\u001b[0m\u001b[38;5;159m FPS.\u001b[0m\n",
      "\u001b[38;5;159m[Genesis] [18:09:19] [INFO] Running at \u001b[38;5;121m20.61\u001b[0m\u001b[38;5;159m FPS.\u001b[0m\n",
      "\u001b[38;5;159m[Genesis] [18:09:19] [INFO] Running at \u001b[38;5;121m20.72\u001b[0m\u001b[38;5;159m FPS.\u001b[0m\n",
      "\u001b[38;5;159m[Genesis] [18:09:19] [INFO] Running at \u001b[38;5;121m21.28\u001b[0m\u001b[38;5;159m FPS.\u001b[0m\n",
      "\u001b[38;5;159m[Genesis] [18:09:19] [INFO] Running at \u001b[38;5;121m21.99\u001b[0m\u001b[38;5;159m FPS.\u001b[0m\n",
      "\u001b[38;5;159m[Genesis] [18:09:19] [INFO] Running at \u001b[38;5;121m22.02\u001b[0m\u001b[38;5;159m FPS.\u001b[0m\n",
      "\u001b[38;5;159m[Genesis] [18:09:19] [INFO] Running at \u001b[38;5;121m22.66\u001b[0m\u001b[38;5;159m FPS.\u001b[0m\n",
      "\u001b[38;5;159m[Genesis] [18:09:19] [INFO] Running at \u001b[38;5;121m22.67\u001b[0m\u001b[38;5;159m FPS.\u001b[0m\n",
      "\u001b[38;5;159m[Genesis] [18:09:19] [INFO] Running at \u001b[38;5;121m23.24\u001b[0m\u001b[38;5;159m FPS.\u001b[0m\n",
      "\u001b[38;5;159m[Genesis] [18:09:19] [INFO] Running at \u001b[38;5;121m23.94\u001b[0m\u001b[38;5;159m FPS.\u001b[0m\n",
      "\u001b[38;5;159m[Genesis] [18:09:19] [INFO] Running at \u001b[38;5;121m24.69\u001b[0m\u001b[38;5;159m FPS.\u001b[0m\n",
      "\u001b[38;5;159m[Genesis] [18:09:19] [INFO] Running at \u001b[38;5;121m24.69\u001b[0m\u001b[38;5;159m FPS.\u001b[0m\n",
      "\u001b[38;5;159m[Genesis] [18:09:19] [INFO] Running at \u001b[38;5;121m25.25\u001b[0m\u001b[38;5;159m FPS.\u001b[0m\n",
      "\u001b[38;5;159m[Genesis] [18:09:19] [INFO] Running at \u001b[38;5;121m25.08\u001b[0m\u001b[38;5;159m FPS.\u001b[0m\n",
      "\u001b[38;5;159m[Genesis] [18:09:19] [INFO] Running at \u001b[38;5;121m25.65\u001b[0m\u001b[38;5;159m FPS.\u001b[0m\n",
      "\u001b[38;5;159m[Genesis] [18:09:19] [INFO] Running at \u001b[38;5;121m25.45\u001b[0m\u001b[38;5;159m FPS.\u001b[0m\n",
      "\u001b[38;5;159m[Genesis] [18:09:19] [INFO] Running at \u001b[38;5;121m25.78\u001b[0m\u001b[38;5;159m FPS.\u001b[0m\n",
      "\u001b[38;5;159m[Genesis] [18:09:19] [INFO] Running at \u001b[38;5;121m26.24\u001b[0m\u001b[38;5;159m FPS.\u001b[0m\n",
      "\u001b[38;5;159m[Genesis] [18:09:20] [INFO] Running at \u001b[38;5;121m26.13\u001b[0m\u001b[38;5;159m FPS.\u001b[0m\n",
      "\u001b[38;5;159m[Genesis] [18:09:20] [INFO] Running at \u001b[38;5;121m26.69\u001b[0m\u001b[38;5;159m FPS.\u001b[0m\n",
      "\u001b[38;5;159m[Genesis] [18:09:20] [INFO] Saving video to \u001b[38;5;121mclip.mp4\u001b[0m\u001b[38;5;159m.\u001b[0m\n",
      "\u001b[38;5;159m[Genesis] [18:09:20] [INFO] Video saved.\u001b[0m\n"
     ]
    },
    {
     "name": "stdout",
     "output_type": "stream",
     "text": [
      "tensor([0.7141, 0.0480, 0.1121])\n",
      "True\n"
     ]
    },
    {
     "name": "stderr",
     "output_type": "stream",
     "text": [
      "\u001b[38;5;159m[Genesis] [18:09:20] [INFO] Running at \u001b[38;5;121m17.64\u001b[0m\u001b[38;5;159m FPS.\u001b[0m\n",
      "\u001b[38;5;159m[Genesis] [18:09:20] [INFO] Running at \u001b[38;5;121m17.95\u001b[0m\u001b[38;5;159m FPS.\u001b[0m\n",
      "\u001b[38;5;159m[Genesis] [18:09:20] [INFO] Running at \u001b[38;5;121m18.50\u001b[0m\u001b[38;5;159m FPS.\u001b[0m\n",
      "\u001b[38;5;159m[Genesis] [18:09:20] [INFO] Running at \u001b[38;5;121m18.68\u001b[0m\u001b[38;5;159m FPS.\u001b[0m\n",
      "\u001b[38;5;159m[Genesis] [18:09:20] [INFO] Running at \u001b[38;5;121m19.25\u001b[0m\u001b[38;5;159m FPS.\u001b[0m\n",
      "\u001b[38;5;159m[Genesis] [18:09:20] [INFO] Running at \u001b[38;5;121m19.93\u001b[0m\u001b[38;5;159m FPS.\u001b[0m\n",
      "\u001b[38;5;159m[Genesis] [18:09:20] [INFO] Running at \u001b[38;5;121m20.07\u001b[0m\u001b[38;5;159m FPS.\u001b[0m\n",
      "\u001b[38;5;159m[Genesis] [18:09:20] [INFO] Running at \u001b[38;5;121m20.61\u001b[0m\u001b[38;5;159m FPS.\u001b[0m\n",
      "\u001b[38;5;159m[Genesis] [18:09:20] [INFO] Running at \u001b[38;5;121m21.30\u001b[0m\u001b[38;5;159m FPS.\u001b[0m\n",
      "\u001b[38;5;159m[Genesis] [18:09:20] [INFO] Running at \u001b[38;5;121m21.42\u001b[0m\u001b[38;5;159m FPS.\u001b[0m\n",
      "\u001b[38;5;159m[Genesis] [18:09:20] [INFO] Running at \u001b[38;5;121m21.98\u001b[0m\u001b[38;5;159m FPS.\u001b[0m\n",
      "\u001b[38;5;159m[Genesis] [18:09:20] [INFO] Running at \u001b[38;5;121m22.70\u001b[0m\u001b[38;5;159m FPS.\u001b[0m\n",
      "\u001b[38;5;159m[Genesis] [18:09:20] [INFO] Running at \u001b[38;5;121m22.71\u001b[0m\u001b[38;5;159m FPS.\u001b[0m\n",
      "\u001b[38;5;159m[Genesis] [18:09:20] [INFO] Running at \u001b[38;5;121m23.31\u001b[0m\u001b[38;5;159m FPS.\u001b[0m\n",
      "\u001b[38;5;159m[Genesis] [18:09:20] [INFO] Running at \u001b[38;5;121m24.06\u001b[0m\u001b[38;5;159m FPS.\u001b[0m\n",
      "\u001b[38;5;159m[Genesis] [18:09:20] [INFO] Running at \u001b[38;5;121m24.00\u001b[0m\u001b[38;5;159m FPS.\u001b[0m\n",
      "\u001b[38;5;159m[Genesis] [18:09:20] [INFO] Running at \u001b[38;5;121m24.53\u001b[0m\u001b[38;5;159m FPS.\u001b[0m\n",
      "\u001b[38;5;159m[Genesis] [18:09:20] [INFO] Running at \u001b[38;5;121m24.51\u001b[0m\u001b[38;5;159m FPS.\u001b[0m\n",
      "\u001b[38;5;159m[Genesis] [18:09:21] [INFO] Running at \u001b[38;5;121m25.07\u001b[0m\u001b[38;5;159m FPS.\u001b[0m\n",
      "\u001b[38;5;159m[Genesis] [18:09:21] [INFO] Running at \u001b[38;5;121m25.83\u001b[0m\u001b[38;5;159m FPS.\u001b[0m\n",
      "\u001b[38;5;159m[Genesis] [18:09:21] [INFO] Running at \u001b[38;5;121m26.23\u001b[0m\u001b[38;5;159m FPS.\u001b[0m\n",
      "\u001b[38;5;159m[Genesis] [18:09:21] [INFO] Running at \u001b[38;5;121m26.77\u001b[0m\u001b[38;5;159m FPS.\u001b[0m\n",
      "\u001b[38;5;159m[Genesis] [18:09:21] [INFO] Running at \u001b[38;5;121m26.55\u001b[0m\u001b[38;5;159m FPS.\u001b[0m\n",
      "\u001b[38;5;159m[Genesis] [18:09:21] [INFO] Running at \u001b[38;5;121m27.10\u001b[0m\u001b[38;5;159m FPS.\u001b[0m\n",
      "\u001b[38;5;159m[Genesis] [18:09:21] [INFO] Running at \u001b[38;5;121m26.91\u001b[0m\u001b[38;5;159m FPS.\u001b[0m\n",
      "\u001b[38;5;159m[Genesis] [18:09:21] [INFO] Saving video to \u001b[38;5;121mclip.mp4\u001b[0m\u001b[38;5;159m.\u001b[0m\n",
      "\u001b[38;5;159m[Genesis] [18:09:21] [INFO] Video saved.\u001b[0m\n"
     ]
    },
    {
     "name": "stdout",
     "output_type": "stream",
     "text": [
      "tensor([0.7120, 0.0487, 0.1122])\n",
      "True\n"
     ]
    },
    {
     "name": "stderr",
     "output_type": "stream",
     "text": [
      "\u001b[38;5;159m[Genesis] [18:09:21] [INFO] Running at \u001b[38;5;121m17.64\u001b[0m\u001b[38;5;159m FPS.\u001b[0m\n",
      "\u001b[38;5;159m[Genesis] [18:09:21] [INFO] Running at \u001b[38;5;121m18.20\u001b[0m\u001b[38;5;159m FPS.\u001b[0m\n",
      "\u001b[38;5;159m[Genesis] [18:09:21] [INFO] Running at \u001b[38;5;121m18.86\u001b[0m\u001b[38;5;159m FPS.\u001b[0m\n",
      "\u001b[38;5;159m[Genesis] [18:09:21] [INFO] Running at \u001b[38;5;121m19.23\u001b[0m\u001b[38;5;159m FPS.\u001b[0m\n",
      "\u001b[38;5;159m[Genesis] [18:09:21] [INFO] Running at \u001b[38;5;121m19.60\u001b[0m\u001b[38;5;159m FPS.\u001b[0m\n",
      "\u001b[38;5;159m[Genesis] [18:09:21] [INFO] Running at \u001b[38;5;121m20.10\u001b[0m\u001b[38;5;159m FPS.\u001b[0m\n",
      "\u001b[38;5;159m[Genesis] [18:09:21] [INFO] Running at \u001b[38;5;121m20.21\u001b[0m\u001b[38;5;159m FPS.\u001b[0m\n",
      "\u001b[38;5;159m[Genesis] [18:09:21] [INFO] Running at \u001b[38;5;121m20.86\u001b[0m\u001b[38;5;159m FPS.\u001b[0m\n",
      "\u001b[38;5;159m[Genesis] [18:09:21] [INFO] Running at \u001b[38;5;121m20.95\u001b[0m\u001b[38;5;159m FPS.\u001b[0m\n",
      "\u001b[38;5;159m[Genesis] [18:09:21] [INFO] Running at \u001b[38;5;121m21.53\u001b[0m\u001b[38;5;159m FPS.\u001b[0m\n",
      "\u001b[38;5;159m[Genesis] [18:09:21] [INFO] Running at \u001b[38;5;121m22.24\u001b[0m\u001b[38;5;159m FPS.\u001b[0m\n",
      "\u001b[38;5;159m[Genesis] [18:09:21] [INFO] Running at \u001b[38;5;121m22.70\u001b[0m\u001b[38;5;159m FPS.\u001b[0m\n",
      "\u001b[38;5;159m[Genesis] [18:09:21] [INFO] Running at \u001b[38;5;121m23.27\u001b[0m\u001b[38;5;159m FPS.\u001b[0m\n",
      "\u001b[38;5;159m[Genesis] [18:09:21] [INFO] Running at \u001b[38;5;121m24.02\u001b[0m\u001b[38;5;159m FPS.\u001b[0m\n",
      "\u001b[38;5;159m[Genesis] [18:09:21] [INFO] Running at \u001b[38;5;121m24.41\u001b[0m\u001b[38;5;159m FPS.\u001b[0m\n",
      "\u001b[38;5;159m[Genesis] [18:09:22] [INFO] Running at \u001b[38;5;121m24.95\u001b[0m\u001b[38;5;159m FPS.\u001b[0m\n",
      "\u001b[38;5;159m[Genesis] [18:09:22] [INFO] Running at \u001b[38;5;121m25.71\u001b[0m\u001b[38;5;159m FPS.\u001b[0m\n",
      "\u001b[38;5;159m[Genesis] [18:09:22] [INFO] Running at \u001b[38;5;121m26.20\u001b[0m\u001b[38;5;159m FPS.\u001b[0m\n",
      "\u001b[38;5;159m[Genesis] [18:09:22] [INFO] Running at \u001b[38;5;121m26.76\u001b[0m\u001b[38;5;159m FPS.\u001b[0m\n",
      "\u001b[38;5;159m[Genesis] [18:09:22] [INFO] Running at \u001b[38;5;121m26.54\u001b[0m\u001b[38;5;159m FPS.\u001b[0m\n",
      "\u001b[38;5;159m[Genesis] [18:09:22] [INFO] Running at \u001b[38;5;121m27.07\u001b[0m\u001b[38;5;159m FPS.\u001b[0m\n",
      "\u001b[38;5;159m[Genesis] [18:09:22] [INFO] Running at \u001b[38;5;121m27.77\u001b[0m\u001b[38;5;159m FPS.\u001b[0m\n",
      "\u001b[38;5;159m[Genesis] [18:09:22] [INFO] Running at \u001b[38;5;121m27.55\u001b[0m\u001b[38;5;159m FPS.\u001b[0m\n",
      "\u001b[38;5;159m[Genesis] [18:09:22] [INFO] Running at \u001b[38;5;121m28.10\u001b[0m\u001b[38;5;159m FPS.\u001b[0m\n",
      "\u001b[38;5;159m[Genesis] [18:09:22] [INFO] Running at \u001b[38;5;121m28.86\u001b[0m\u001b[38;5;159m FPS.\u001b[0m\n",
      "\u001b[38;5;159m[Genesis] [18:09:22] [INFO] Saving video to \u001b[38;5;121mclip.mp4\u001b[0m\u001b[38;5;159m.\u001b[0m\n",
      "\u001b[38;5;159m[Genesis] [18:09:22] [INFO] Video saved.\u001b[0m\n"
     ]
    },
    {
     "name": "stdout",
     "output_type": "stream",
     "text": [
      "tensor([0.7098, 0.0493, 0.1122])\n",
      "True\n"
     ]
    },
    {
     "name": "stderr",
     "output_type": "stream",
     "text": [
      "\u001b[38;5;159m[Genesis] [18:09:22] [INFO] Running at \u001b[38;5;121m17.93\u001b[0m\u001b[38;5;159m FPS.\u001b[0m\n",
      "\u001b[38;5;159m[Genesis] [18:09:22] [INFO] Running at \u001b[38;5;121m18.54\u001b[0m\u001b[38;5;159m FPS.\u001b[0m\n",
      "\u001b[38;5;159m[Genesis] [18:09:22] [INFO] Running at \u001b[38;5;121m19.20\u001b[0m\u001b[38;5;159m FPS.\u001b[0m\n",
      "\u001b[38;5;159m[Genesis] [18:09:22] [INFO] Running at \u001b[38;5;121m19.59\u001b[0m\u001b[38;5;159m FPS.\u001b[0m\n",
      "\u001b[38;5;159m[Genesis] [18:09:22] [INFO] Running at \u001b[38;5;121m19.95\u001b[0m\u001b[38;5;159m FPS.\u001b[0m\n",
      "\u001b[38;5;159m[Genesis] [18:09:22] [INFO] Running at \u001b[38;5;121m20.45\u001b[0m\u001b[38;5;159m FPS.\u001b[0m\n",
      "\u001b[38;5;159m[Genesis] [18:09:22] [INFO] Running at \u001b[38;5;121m20.61\u001b[0m\u001b[38;5;159m FPS.\u001b[0m\n",
      "\u001b[38;5;159m[Genesis] [18:09:22] [INFO] Running at \u001b[38;5;121m21.20\u001b[0m\u001b[38;5;159m FPS.\u001b[0m\n",
      "\u001b[38;5;159m[Genesis] [18:09:22] [INFO] Running at \u001b[38;5;121m21.92\u001b[0m\u001b[38;5;159m FPS.\u001b[0m\n",
      "\u001b[38;5;159m[Genesis] [18:09:22] [INFO] Running at \u001b[38;5;121m21.97\u001b[0m\u001b[38;5;159m FPS.\u001b[0m\n",
      "\u001b[38;5;159m[Genesis] [18:09:22] [INFO] Running at \u001b[38;5;121m22.56\u001b[0m\u001b[38;5;159m FPS.\u001b[0m\n",
      "\u001b[38;5;159m[Genesis] [18:09:22] [INFO] Running at \u001b[38;5;121m23.27\u001b[0m\u001b[38;5;159m FPS.\u001b[0m\n",
      "\u001b[38;5;159m[Genesis] [18:09:23] [INFO] Running at \u001b[38;5;121m23.26\u001b[0m\u001b[38;5;159m FPS.\u001b[0m\n",
      "\u001b[38;5;159m[Genesis] [18:09:23] [INFO] Running at \u001b[38;5;121m23.85\u001b[0m\u001b[38;5;159m FPS.\u001b[0m\n",
      "\u001b[38;5;159m[Genesis] [18:09:23] [INFO] Running at \u001b[38;5;121m23.75\u001b[0m\u001b[38;5;159m FPS.\u001b[0m\n",
      "\u001b[38;5;159m[Genesis] [18:09:23] [INFO] Running at \u001b[38;5;121m24.26\u001b[0m\u001b[38;5;159m FPS.\u001b[0m\n",
      "\u001b[38;5;159m[Genesis] [18:09:23] [INFO] Running at \u001b[38;5;121m24.36\u001b[0m\u001b[38;5;159m FPS.\u001b[0m\n",
      "\u001b[38;5;159m[Genesis] [18:09:23] [INFO] Running at \u001b[38;5;121m24.92\u001b[0m\u001b[38;5;159m FPS.\u001b[0m\n",
      "\u001b[38;5;159m[Genesis] [18:09:23] [INFO] Running at \u001b[38;5;121m24.80\u001b[0m\u001b[38;5;159m FPS.\u001b[0m\n",
      "\u001b[38;5;159m[Genesis] [18:09:23] [INFO] Running at \u001b[38;5;121m25.32\u001b[0m\u001b[38;5;159m FPS.\u001b[0m\n",
      "\u001b[38;5;159m[Genesis] [18:09:23] [INFO] Running at \u001b[38;5;121m26.05\u001b[0m\u001b[38;5;159m FPS.\u001b[0m\n",
      "\u001b[38;5;159m[Genesis] [18:09:23] [INFO] Running at \u001b[38;5;121m26.74\u001b[0m\u001b[38;5;159m FPS.\u001b[0m\n",
      "\u001b[38;5;159m[Genesis] [18:09:23] [INFO] Running at \u001b[38;5;121m26.73\u001b[0m\u001b[38;5;159m FPS.\u001b[0m\n",
      "\u001b[38;5;159m[Genesis] [18:09:23] [INFO] Running at \u001b[38;5;121m27.18\u001b[0m\u001b[38;5;159m FPS.\u001b[0m\n",
      "\u001b[38;5;159m[Genesis] [18:09:23] [INFO] Running at \u001b[38;5;121m26.94\u001b[0m\u001b[38;5;159m FPS.\u001b[0m\n",
      "\u001b[38;5;159m[Genesis] [18:09:23] [INFO] Saving video to \u001b[38;5;121mclip.mp4\u001b[0m\u001b[38;5;159m.\u001b[0m\n",
      "\u001b[38;5;159m[Genesis] [18:09:23] [INFO] Video saved.\u001b[0m\n"
     ]
    },
    {
     "name": "stdout",
     "output_type": "stream",
     "text": [
      "tensor([0.7118, 0.0498, 0.1121])\n",
      "True\n"
     ]
    },
    {
     "name": "stderr",
     "output_type": "stream",
     "text": [
      "\u001b[38;5;159m[Genesis] [18:09:23] [INFO] Running at \u001b[38;5;121m17.70\u001b[0m\u001b[38;5;159m FPS.\u001b[0m\n",
      "\u001b[38;5;159m[Genesis] [18:09:23] [INFO] Running at \u001b[38;5;121m18.35\u001b[0m\u001b[38;5;159m FPS.\u001b[0m\n",
      "\u001b[38;5;159m[Genesis] [18:09:23] [INFO] Running at \u001b[38;5;121m19.01\u001b[0m\u001b[38;5;159m FPS.\u001b[0m\n",
      "\u001b[38;5;159m[Genesis] [18:09:23] [INFO] Running at \u001b[38;5;121m19.66\u001b[0m\u001b[38;5;159m FPS.\u001b[0m\n",
      "\u001b[38;5;159m[Genesis] [18:09:23] [INFO] Running at \u001b[38;5;121m19.93\u001b[0m\u001b[38;5;159m FPS.\u001b[0m\n",
      "\u001b[38;5;159m[Genesis] [18:09:23] [INFO] Running at \u001b[38;5;121m20.44\u001b[0m\u001b[38;5;159m FPS.\u001b[0m\n",
      "\u001b[38;5;159m[Genesis] [18:09:23] [INFO] Running at \u001b[38;5;121m21.12\u001b[0m\u001b[38;5;159m FPS.\u001b[0m\n",
      "\u001b[38;5;159m[Genesis] [18:09:23] [INFO] Running at \u001b[38;5;121m21.30\u001b[0m\u001b[38;5;159m FPS.\u001b[0m\n",
      "\u001b[38;5;159m[Genesis] [18:09:24] [INFO] Running at \u001b[38;5;121m21.82\u001b[0m\u001b[38;5;159m FPS.\u001b[0m\n",
      "\u001b[38;5;159m[Genesis] [18:09:24] [INFO] Running at \u001b[38;5;121m21.89\u001b[0m\u001b[38;5;159m FPS.\u001b[0m\n",
      "\u001b[38;5;159m[Genesis] [18:09:24] [INFO] Running at \u001b[38;5;121m22.50\u001b[0m\u001b[38;5;159m FPS.\u001b[0m\n",
      "\u001b[38;5;159m[Genesis] [18:09:24] [INFO] Running at \u001b[38;5;121m23.23\u001b[0m\u001b[38;5;159m FPS.\u001b[0m\n",
      "\u001b[38;5;159m[Genesis] [18:09:24] [INFO] Running at \u001b[38;5;121m23.97\u001b[0m\u001b[38;5;159m FPS.\u001b[0m\n",
      "\u001b[38;5;159m[Genesis] [18:09:24] [INFO] Running at \u001b[38;5;121m23.91\u001b[0m\u001b[38;5;159m FPS.\u001b[0m\n",
      "\u001b[38;5;159m[Genesis] [18:09:24] [INFO] Running at \u001b[38;5;121m24.49\u001b[0m\u001b[38;5;159m FPS.\u001b[0m\n",
      "\u001b[38;5;159m[Genesis] [18:09:24] [INFO] Running at \u001b[38;5;121m25.25\u001b[0m\u001b[38;5;159m FPS.\u001b[0m\n",
      "\u001b[38;5;159m[Genesis] [18:09:24] [INFO] Running at \u001b[38;5;121m25.13\u001b[0m\u001b[38;5;159m FPS.\u001b[0m\n",
      "\u001b[38;5;159m[Genesis] [18:09:24] [INFO] Running at \u001b[38;5;121m25.72\u001b[0m\u001b[38;5;159m FPS.\u001b[0m\n",
      "\u001b[38;5;159m[Genesis] [18:09:24] [INFO] Running at \u001b[38;5;121m26.48\u001b[0m\u001b[38;5;159m FPS.\u001b[0m\n",
      "\u001b[38;5;159m[Genesis] [18:09:24] [INFO] Running at \u001b[38;5;121m26.28\u001b[0m\u001b[38;5;159m FPS.\u001b[0m\n",
      "\u001b[38;5;159m[Genesis] [18:09:24] [INFO] Running at \u001b[38;5;121m26.83\u001b[0m\u001b[38;5;159m FPS.\u001b[0m\n",
      "\u001b[38;5;159m[Genesis] [18:09:24] [INFO] Running at \u001b[38;5;121m27.54\u001b[0m\u001b[38;5;159m FPS.\u001b[0m\n",
      "\u001b[38;5;159m[Genesis] [18:09:24] [INFO] Running at \u001b[38;5;121m27.32\u001b[0m\u001b[38;5;159m FPS.\u001b[0m\n",
      "\u001b[38;5;159m[Genesis] [18:09:24] [INFO] Running at \u001b[38;5;121m27.89\u001b[0m\u001b[38;5;159m FPS.\u001b[0m\n",
      "\u001b[38;5;159m[Genesis] [18:09:24] [INFO] Running at \u001b[38;5;121m28.61\u001b[0m\u001b[38;5;159m FPS.\u001b[0m\n",
      "\u001b[38;5;159m[Genesis] [18:09:24] [INFO] Saving video to \u001b[38;5;121mclip.mp4\u001b[0m\u001b[38;5;159m.\u001b[0m\n",
      "\u001b[38;5;159m[Genesis] [18:09:24] [INFO] Video saved.\u001b[0m\n"
     ]
    },
    {
     "name": "stdout",
     "output_type": "stream",
     "text": [
      "tensor([0.7135, 0.0512, 0.1119])\n",
      "True\n"
     ]
    },
    {
     "name": "stderr",
     "output_type": "stream",
     "text": [
      "\u001b[38;5;159m[Genesis] [18:09:24] [INFO] Running at \u001b[38;5;121m18.07\u001b[0m\u001b[38;5;159m FPS.\u001b[0m\n",
      "\u001b[38;5;159m[Genesis] [18:09:24] [INFO] Running at \u001b[38;5;121m18.45\u001b[0m\u001b[38;5;159m FPS.\u001b[0m\n",
      "\u001b[38;5;159m[Genesis] [18:09:24] [INFO] Running at \u001b[38;5;121m18.75\u001b[0m\u001b[38;5;159m FPS.\u001b[0m\n",
      "\u001b[38;5;159m[Genesis] [18:09:25] [INFO] Running at \u001b[38;5;121m18.81\u001b[0m\u001b[38;5;159m FPS.\u001b[0m\n",
      "\u001b[38;5;159m[Genesis] [18:09:25] [INFO] Running at \u001b[38;5;121m19.40\u001b[0m\u001b[38;5;159m FPS.\u001b[0m\n",
      "\u001b[38;5;159m[Genesis] [18:09:25] [INFO] Running at \u001b[38;5;121m19.62\u001b[0m\u001b[38;5;159m FPS.\u001b[0m\n",
      "\u001b[38;5;159m[Genesis] [18:09:25] [INFO] Running at \u001b[38;5;121m20.19\u001b[0m\u001b[38;5;159m FPS.\u001b[0m\n",
      "\u001b[38;5;159m[Genesis] [18:09:25] [INFO] Running at \u001b[38;5;121m20.30\u001b[0m\u001b[38;5;159m FPS.\u001b[0m\n",
      "\u001b[38;5;159m[Genesis] [18:09:25] [INFO] Running at \u001b[38;5;121m20.86\u001b[0m\u001b[38;5;159m FPS.\u001b[0m\n",
      "\u001b[38;5;159m[Genesis] [18:09:25] [INFO] Running at \u001b[38;5;121m20.98\u001b[0m\u001b[38;5;159m FPS.\u001b[0m\n",
      "\u001b[38;5;159m[Genesis] [18:09:25] [INFO] Running at \u001b[38;5;121m21.53\u001b[0m\u001b[38;5;159m FPS.\u001b[0m\n",
      "\u001b[38;5;159m[Genesis] [18:09:25] [INFO] Running at \u001b[38;5;121m22.23\u001b[0m\u001b[38;5;159m FPS.\u001b[0m\n",
      "\u001b[38;5;159m[Genesis] [18:09:25] [INFO] Running at \u001b[38;5;121m22.95\u001b[0m\u001b[38;5;159m FPS.\u001b[0m\n",
      "\u001b[38;5;159m[Genesis] [18:09:25] [INFO] Running at \u001b[38;5;121m23.03\u001b[0m\u001b[38;5;159m FPS.\u001b[0m\n",
      "\u001b[38;5;159m[Genesis] [18:09:25] [INFO] Running at \u001b[38;5;121m23.51\u001b[0m\u001b[38;5;159m FPS.\u001b[0m\n",
      "\u001b[38;5;159m[Genesis] [18:09:25] [INFO] Running at \u001b[38;5;121m23.54\u001b[0m\u001b[38;5;159m FPS.\u001b[0m\n",
      "\u001b[38;5;159m[Genesis] [18:09:25] [INFO] Running at \u001b[38;5;121m24.10\u001b[0m\u001b[38;5;159m FPS.\u001b[0m\n",
      "\u001b[38;5;159m[Genesis] [18:09:25] [INFO] Running at \u001b[38;5;121m24.79\u001b[0m\u001b[38;5;159m FPS.\u001b[0m\n",
      "\u001b[38;5;159m[Genesis] [18:09:25] [INFO] Running at \u001b[38;5;121m24.76\u001b[0m\u001b[38;5;159m FPS.\u001b[0m\n",
      "\u001b[38;5;159m[Genesis] [18:09:25] [INFO] Running at \u001b[38;5;121m25.35\u001b[0m\u001b[38;5;159m FPS.\u001b[0m\n",
      "\u001b[38;5;159m[Genesis] [18:09:25] [INFO] Running at \u001b[38;5;121m26.11\u001b[0m\u001b[38;5;159m FPS.\u001b[0m\n",
      "\u001b[38;5;159m[Genesis] [18:09:25] [INFO] Running at \u001b[38;5;121m25.92\u001b[0m\u001b[38;5;159m FPS.\u001b[0m\n",
      "\u001b[38;5;159m[Genesis] [18:09:25] [INFO] Running at \u001b[38;5;121m26.48\u001b[0m\u001b[38;5;159m FPS.\u001b[0m\n",
      "\u001b[38;5;159m[Genesis] [18:09:25] [INFO] Running at \u001b[38;5;121m27.26\u001b[0m\u001b[38;5;159m FPS.\u001b[0m\n",
      "\u001b[38;5;159m[Genesis] [18:09:25] [INFO] Running at \u001b[38;5;121m27.02\u001b[0m\u001b[38;5;159m FPS.\u001b[0m\n",
      "\u001b[38;5;159m[Genesis] [18:09:25] [INFO] Saving video to \u001b[38;5;121mclip.mp4\u001b[0m\u001b[38;5;159m.\u001b[0m\n",
      "\u001b[38;5;159m[Genesis] [18:09:25] [INFO] Video saved.\u001b[0m\n"
     ]
    },
    {
     "name": "stdout",
     "output_type": "stream",
     "text": [
      "tensor([0.7114, 0.0520, 0.1121])\n",
      "True\n"
     ]
    },
    {
     "name": "stderr",
     "output_type": "stream",
     "text": [
      "\u001b[38;5;159m[Genesis] [18:09:26] [INFO] Running at \u001b[38;5;121m17.75\u001b[0m\u001b[38;5;159m FPS.\u001b[0m\n",
      "\u001b[38;5;159m[Genesis] [18:09:26] [INFO] Running at \u001b[38;5;121m18.36\u001b[0m\u001b[38;5;159m FPS.\u001b[0m\n",
      "\u001b[38;5;159m[Genesis] [18:09:26] [INFO] Running at \u001b[38;5;121m18.64\u001b[0m\u001b[38;5;159m FPS.\u001b[0m\n",
      "\u001b[38;5;159m[Genesis] [18:09:26] [INFO] Running at \u001b[38;5;121m19.16\u001b[0m\u001b[38;5;159m FPS.\u001b[0m\n",
      "\u001b[38;5;159m[Genesis] [18:09:26] [INFO] Running at \u001b[38;5;121m19.33\u001b[0m\u001b[38;5;159m FPS.\u001b[0m\n",
      "\u001b[38;5;159m[Genesis] [18:09:26] [INFO] Running at \u001b[38;5;121m19.91\u001b[0m\u001b[38;5;159m FPS.\u001b[0m\n",
      "\u001b[38;5;159m[Genesis] [18:09:26] [INFO] Running at \u001b[38;5;121m20.07\u001b[0m\u001b[38;5;159m FPS.\u001b[0m\n",
      "\u001b[38;5;159m[Genesis] [18:09:26] [INFO] Running at \u001b[38;5;121m20.64\u001b[0m\u001b[38;5;159m FPS.\u001b[0m\n",
      "\u001b[38;5;159m[Genesis] [18:09:26] [INFO] Running at \u001b[38;5;121m21.33\u001b[0m\u001b[38;5;159m FPS.\u001b[0m\n",
      "\u001b[38;5;159m[Genesis] [18:09:26] [INFO] Running at \u001b[38;5;121m21.41\u001b[0m\u001b[38;5;159m FPS.\u001b[0m\n",
      "\u001b[38;5;159m[Genesis] [18:09:26] [INFO] Running at \u001b[38;5;121m22.00\u001b[0m\u001b[38;5;159m FPS.\u001b[0m\n",
      "\u001b[38;5;159m[Genesis] [18:09:26] [INFO] Running at \u001b[38;5;121m22.64\u001b[0m\u001b[38;5;159m FPS.\u001b[0m\n",
      "\u001b[38;5;159m[Genesis] [18:09:26] [INFO] Running at \u001b[38;5;121m22.69\u001b[0m\u001b[38;5;159m FPS.\u001b[0m\n",
      "\u001b[38;5;159m[Genesis] [18:09:26] [INFO] Running at \u001b[38;5;121m23.35\u001b[0m\u001b[38;5;159m FPS.\u001b[0m\n",
      "\u001b[38;5;159m[Genesis] [18:09:26] [INFO] Running at \u001b[38;5;121m23.31\u001b[0m\u001b[38;5;159m FPS.\u001b[0m\n",
      "\u001b[38;5;159m[Genesis] [18:09:26] [INFO] Running at \u001b[38;5;121m23.89\u001b[0m\u001b[38;5;159m FPS.\u001b[0m\n",
      "\u001b[38;5;159m[Genesis] [18:09:26] [INFO] Running at \u001b[38;5;121m24.58\u001b[0m\u001b[38;5;159m FPS.\u001b[0m\n",
      "\u001b[38;5;159m[Genesis] [18:09:26] [INFO] Running at \u001b[38;5;121m24.54\u001b[0m\u001b[38;5;159m FPS.\u001b[0m\n",
      "\u001b[38;5;159m[Genesis] [18:09:26] [INFO] Running at \u001b[38;5;121m25.07\u001b[0m\u001b[38;5;159m FPS.\u001b[0m\n",
      "\u001b[38;5;159m[Genesis] [18:09:26] [INFO] Running at \u001b[38;5;121m25.03\u001b[0m\u001b[38;5;159m FPS.\u001b[0m\n",
      "\u001b[38;5;159m[Genesis] [18:09:26] [INFO] Running at \u001b[38;5;121m25.61\u001b[0m\u001b[38;5;159m FPS.\u001b[0m\n",
      "\u001b[38;5;159m[Genesis] [18:09:26] [INFO] Running at \u001b[38;5;121m26.35\u001b[0m\u001b[38;5;159m FPS.\u001b[0m\n",
      "\u001b[38;5;159m[Genesis] [18:09:26] [INFO] Running at \u001b[38;5;121m26.11\u001b[0m\u001b[38;5;159m FPS.\u001b[0m\n",
      "\u001b[38;5;159m[Genesis] [18:09:26] [INFO] Running at \u001b[38;5;121m26.64\u001b[0m\u001b[38;5;159m FPS.\u001b[0m\n",
      "\u001b[38;5;159m[Genesis] [18:09:26] [INFO] Running at \u001b[38;5;121m26.58\u001b[0m\u001b[38;5;159m FPS.\u001b[0m\n",
      "\u001b[38;5;159m[Genesis] [18:09:26] [INFO] Saving video to \u001b[38;5;121mclip.mp4\u001b[0m\u001b[38;5;159m.\u001b[0m\n",
      "\u001b[38;5;159m[Genesis] [18:09:26] [INFO] Video saved.\u001b[0m\n"
     ]
    },
    {
     "name": "stdout",
     "output_type": "stream",
     "text": [
      "tensor([0.7092, 0.0526, 0.1121])\n",
      "True\n"
     ]
    },
    {
     "name": "stderr",
     "output_type": "stream",
     "text": [
      "\u001b[38;5;159m[Genesis] [18:09:27] [INFO] Running at \u001b[38;5;121m17.54\u001b[0m\u001b[38;5;159m FPS.\u001b[0m\n",
      "\u001b[38;5;159m[Genesis] [18:09:27] [INFO] Running at \u001b[38;5;121m18.17\u001b[0m\u001b[38;5;159m FPS.\u001b[0m\n",
      "\u001b[38;5;159m[Genesis] [18:09:27] [INFO] Running at \u001b[38;5;121m18.39\u001b[0m\u001b[38;5;159m FPS.\u001b[0m\n",
      "\u001b[38;5;159m[Genesis] [18:09:27] [INFO] Running at \u001b[38;5;121m18.97\u001b[0m\u001b[38;5;159m FPS.\u001b[0m\n",
      "\u001b[38;5;159m[Genesis] [18:09:27] [INFO] Running at \u001b[38;5;121m19.14\u001b[0m\u001b[38;5;159m FPS.\u001b[0m\n",
      "\u001b[38;5;159m[Genesis] [18:09:27] [INFO] Running at \u001b[38;5;121m19.67\u001b[0m\u001b[38;5;159m FPS.\u001b[0m\n",
      "\u001b[38;5;159m[Genesis] [18:09:27] [INFO] Running at \u001b[38;5;121m20.32\u001b[0m\u001b[38;5;159m FPS.\u001b[0m\n",
      "\u001b[38;5;159m[Genesis] [18:09:27] [INFO] Running at \u001b[38;5;121m20.56\u001b[0m\u001b[38;5;159m FPS.\u001b[0m\n",
      "\u001b[38;5;159m[Genesis] [18:09:27] [INFO] Running at \u001b[38;5;121m21.07\u001b[0m\u001b[38;5;159m FPS.\u001b[0m\n",
      "\u001b[38;5;159m[Genesis] [18:09:27] [INFO] Running at \u001b[38;5;121m21.77\u001b[0m\u001b[38;5;159m FPS.\u001b[0m\n",
      "\u001b[38;5;159m[Genesis] [18:09:27] [INFO] Running at \u001b[38;5;121m21.92\u001b[0m\u001b[38;5;159m FPS.\u001b[0m\n",
      "\u001b[38;5;159m[Genesis] [18:09:27] [INFO] Running at \u001b[38;5;121m22.49\u001b[0m\u001b[38;5;159m FPS.\u001b[0m\n",
      "\u001b[38;5;159m[Genesis] [18:09:27] [INFO] Running at \u001b[38;5;121m22.51\u001b[0m\u001b[38;5;159m FPS.\u001b[0m\n",
      "\u001b[38;5;159m[Genesis] [18:09:27] [INFO] Running at \u001b[38;5;121m23.03\u001b[0m\u001b[38;5;159m FPS.\u001b[0m\n",
      "\u001b[38;5;159m[Genesis] [18:09:27] [INFO] Running at \u001b[38;5;121m23.05\u001b[0m\u001b[38;5;159m FPS.\u001b[0m\n",
      "\u001b[38;5;159m[Genesis] [18:09:27] [INFO] Running at \u001b[38;5;121m23.64\u001b[0m\u001b[38;5;159m FPS.\u001b[0m\n",
      "\u001b[38;5;159m[Genesis] [18:09:27] [INFO] Running at \u001b[38;5;121m24.40\u001b[0m\u001b[38;5;159m FPS.\u001b[0m\n",
      "\u001b[38;5;159m[Genesis] [18:09:27] [INFO] Running at \u001b[38;5;121m24.82\u001b[0m\u001b[38;5;159m FPS.\u001b[0m\n",
      "\u001b[38;5;159m[Genesis] [18:09:27] [INFO] Running at \u001b[38;5;121m25.40\u001b[0m\u001b[38;5;159m FPS.\u001b[0m\n",
      "\u001b[38;5;159m[Genesis] [18:09:27] [INFO] Running at \u001b[38;5;121m26.15\u001b[0m\u001b[38;5;159m FPS.\u001b[0m\n",
      "\u001b[38;5;159m[Genesis] [18:09:27] [INFO] Running at \u001b[38;5;121m25.96\u001b[0m\u001b[38;5;159m FPS.\u001b[0m\n",
      "\u001b[38;5;159m[Genesis] [18:09:27] [INFO] Running at \u001b[38;5;121m26.52\u001b[0m\u001b[38;5;159m FPS.\u001b[0m\n",
      "\u001b[38;5;159m[Genesis] [18:09:27] [INFO] Running at \u001b[38;5;121m27.29\u001b[0m\u001b[38;5;159m FPS.\u001b[0m\n",
      "\u001b[38;5;159m[Genesis] [18:09:27] [INFO] Running at \u001b[38;5;121m27.12\u001b[0m\u001b[38;5;159m FPS.\u001b[0m\n",
      "\u001b[38;5;159m[Genesis] [18:09:27] [INFO] Running at \u001b[38;5;121m27.66\u001b[0m\u001b[38;5;159m FPS.\u001b[0m\n",
      "\u001b[38;5;159m[Genesis] [18:09:27] [INFO] Saving video to \u001b[38;5;121mclip.mp4\u001b[0m\u001b[38;5;159m.\u001b[0m\n",
      "\u001b[38;5;159m[Genesis] [18:09:28] [INFO] Video saved.\u001b[0m\n"
     ]
    },
    {
     "name": "stdout",
     "output_type": "stream",
     "text": [
      "tensor([0.7090, 0.0534, 0.1118])\n",
      "True\n"
     ]
    },
    {
     "name": "stderr",
     "output_type": "stream",
     "text": [
      "\u001b[38;5;159m[Genesis] [18:09:28] [INFO] Running at \u001b[38;5;121m17.71\u001b[0m\u001b[38;5;159m FPS.\u001b[0m\n",
      "\u001b[38;5;159m[Genesis] [18:09:28] [INFO] Running at \u001b[38;5;121m18.35\u001b[0m\u001b[38;5;159m FPS.\u001b[0m\n",
      "\u001b[38;5;159m[Genesis] [18:09:28] [INFO] Running at \u001b[38;5;121m18.73\u001b[0m\u001b[38;5;159m FPS.\u001b[0m\n",
      "\u001b[38;5;159m[Genesis] [18:09:28] [INFO] Running at \u001b[38;5;121m19.09\u001b[0m\u001b[38;5;159m FPS.\u001b[0m\n",
      "\u001b[38;5;159m[Genesis] [18:09:28] [INFO] Running at \u001b[38;5;121m19.66\u001b[0m\u001b[38;5;159m FPS.\u001b[0m\n",
      "\u001b[38;5;159m[Genesis] [18:09:28] [INFO] Running at \u001b[38;5;121m19.80\u001b[0m\u001b[38;5;159m FPS.\u001b[0m\n",
      "\u001b[38;5;159m[Genesis] [18:09:28] [INFO] Running at \u001b[38;5;121m20.32\u001b[0m\u001b[38;5;159m FPS.\u001b[0m\n",
      "\u001b[38;5;159m[Genesis] [18:09:28] [INFO] Running at \u001b[38;5;121m20.47\u001b[0m\u001b[38;5;159m FPS.\u001b[0m\n",
      "\u001b[38;5;159m[Genesis] [18:09:28] [INFO] Running at \u001b[38;5;121m21.02\u001b[0m\u001b[38;5;159m FPS.\u001b[0m\n",
      "\u001b[38;5;159m[Genesis] [18:09:28] [INFO] Running at \u001b[38;5;121m21.12\u001b[0m\u001b[38;5;159m FPS.\u001b[0m\n",
      "\u001b[38;5;159m[Genesis] [18:09:28] [INFO] Running at \u001b[38;5;121m21.73\u001b[0m\u001b[38;5;159m FPS.\u001b[0m\n",
      "\u001b[38;5;159m[Genesis] [18:09:28] [INFO] Running at \u001b[38;5;121m22.40\u001b[0m\u001b[38;5;159m FPS.\u001b[0m\n",
      "\u001b[38;5;159m[Genesis] [18:09:28] [INFO] Running at \u001b[38;5;121m22.49\u001b[0m\u001b[38;5;159m FPS.\u001b[0m\n",
      "\u001b[38;5;159m[Genesis] [18:09:28] [INFO] Running at \u001b[38;5;121m23.05\u001b[0m\u001b[38;5;159m FPS.\u001b[0m\n",
      "\u001b[38;5;159m[Genesis] [18:09:28] [INFO] Running at \u001b[38;5;121m23.75\u001b[0m\u001b[38;5;159m FPS.\u001b[0m\n",
      "\u001b[38;5;159m[Genesis] [18:09:28] [INFO] Running at \u001b[38;5;121m23.76\u001b[0m\u001b[38;5;159m FPS.\u001b[0m\n",
      "\u001b[38;5;159m[Genesis] [18:09:28] [INFO] Running at \u001b[38;5;121m24.32\u001b[0m\u001b[38;5;159m FPS.\u001b[0m\n",
      "\u001b[38;5;159m[Genesis] [18:09:28] [INFO] Running at \u001b[38;5;121m25.01\u001b[0m\u001b[38;5;159m FPS.\u001b[0m\n",
      "\u001b[38;5;159m[Genesis] [18:09:28] [INFO] Running at \u001b[38;5;121m25.78\u001b[0m\u001b[38;5;159m FPS.\u001b[0m\n",
      "\u001b[38;5;159m[Genesis] [18:09:28] [INFO] Running at \u001b[38;5;121m25.73\u001b[0m\u001b[38;5;159m FPS.\u001b[0m\n",
      "\u001b[38;5;159m[Genesis] [18:09:28] [INFO] Running at \u001b[38;5;121m26.20\u001b[0m\u001b[38;5;159m FPS.\u001b[0m\n",
      "\u001b[38;5;159m[Genesis] [18:09:28] [INFO] Running at \u001b[38;5;121m26.97\u001b[0m\u001b[38;5;159m FPS.\u001b[0m\n",
      "\u001b[38;5;159m[Genesis] [18:09:28] [INFO] Running at \u001b[38;5;121m26.78\u001b[0m\u001b[38;5;159m FPS.\u001b[0m\n",
      "\u001b[38;5;159m[Genesis] [18:09:28] [INFO] Running at \u001b[38;5;121m27.42\u001b[0m\u001b[38;5;159m FPS.\u001b[0m\n",
      "\u001b[38;5;159m[Genesis] [18:09:29] [INFO] Running at \u001b[38;5;121m27.14\u001b[0m\u001b[38;5;159m FPS.\u001b[0m\n",
      "\u001b[38;5;159m[Genesis] [18:09:29] [INFO] Saving video to \u001b[38;5;121mclip.mp4\u001b[0m\u001b[38;5;159m.\u001b[0m\n",
      "\u001b[38;5;159m[Genesis] [18:09:29] [INFO] Video saved.\u001b[0m\n"
     ]
    },
    {
     "name": "stdout",
     "output_type": "stream",
     "text": [
      "tensor([0.7102, 0.0539, 0.1120])\n",
      "True\n"
     ]
    },
    {
     "name": "stderr",
     "output_type": "stream",
     "text": [
      "\u001b[38;5;159m[Genesis] [18:09:29] [INFO] Running at \u001b[38;5;121m17.85\u001b[0m\u001b[38;5;159m FPS.\u001b[0m\n",
      "\u001b[38;5;159m[Genesis] [18:09:29] [INFO] Running at \u001b[38;5;121m18.28\u001b[0m\u001b[38;5;159m FPS.\u001b[0m\n",
      "\u001b[38;5;159m[Genesis] [18:09:29] [INFO] Running at \u001b[38;5;121m18.83\u001b[0m\u001b[38;5;159m FPS.\u001b[0m\n",
      "\u001b[38;5;159m[Genesis] [18:09:29] [INFO] Running at \u001b[38;5;121m19.50\u001b[0m\u001b[38;5;159m FPS.\u001b[0m\n",
      "\u001b[38;5;159m[Genesis] [18:09:29] [INFO] Running at \u001b[38;5;121m19.65\u001b[0m\u001b[38;5;159m FPS.\u001b[0m\n",
      "\u001b[38;5;159m[Genesis] [18:09:29] [INFO] Running at \u001b[38;5;121m20.20\u001b[0m\u001b[38;5;159m FPS.\u001b[0m\n",
      "\u001b[38;5;159m[Genesis] [18:09:29] [INFO] Running at \u001b[38;5;121m20.36\u001b[0m\u001b[38;5;159m FPS.\u001b[0m\n",
      "\u001b[38;5;159m[Genesis] [18:09:29] [INFO] Running at \u001b[38;5;121m20.94\u001b[0m\u001b[38;5;159m FPS.\u001b[0m\n",
      "\u001b[38;5;159m[Genesis] [18:09:29] [INFO] Running at \u001b[38;5;121m21.64\u001b[0m\u001b[38;5;159m FPS.\u001b[0m\n",
      "\u001b[38;5;159m[Genesis] [18:09:29] [INFO] Running at \u001b[38;5;121m21.71\u001b[0m\u001b[38;5;159m FPS.\u001b[0m\n",
      "\u001b[38;5;159m[Genesis] [18:09:29] [INFO] Running at \u001b[38;5;121m22.30\u001b[0m\u001b[38;5;159m FPS.\u001b[0m\n",
      "\u001b[38;5;159m[Genesis] [18:09:29] [INFO] Running at \u001b[38;5;121m23.03\u001b[0m\u001b[38;5;159m FPS.\u001b[0m\n",
      "\u001b[38;5;159m[Genesis] [18:09:29] [INFO] Running at \u001b[38;5;121m22.98\u001b[0m\u001b[38;5;159m FPS.\u001b[0m\n",
      "\u001b[38;5;159m[Genesis] [18:09:29] [INFO] Running at \u001b[38;5;121m23.66\u001b[0m\u001b[38;5;159m FPS.\u001b[0m\n",
      "\u001b[38;5;159m[Genesis] [18:09:29] [INFO] Running at \u001b[38;5;121m23.62\u001b[0m\u001b[38;5;159m FPS.\u001b[0m\n",
      "\u001b[38;5;159m[Genesis] [18:09:29] [INFO] Running at \u001b[38;5;121m24.18\u001b[0m\u001b[38;5;159m FPS.\u001b[0m\n",
      "\u001b[38;5;159m[Genesis] [18:09:29] [INFO] Running at \u001b[38;5;121m24.93\u001b[0m\u001b[38;5;159m FPS.\u001b[0m\n",
      "\u001b[38;5;159m[Genesis] [18:09:29] [INFO] Running at \u001b[38;5;121m25.35\u001b[0m\u001b[38;5;159m FPS.\u001b[0m\n",
      "\u001b[38;5;159m[Genesis] [18:09:29] [INFO] Running at \u001b[38;5;121m25.90\u001b[0m\u001b[38;5;159m FPS.\u001b[0m\n",
      "\u001b[38;5;159m[Genesis] [18:09:29] [INFO] Running at \u001b[38;5;121m26.67\u001b[0m\u001b[38;5;159m FPS.\u001b[0m\n",
      "\u001b[38;5;159m[Genesis] [18:09:30] [INFO] Running at \u001b[38;5;121m27.02\u001b[0m\u001b[38;5;159m FPS.\u001b[0m\n",
      "\u001b[38;5;159m[Genesis] [18:09:30] [INFO] Running at \u001b[38;5;121m27.56\u001b[0m\u001b[38;5;159m FPS.\u001b[0m\n",
      "\u001b[38;5;159m[Genesis] [18:09:30] [INFO] Running at \u001b[38;5;121m27.36\u001b[0m\u001b[38;5;159m FPS.\u001b[0m\n",
      "\u001b[38;5;159m[Genesis] [18:09:30] [INFO] Running at \u001b[38;5;121m27.82\u001b[0m\u001b[38;5;159m FPS.\u001b[0m\n",
      "\u001b[38;5;159m[Genesis] [18:09:30] [INFO] Running at \u001b[38;5;121m27.61\u001b[0m\u001b[38;5;159m FPS.\u001b[0m\n",
      "\u001b[38;5;159m[Genesis] [18:09:30] [INFO] Saving video to \u001b[38;5;121mclip.mp4\u001b[0m\u001b[38;5;159m.\u001b[0m\n",
      "\u001b[38;5;159m[Genesis] [18:09:30] [INFO] Video saved.\u001b[0m\n"
     ]
    },
    {
     "name": "stdout",
     "output_type": "stream",
     "text": [
      "tensor([0.7089, 0.0548, 0.1120])\n",
      "True\n"
     ]
    }
   ],
   "source": [
    "for i in range(100):\n",
    "    cam.start_recording()\n",
    "    for i in range(25):\n",
    "        scene.step()\n",
    "        cam.render()\n",
    "        camFilm.render()\n",
    "\n",
    "    cam.stop_recording(save_to_filename='clip.mp4')\n",
    "\n",
    "    currentPos = end_effector.get_pos()\n",
    "    print(currentPos)\n",
    "\n",
    "    video = cv2.VideoCapture('clip.mp4')\n",
    "    video.set(cv2.CAP_PROP_POS_FRAMES, 9)\n",
    "    ret, frame = video.read()\n",
    "    print(ret)\n",
    "    cv2.imwrite('frame.jpg', frame)\n",
    "    image = Image.open('frame.jpg')\n",
    "\n",
    "    inputs = processor(prompt, image).to(\"cuda:0\", dtype=torch.bfloat16)\n",
    "    action = vla.predict_action(**inputs, unnorm_key=\"bridge_orig\", do_sample=False)\n",
    "\n",
    "    qpos= panda.inverse_kinematics(\n",
    "        link = end_effector,\n",
    "        pos = np.array([currentPos[0]-action[1], currentPos[1]-action[0], currentPos[2]+action[2]]),\n",
    "    )\n",
    "\n",
    "    panda.control_dofs_position(qpos[:-2], motors_dof)"
   ]
  },
  {
   "cell_type": "code",
   "execution_count": 20,
   "metadata": {},
   "outputs": [
    {
     "name": "stderr",
     "output_type": "stream",
     "text": [
      "\u001b[38;5;159m[Genesis] [18:09:30] [INFO] Saving video to \u001b[38;5;121mfilm.mp4\u001b[0m\u001b[38;5;159m.\u001b[0m\n",
      "\u001b[38;5;159m[Genesis] [18:09:38] [INFO] Video saved.\u001b[0m\n"
     ]
    }
   ],
   "source": [
    "camFilm.stop_recording(save_to_filename='film.mp4')"
   ]
  },
  {
   "cell_type": "code",
   "execution_count": null,
   "metadata": {},
   "outputs": [],
   "source": []
  }
 ],
 "metadata": {
  "kernelspec": {
   "display_name": "openvla",
   "language": "python",
   "name": "python3"
  },
  "language_info": {
   "codemirror_mode": {
    "name": "ipython",
    "version": 3
   },
   "file_extension": ".py",
   "mimetype": "text/x-python",
   "name": "python",
   "nbconvert_exporter": "python",
   "pygments_lexer": "ipython3",
   "version": "3.11.11"
  }
 },
 "nbformat": 4,
 "nbformat_minor": 2
}
